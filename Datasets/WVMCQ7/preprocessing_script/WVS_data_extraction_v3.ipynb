{
 "cells": [
  {
   "attachments": {},
   "cell_type": "markdown",
   "metadata": {},
   "source": [
    "# Imports"
   ]
  },
  {
   "cell_type": "code",
   "execution_count": 1,
   "metadata": {},
   "outputs": [],
   "source": [
    "import os\n",
    "os.system(\"pip install decimal\")\n",
    "import pandas as pd\n",
    "from decimal import *\n",
    "import numpy as np\n",
    "from tqdm.notebook import tqdm\n",
    "tqdm.pandas()"
   ]
  },
  {
   "attachments": {},
   "cell_type": "markdown",
   "metadata": {},
   "source": [
    "# METHODOLY\n",
    "\n",
    "To create the dataset from de World Value Survey we extract the joint ESV and WVS questionnaire report file.\n",
    "This file is structured such that each column label corresponds to demographic information codes and question codes. The rows correspond to the participants information/answers which are also in a coded label format.\n",
    "\n",
    "To match each column with its corresponding demographic information or question we use the \"Variable Coresspondance\" excel file given by WVS. This file is structured such that each question from the EVS and WVS7 questionnaires are matched, then have their own joint question code label which we will call \"joint question code label\".\n",
    "\n",
    "For finding the correspondent textual choice given its choice code label we perform a manual extraction of the questionaire pdf file of the shared Variable Report for the Joint WVS and EVS report.\n",
    "\n",
    "We then match, as already given in the \"Corresponding Variable\" excel file, each WVS7 \"question code label\" with the \"joint question code label\". This way we can loop over the Joint WVS EVS Report excel file, and change each \"joint question code label\"to its \"textual question\" and each \"choice code label\" to its \"textual code label\".\n",
    "\n",
    "We perform this substitution between the \"code label\" and \"textual label\" after grouping the questions given the year and a chosen demographic, then count the votes for this combination. This reduces the amount of computations. We also create a excel file to substitue the Country codes to the country names for the location demographic, the table was extracted from wikipedia as they are in ISO 3166-1 Alpha-2 code."
   ]
  },
  {
   "cell_type": "code",
   "execution_count": 5,
   "metadata": {},
   "outputs": [
    {
     "name": "stderr",
     "output_type": "stream",
     "text": [
      "C:\\Users\\Quent\\AppData\\Local\\Temp\\ipykernel_22520\\3986169840.py:3: DtypeWarning: Columns (35,36) have mixed types. Specify dtype option on import or set low_memory=False.\n",
      "  df_results =  pd.read_csv(folder+\"EVS_WVS_Joint_csv_v3_0.csv\")\n"
     ]
    }
   ],
   "source": [
    "folder = \"D:/OneDrive/User/Documents/School/KU_Leuven/Master/2023/PollBERT-paper/Datasets/WVMCQ7/preprocessing_files/\"\n",
    "df_variables_labels = pd.read_csv(folder+\"F00011088-EVS_WVS_Joint_VariableCorrespondence.csv\")\n",
    "df_results =  pd.read_csv(folder+\"EVS_WVS_Joint_csv_v3_0.csv\")\n",
    "df_country_name_table =  pd.read_csv(folder+\"country_name_table.csv\")\n",
    "label_choices_joint = pd.read_csv(folder+\"Joint_wvs_evs_label_choices.csv\")\n",
    "demographics_code_name = pd.read_csv(folder+\"demographic_questions.csv\")\n",
    "politic_code_name = pd.read_csv(folder+\"political_parties_E179_WVS7.csv\")"
   ]
  },
  {
   "attachments": {},
   "cell_type": "markdown",
   "metadata": {},
   "source": [
    "# Extraction"
   ]
  },
  {
   "cell_type": "code",
   "execution_count": 6,
   "metadata": {},
   "outputs": [],
   "source": [
    "column_names = df_variables_labels.columns\n",
    "variables_joint = df_variables_labels[column_names[0]]\n",
    "variables_name_joint = df_variables_labels[column_names[1]]"
   ]
  },
  {
   "cell_type": "code",
   "execution_count": 20,
   "metadata": {},
   "outputs": [
    {
     "data": {
      "text/html": [
       "<div>\n",
       "<style scoped>\n",
       "    .dataframe tbody tr th:only-of-type {\n",
       "        vertical-align: middle;\n",
       "    }\n",
       "\n",
       "    .dataframe tbody tr th {\n",
       "        vertical-align: top;\n",
       "    }\n",
       "\n",
       "    .dataframe thead th {\n",
       "        text-align: right;\n",
       "    }\n",
       "</style>\n",
       "<table border=\"1\" class=\"dataframe\">\n",
       "  <thead>\n",
       "    <tr style=\"text-align: right;\">\n",
       "      <th></th>\n",
       "      <th>study</th>\n",
       "      <th>wave</th>\n",
       "      <th>version</th>\n",
       "      <th>versn_s</th>\n",
       "      <th>doi_gesis</th>\n",
       "      <th>doi_wvsa</th>\n",
       "      <th>studytit</th>\n",
       "      <th>uniqid</th>\n",
       "      <th>intrvwr_id</th>\n",
       "      <th>cntry</th>\n",
       "      <th>...</th>\n",
       "      <th>X028</th>\n",
       "      <th>W003</th>\n",
       "      <th>X052</th>\n",
       "      <th>X035_EVS5</th>\n",
       "      <th>X036E_WVS7</th>\n",
       "      <th>V097EF</th>\n",
       "      <th>W005_EVS5</th>\n",
       "      <th>W006E_WVS7</th>\n",
       "      <th>X047_WVS7</th>\n",
       "      <th>X047E_EVS5</th>\n",
       "    </tr>\n",
       "  </thead>\n",
       "  <tbody>\n",
       "    <tr>\n",
       "      <th>290</th>\n",
       "      <td>1</td>\n",
       "      <td>5</td>\n",
       "      <td>3-0-0 (2022-05-23)</td>\n",
       "      <td>5-0-0 (2022-05-16)</td>\n",
       "      <td>doi:10.4232/1.13899</td>\n",
       "      <td>doi:10.14281/18241.19</td>\n",
       "      <td>EVS5</td>\n",
       "      <td>8050291</td>\n",
       "      <td>3</td>\n",
       "      <td>8</td>\n",
       "      <td>...</td>\n",
       "      <td>6</td>\n",
       "      <td>-3</td>\n",
       "      <td>2</td>\n",
       "      <td>51</td>\n",
       "      <td>-4</td>\n",
       "      <td>6</td>\n",
       "      <td>-3</td>\n",
       "      <td>-4</td>\n",
       "      <td>-4</td>\n",
       "      <td>6</td>\n",
       "    </tr>\n",
       "    <tr>\n",
       "      <th>309</th>\n",
       "      <td>1</td>\n",
       "      <td>5</td>\n",
       "      <td>3-0-0 (2022-05-23)</td>\n",
       "      <td>5-0-0 (2022-05-16)</td>\n",
       "      <td>doi:10.4232/1.13899</td>\n",
       "      <td>doi:10.14281/18241.19</td>\n",
       "      <td>EVS5</td>\n",
       "      <td>8050310</td>\n",
       "      <td>4</td>\n",
       "      <td>8</td>\n",
       "      <td>...</td>\n",
       "      <td>6</td>\n",
       "      <td>3</td>\n",
       "      <td>-3</td>\n",
       "      <td>-3</td>\n",
       "      <td>-4</td>\n",
       "      <td>9</td>\n",
       "      <td>72</td>\n",
       "      <td>-4</td>\n",
       "      <td>-4</td>\n",
       "      <td>-1</td>\n",
       "    </tr>\n",
       "    <tr>\n",
       "      <th>627</th>\n",
       "      <td>1</td>\n",
       "      <td>5</td>\n",
       "      <td>3-0-0 (2022-05-23)</td>\n",
       "      <td>5-0-0 (2022-05-16)</td>\n",
       "      <td>doi:10.4232/1.13899</td>\n",
       "      <td>doi:10.14281/18241.19</td>\n",
       "      <td>EVS5</td>\n",
       "      <td>8050628</td>\n",
       "      <td>6</td>\n",
       "      <td>8</td>\n",
       "      <td>...</td>\n",
       "      <td>3</td>\n",
       "      <td>3</td>\n",
       "      <td>-3</td>\n",
       "      <td>31</td>\n",
       "      <td>-4</td>\n",
       "      <td>6</td>\n",
       "      <td>13</td>\n",
       "      <td>-4</td>\n",
       "      <td>-4</td>\n",
       "      <td>9</td>\n",
       "    </tr>\n",
       "    <tr>\n",
       "      <th>945</th>\n",
       "      <td>1</td>\n",
       "      <td>5</td>\n",
       "      <td>3-0-0 (2022-05-23)</td>\n",
       "      <td>5-0-0 (2022-05-16)</td>\n",
       "      <td>doi:10.4232/1.13899</td>\n",
       "      <td>doi:10.14281/18241.19</td>\n",
       "      <td>EVS5</td>\n",
       "      <td>8050946</td>\n",
       "      <td>5</td>\n",
       "      <td>8</td>\n",
       "      <td>...</td>\n",
       "      <td>7</td>\n",
       "      <td>4</td>\n",
       "      <td>1</td>\n",
       "      <td>71</td>\n",
       "      <td>-4</td>\n",
       "      <td>5</td>\n",
       "      <td>92</td>\n",
       "      <td>-4</td>\n",
       "      <td>-4</td>\n",
       "      <td>5</td>\n",
       "    </tr>\n",
       "    <tr>\n",
       "      <th>984</th>\n",
       "      <td>1</td>\n",
       "      <td>5</td>\n",
       "      <td>3-0-0 (2022-05-23)</td>\n",
       "      <td>5-0-0 (2022-05-16)</td>\n",
       "      <td>doi:10.4232/1.13899</td>\n",
       "      <td>doi:10.14281/18241.19</td>\n",
       "      <td>EVS5</td>\n",
       "      <td>8050985</td>\n",
       "      <td>3</td>\n",
       "      <td>8</td>\n",
       "      <td>...</td>\n",
       "      <td>4</td>\n",
       "      <td>4</td>\n",
       "      <td>-3</td>\n",
       "      <td>96</td>\n",
       "      <td>-4</td>\n",
       "      <td>9</td>\n",
       "      <td>92</td>\n",
       "      <td>-4</td>\n",
       "      <td>-4</td>\n",
       "      <td>3</td>\n",
       "    </tr>\n",
       "    <tr>\n",
       "      <th>...</th>\n",
       "      <td>...</td>\n",
       "      <td>...</td>\n",
       "      <td>...</td>\n",
       "      <td>...</td>\n",
       "      <td>...</td>\n",
       "      <td>...</td>\n",
       "      <td>...</td>\n",
       "      <td>...</td>\n",
       "      <td>...</td>\n",
       "      <td>...</td>\n",
       "      <td>...</td>\n",
       "      <td>...</td>\n",
       "      <td>...</td>\n",
       "      <td>...</td>\n",
       "      <td>...</td>\n",
       "      <td>...</td>\n",
       "      <td>...</td>\n",
       "      <td>...</td>\n",
       "      <td>...</td>\n",
       "      <td>...</td>\n",
       "      <td>...</td>\n",
       "    </tr>\n",
       "    <tr>\n",
       "      <th>138622</th>\n",
       "      <td>2</td>\n",
       "      <td>7</td>\n",
       "      <td>3-0-0 (2022-05-23)</td>\n",
       "      <td>4-0-0 (2022-05-23)</td>\n",
       "      <td>doi:10.4232/1.13899</td>\n",
       "      <td>doi:10.14281/18241.19</td>\n",
       "      <td>WVS7</td>\n",
       "      <td>792721268</td>\n",
       "      <td>3513</td>\n",
       "      <td>792</td>\n",
       "      <td>...</td>\n",
       "      <td>1</td>\n",
       "      <td>1</td>\n",
       "      <td>2</td>\n",
       "      <td>-4</td>\n",
       "      <td>8</td>\n",
       "      <td>8</td>\n",
       "      <td>-4</td>\n",
       "      <td>8</td>\n",
       "      <td>4</td>\n",
       "      <td>-4</td>\n",
       "    </tr>\n",
       "    <tr>\n",
       "      <th>139141</th>\n",
       "      <td>2</td>\n",
       "      <td>7</td>\n",
       "      <td>3-0-0 (2022-05-23)</td>\n",
       "      <td>4-0-0 (2022-05-23)</td>\n",
       "      <td>doi:10.4232/1.13899</td>\n",
       "      <td>doi:10.14281/18241.19</td>\n",
       "      <td>WVS7</td>\n",
       "      <td>792721787</td>\n",
       "      <td>1604</td>\n",
       "      <td>792</td>\n",
       "      <td>...</td>\n",
       "      <td>1</td>\n",
       "      <td>5</td>\n",
       "      <td>2</td>\n",
       "      <td>-4</td>\n",
       "      <td>7</td>\n",
       "      <td>10</td>\n",
       "      <td>-4</td>\n",
       "      <td>0</td>\n",
       "      <td>-1</td>\n",
       "      <td>-4</td>\n",
       "    </tr>\n",
       "    <tr>\n",
       "      <th>139547</th>\n",
       "      <td>2</td>\n",
       "      <td>7</td>\n",
       "      <td>3-0-0 (2022-05-23)</td>\n",
       "      <td>4-0-0 (2022-05-23)</td>\n",
       "      <td>doi:10.4232/1.13899</td>\n",
       "      <td>doi:10.14281/18241.19</td>\n",
       "      <td>WVS7</td>\n",
       "      <td>792722193</td>\n",
       "      <td>153</td>\n",
       "      <td>792</td>\n",
       "      <td>...</td>\n",
       "      <td>2</td>\n",
       "      <td>-3</td>\n",
       "      <td>2</td>\n",
       "      <td>-4</td>\n",
       "      <td>6</td>\n",
       "      <td>6</td>\n",
       "      <td>-4</td>\n",
       "      <td>-5</td>\n",
       "      <td>5</td>\n",
       "      <td>-4</td>\n",
       "    </tr>\n",
       "    <tr>\n",
       "      <th>139585</th>\n",
       "      <td>2</td>\n",
       "      <td>7</td>\n",
       "      <td>3-0-0 (2022-05-23)</td>\n",
       "      <td>4-0-0 (2022-05-23)</td>\n",
       "      <td>doi:10.4232/1.13899</td>\n",
       "      <td>doi:10.14281/18241.19</td>\n",
       "      <td>WVS7</td>\n",
       "      <td>792722231</td>\n",
       "      <td>6420</td>\n",
       "      <td>792</td>\n",
       "      <td>...</td>\n",
       "      <td>1</td>\n",
       "      <td>5</td>\n",
       "      <td>2</td>\n",
       "      <td>-4</td>\n",
       "      <td>6</td>\n",
       "      <td>6</td>\n",
       "      <td>-4</td>\n",
       "      <td>6</td>\n",
       "      <td>7</td>\n",
       "      <td>-4</td>\n",
       "    </tr>\n",
       "    <tr>\n",
       "      <th>139712</th>\n",
       "      <td>2</td>\n",
       "      <td>7</td>\n",
       "      <td>3-0-0 (2022-05-23)</td>\n",
       "      <td>4-0-0 (2022-05-23)</td>\n",
       "      <td>doi:10.4232/1.13899</td>\n",
       "      <td>doi:10.14281/18241.19</td>\n",
       "      <td>WVS7</td>\n",
       "      <td>792722358</td>\n",
       "      <td>276</td>\n",
       "      <td>792</td>\n",
       "      <td>...</td>\n",
       "      <td>5</td>\n",
       "      <td>8</td>\n",
       "      <td>-3</td>\n",
       "      <td>-4</td>\n",
       "      <td>0</td>\n",
       "      <td>8</td>\n",
       "      <td>-4</td>\n",
       "      <td>0</td>\n",
       "      <td>3</td>\n",
       "      <td>-4</td>\n",
       "    </tr>\n",
       "  </tbody>\n",
       "</table>\n",
       "<p>175 rows × 231 columns</p>\n",
       "</div>"
      ],
      "text/plain": [
       "        study  wave             version             versn_s  \\\n",
       "290         1     5  3-0-0 (2022-05-23)  5-0-0 (2022-05-16)   \n",
       "309         1     5  3-0-0 (2022-05-23)  5-0-0 (2022-05-16)   \n",
       "627         1     5  3-0-0 (2022-05-23)  5-0-0 (2022-05-16)   \n",
       "945         1     5  3-0-0 (2022-05-23)  5-0-0 (2022-05-16)   \n",
       "984         1     5  3-0-0 (2022-05-23)  5-0-0 (2022-05-16)   \n",
       "...       ...   ...                 ...                 ...   \n",
       "138622      2     7  3-0-0 (2022-05-23)  4-0-0 (2022-05-23)   \n",
       "139141      2     7  3-0-0 (2022-05-23)  4-0-0 (2022-05-23)   \n",
       "139547      2     7  3-0-0 (2022-05-23)  4-0-0 (2022-05-23)   \n",
       "139585      2     7  3-0-0 (2022-05-23)  4-0-0 (2022-05-23)   \n",
       "139712      2     7  3-0-0 (2022-05-23)  4-0-0 (2022-05-23)   \n",
       "\n",
       "                  doi_gesis               doi_wvsa studytit     uniqid  \\\n",
       "290     doi:10.4232/1.13899  doi:10.14281/18241.19     EVS5    8050291   \n",
       "309     doi:10.4232/1.13899  doi:10.14281/18241.19     EVS5    8050310   \n",
       "627     doi:10.4232/1.13899  doi:10.14281/18241.19     EVS5    8050628   \n",
       "945     doi:10.4232/1.13899  doi:10.14281/18241.19     EVS5    8050946   \n",
       "984     doi:10.4232/1.13899  doi:10.14281/18241.19     EVS5    8050985   \n",
       "...                     ...                    ...      ...        ...   \n",
       "138622  doi:10.4232/1.13899  doi:10.14281/18241.19     WVS7  792721268   \n",
       "139141  doi:10.4232/1.13899  doi:10.14281/18241.19     WVS7  792721787   \n",
       "139547  doi:10.4232/1.13899  doi:10.14281/18241.19     WVS7  792722193   \n",
       "139585  doi:10.4232/1.13899  doi:10.14281/18241.19     WVS7  792722231   \n",
       "139712  doi:10.4232/1.13899  doi:10.14281/18241.19     WVS7  792722358   \n",
       "\n",
       "        intrvwr_id  cntry  ... X028  W003  X052  X035_EVS5  X036E_WVS7  \\\n",
       "290              3      8  ...    6    -3     2         51          -4   \n",
       "309              4      8  ...    6     3    -3         -3          -4   \n",
       "627              6      8  ...    3     3    -3         31          -4   \n",
       "945              5      8  ...    7     4     1         71          -4   \n",
       "984              3      8  ...    4     4    -3         96          -4   \n",
       "...            ...    ...  ...  ...   ...   ...        ...         ...   \n",
       "138622        3513    792  ...    1     1     2         -4           8   \n",
       "139141        1604    792  ...    1     5     2         -4           7   \n",
       "139547         153    792  ...    2    -3     2         -4           6   \n",
       "139585        6420    792  ...    1     5     2         -4           6   \n",
       "139712         276    792  ...    5     8    -3         -4           0   \n",
       "\n",
       "        V097EF  W005_EVS5  W006E_WVS7  X047_WVS7  X047E_EVS5  \n",
       "290          6         -3          -4         -4           6  \n",
       "309          9         72          -4         -4          -1  \n",
       "627          6         13          -4         -4           9  \n",
       "945          5         92          -4         -4           5  \n",
       "984          9         92          -4         -4           3  \n",
       "...        ...        ...         ...        ...         ...  \n",
       "138622       8         -4           8          4          -4  \n",
       "139141      10         -4           0         -1          -4  \n",
       "139547       6         -4          -5          5          -4  \n",
       "139585       6         -4           6          7          -4  \n",
       "139712       8         -4           0          3          -4  \n",
       "\n",
       "[175 rows x 231 columns]"
      ]
     },
     "execution_count": 20,
     "metadata": {},
     "output_type": "execute_result"
    }
   ],
   "source": [
    "t = df_results[df_results[\"E233B\"] == 1]\n",
    "t = t[t[\"F034\"] == -1]\n",
    "t = t[t[\"year\"] == 2018]\n",
    "t"
   ]
  },
  {
   "cell_type": "code",
   "execution_count": 23,
   "metadata": {},
   "outputs": [
    {
     "data": {
      "text/plain": [
       "['cntry_AN', 'F034', 'X003', 'X007', 'X028', 'E179_WVS7', 'X001']"
      ]
     },
     "execution_count": 23,
     "metadata": {},
     "output_type": "execute_result"
    }
   ],
   "source": [
    "demographics = []\n",
    "for code in demographics_code_name[\"code\"]:\n",
    "    index = [item.lower() for item in list(variables_joint.fillna(\"\"))].index(code.lower())\n",
    "    index__wvs_label = variables_joint[index]\n",
    "    demographics.append(index__wvs_label)\n",
    "demographics"
   ]
  },
  {
   "cell_type": "code",
   "execution_count": 21,
   "metadata": {},
   "outputs": [
    {
     "data": {
      "text/plain": [
       "174"
      ]
     },
     "execution_count": 21,
     "metadata": {},
     "output_type": "execute_result"
    }
   ],
   "source": [
    "questions = label_choices_joint[\"Question\"].value_counts().keys()\n",
    "len(questions)"
   ]
  },
  {
   "attachments": {},
   "cell_type": "markdown",
   "metadata": {},
   "source": [
    "time: 2min"
   ]
  },
  {
   "cell_type": "code",
   "execution_count": 56,
   "metadata": {},
   "outputs": [
    {
     "data": {
      "text/plain": [
       "year  F034  E233B\n",
       "2017  -2    -5        1\n",
       "            -4       13\n",
       "            -2       46\n",
       "            -1       21\n",
       "             0       10\n",
       "                     ..\n",
       "2022   3     6       19\n",
       "             7       22\n",
       "             8       14\n",
       "             9        4\n",
       "             10       9\n",
       "Length: 442, dtype: int64"
      ]
     },
     "execution_count": 56,
     "metadata": {},
     "output_type": "execute_result"
    }
   ],
   "source": [
    "df_results.groupby([\"year\",'F034', \"E233B\"]).size()"
   ]
  },
  {
   "cell_type": "code",
   "execution_count": 25,
   "metadata": {},
   "outputs": [],
   "source": [
    "first=True\n",
    "for demographic in demographics:\n",
    "    topic = demographics_code_name[demographics_code_name[\"code\"] == demographic][\"topic\"].values[0]\n",
    "    results = {}\n",
    "    for question in questions:\n",
    "        question = question.replace(\"\\n\",\"\")\n",
    "        if(question.lower not in demographics):\n",
    "                try:\n",
    "                    results[str(question)] = df_results.groupby([\"year\",demographic, question]).size()\n",
    "                except:\n",
    "                    results[str(question.lower())] = df_results.groupby([\"year\",demographic, question.lower()]).size()\n",
    "                    \n",
    "    question_labels = { str(variables_joint[i]).replace(\"\\n\",\"\") : variables_name_joint[i] for i in range(len(variables_joint)) }\n",
    "\n",
    "    dataset = []\n",
    "    for question in questions:\n",
    "\n",
    "        question = str(question).replace(\"\\n\",\"\")\n",
    "        q = question_labels[question]\n",
    "\n",
    "        try: question_results = results[question] \n",
    "        except: question_results = results[question.lower()]\n",
    "        \n",
    "        for (year,demographic_label_code,choice_label_code) in question_results.keys():\n",
    "                        question_index = list(label_choices_joint[\"Question\"]).index(question)\n",
    "                        if(choice_label_code in [0,1,2,3,4,5,6,7,8,9,10]):\n",
    "                        \n",
    "                            if(demographic != \"X001\" or demographic_label_code >= 0):\n",
    "                                choice_label_code = int(choice_label_code)\n",
    "                                try:question_label_choice = label_choices_joint[str(choice_label_code)][question_index]\n",
    "                                except: question_label_choice = question_results[demographic_label_code][choice_label_code]\n",
    "                                #need to get values for demographic\n",
    "                                if(demographic == \"cntry_AN\"):#country\n",
    "                                    index = list(df_country_name_table[\"Alpha-2 code\"]).index(demographic_label_code)\n",
    "                                    demographic_label_choice = df_country_name_table[\"Country\"][index]\n",
    "                                elif(demographic == \"E179_WVS7\"):#poltics\n",
    "                                    index = list(politic_code_name[\"code\"]).index(demographic_label_code)\n",
    "                                    demographic_label_choice = politic_code_name[\"label\"][index]\n",
    "                                elif(demographic == \"X003\"):#age\n",
    "                                    demographic_label_choice = demographic_label_code\n",
    "                                else:#others with normal label values [-5:10]\n",
    "                                    demographic_index = list(label_choices_joint[\"Question\"]).index(demographic)\n",
    "                                    demographic_label_choice = label_choices_joint[str(demographic_label_code)][demographic_index]\n",
    "                                      \n",
    "\n",
    "                                data = {\"input\" : q, \"choice\": str(question_label_choice) , \"label\": 0 , \"demographic\" :  demographic_label_choice ,\"year\": year, \"demographic_category\": topic }#ADD THIS\n",
    "                                data[\"label\"] =  question_results[year,demographic_label_code,choice_label_code]\n",
    "\n",
    "                                dataset.append(data)\n",
    "    if(first):    \n",
    "        pd.DataFrame(dataset).to_csv(\"dataset_wvs_all.csv\",mode=\"a\",index=False,header=True) \n",
    "        first = False\n",
    "    else:\n",
    "         pd.DataFrame(dataset).to_csv(\"dataset_wvs_all.csv\",mode=\"a\",index=False,header=False) "
   ]
  },
  {
   "cell_type": "code",
   "execution_count": 39,
   "metadata": {},
   "outputs": [
    {
     "name": "stderr",
     "output_type": "stream",
     "text": [
      "C:\\Users\\Quent\\AppData\\Local\\Temp\\ipykernel_22520\\4134509731.py:1: DtypeWarning: Columns (3) have mixed types. Specify dtype option on import or set low_memory=False.\n",
      "  dataset_wvs = pd.read_csv(\"D:/OneDrive/User/Documents/School/KU_Leuven/Master/2023/PollBERT-paper/Datasets/WVMCQ7/dataset_wvs_all.csv\")\n"
     ]
    },
    {
     "data": {
      "text/html": [
       "<div>\n",
       "<style scoped>\n",
       "    .dataframe tbody tr th:only-of-type {\n",
       "        vertical-align: middle;\n",
       "    }\n",
       "\n",
       "    .dataframe tbody tr th {\n",
       "        vertical-align: top;\n",
       "    }\n",
       "\n",
       "    .dataframe thead th {\n",
       "        text-align: right;\n",
       "    }\n",
       "</style>\n",
       "<table border=\"1\" class=\"dataframe\">\n",
       "  <thead>\n",
       "    <tr style=\"text-align: right;\">\n",
       "      <th></th>\n",
       "      <th>input</th>\n",
       "      <th>choice</th>\n",
       "      <th>label</th>\n",
       "      <th>demographic</th>\n",
       "      <th>year</th>\n",
       "      <th>demographic_category</th>\n",
       "    </tr>\n",
       "  </thead>\n",
       "  <tbody>\n",
       "    <tr>\n",
       "      <th>0</th>\n",
       "      <td>Important in life: Family</td>\n",
       "      <td>Very important</td>\n",
       "      <td>912</td>\n",
       "      <td>Argentina</td>\n",
       "      <td>2017</td>\n",
       "      <td>country</td>\n",
       "    </tr>\n",
       "    <tr>\n",
       "      <th>1</th>\n",
       "      <td>Important in life: Family</td>\n",
       "      <td>Rather important</td>\n",
       "      <td>90</td>\n",
       "      <td>Argentina</td>\n",
       "      <td>2017</td>\n",
       "      <td>country</td>\n",
       "    </tr>\n",
       "    <tr>\n",
       "      <th>2</th>\n",
       "      <td>Important in life: Family</td>\n",
       "      <td>Not Very Important</td>\n",
       "      <td>1</td>\n",
       "      <td>Argentina</td>\n",
       "      <td>2017</td>\n",
       "      <td>country</td>\n",
       "    </tr>\n",
       "    <tr>\n",
       "      <th>3</th>\n",
       "      <td>Important in life: Family</td>\n",
       "      <td>Very important</td>\n",
       "      <td>1360</td>\n",
       "      <td>Bulgaria</td>\n",
       "      <td>2017</td>\n",
       "      <td>country</td>\n",
       "    </tr>\n",
       "    <tr>\n",
       "      <th>4</th>\n",
       "      <td>Important in life: Family</td>\n",
       "      <td>Rather important</td>\n",
       "      <td>176</td>\n",
       "      <td>Bulgaria</td>\n",
       "      <td>2017</td>\n",
       "      <td>country</td>\n",
       "    </tr>\n",
       "    <tr>\n",
       "      <th>...</th>\n",
       "      <td>...</td>\n",
       "      <td>...</td>\n",
       "      <td>...</td>\n",
       "      <td>...</td>\n",
       "      <td>...</td>\n",
       "      <td>...</td>\n",
       "    </tr>\n",
       "    <tr>\n",
       "      <th>944256</th>\n",
       "      <td>Institution of occupation</td>\n",
       "      <td>Private business or industry</td>\n",
       "      <td>640</td>\n",
       "      <td>male</td>\n",
       "      <td>2022</td>\n",
       "      <td>gender</td>\n",
       "    </tr>\n",
       "    <tr>\n",
       "      <th>944257</th>\n",
       "      <td>Institution of occupation</td>\n",
       "      <td>Private non-profit organization</td>\n",
       "      <td>67</td>\n",
       "      <td>male</td>\n",
       "      <td>2022</td>\n",
       "      <td>gender</td>\n",
       "    </tr>\n",
       "    <tr>\n",
       "      <th>944258</th>\n",
       "      <td>Institution of occupation</td>\n",
       "      <td>Government or public institution</td>\n",
       "      <td>713</td>\n",
       "      <td>female</td>\n",
       "      <td>2022</td>\n",
       "      <td>gender</td>\n",
       "    </tr>\n",
       "    <tr>\n",
       "      <th>944259</th>\n",
       "      <td>Institution of occupation</td>\n",
       "      <td>Private business or industry</td>\n",
       "      <td>419</td>\n",
       "      <td>female</td>\n",
       "      <td>2022</td>\n",
       "      <td>gender</td>\n",
       "    </tr>\n",
       "    <tr>\n",
       "      <th>944260</th>\n",
       "      <td>Institution of occupation</td>\n",
       "      <td>Private non-profit organization</td>\n",
       "      <td>123</td>\n",
       "      <td>female</td>\n",
       "      <td>2022</td>\n",
       "      <td>gender</td>\n",
       "    </tr>\n",
       "  </tbody>\n",
       "</table>\n",
       "<p>944261 rows × 6 columns</p>\n",
       "</div>"
      ],
      "text/plain": [
       "                            input                             choice  label  \\\n",
       "0       Important in life: Family                     Very important    912   \n",
       "1       Important in life: Family                   Rather important     90   \n",
       "2       Important in life: Family                 Not Very Important      1   \n",
       "3       Important in life: Family                     Very important   1360   \n",
       "4       Important in life: Family                   Rather important    176   \n",
       "...                           ...                                ...    ...   \n",
       "944256  Institution of occupation       Private business or industry    640   \n",
       "944257  Institution of occupation   Private non-profit organization      67   \n",
       "944258  Institution of occupation  Government or public institution     713   \n",
       "944259  Institution of occupation       Private business or industry    419   \n",
       "944260  Institution of occupation   Private non-profit organization     123   \n",
       "\n",
       "       demographic  year demographic_category  \n",
       "0        Argentina  2017              country  \n",
       "1        Argentina  2017              country  \n",
       "2        Argentina  2017              country  \n",
       "3         Bulgaria  2017              country  \n",
       "4         Bulgaria  2017              country  \n",
       "...            ...   ...                  ...  \n",
       "944256        male  2022               gender  \n",
       "944257        male  2022               gender  \n",
       "944258      female  2022               gender  \n",
       "944259      female  2022               gender  \n",
       "944260      female  2022               gender  \n",
       "\n",
       "[944261 rows x 6 columns]"
      ]
     },
     "execution_count": 39,
     "metadata": {},
     "output_type": "execute_result"
    }
   ],
   "source": [
    "dataset_wvs = pd.read_csv(\"D:/OneDrive/User/Documents/School/KU_Leuven/Master/2023/PollBERT-paper/Datasets/WVMCQ7/dataset_wvs_all.csv\")\n",
    "df_wvs = pd.DataFrame(dataset_wvs)\n"
   ]
  },
  {
   "cell_type": "code",
   "execution_count": 48,
   "metadata": {},
   "outputs": [
    {
     "data": {
      "text/html": [
       "<div>\n",
       "<style scoped>\n",
       "    .dataframe tbody tr th:only-of-type {\n",
       "        vertical-align: middle;\n",
       "    }\n",
       "\n",
       "    .dataframe tbody tr th {\n",
       "        vertical-align: top;\n",
       "    }\n",
       "\n",
       "    .dataframe thead th {\n",
       "        text-align: right;\n",
       "    }\n",
       "</style>\n",
       "<table border=\"1\" class=\"dataframe\">\n",
       "  <thead>\n",
       "    <tr style=\"text-align: right;\">\n",
       "      <th></th>\n",
       "      <th>input</th>\n",
       "      <th>choice</th>\n",
       "      <th>label</th>\n",
       "      <th>demographic</th>\n",
       "      <th>year</th>\n",
       "      <th>demographic_category</th>\n",
       "    </tr>\n",
       "  </thead>\n",
       "  <tbody>\n",
       "    <tr>\n",
       "      <th>85841</th>\n",
       "      <td>Democracy: People obey their rulers</td>\n",
       "      <td>It is against democracy</td>\n",
       "      <td>46</td>\n",
       "      <td>Don't know</td>\n",
       "      <td>2018</td>\n",
       "      <td>religion</td>\n",
       "    </tr>\n",
       "    <tr>\n",
       "      <th>85842</th>\n",
       "      <td>Democracy: People obey their rulers</td>\n",
       "      <td>not an essential characteristic of democracy</td>\n",
       "      <td>175</td>\n",
       "      <td>Don't know</td>\n",
       "      <td>2018</td>\n",
       "      <td>religion</td>\n",
       "    </tr>\n",
       "    <tr>\n",
       "      <th>85843</th>\n",
       "      <td>Democracy: People obey their rulers</td>\n",
       "      <td>not an essential characteristic of democracy</td>\n",
       "      <td>38</td>\n",
       "      <td>Don't know</td>\n",
       "      <td>2018</td>\n",
       "      <td>religion</td>\n",
       "    </tr>\n",
       "    <tr>\n",
       "      <th>85844</th>\n",
       "      <td>Democracy: People obey their rulers</td>\n",
       "      <td>not an essential characteristic of democracy</td>\n",
       "      <td>67</td>\n",
       "      <td>Don't know</td>\n",
       "      <td>2018</td>\n",
       "      <td>religion</td>\n",
       "    </tr>\n",
       "    <tr>\n",
       "      <th>85845</th>\n",
       "      <td>Democracy: People obey their rulers</td>\n",
       "      <td>not an essential characteristic of democracy</td>\n",
       "      <td>67</td>\n",
       "      <td>Don't know</td>\n",
       "      <td>2018</td>\n",
       "      <td>religion</td>\n",
       "    </tr>\n",
       "    <tr>\n",
       "      <th>85846</th>\n",
       "      <td>Democracy: People obey their rulers</td>\n",
       "      <td>not an essential characteristic of democracy</td>\n",
       "      <td>172</td>\n",
       "      <td>Don't know</td>\n",
       "      <td>2018</td>\n",
       "      <td>religion</td>\n",
       "    </tr>\n",
       "    <tr>\n",
       "      <th>85847</th>\n",
       "      <td>Democracy: People obey their rulers</td>\n",
       "      <td>An essential characteristic of democracy</td>\n",
       "      <td>117</td>\n",
       "      <td>Don't know</td>\n",
       "      <td>2018</td>\n",
       "      <td>religion</td>\n",
       "    </tr>\n",
       "    <tr>\n",
       "      <th>85848</th>\n",
       "      <td>Democracy: People obey their rulers</td>\n",
       "      <td>An essential characteristic of democracy</td>\n",
       "      <td>76</td>\n",
       "      <td>Don't know</td>\n",
       "      <td>2018</td>\n",
       "      <td>religion</td>\n",
       "    </tr>\n",
       "    <tr>\n",
       "      <th>85849</th>\n",
       "      <td>Democracy: People obey their rulers</td>\n",
       "      <td>An essential characteristic of democracy</td>\n",
       "      <td>79</td>\n",
       "      <td>Don't know</td>\n",
       "      <td>2018</td>\n",
       "      <td>religion</td>\n",
       "    </tr>\n",
       "    <tr>\n",
       "      <th>85850</th>\n",
       "      <td>Democracy: People obey their rulers</td>\n",
       "      <td>An essential characteristic of democracy</td>\n",
       "      <td>45</td>\n",
       "      <td>Don't know</td>\n",
       "      <td>2018</td>\n",
       "      <td>religion</td>\n",
       "    </tr>\n",
       "    <tr>\n",
       "      <th>85851</th>\n",
       "      <td>Democracy: People obey their rulers</td>\n",
       "      <td>An essential characteristic of democracy</td>\n",
       "      <td>132</td>\n",
       "      <td>Don't know</td>\n",
       "      <td>2018</td>\n",
       "      <td>religion</td>\n",
       "    </tr>\n",
       "  </tbody>\n",
       "</table>\n",
       "</div>"
      ],
      "text/plain": [
       "                                     input  \\\n",
       "85841  Democracy: People obey their rulers   \n",
       "85842  Democracy: People obey their rulers   \n",
       "85843  Democracy: People obey their rulers   \n",
       "85844  Democracy: People obey their rulers   \n",
       "85845  Democracy: People obey their rulers   \n",
       "85846  Democracy: People obey their rulers   \n",
       "85847  Democracy: People obey their rulers   \n",
       "85848  Democracy: People obey their rulers   \n",
       "85849  Democracy: People obey their rulers   \n",
       "85850  Democracy: People obey their rulers   \n",
       "85851  Democracy: People obey their rulers   \n",
       "\n",
       "                                             choice  label demographic  year  \\\n",
       "85841                       It is against democracy     46  Don't know  2018   \n",
       "85842  not an essential characteristic of democracy    175  Don't know  2018   \n",
       "85843  not an essential characteristic of democracy     38  Don't know  2018   \n",
       "85844  not an essential characteristic of democracy     67  Don't know  2018   \n",
       "85845  not an essential characteristic of democracy     67  Don't know  2018   \n",
       "85846  not an essential characteristic of democracy    172  Don't know  2018   \n",
       "85847      An essential characteristic of democracy    117  Don't know  2018   \n",
       "85848      An essential characteristic of democracy     76  Don't know  2018   \n",
       "85849      An essential characteristic of democracy     79  Don't know  2018   \n",
       "85850      An essential characteristic of democracy     45  Don't know  2018   \n",
       "85851      An essential characteristic of democracy    132  Don't know  2018   \n",
       "\n",
       "      demographic_category  \n",
       "85841             religion  \n",
       "85842             religion  \n",
       "85843             religion  \n",
       "85844             religion  \n",
       "85845             religion  \n",
       "85846             religion  \n",
       "85847             religion  \n",
       "85848             religion  \n",
       "85849             religion  \n",
       "85850             religion  \n",
       "85851             religion  "
      ]
     },
     "execution_count": 48,
     "metadata": {},
     "output_type": "execute_result"
    }
   ],
   "source": [
    "t = df_wvs[df_wvs[\"demographic_category\"] == \"religion\"]\n",
    "t = t[t[\"demographic\"] == \"Don't know\"]\n",
    "t = t[t[\"input\"] == \"Democracy: People obey their rulers\"]\n",
    "t[t[\"year\"] == 2018]\n"
   ]
  },
  {
   "attachments": {},
   "cell_type": "markdown",
   "metadata": {},
   "source": [
    "# Preparing Dataset for training and Analysis"
   ]
  },
  {
   "attachments": {},
   "cell_type": "markdown",
   "metadata": {},
   "source": [
    "## Normalizing distribution over options"
   ]
  },
  {
   "cell_type": "code",
   "execution_count": 27,
   "metadata": {},
   "outputs": [],
   "source": [
    "df_wvs_politic = [v for v in df_wvs.values if v[5] == \"politic\"]\n",
    "df_wvs_gender = [v for v in df_wvs.values if v[5] == \"gender\"]\n",
    "df_wvs_work = [v for v in df_wvs.values if v[5] == \"employement\"]\n",
    "df_wvs_country = [v for v in df_wvs.values if v[5] == \"country\"]\n",
    "df_wvs_married = [v for v in df_wvs.values if v[5] == \"married\"]\n",
    "df_wvs_age = [v for v in df_wvs.values if v[5] == \"age\"]\n",
    "df_wvs_religion = [v for v in df_wvs.values if v[5] == \"religion\"]"
   ]
  },
  {
   "cell_type": "code",
   "execution_count": 28,
   "metadata": {},
   "outputs": [],
   "source": [
    "df_wvs_politic = pd.DataFrame(df_wvs_politic)\n",
    "df_wvs_gender = pd.DataFrame(df_wvs_gender)\n",
    "df_wvs_work = pd.DataFrame(df_wvs_work)\n",
    "df_wvs_country = pd.DataFrame(df_wvs_country)\n",
    "df_wvs_married = pd.DataFrame(df_wvs_married)\n",
    "df_wvs_age = pd.DataFrame(df_wvs_age)\n",
    "df_wvs_religion = pd.DataFrame(df_wvs_religion)"
   ]
  },
  {
   "cell_type": "code",
   "execution_count": 29,
   "metadata": {},
   "outputs": [
    {
     "ename": "ValueError",
     "evalue": "Length mismatch: Expected axis has 0 elements, new values have 6 elements",
     "output_type": "error",
     "traceback": [
      "\u001b[1;31m---------------------------------------------------------------------------\u001b[0m",
      "\u001b[1;31mValueError\u001b[0m                                Traceback (most recent call last)",
      "Cell \u001b[1;32mIn[29], line 1\u001b[0m\n\u001b[1;32m----> 1\u001b[0m df_wvs_politic\u001b[39m.\u001b[39;49mcolumns \u001b[39m=\u001b[39m [\u001b[39m\"\u001b[39m\u001b[39minput\u001b[39m\u001b[39m\"\u001b[39m,\u001b[39m\"\u001b[39m\u001b[39mchoice\u001b[39m\u001b[39m\"\u001b[39m,\u001b[39m\"\u001b[39m\u001b[39mlabel\u001b[39m\u001b[39m\"\u001b[39m,\u001b[39m\"\u001b[39m\u001b[39mdemographic\u001b[39m\u001b[39m\"\u001b[39m,\u001b[39m\"\u001b[39m\u001b[39myear\u001b[39m\u001b[39m\"\u001b[39m,\u001b[39m\"\u001b[39m\u001b[39mdemographic_category\u001b[39m\u001b[39m\"\u001b[39m]\n\u001b[0;32m      2\u001b[0m df_wvs_gender\u001b[39m.\u001b[39mcolumns \u001b[39m=\u001b[39m [\u001b[39m\"\u001b[39m\u001b[39minput\u001b[39m\u001b[39m\"\u001b[39m,\u001b[39m\"\u001b[39m\u001b[39mchoice\u001b[39m\u001b[39m\"\u001b[39m,\u001b[39m\"\u001b[39m\u001b[39mlabel\u001b[39m\u001b[39m\"\u001b[39m,\u001b[39m\"\u001b[39m\u001b[39mdemographic\u001b[39m\u001b[39m\"\u001b[39m,\u001b[39m\"\u001b[39m\u001b[39myear\u001b[39m\u001b[39m\"\u001b[39m,\u001b[39m\"\u001b[39m\u001b[39mdemographic_category\u001b[39m\u001b[39m\"\u001b[39m]\n\u001b[0;32m      3\u001b[0m df_wvs_work\u001b[39m.\u001b[39mcolumns \u001b[39m=\u001b[39m [\u001b[39m\"\u001b[39m\u001b[39minput\u001b[39m\u001b[39m\"\u001b[39m,\u001b[39m\"\u001b[39m\u001b[39mchoice\u001b[39m\u001b[39m\"\u001b[39m,\u001b[39m\"\u001b[39m\u001b[39mlabel\u001b[39m\u001b[39m\"\u001b[39m,\u001b[39m\"\u001b[39m\u001b[39mdemographic\u001b[39m\u001b[39m\"\u001b[39m,\u001b[39m\"\u001b[39m\u001b[39myear\u001b[39m\u001b[39m\"\u001b[39m,\u001b[39m\"\u001b[39m\u001b[39mdemographic_category\u001b[39m\u001b[39m\"\u001b[39m]\n",
      "File \u001b[1;32mc:\\Users\\Quent\\AppData\\Local\\Programs\\Python\\Python39\\lib\\site-packages\\pandas\\core\\generic.py:5915\u001b[0m, in \u001b[0;36mNDFrame.__setattr__\u001b[1;34m(self, name, value)\u001b[0m\n\u001b[0;32m   5913\u001b[0m \u001b[39mtry\u001b[39;00m:\n\u001b[0;32m   5914\u001b[0m     \u001b[39mobject\u001b[39m\u001b[39m.\u001b[39m\u001b[39m__getattribute__\u001b[39m(\u001b[39mself\u001b[39m, name)\n\u001b[1;32m-> 5915\u001b[0m     \u001b[39mreturn\u001b[39;00m \u001b[39mobject\u001b[39;49m\u001b[39m.\u001b[39;49m\u001b[39m__setattr__\u001b[39;49m(\u001b[39mself\u001b[39;49m, name, value)\n\u001b[0;32m   5916\u001b[0m \u001b[39mexcept\u001b[39;00m \u001b[39mAttributeError\u001b[39;00m:\n\u001b[0;32m   5917\u001b[0m     \u001b[39mpass\u001b[39;00m\n",
      "File \u001b[1;32mc:\\Users\\Quent\\AppData\\Local\\Programs\\Python\\Python39\\lib\\site-packages\\pandas\\_libs\\properties.pyx:69\u001b[0m, in \u001b[0;36mpandas._libs.properties.AxisProperty.__set__\u001b[1;34m()\u001b[0m\n",
      "File \u001b[1;32mc:\\Users\\Quent\\AppData\\Local\\Programs\\Python\\Python39\\lib\\site-packages\\pandas\\core\\generic.py:823\u001b[0m, in \u001b[0;36mNDFrame._set_axis\u001b[1;34m(self, axis, labels)\u001b[0m\n\u001b[0;32m    821\u001b[0m \u001b[39mdef\u001b[39;00m \u001b[39m_set_axis\u001b[39m(\u001b[39mself\u001b[39m, axis: \u001b[39mint\u001b[39m, labels: AnyArrayLike \u001b[39m|\u001b[39m \u001b[39mlist\u001b[39m) \u001b[39m-\u001b[39m\u001b[39m>\u001b[39m \u001b[39mNone\u001b[39;00m:\n\u001b[0;32m    822\u001b[0m     labels \u001b[39m=\u001b[39m ensure_index(labels)\n\u001b[1;32m--> 823\u001b[0m     \u001b[39mself\u001b[39;49m\u001b[39m.\u001b[39;49m_mgr\u001b[39m.\u001b[39;49mset_axis(axis, labels)\n\u001b[0;32m    824\u001b[0m     \u001b[39mself\u001b[39m\u001b[39m.\u001b[39m_clear_item_cache()\n",
      "File \u001b[1;32mc:\\Users\\Quent\\AppData\\Local\\Programs\\Python\\Python39\\lib\\site-packages\\pandas\\core\\internals\\managers.py:230\u001b[0m, in \u001b[0;36mBaseBlockManager.set_axis\u001b[1;34m(self, axis, new_labels)\u001b[0m\n\u001b[0;32m    228\u001b[0m \u001b[39mdef\u001b[39;00m \u001b[39mset_axis\u001b[39m(\u001b[39mself\u001b[39m, axis: \u001b[39mint\u001b[39m, new_labels: Index) \u001b[39m-\u001b[39m\u001b[39m>\u001b[39m \u001b[39mNone\u001b[39;00m:\n\u001b[0;32m    229\u001b[0m     \u001b[39m# Caller is responsible for ensuring we have an Index object.\u001b[39;00m\n\u001b[1;32m--> 230\u001b[0m     \u001b[39mself\u001b[39;49m\u001b[39m.\u001b[39;49m_validate_set_axis(axis, new_labels)\n\u001b[0;32m    231\u001b[0m     \u001b[39mself\u001b[39m\u001b[39m.\u001b[39maxes[axis] \u001b[39m=\u001b[39m new_labels\n",
      "File \u001b[1;32mc:\\Users\\Quent\\AppData\\Local\\Programs\\Python\\Python39\\lib\\site-packages\\pandas\\core\\internals\\base.py:70\u001b[0m, in \u001b[0;36mDataManager._validate_set_axis\u001b[1;34m(self, axis, new_labels)\u001b[0m\n\u001b[0;32m     67\u001b[0m     \u001b[39mpass\u001b[39;00m\n\u001b[0;32m     69\u001b[0m \u001b[39melif\u001b[39;00m new_len \u001b[39m!=\u001b[39m old_len:\n\u001b[1;32m---> 70\u001b[0m     \u001b[39mraise\u001b[39;00m \u001b[39mValueError\u001b[39;00m(\n\u001b[0;32m     71\u001b[0m         \u001b[39mf\u001b[39m\u001b[39m\"\u001b[39m\u001b[39mLength mismatch: Expected axis has \u001b[39m\u001b[39m{\u001b[39;00mold_len\u001b[39m}\u001b[39;00m\u001b[39m elements, new \u001b[39m\u001b[39m\"\u001b[39m\n\u001b[0;32m     72\u001b[0m         \u001b[39mf\u001b[39m\u001b[39m\"\u001b[39m\u001b[39mvalues have \u001b[39m\u001b[39m{\u001b[39;00mnew_len\u001b[39m}\u001b[39;00m\u001b[39m elements\u001b[39m\u001b[39m\"\u001b[39m\n\u001b[0;32m     73\u001b[0m     )\n",
      "\u001b[1;31mValueError\u001b[0m: Length mismatch: Expected axis has 0 elements, new values have 6 elements"
     ]
    }
   ],
   "source": [
    "df_wvs_politic.columns = [\"input\",\"choice\",\"label\",\"demographic\",\"year\",\"demographic_category\"]\n",
    "df_wvs_gender.columns = [\"input\",\"choice\",\"label\",\"demographic\",\"year\",\"demographic_category\"]\n",
    "df_wvs_work.columns = [\"input\",\"choice\",\"label\",\"demographic\",\"year\",\"demographic_category\"]\n",
    "df_wvs_country.columns = [\"input\",\"choice\",\"label\",\"demographic\",\"year\",\"demographic_category\"]\n",
    "df_wvs_married.columns = [\"input\",\"choice\",\"label\",\"demographic\",\"year\",\"demographic_category\"]\n",
    "df_wvs_age.columns = [\"input\",\"choice\",\"label\",\"demographic\",\"year\",\"demographic_category\"]\n",
    "df_wvs_religion.columns = [\"input\",\"choice\",\"label\",\"demographic\",\"year\",\"demographic_category\"]"
   ]
  },
  {
   "cell_type": "code",
   "execution_count": 46,
   "metadata": {},
   "outputs": [
    {
     "name": "stdout",
     "output_type": "stream",
     "text": [
      "394237 10643 54489 77835 41386 336791 28880\n"
     ]
    }
   ],
   "source": [
    "print(len(df_wvs_politic),len(df_wvs_gender),len(df_wvs_work),len(df_wvs_country),len(df_wvs_married),len(df_wvs_age),len(df_wvs_religion))"
   ]
  },
  {
   "cell_type": "code",
   "execution_count": 9,
   "metadata": {},
   "outputs": [],
   "source": [
    "counts = df_wvs_politic[[\"year\",\"demographic\",\"input\",\"choice\",\"demographic_category\"]].value_counts()\n",
    "keys_politic_to_normalize = [v for v in counts.keys() if counts.get(v) > 1] # works, first filter out which ones still need a new label"
   ]
  },
  {
   "cell_type": "code",
   "execution_count": 10,
   "metadata": {},
   "outputs": [],
   "source": [
    "counts = df_wvs_gender[[\"year\",\"demographic\",\"input\",\"choice\",\"demographic_category\"]].value_counts()\n",
    "keys_gender_to_normalize = [v for v in counts.keys() if counts.get(v) > 1] # works, first filter out which ones still need a new label"
   ]
  },
  {
   "cell_type": "code",
   "execution_count": 11,
   "metadata": {},
   "outputs": [],
   "source": [
    "counts = df_wvs_work[[\"year\",\"demographic\",\"input\",\"choice\",\"demographic_category\"]].value_counts()\n",
    "keys_work_to_normalize = [v for v in counts.keys() if counts.get(v) > 1] # works, first filter out which ones still need a new label"
   ]
  },
  {
   "cell_type": "code",
   "execution_count": 12,
   "metadata": {},
   "outputs": [],
   "source": [
    "counts = df_wvs_country[[\"year\",\"demographic\",\"input\",\"choice\",\"demographic_category\"]].value_counts()\n",
    "keys_country_to_normalize = [v for v in counts.keys() if counts.get(v) > 1] # works, first filter out which ones still need a new label"
   ]
  },
  {
   "cell_type": "code",
   "execution_count": 13,
   "metadata": {},
   "outputs": [],
   "source": [
    "counts = df_wvs_married[[\"year\",\"demographic\",\"input\",\"choice\",\"demographic_category\"]].value_counts()\n",
    "keys_married_to_normalize = [v for v in counts.keys() if counts.get(v) > 1] # works, first filter out which ones still need a new label"
   ]
  },
  {
   "cell_type": "code",
   "execution_count": 14,
   "metadata": {},
   "outputs": [],
   "source": [
    "counts = df_wvs_age[[\"year\",\"demographic\",\"input\",\"choice\",\"demographic_category\"]].value_counts()\n",
    "keys_age_to_normalize = [v for v in counts.keys() if counts.get(v) > 1] # works, first filter out which ones still need a new label"
   ]
  },
  {
   "cell_type": "code",
   "execution_count": 15,
   "metadata": {},
   "outputs": [],
   "source": [
    "counts = df_wvs_religion[[\"year\",\"demographic\",\"input\",\"choice\",\"demographic_category\"]].value_counts()\n",
    "keys_religion_to_normalize = [v for v in counts.keys() if counts.get(v) > 1] # works, first filter out which ones still need a new label"
   ]
  },
  {
   "cell_type": "code",
   "execution_count": 16,
   "metadata": {},
   "outputs": [],
   "source": [
    "keys_to_normalize = keys_religion_to_normalize + keys_age_to_normalize + keys_married_to_normalize + keys_country_to_normalize + keys_work_to_normalize + keys_gender_to_normalize + keys_politic_to_normalize"
   ]
  },
  {
   "cell_type": "code",
   "execution_count": 131,
   "metadata": {},
   "outputs": [
    {
     "data": {
      "text/plain": [
       "True"
      ]
     },
     "execution_count": 131,
     "metadata": {},
     "output_type": "execute_result"
    }
   ],
   "source": [
    "keys_to_normalize[76801] in keys_to_normalize"
   ]
  },
  {
   "cell_type": "code",
   "execution_count": 17,
   "metadata": {},
   "outputs": [],
   "source": [
    "def get_to_normalize(x):\n",
    "    year = x[\"year\"]\n",
    "    demographic = x[\"demographic\"]\n",
    "    input = x[\"input\"]\n",
    "    choice = x[\"choice\"]\n",
    "    demographic_topic = x[\"demographic_category\"]\n",
    "    if (year,demographic,input,choice,demographic_topic) in keys_to_normalize:\n",
    "        return x"
   ]
  },
  {
   "cell_type": "code",
   "execution_count": 20,
   "metadata": {},
   "outputs": [
    {
     "data": {
      "application/vnd.jupyter.widget-view+json": {
       "model_id": "9009e8c18a0740ff9378e15198c7c2be",
       "version_major": 2,
       "version_minor": 0
      },
      "text/plain": [
       "  0%|          | 0/944261 [00:00<?, ?it/s]"
      ]
     },
     "metadata": {},
     "output_type": "display_data"
    }
   ],
   "source": [
    "df_to_normalize = df_wvs.progress_apply(get_to_normalize,axis=1)"
   ]
  },
  {
   "cell_type": "code",
   "execution_count": 21,
   "metadata": {},
   "outputs": [],
   "source": [
    "df_to_normalize = pd.DataFrame([x for x in df_to_normalize if x is not None])"
   ]
  },
  {
   "attachments": {},
   "cell_type": "markdown",
   "metadata": {},
   "source": [
    "took approx: 638 minuten -> check to apply on groupby"
   ]
  },
  {
   "cell_type": "code",
   "execution_count": 22,
   "metadata": {},
   "outputs": [],
   "source": [
    "dataset_normalized = []\n",
    "for (year,demographic,input,choice,demographic_topic) in keys_to_normalize:\n",
    "    labels = df_to_normalize.groupby([\"year\",\"demographic\",\"input\",\"choice\",\"demographic_category\"]).get_group((year,demographic,input,choice,demographic_topic))\n",
    "    new_label = labels[\"label\"].sum()\n",
    "    dataset_normalized.append({\"year\":year,\"demographic\":demographic,\"input\":input,\"choice\":choice,\"label\":new_label,\"demographic_category\":demographic_topic})"
   ]
  },
  {
   "cell_type": "code",
   "execution_count": 85,
   "metadata": {},
   "outputs": [],
   "source": [
    "df_partial_dataset = pd.DataFrame(dataset_normalized)\n",
    "df_partial_dataset = df_partial_dataset.reindex(columns=[\"input\",\"choice\",\"label\",\"demographic\",\"year\",\"demographic_category\"])"
   ]
  },
  {
   "cell_type": "code",
   "execution_count": 86,
   "metadata": {},
   "outputs": [],
   "source": [
    "df_partial_dataset.to_csv(\"partial_wvs_all_normalized.csv\")"
   ]
  },
  {
   "cell_type": "code",
   "execution_count": 33,
   "metadata": {},
   "outputs": [],
   "source": [
    "counts = df_wvs[[\"year\",\"demographic\",\"input\",\"choice\",\"demographic_category\"]].value_counts()\n",
    "keys_not_to_normalize = [v for v in counts.keys() if counts.get(v) == 1]"
   ]
  },
  {
   "cell_type": "code",
   "execution_count": 43,
   "metadata": {},
   "outputs": [],
   "source": [
    "input_index = 0\n",
    "choice_index = 1\n",
    "label_index = 2\n",
    "demo_index = 3\n",
    "year_index = 4\n",
    "category_index = 5\n",
    "\n",
    "dataset_not_to_normalize = [item for item in df_wvs.values if (item[year_index],item[demo_index],item[input_index],item[choice_index],item[category_index]) in keys_not_to_normalize]"
   ]
  },
  {
   "cell_type": "code",
   "execution_count": 65,
   "metadata": {},
   "outputs": [
    {
     "data": {
      "text/html": [
       "<div>\n",
       "<style scoped>\n",
       "    .dataframe tbody tr th:only-of-type {\n",
       "        vertical-align: middle;\n",
       "    }\n",
       "\n",
       "    .dataframe tbody tr th {\n",
       "        vertical-align: top;\n",
       "    }\n",
       "\n",
       "    .dataframe thead th {\n",
       "        text-align: right;\n",
       "    }\n",
       "</style>\n",
       "<table border=\"1\" class=\"dataframe\">\n",
       "  <thead>\n",
       "    <tr style=\"text-align: right;\">\n",
       "      <th></th>\n",
       "      <th>input</th>\n",
       "      <th>choice</th>\n",
       "      <th>label</th>\n",
       "      <th>demographic</th>\n",
       "      <th>year</th>\n",
       "      <th>demographic_topic</th>\n",
       "    </tr>\n",
       "  </thead>\n",
       "  <tbody>\n",
       "    <tr>\n",
       "      <th>0</th>\n",
       "      <td>Important in life: Family</td>\n",
       "      <td>Very important</td>\n",
       "      <td>912</td>\n",
       "      <td>Argentina</td>\n",
       "      <td>2017</td>\n",
       "      <td>country</td>\n",
       "    </tr>\n",
       "    <tr>\n",
       "      <th>1</th>\n",
       "      <td>Important in life: Family</td>\n",
       "      <td>Rather important</td>\n",
       "      <td>90</td>\n",
       "      <td>Argentina</td>\n",
       "      <td>2017</td>\n",
       "      <td>country</td>\n",
       "    </tr>\n",
       "    <tr>\n",
       "      <th>2</th>\n",
       "      <td>Important in life: Family</td>\n",
       "      <td>Not Very Important</td>\n",
       "      <td>1</td>\n",
       "      <td>Argentina</td>\n",
       "      <td>2017</td>\n",
       "      <td>country</td>\n",
       "    </tr>\n",
       "    <tr>\n",
       "      <th>3</th>\n",
       "      <td>Important in life: Family</td>\n",
       "      <td>Very important</td>\n",
       "      <td>1360</td>\n",
       "      <td>Bulgaria</td>\n",
       "      <td>2017</td>\n",
       "      <td>country</td>\n",
       "    </tr>\n",
       "    <tr>\n",
       "      <th>4</th>\n",
       "      <td>Important in life: Family</td>\n",
       "      <td>Rather important</td>\n",
       "      <td>176</td>\n",
       "      <td>Bulgaria</td>\n",
       "      <td>2017</td>\n",
       "      <td>country</td>\n",
       "    </tr>\n",
       "    <tr>\n",
       "      <th>...</th>\n",
       "      <td>...</td>\n",
       "      <td>...</td>\n",
       "      <td>...</td>\n",
       "      <td>...</td>\n",
       "      <td>...</td>\n",
       "      <td>...</td>\n",
       "    </tr>\n",
       "    <tr>\n",
       "      <th>582926</th>\n",
       "      <td>Institution of occupation</td>\n",
       "      <td>Private business or industry</td>\n",
       "      <td>640</td>\n",
       "      <td>male</td>\n",
       "      <td>2022</td>\n",
       "      <td>gender</td>\n",
       "    </tr>\n",
       "    <tr>\n",
       "      <th>582927</th>\n",
       "      <td>Institution of occupation</td>\n",
       "      <td>Private non-profit organization</td>\n",
       "      <td>67</td>\n",
       "      <td>male</td>\n",
       "      <td>2022</td>\n",
       "      <td>gender</td>\n",
       "    </tr>\n",
       "    <tr>\n",
       "      <th>582928</th>\n",
       "      <td>Institution of occupation</td>\n",
       "      <td>Government or public institution</td>\n",
       "      <td>713</td>\n",
       "      <td>female</td>\n",
       "      <td>2022</td>\n",
       "      <td>gender</td>\n",
       "    </tr>\n",
       "    <tr>\n",
       "      <th>582929</th>\n",
       "      <td>Institution of occupation</td>\n",
       "      <td>Private business or industry</td>\n",
       "      <td>419</td>\n",
       "      <td>female</td>\n",
       "      <td>2022</td>\n",
       "      <td>gender</td>\n",
       "    </tr>\n",
       "    <tr>\n",
       "      <th>582930</th>\n",
       "      <td>Institution of occupation</td>\n",
       "      <td>Private non-profit organization</td>\n",
       "      <td>123</td>\n",
       "      <td>female</td>\n",
       "      <td>2022</td>\n",
       "      <td>gender</td>\n",
       "    </tr>\n",
       "  </tbody>\n",
       "</table>\n",
       "<p>582931 rows × 6 columns</p>\n",
       "</div>"
      ],
      "text/plain": [
       "                            input                             choice  label  \\\n",
       "0       Important in life: Family                     Very important    912   \n",
       "1       Important in life: Family                   Rather important     90   \n",
       "2       Important in life: Family                 Not Very Important      1   \n",
       "3       Important in life: Family                     Very important   1360   \n",
       "4       Important in life: Family                   Rather important    176   \n",
       "...                           ...                                ...    ...   \n",
       "582926  Institution of occupation       Private business or industry    640   \n",
       "582927  Institution of occupation   Private non-profit organization      67   \n",
       "582928  Institution of occupation  Government or public institution     713   \n",
       "582929  Institution of occupation       Private business or industry    419   \n",
       "582930  Institution of occupation   Private non-profit organization     123   \n",
       "\n",
       "       demographic  year demographic_topic  \n",
       "0        Argentina  2017           country  \n",
       "1        Argentina  2017           country  \n",
       "2        Argentina  2017           country  \n",
       "3         Bulgaria  2017           country  \n",
       "4         Bulgaria  2017           country  \n",
       "...            ...   ...               ...  \n",
       "582926        male  2022            gender  \n",
       "582927        male  2022            gender  \n",
       "582928      female  2022            gender  \n",
       "582929      female  2022            gender  \n",
       "582930      female  2022            gender  \n",
       "\n",
       "[582931 rows x 6 columns]"
      ]
     },
     "execution_count": 65,
     "metadata": {},
     "output_type": "execute_result"
    }
   ],
   "source": [
    "df_not_to_normalize = pd.DataFrame(dataset_not_to_normalize)\n",
    "df_not_to_normalize.columns = [\"input\",\"choice\",\"label\",\"demographic\",\"year\",\"demographic_category\"]\n",
    "df_not_to_normalize"
   ]
  },
  {
   "cell_type": "code",
   "execution_count": 84,
   "metadata": {},
   "outputs": [
    {
     "name": "stderr",
     "output_type": "stream",
     "text": [
      "C:\\Users\\Quent\\AppData\\Local\\Temp\\ipykernel_19812\\2129888629.py:1: FutureWarning: The frame.append method is deprecated and will be removed from pandas in a future version. Use pandas.concat instead.\n",
      "  df_dataset_normalize = df_partial_dataset.append(df_not_to_normalize)\n"
     ]
    }
   ],
   "source": [
    "df_dataset_normalize = df_partial_dataset.append(df_not_to_normalize)\n",
    "df_wvs_normelized = df_dataset_normalize"
   ]
  },
  {
   "cell_type": "code",
   "execution_count": 87,
   "metadata": {},
   "outputs": [],
   "source": [
    "df_dataset_normalize.to_csv(\"wvs_all_normalized.csv\")"
   ]
  },
  {
   "cell_type": "code",
   "execution_count": 70,
   "metadata": {},
   "outputs": [],
   "source": [
    "df_dataset_normalize = pd.read_csv(\"D:/OneDrive/User/Documents/School/KU Leuven/Master/2023/Master_proef/Crawlers/WVS/Progress/wvs_all_normalized.csv\")"
   ]
  },
  {
   "cell_type": "code",
   "execution_count": 71,
   "metadata": {},
   "outputs": [],
   "source": [
    "yeari = 0\n",
    "demoi = 1\n",
    "inputi = 2\n",
    "categoryi = 3\n",
    "def to_percentages(x):\n",
    "    key = x[[\"year\",\"demographic\",\"input\",\"demographic_category\"]].values[0]\n",
    "    values = x[[\"choice\",\"label\"]][\"label\"].values\n",
    "    constant = x[[\"choice\",\"label\"]][\"label\"].values.sum()\n",
    "    new_labels = values/constant\n",
    "    return {\"year\":key[yeari],\"demographic\":key[demoi],\"input\":key[inputi],\"demographic_category\":key[categoryi],\"options\":np.array(x[\"choice\"].values),\"labels\":np.array(new_labels)}"
   ]
  },
  {
   "cell_type": "code",
   "execution_count": 72,
   "metadata": {},
   "outputs": [
    {
     "data": {
      "application/vnd.jupyter.widget-view+json": {
       "model_id": "4ca57c2b9bc04ab7acb624c0f42f4470",
       "version_major": 2,
       "version_minor": 0
      },
      "text/plain": [
       "  0%|          | 0/209542 [00:00<?, ?it/s]"
      ]
     },
     "metadata": {},
     "output_type": "display_data"
    }
   ],
   "source": [
    "dataset_test = df_dataset_normalize.groupby([\"year\",\"demographic\",\"input\",\"demographic_category\"]).progress_apply(to_percentages)"
   ]
  },
  {
   "cell_type": "code",
   "execution_count": null,
   "metadata": {},
   "outputs": [],
   "source": [
    "dataset_test_norm = [item for item in [item for item in dataset_test.values]]"
   ]
  },
  {
   "cell_type": "code",
   "execution_count": null,
   "metadata": {},
   "outputs": [],
   "source": [
    "df_test_norm = pd.DataFrame(dataset_test_norm)"
   ]
  },
  {
   "cell_type": "code",
   "execution_count": null,
   "metadata": {},
   "outputs": [],
   "source": [
    "df_test_norm.to_json(\"WVMCQ7-Normalized_labels_percentage_wise.json\")"
   ]
  },
  {
   "attachments": {},
   "cell_type": "markdown",
   "metadata": {},
   "source": [
    "## Adding Question Topic feature"
   ]
  }
 ],
 "metadata": {
  "kernelspec": {
   "display_name": "Python 3",
   "language": "python",
   "name": "python3"
  },
  "language_info": {
   "codemirror_mode": {
    "name": "ipython",
    "version": 3
   },
   "file_extension": ".py",
   "mimetype": "text/x-python",
   "name": "python",
   "nbconvert_exporter": "python",
   "pygments_lexer": "ipython3",
   "version": "3.9.5"
  },
  "orig_nbformat": 4
 },
 "nbformat": 4,
 "nbformat_minor": 2
}
