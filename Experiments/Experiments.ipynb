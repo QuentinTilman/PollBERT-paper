{
  "cells": [
    {
      "attachments": {},
      "cell_type": "markdown",
      "metadata": {
        "id": "f03sGKqF4dyY"
      },
      "source": [
        "# Imports"
      ]
    },
    {
      "cell_type": "code",
      "execution_count": 279,
      "metadata": {
        "colab": {
          "base_uri": "https://localhost:8080/"
        },
        "id": "NlvyapOHJ1vI",
        "outputId": "6050d457-a64a-42fc-f7d1-d8123e06b14d"
      },
      "outputs": [
        {
          "data": {
            "text/plain": [
              "0"
            ]
          },
          "execution_count": 279,
          "metadata": {},
          "output_type": "execute_result"
        }
      ],
      "source": [
        "import os\n",
        "os.system('pip install tasknet pygrove xpflow setGPU pandit imblearn')"
      ]
    },
    {
      "cell_type": "code",
      "execution_count": 280,
      "metadata": {
        "id": "RreOhH-gKE2V"
      },
      "outputs": [],
      "source": [
        "import pandit as pd\n",
        "import numpy as np\n",
        "import tasknet as tn\n",
        "from tqdm.notebook import tqdm\n",
        "from dataclasses import dataclass\n",
        "tqdm.pandas()\n",
        "import random\n",
        "from datasets import DatasetDict\n",
        "import datasets\n",
        "from torch.utils.data import Dataset\n",
        "from transformers import AutoModelForMultipleChoice, TrainingArguments, Trainer, AutoTokenizer\n",
        "import inspect\n",
        "import torch\n",
        "import transformers\n",
        "from types import MethodType\n",
        "os.environ[\"WANDB_DISABLED\"] = \"true\"\n",
        "os.environ['CUDA_MODULE_LOADING'] = 'LAZY'\n",
        "import tensorflow as tf\n",
        "from collections import Counter\n",
        "import imblearn\n",
        "import funcy as fc"
      ]
    },
    {
      "cell_type": "code",
      "execution_count": 281,
      "metadata": {
        "colab": {
          "base_uri": "https://localhost:8080/"
        },
        "id": "u1Q15tsd4dyd",
        "outputId": "38a07069-849d-4eb9-a367-ff8c21692a21"
      },
      "outputs": [
        {
          "data": {
            "text/plain": [
              "[]"
            ]
          },
          "execution_count": 281,
          "metadata": {},
          "output_type": "execute_result"
        }
      ],
      "source": [
        "tf.config.list_physical_devices('GPU')"
      ]
    },
    {
      "cell_type": "code",
      "execution_count": null,
      "metadata": {
        "colab": {
          "base_uri": "https://localhost:8080/"
        },
        "id": "D6ZwRx9xgE2r",
        "outputId": "d2d5a134-f898-432c-acf5-06a057074428"
      },
      "outputs": [],
      "source": [
        "from huggingface_hub import login\n",
        "from  credentials import huggingfacehub #create credentials.py file with huggingfacehub variable and API key as value.\n",
        "login(huggingfacehub)"
      ]
    },
    {
      "attachments": {},
      "cell_type": "markdown",
      "metadata": {
        "id": "9sA-acQtKVl-"
      },
      "source": [
        "# Loading Data"
      ]
    },
    {
      "attachments": {},
      "cell_type": "markdown",
      "metadata": {},
      "source": [
        "## Datasets"
      ]
    },
    {
      "cell_type": "code",
      "execution_count": 283,
      "metadata": {},
      "outputs": [],
      "source": [
        "url = 'https://raw.githubusercontent.com/QuentinTilman/PollBERT-paper/master/Datasets/RedditPoll350K/RedditPoll350K_categorized.json'\n",
        "df_reddit= pd.read_json('https://raw.githubusercontent.com/QuentinTilman/PollBERT-paper/master/Datasets/RedditPoll350K/RedditPoll350K_categorized.json')\n",
        "del df_reddit[\"Unnamed: 0\"]"
      ]
    },
    {
      "cell_type": "code",
      "execution_count": 284,
      "metadata": {},
      "outputs": [],
      "source": [
        "df = pd.read_json(\"https://raw.githubusercontent.com/QuentinTilman/PollBERT-paper/master/Datasets/WVMCQ7/WVMCQ7-Normalized_labels_percentage_wise.json\")\n",
        "df = df[df[\"demographic_topic\"]!= \"politic\"] "
      ]
    },
    {
      "attachments": {},
      "cell_type": "markdown",
      "metadata": {},
      "source": [
        "## Demographic libraries"
      ]
    },
    {
      "cell_type": "code",
      "execution_count": 285,
      "metadata": {},
      "outputs": [],
      "source": [
        "stop_words = [\"able\",\"about\",\"above\",\"abroad\",\"according\",\"accordingly\",\"across\",\"actually\",\"adj\",\"after\",\"afterwards\",\"again\",\"against\",\"ago\",\"ahead\",\"ain't\",\"all\",\"allow\",\"allows\",\"almost\",\"alone\",\"along\",\"alongside\",\"already\",\"also\",\"although\",\"always\",\"am\",\"amid\",\"amidst\",\"among\",\"amongst\",\"an\",\"and\",\"another\",\"any\",\"anybody\",\"anyhow\",\"anyone\",\"anything\",\"anyway\",\"anyways\",\"anywhere\",\"apart\",\"appear\",\"appreciate\",\"appropriate\",\"are\",\"aren't\",\"around\",\"as\",\"a's\",\"aside\",\"ask\",\"asking\",\"associated\",\"at\",\"available\",\"away\",\"awfully\",\"back\",\"backward\",\"backwards\",\"be\",\"became\",\"because\",\"become\",\"becomes\",\"becoming\",\"been\",\"before\",\"beforehand\",\"begin\",\"behind\",\"being\",\"believe\",\"below\",\"beside\",\"besides\",\"best\",\"better\",\"between\",\"beyond\",\"both\",\"brief\",\"but\",\"by\",\"came\",\"can\",\"cannot\",\"cant\",\"can't\",\"caption\",\"cause\",\"causes\",\"certain\",\"certainly\",\"changes\",\"clearly\",\"c'mon\",\"co\",\"co.\",\"com\",\"come\",\"comes\",\"concerning\",\"consequently\",\"consider\",\"considering\",\"contain\",\"containing\",\"contains\",\"corresponding\",\"could\",\"couldn't\",\"course\",\"c's\",\"currently\",\"dare\",\"daren't\",\"definitely\",\"described\",\"despite\",\"did\",\"didn't\",\"different\",\"directly\",\"do\",\"does\",\"doesn't\",\"doing\",\"done\",\"don't\",\"down\",\"downwards\",\"during\",\"each\",\"edu\",\"eg\",\"eight\",\"eighty\",\"either\",\"else\",\"elsewhere\",\"end\",\"ending\",\"enough\",\"entirely\",\"especially\",\"et\",\"etc\",\"even\",\"ever\",\"evermore\",\"every\",\"everybody\",\"everyone\",\"everything\",\"everywhere\",\"ex\",\"exactly\",\"example\",\"except\",\"fairly\",\"far\",\"farther\",\"few\",\"fewer\",\"fifth\",\"first\",\"five\",\"followed\",\"following\",\"follows\",\"for\",\"forever\",\"former\",\"formerly\",\"forth\",\"forward\",\"found\",\"four\",\"from\",\"further\",\"furthermore\",\"get\",\"gets\",\"getting\",\"given\",\"gives\",\"go\",\"goes\",\"going\",\"gone\",\"got\",\"gotten\",\"greetings\",\"had\",\"hadn't\",\"half\",\"happens\",\"hardly\",\"has\",\"hasn't\",\"have\",\"haven't\",\"having\",\"he\",\"he'd\",\"he'll\",\"hello\",\"help\",\"hence\",\"her\",\"here\",\"hereafter\",\"hereby\",\"herein\",\"here's\",\"hereupon\",\"hers\",\"herself\",\"he's\",\"hi\",\"him\",\"himself\",\"his\",\"hither\",\"hopefully\",\"how\",\"howbeit\",\"however\",\"hundred\",\"i'd\",\"ie\",\"if\",\"ignored\",\"i'll\",\"i'm\",\"immediate\",\"in\",\"inasmuch\",\"inc\",\"inc.\",\"indeed\",\"indicate\",\"indicated\",\"indicates\",\"inner\",\"inside\",\"insofar\",\"instead\",\"into\",\"inward\",\"is\",\"isn't\",\"it\",\"it'd\",\"it'll\",\"its\",\"it's\",\"itself\",\"i've\",\"just\",\"k\",\"keep\",\"keeps\",\"kept\",\"know\",\"known\",\"knows\",\"last\",\"lately\",\"later\",\"latter\",\"latterly\",\"least\",\"less\",\"lest\",\"let\",\"let's\",\"like\",\"liked\",\"likely\",\"likewise\",\"little\",\"look\",\"looking\",\"looks\",\"low\",\"lower\",\"ltd\",\"made\",\"mainly\",\"make\",\"makes\",\"many\",\"may\",\"maybe\",\"mayn't\",\"me\",\"mean\",\"meantime\",\"meanwhile\",\"merely\",\"might\",\"mightn't\",\"mine\",\"minus\",\"miss\",\"more\",\"moreover\",\"most\",\"mostly\",\"mr\",\"mrs\",\"much\",\"must\",\"mustn't\",\"my\",\"myself\",\"name\",\"namely\",\"nd\",\"near\",\"nearly\",\"necessary\",\"need\",\"needn't\",\"needs\",\"neither\",\"never\",\"neverf\",\"neverless\",\"nevertheless\",\"new\",\"next\",\"nine\",\"ninety\",\"no\",\"nobody\",\"non\",\"none\",\"nonetheless\",\"noone\",\"no-one\",\"nor\",\"normally\",\"not\",\"nothing\",\"notwithstanding\",\"novel\",\"now\",\"nowhere\",\"obviously\",\"of\",\"off\",\"often\",\"oh\",\"ok\",\"okay\",\"old\",\"on\",\"once\",\"one\",\"ones\",\"one's\",\"only\",\"onto\",\"opposite\",\"or\",\"other\",\"others\",\"otherwise\",\"ought\",\"oughtn't\",\"our\",\"ours\",\"ourselves\",\"out\",\"outside\",\"over\",\"overall\",\"own\",\"particular\",\"particularly\",\"past\",\"per\",\"perhaps\",\"placed\",\"please\",\"plus\",\"possible\",\"presumably\",\"probably\",\"provided\",\"provides\",\"que\",\"quite\",\"qv\",\"rather\",\"rd\",\"re\",\"really\",\"reasonably\",\"recent\",\"recently\",\"regarding\",\"regardless\",\"regards\",\"relatively\",\"respectively\",\"right\",\"round\",\"said\",\"same\",\"saw\",\"say\",\"saying\",\"says\",\"second\",\"secondly\",\"see\",\"seeing\",\"seem\",\"seemed\",\"seeming\",\"seems\",\"seen\",\"self\",\"selves\",\"sensible\",\"sent\",\"serious\",\"seriously\",\"seven\",\"several\",\"shall\",\"shan't\",\"she\",\"she'd\",\"she'll\",\"she's\",\"should\",\"shouldn't\",\"since\",\"six\",\"so\",\"some\",\"somebody\",\"someday\",\"somehow\",\"someone\",\"something\",\"sometime\",\"sometimes\",\"somewhat\",\"somewhere\",\"soon\",\"sorry\",\"specified\",\"specify\",\"specifying\",\"still\",\"sub\",\"such\",\"sup\",\"sure\",\"take\",\"taken\",\"taking\",\"tell\",\"tends\",\"th\",\"than\",\"thank\",\"thanks\",\"thanx\",\"that\",\"that'll\",\"thats\",\"that's\",\"that've\",\"the\",\"their\",\"theirs\",\"them\",\"themselves\",\"then\",\"thence\",\"there\",\"thereafter\",\"thereby\",\"there'd\",\"therefore\",\"therein\",\"there'll\",\"there're\",\"theres\",\"there's\",\"thereupon\",\"there've\",\"these\",\"they\",\"they'd\",\"they'll\",\"they're\",\"they've\",\"thing\",\"things\",\"think\",\"third\",\"thirty\",\"this\",\"thorough\",\"thoroughly\",\"those\",\"though\",\"three\",\"through\",\"throughout\",\"thru\",\"thus\",\"till\",\"to\",\"together\",\"too\",\"took\",\"toward\",\"towards\",\"tried\",\"tries\",\"truly\",\"try\",\"trying\",\"t's\",\"twice\",\"two\",\"un\",\"under\",\"underneath\",\"undoing\",\"unfortunately\",\"unless\",\"unlike\",\"unlikely\",\"until\",\"unto\",\"up\",\"upon\",\"upwards\",\"us\",\"use\",\"used\",\"useful\",\"uses\",\"using\",\"usually\",\"v\",\"value\",\"various\",\"versus\",\"very\",\"via\",\"viz\",\"vs\",\"want\",\"wants\",\"was\",\"wasn't\",\"way\",\"we\",\"we'd\",\"welcome\",\"well\",\"we'll\",\"went\",\"were\",\"we're\",\"weren't\",\"we've\",\"what\",\"whatever\",\"what'll\",\"what's\",\"what've\",\"when\",\"whence\",\"whenever\",\"where\",\"whereafter\",\"whereas\",\"whereby\",\"wherein\",\"where's\",\"whereupon\",\"wherever\",\"whether\",\"which\",\"whichever\",\"while\",\"whilst\",\"whither\",\"who\",\"who'd\",\"whoever\",\"whole\",\"who'll\",\"whom\",\"whomever\",\"who's\",\"whose\",\"why\",\"will\",\"willing\",\"wish\",\"with\",\"within\",\"without\",\"wonder\",\"won't\",\"would\",\"wouldn't\",\"yes\",\"yet\",\"you\",\"you'd\",\"you'll\",\"your\",\"you're\",\"yours\",\"yourself\",\"yourselves\",\"you've\",\"zero\",\"a\",\"how's\",\"i\",\"when's\",\"why's\",\"b\",\"c\",\"d\",\"e\",\"f\",\"g\",\"h\",\"j\",\"l\",\"m\",\"n\",\"o\",\"p\",\"q\",\"r\",\"s\",\"t\",\"u\",\"uucp\",\"w\",\"x\",\"y\",\"z\",\"I\",\"www\",\"amount\",\"bill\",\"bottom\",\"call\",\"computer\",\"con\",\"couldnt\",\"cry\",\"de\",\"describe\",\"detail\",\"due\",\"eleven\",\"empty\",\"fifteen\",\"fifty\",\"fill\",\"find\",\"fire\",\"forty\",\"front\",\"full\",\"give\",\"hasnt\",\"herse\",\"himse\",\"interest\",\"itse”\",\"mill\",\"move\",\"myse”\",\"part\",\"put\",\"show\",\"side\",\"sincere\",\"sixty\",\"system\",\"ten\",\"thick\",\"thin\",\"top\",\"twelve\",\"twenty\",\"abst\",\"accordance\",\"act\",\"added\",\"adopted\",\"affected\",\"affecting\",\"affects\",\"ah\",\"announce\",\"anymore\",\"apparently\",\"approximately\",\"aren\",\"arent\",\"arise\",\"auth\",\"beginning\",\"beginnings\",\"begins\",\"biol\",\"briefly\",\"ca\",\"date\",\"ed\",\"effect\",\"et-al\",\"ff\",\"fix\",\"gave\",\"giving\",\"heres\",\"hes\",\"hid\",\"home\",\"id\",\"im\",\"immediately\",\"importance\",\"important\",\"index\",\"information\",\"invention\",\"itd\",\"keys\",\"kg\",\"km\",\"largely\",\"lets\",\"line\",\"'ll\",\"means\",\"mg\",\"million\",\"ml\",\"mug\",\"na\",\"nay\",\"necessarily\",\"nos\",\"noted\",\"obtain\",\"obtained\",\"omitted\",\"ord\",\"owing\",\"page\",\"pages\",\"poorly\",\"possibly\",\"potentially\",\"pp\",\"predominantly\",\"present\",\"previously\",\"primarily\",\"promptly\",\"proud\",\"quickly\",\"ran\",\"readily\",\"ref\",\"refs\",\"related\",\"research\",\"resulted\",\"resulting\",\"results\",\"run\",\"sec\",\"section\",\"shed\",\"shes\",\"showed\",\"shown\",\"showns\",\"shows\",\"significant\",\"significantly\",\"similar\",\"similarly\",\"slightly\",\"somethan\",\"specifically\",\"state\",\"states\",\"stop\",\"strongly\",\"substantially\",\"successfully\",\"sufficiently\",\"suggest\",\"thered\",\"thereof\",\"therere\",\"thereto\",\"theyd\",\"theyre\",\"thou\",\"thoughh\",\"thousand\",\"throug\",\"til\",\"tip\",\"ts\",\"ups\",\"usefully\",\"usefulness\",\"'ve\",\"vol\",\"vols\",\"wed\",\"whats\",\"wheres\",\"whim\",\"whod\",\"whos\",\"widely\",\"words\",\"world\",\"youd\",\"youre\"]\n",
        "import requests\n",
        "import re\n",
        "\n",
        "r = requests.get(\"https://raw.githubusercontent.com/dariusk/corpora/master/data/religion/religions.json\")\n",
        "religions = r.json()\n",
        "beliefs = []\n",
        "for major in [item for item in religions.values()]:\n",
        "    majors = [m for m in major]\n",
        "    beliefs.extend(majors)\n",
        "    try:\n",
        "        for minor in major.values():\n",
        "            for religion in minor:\n",
        "                beliefs.append(religion)\n",
        "    except:\n",
        "        next\n",
        "r = requests.get(\"https://raw.githubusercontent.com/Imagin-io/country-nationality-list/master/countries.json\")\n",
        "dictionary = r.json()\n",
        "df_dictionary = pd.DataFrame(dictionary)\n",
        "def nation(item):\n",
        "    item[\"en_short_name\"] = \"\"+item[\"en_short_name\"].lower()+\"\"\n",
        "    item[\"alpha_2_code\"] = \"\"+item[\"alpha_2_code\"].lower()+\"\"\n",
        "    item[\"alpha_3_code\"] = \"\"+item[\"alpha_3_code\"].lower()+\"\"\n",
        "    nationality = re.split(', | or',item[\"nationality\"].lower())\n",
        "    item[\"nationality\"] = nationality\n",
        "    return item\n",
        "df_dictionary=df_dictionary.apply(nation,axis=1)\n",
        "nationalities = []\n",
        "for item in df_dictionary[\"nationality\"].values:\n",
        "    for label in item:\n",
        "        nationalities.append(label)\n",
        "\n",
        "countries = []\n",
        "countries.extend(df_dictionary[\"en_short_name\"].values)\n",
        "countries.extend(df_dictionary[\"alpha_2_code\"].values)\n",
        "countries.extend(df_dictionary[\"alpha_3_code\"].values)"
      ]
    },
    {
      "attachments": {},
      "cell_type": "markdown",
      "metadata": {},
      "source": [
        "# Data selection and processing"
      ]
    },
    {
      "attachments": {},
      "cell_type": "markdown",
      "metadata": {
        "id": "5NL0K2EJ4dye"
      },
      "source": [
        "## Preprocessing Methods"
      ]
    },
    {
      "cell_type": "code",
      "execution_count": 286,
      "metadata": {
        "colab": {
          "base_uri": "https://localhost:8080/"
        },
        "id": "xM7X5Eya4dye",
        "outputId": "963765f7-d8d8-4099-cb17-723e4b5600c5"
      },
      "outputs": [
        {
          "data": {
            "text/plain": [
              "<module 'tasknet' from 'c:\\\\Users\\\\Quent\\\\AppData\\\\Local\\\\Programs\\\\Python\\\\Python39\\\\lib\\\\site-packages\\\\tasknet\\\\__init__.py'>"
            ]
          },
          "execution_count": 286,
          "metadata": {},
          "output_type": "execute_result"
        }
      ],
      "source": [
        "import importlib\n",
        "importlib.reload(tn)"
      ]
    },
    {
      "cell_type": "code",
      "execution_count": 287,
      "metadata": {
        "id": "j43AZS0L4dyf"
      },
      "outputs": [],
      "source": [
        "@dataclass\n",
        "class DataCollatorForPolls:\n",
        "    tokenizer: None=None\n",
        "    tokenizer_kwargs: None=None\n",
        "    def __call__(self, features):\n",
        "        print('datacollator')\n",
        "        label_name = \"label\" if \"label\" in features[0].keys() else \"labels\"\n",
        "        labels = [feature.pop(label_name) for feature in features]\n",
        "        batch_size = len(features)\n",
        "        num_choices = len(features[0][\"input_ids\"])\n",
        "        flattened_features = [\n",
        "            [{k: v[i] for k, v in feature.items()} for i in range(num_choices)]\n",
        "            for feature in features\n",
        "        ]\n",
        "        \n",
        "        flattened_features = sum(flattened_features, [])\n",
        "        pad_args=inspect.signature(self.tokenizer.pad).parameters.keys()\n",
        "        batch = self.tokenizer.pad(flattened_features, **fc.project(self.tokenizer_kwargs,pad_args))\n",
        "        batch = {k: v.view(batch_size, num_choices, -1) for k, v in batch.items()}\n",
        "        batch[\"labels\"] = torch.stack(labels).float() #### Allows one value per choice\n",
        "        print(batch)\n",
        "        return batch"
      ]
    },
    {
      "cell_type": "code",
      "execution_count": 288,
      "metadata": {
        "id": "tY5vhMLAv1P-"
      },
      "outputs": [],
      "source": [
        "#reddit\n",
        "def get_demographics(x):\n",
        "    parenthesized=[s[s.find(\"(\")+1:s.rfind(\")\")]  for s in x.options.keys()]\n",
        "    parenthesized=[s for s in parenthesized if s]\n",
        "    parenthesized_count=pd.Series.value_counts(parenthesized)\n",
        "    return list(parenthesized_count[parenthesized_count>1].index)\n",
        "\n",
        "def split_questions(x):\n",
        "    demographics=get_demographics(x)\n",
        "\n",
        "    l=[]\n",
        "    for d in demographics:\n",
        "        l+=[fc.project(x.options, [x for x in x.options if f'({d})' in x])] #if row has multiple demographics its repeated in dataset?\n",
        "    if l:\n",
        "        x.options=l\n",
        "        x['split']=True\n",
        "    else:\n",
        "        x.options=[x.options]\n",
        "        x['split']=False\n",
        "    return x\n",
        "\n",
        "def extract_demographic(x):\n",
        "    demographics = get_demographics(x)\n",
        "    x['demographic']=''\n",
        "    if not demographics:\n",
        "        return x\n",
        "    if len(demographics)>1:\n",
        "        print('failure:',demographics, x.options)\n",
        "        return x\n",
        "    demographic=demographics[0]\n",
        "    x['options'] = {k.replace(f'({demographic})',''):v for (k,v) in x.options.items()}\n",
        "    x['demographic']=demographic\n",
        "    return x\n",
        "\n",
        "num_choices=6\n",
        "choices_names=[f'choice_{i}' for i in range(num_choices)]\n",
        "mode='proba'\n",
        "\n",
        "def preprocess(x):\n",
        "    choices = (list(x.options.keys())+['']*num_choices)[:num_choices]\n",
        "    for i,n in enumerate(choices_names):\n",
        "        x[n]=choices[i]\n",
        "    scores = np.array(list(x.options.values())+[-1]*num_choices)[:num_choices]*1.0\n",
        "    if mode=='binary':\n",
        "        x['label'] = np.random.choice(np.flatnonzero(scores == scores.max()))\n",
        "    else:\n",
        "        scores[scores!=-1]= scores[scores!=-1]/scores[scores!=-1].sum()\n",
        "        x['label'] = scores\n",
        "    del x['options']\n",
        "    x['task']=0\n",
        "    return x\n",
        "\n",
        "def remove_result(x):\n",
        "  newDict={}\n",
        "  for key,value in x.items():\n",
        "    if \"result\" not in key.lower():\n",
        "      newDict[key] = value\n",
        "  return newDict"
      ]
    },
    {
      "cell_type": "code",
      "execution_count": 289,
      "metadata": {
        "id": "72zds0Bsv1P_"
      },
      "outputs": [],
      "source": [
        "def choices(x):\n",
        "    choices = (x[\"options\"]+['']*num_choices)[:num_choices]\n",
        "    scores = np.array(list(x.labels)+[-1]*num_choices)[:num_choices]*1.0\n",
        "    for i,n in enumerate(choices_names):\n",
        "        x[n]=choices[i]  \n",
        "    x[\"labels\"] = scores\n",
        "    return x\n",
        "\n",
        "def filter_data(x):\n",
        "    options = x[\"options\"]\n",
        "    if(1 < len(options) <7):\n",
        "        return x\n",
        "\n",
        "def apply_question_template(df):\n",
        "  #we need to take into account that the input to the model is Demographic + Question + Answer\n",
        "  # we thus need to create a question template that seems natural\n",
        "  # This template is only necessary if the input is not already in a question format\n",
        "  demographic = df[\"demographic\"]\n",
        "  category = df[\"demographic_category\"]\n",
        "  subject = df[\"input\"]\n",
        "  result = any(item in subject for item in [\"?\",\"How\",\"Why\",\"Where\",\"When\",\"Who\",\"What\"])\n",
        "  sentence = f\"{demographic}: {subject} ?\".lower()\n",
        "  if(not result):\n",
        "    if(category == \"age\"):\n",
        "        sentence = f\"{demographic} years old: which of these options would you take in regard to the subject '{subject}'?\".lower()  \n",
        "    elif(category == \"married\"):\n",
        "        sentence = f\"relationship satus {demographic}: which of these options would you take in regard to the subject '{subject}'?\".lower()\n",
        "    else:\n",
        "        sentence = f\"{demographic}: which of these options would you take in regard to the subject '{subject}'?\".lower()  \n",
        "  df['question'] = sentence\n",
        "  return df\n",
        "\n",
        "def get_split(x,train,validation):\n",
        "    \"\"\"parameters are wished percentage of dataset to be given to a split\"\"\"\n",
        "    rnd=random.Random(x).random()\n",
        "    if rnd<train:\n",
        "        return 'train'\n",
        "    if rnd<(train + validation):\n",
        "        return 'validation'\n",
        "    else:\n",
        "        return 'test'\n",
        "        \n",
        "def to_year(x):\n",
        "    x[\"created\"] = pd.to_datetime(x[\"created\"], unit='s').year\n",
        "    return x\n",
        "\n",
        "def shuffle_options(x):\n",
        "    options = x[\"options\"]\n",
        "    labels = x[\"labels\"]\n",
        "    tupples = list(zip(options,labels))\n",
        "    random.shuffle(tupples)\n",
        "    x[\"options\"] = [k for (k,_) in tupples]\n",
        "    x[\"labels\"] = [v for (_,v) in tupples]\n",
        "    return x"
      ]
    },
    {
      "attachments": {},
      "cell_type": "markdown",
      "metadata": {
        "id": "-Zd6XgPs4dyg"
      },
      "source": [
        "## RedditPoll350k"
      ]
    },
    {
      "cell_type": "code",
      "execution_count": 290,
      "metadata": {
        "colab": {
          "base_uri": "https://localhost:8080/"
        },
        "id": "IMh1u-i54dyg",
        "outputId": "cfd65eaa-9847-4144-fb34-736b6bdfce3e"
      },
      "outputs": [
        {
          "data": {
            "text/plain": [
              "312306"
            ]
          },
          "execution_count": 290,
          "metadata": {},
          "output_type": "execute_result"
        }
      ],
      "source": [
        "df_reddit['inputs']=df_reddit.title\n",
        "len(df_reddit)"
      ]
    },
    {
      "cell_type": "code",
      "execution_count": 291,
      "metadata": {
        "colab": {
          "base_uri": "https://localhost:8080/"
        },
        "id": "OvaqWJzgkaar",
        "outputId": "a9f6ba94-22ef-48e4-e081-047ba13bf736"
      },
      "outputs": [
        {
          "data": {
            "text/plain": [
              "307568"
            ]
          },
          "execution_count": 291,
          "metadata": {},
          "output_type": "execute_result"
        }
      ],
      "source": [
        "df_reddit['options']=df_reddit.options.map(lambda x:{k:v for k,v in x.items() if k!='Results'})\n",
        "df_reddit['options'].sample(frac=1.0)#mix options ad random\n",
        "df_reddit=df_reddit[df_reddit['options'].map(len)>1]\n",
        "len(df_reddit)\n",
        "df_reddit['n_answers']=df_reddit.options.map(dict.values).map(sum)\n",
        "df_reddit=df_reddit[df_reddit.n_answers>20]\n",
        "len(df_reddit)"
      ]
    },
    {
      "cell_type": "code",
      "execution_count": 292,
      "metadata": {
        "id": "uwfzITqNjqc2"
      },
      "outputs": [
        {
          "data": {
            "application/vnd.jupyter.widget-view+json": {
              "model_id": "96fbcc6cb24f410d82ee934406dad1a4",
              "version_major": 2,
              "version_minor": 0
            },
            "text/plain": [
              "  0%|          | 0/307568 [00:00<?, ?it/s]"
            ]
          },
          "metadata": {},
          "output_type": "display_data"
        },
        {
          "data": {
            "application/vnd.jupyter.widget-view+json": {
              "model_id": "3c2b10a5359e4a48b5829bb39ddbbf56",
              "version_major": 2,
              "version_minor": 0
            },
            "text/plain": [
              "  0%|          | 0/317731 [00:00<?, ?it/s]"
            ]
          },
          "metadata": {},
          "output_type": "display_data"
        },
        {
          "name": "stdout",
          "output_type": "stream",
          "text": [
            "failure: ['165 cm', \"165 cm) - 6' (183 cm\"] {'< 5\\' 5\" (165 cm), Male': 14, '< 5\\' 5\" (165 cm), Female': 34, '5\\' 5\" (165 cm) - 6\\' (183 cm), Male': 106, '5\\' 5\" (165 cm) - 6\\' (183 cm), Female': 36}\n",
            "failure: [\"165 cm) - 6' (183 cm\", '183 cm'] {'5\\' 5\" (165 cm) - 6\\' (183 cm), Male': 106, '5\\' 5\" (165 cm) - 6\\' (183 cm), Female': 36, \"> 6' (183 cm), Male\": 65, \"> 6' (183 cm), Female\": 4}\n"
          ]
        },
        {
          "data": {
            "text/plain": [
              "(        id                                              title  \\\n",
              " 1   yvae7l  Do You Believe Your Congressional District is ...   \n",
              " 1   yvae7l  Do You Believe Your Congressional District is ...   \n",
              " 65  yuipdn                            Does body count matter?   \n",
              " \n",
              "                     options     created               category  \\\n",
              " 1   {'Yes ': 35, 'No ': 17}  1668455219  news_&_social_concern   \n",
              " 1     {'Yes ': 7, 'No ': 8}  1668455219  news_&_social_concern   \n",
              " 65  {'Yes ': 70, 'No ': 52}  1668382874   diaries_&_daily_life   \n",
              " \n",
              "                                                inputs  n_answers  split  \\\n",
              " 1   D: Do You Believe Your Congressional District ...        134   True   \n",
              " 1   R: Do You Believe Your Congressional District ...        134   True   \n",
              " 65                      Male: Does body count matter?        168   True   \n",
              " \n",
              "    demographic  \n",
              " 1            D  \n",
              " 1            R  \n",
              " 65        Male  ,\n",
              " 20069)"
            ]
          },
          "execution_count": 292,
          "metadata": {},
          "output_type": "execute_result"
        }
      ],
      "source": [
        "if 'dem' not in url:\n",
        "    df_reddit=df_reddit.progress_apply(split_questions,axis=1).explode('options')\n",
        "    df_reddit=df_reddit.progress_apply(extract_demographic,axis=1)\n",
        "    df_reddit['inputs']=df_reddit.demographic+': '+df_reddit.title\n",
        "df_reddit_demographics=df_reddit[df_reddit.demographic.map(len).map(bool)]\n",
        "df_reddit_demographics.head(3), len(df_reddit_demographics)"
      ]
    },
    {
      "cell_type": "code",
      "execution_count": 293,
      "metadata": {
        "id": "RdbAFTffUVXO"
      },
      "outputs": [],
      "source": [
        "counter = [x for x in Counter(df_reddit_demographics[\"demographic\"]).keys() if Counter(df_reddit_demographics[\"demographic\"])[x] >= 10]\n",
        "df_reddit_demographics = df_reddit_demographics[df_reddit_demographics[\"demographic\"].isin(counter)]"
      ]
    },
    {
      "cell_type": "code",
      "execution_count": 294,
      "metadata": {
        "colab": {
          "base_uri": "https://localhost:8080/",
          "referenced_widgets": [
            "18163e7e935b437080d46cdbe3212b03",
            "b0ee048f5c3c41bd9e4c63b3f7261116",
            "597dcc232ae8437eb064f173f2d237d3",
            "48f38b71c52044da9ca70fe5f55bcd73",
            "76e349accefa46229999d933043b5b56",
            "8d43de195a3c4247bee6edcdf7a85673",
            "22ec69f1d86b4d07954c6d0f143aec61",
            "c6a93ddb48b849f7b0cdbf109eb23a75",
            "06f1958fad6a45cca116050e24d86b19",
            "f079102b604e4f968579e4dc3a3e341d",
            "87d5f57e1e7b4b5cae4d487318782e71"
          ]
        },
        "id": "l9E_vT3J2e5L",
        "outputId": "1af79428-0559-49eb-d60f-904f15f4336c"
      },
      "outputs": [
        {
          "data": {
            "application/vnd.jupyter.widget-view+json": {
              "model_id": "e456cfaa698c461c804208e7fa4732f2",
              "version_major": 2,
              "version_minor": 0
            },
            "text/plain": [
              "  0%|          | 0/11561 [00:00<?, ?it/s]"
            ]
          },
          "metadata": {},
          "output_type": "display_data"
        },
        {
          "name": "stderr",
          "output_type": "stream",
          "text": [
            "C:\\Users\\Quent\\AppData\\Local\\Temp\\ipykernel_17516\\3184463539.py:47: RuntimeWarning: invalid value encountered in divide\n",
            "  scores[scores!=-1]= scores[scores!=-1]/scores[scores!=-1].sum()\n",
            "C:\\Users\\Quent\\AppData\\Local\\Temp\\ipykernel_17516\\3184463539.py:47: RuntimeWarning: invalid value encountered in divide\n",
            "  scores[scores!=-1]= scores[scores!=-1]/scores[scores!=-1].sum()\n",
            "C:\\Users\\Quent\\AppData\\Local\\Temp\\ipykernel_17516\\3184463539.py:47: RuntimeWarning: invalid value encountered in divide\n",
            "  scores[scores!=-1]= scores[scores!=-1]/scores[scores!=-1].sum()\n",
            "C:\\Users\\Quent\\AppData\\Local\\Temp\\ipykernel_17516\\3184463539.py:47: RuntimeWarning: invalid value encountered in divide\n",
            "  scores[scores!=-1]= scores[scores!=-1]/scores[scores!=-1].sum()\n",
            "C:\\Users\\Quent\\AppData\\Local\\Temp\\ipykernel_17516\\3184463539.py:47: RuntimeWarning: invalid value encountered in divide\n",
            "  scores[scores!=-1]= scores[scores!=-1]/scores[scores!=-1].sum()\n"
          ]
        }
      ],
      "source": [
        "df_reddit_demographics_normalized = df_reddit_demographics.progress_apply(preprocess,axis=1)"
      ]
    },
    {
      "cell_type": "code",
      "execution_count": 295,
      "metadata": {
        "colab": {
          "base_uri": "https://localhost:8080/"
        },
        "id": "bEYZavwrk0u0",
        "outputId": "97a06f80-c0a9-4a11-d368-07e799977a58"
      },
      "outputs": [
        {
          "data": {
            "text/plain": [
              "11561"
            ]
          },
          "execution_count": 295,
          "metadata": {},
          "output_type": "execute_result"
        }
      ],
      "source": [
        "if mode=='binary':\n",
        "    df_reddit_demographics_normalized=df_reddit_demographics_normalized[df_reddit_demographics_normalized.label<num_choices]\n",
        "else:\n",
        "    df_reddit_demographics_normalized=df_reddit_demographics_normalized[df_reddit_demographics_normalized.label.map(len)==num_choices]\n",
        "len(df_reddit_demographics_normalized)"
      ]
    },
    {
      "cell_type": "code",
      "execution_count": 296,
      "metadata": {
        "colab": {
          "base_uri": "https://localhost:8080/"
        },
        "id": "hBM5W5LwZJKZ",
        "outputId": "7a78c5cb-ef91-43b6-8926-dfe389b92b44"
      },
      "outputs": [
        {
          "data": {
            "text/plain": [
              "<bound method DataFrame.dropna of             id                                              title     created  \\\n",
              "1       yvae7l  Do You Believe Your Congressional District is ...  1668455219   \n",
              "65      yuipdn                            Does body count matter?  1668382874   \n",
              "65      yuipdn                            Does body count matter?  1668382874   \n",
              "66      yui5re                      are your nails long or short?  1668381574   \n",
              "66      yui5re                      are your nails long or short?  1668381574   \n",
              "...        ...                                                ...         ...   \n",
              "307851  gq6x1r  Should women go to jail for false rape accusat...  1590393452   \n",
              "307851  gq6x1r  Should women go to jail for false rape accusat...  1590393452   \n",
              "308670  gkzer2                               Lying about your age  1589653023   \n",
              "309958  gdk0w1                          Your preference in comics  1588625918   \n",
              "311887  fsruvs                                 political ideology  1585712162   \n",
              "\n",
              "                     category  \\\n",
              "1       news_&_social_concern   \n",
              "65       diaries_&_daily_life   \n",
              "65       diaries_&_daily_life   \n",
              "66            fashion_&_style   \n",
              "66            fashion_&_style   \n",
              "...                       ...   \n",
              "307851  news_&_social_concern   \n",
              "307851  news_&_social_concern   \n",
              "308670   diaries_&_daily_life   \n",
              "309958         arts_&_culture   \n",
              "311887  news_&_social_concern   \n",
              "\n",
              "                                                   inputs  n_answers  split  \\\n",
              "1       R: Do You Believe Your Congressional District ...        134   True   \n",
              "65                          Male: Does body count matter?        168   True   \n",
              "65                        Female: Does body count matter?        168   True   \n",
              "66                    Male: are your nails long or short?        631   True   \n",
              "66                  Female: are your nails long or short?        631   True   \n",
              "...                                                   ...        ...    ...   \n",
              "307851  Female: Should women go to jail for false rape...        408   True   \n",
              "307851  Other: Should women go to jail for false rape ...        408   True   \n",
              "308670                         male: Lying about your age        165   True   \n",
              "309958                 comment: Your preference in comics         97   True   \n",
              "311887                        comment: political ideology         46   True   \n",
              "\n",
              "       demographic            choice_0 choice_1 choice_2 choice_3 choice_4  \\\n",
              "1                R                Yes       No                               \n",
              "65            Male                Yes       No                               \n",
              "65          Female                Yes       No                               \n",
              "66            Male               Long    Short                               \n",
              "66          Female               Long    Short                               \n",
              "...            ...                 ...      ...      ...      ...      ...   \n",
              "307851      Female                Yes       No                               \n",
              "307851       Other                Yes       No                               \n",
              "308670        male                Yes       No                               \n",
              "309958     comment           Multiple    Other                               \n",
              "311887     comment  centrist/moderate    other                               \n",
              "\n",
              "       choice_5                                              label  task  \n",
              "1                [0.4666666666666667, 0.5333333333333333, -1.0,...     0  \n",
              "65               [0.5737704918032787, 0.4262295081967213, -1.0,...     0  \n",
              "65               [0.2826086956521739, 0.717391304347826, -1.0, ...     0  \n",
              "66               [0.06680584551148225, 0.9331941544885177, -1.0...     0  \n",
              "66               [0.23026315789473684, 0.7697368421052632, -1.0...     0  \n",
              "...         ...                                                ...   ...  \n",
              "307851           [0.8681318681318682, 0.13186813186813187, -1.0...     0  \n",
              "307851                          [0.8, 0.2, -1.0, -1.0, -1.0, -1.0]     0  \n",
              "308670           [0.42276422764227645, 0.5772357723577236, -1.0...     0  \n",
              "309958                        [0.44, 0.56, -1.0, -1.0, -1.0, -1.0]     0  \n",
              "311887           [0.38095238095238093, 0.6190476190476191, -1.0...     0  \n",
              "\n",
              "[11561 rows x 16 columns]>"
            ]
          },
          "execution_count": 296,
          "metadata": {},
          "output_type": "execute_result"
        }
      ],
      "source": [
        "df_reddit_demographics_normalized.dropna"
      ]
    },
    {
      "cell_type": "code",
      "execution_count": 297,
      "metadata": {
        "colab": {
          "base_uri": "https://localhost:8080/",
          "referenced_widgets": [
            "527cdcc51093457aae06fc30e0137ac3",
            "b9c13a737a6a4cea97b8cda913faf9f8",
            "d0d5c4167ba247498eec7ae9b05a855c",
            "b58a75c67ece463fb1e26e90691b879e",
            "34a8b8cbdfe14a18ad81d14a2d03c914",
            "e43b036708364da3b78066b5d2c69203",
            "033454a494c1482196bd273083c087d7",
            "1bbaf80c853a4bfbb99f839b688fe62f",
            "b6c268d1a8884703959d3bcf6e64e1ad",
            "1db9d3b241154b929bf97712476f70c7",
            "03f065c9faa740819b7d58ee0f6cf3bb"
          ]
        },
        "id": "hCH9Xz8gjw3_",
        "outputId": "c41b8c90-5701-4a83-8497-97a1c481c102"
      },
      "outputs": [
        {
          "data": {
            "application/vnd.jupyter.widget-view+json": {
              "model_id": "2e2262bb594f42e69e0963d5315978fe",
              "version_major": 2,
              "version_minor": 0
            },
            "text/plain": [
              "  0%|          | 0/11561 [00:00<?, ?it/s]"
            ]
          },
          "metadata": {},
          "output_type": "display_data"
        }
      ],
      "source": [
        "df_reddit_demographics_normalized[df_reddit_demographics_normalized.label.progress_map(lambda x: any(np.isnan(a) for a in x))]\n",
        "df_reddit_demographics_normalized['split']=df_reddit_demographics_normalized.title.map(lambda x: get_split(x,0.95,0.025))"
      ]
    },
    {
      "attachments": {},
      "cell_type": "markdown",
      "metadata": {
        "id": "f102uwZxMiFV"
      },
      "source": [
        "### Normalize demographic"
      ]
    },
    {
      "cell_type": "code",
      "execution_count": 298,
      "metadata": {
        "id": "syhngBR_MiFX"
      },
      "outputs": [],
      "source": [
        "def normalize_nationality(x):\n",
        "    male = [\"man\",\"guy\"]\n",
        "    label = x[\"demographic\"].lower()\n",
        "    if (2 <= len(label) <= 3) and label not in male:\n",
        "      if any(token.replace(\" \",\"\").lower() in label.split(\" \") for token in nationalities):\n",
        "        token = [token for token  in nationalities if token.replace(\" \",\"\").lower() in label.split(\" \")]\n",
        "        if(\"not\" in label) | (\"non\" in label):\n",
        "              label = \"not \"+token[0]\n",
        "        else:\n",
        "              label = token[0]\n",
        "    elif any(token.lower() in label.split(\" \") for token in nationalities):\n",
        "        token = [token for token  in nationalities if token.lower() in label.split(\" \")]\n",
        "        if(\"not\" in label) | (\"non\" in label):\n",
        "            label = \"not \"+token[0]\n",
        "        else:\n",
        "            label = token[0]\n",
        "    x[\"demographic\"] = label\n",
        "    return x\n",
        "\n",
        "def normalize_countries(x):\n",
        "    male = [\"man\",\"guy\",\"men\"]\n",
        "    label = x[\"demographic\"].lower()\n",
        "    if (2 <= len(label) <= 3) and label not in male:\n",
        "      if any(token.replace(\" \",\"\").lower() in label.split(\" \") for token in countries):\n",
        "        token = [token for token  in countries if token.replace(\" \",\"\").lower() in label.split(\" \")]\n",
        "        if(\"not\" in label) | (\"non\" in label):\n",
        "              label = \"not \"+token[0]\n",
        "        else:\n",
        "              label = token[0]\n",
        "    elif any(token.lower() in label.split(\" \") for token in countries):\n",
        "        token = [token for token  in countries if token.lower() in label.split(\" \")]\n",
        "        if(\"not\" in label) | (\"non\" in label):\n",
        "            label = \"not \"+token[0]\n",
        "        else:\n",
        "            label = token[0]\n",
        "    x[\"demographic\"] = label\n",
        "    return x\n",
        "\n",
        "def normalize_genders(x):\n",
        "    label = x[\"demographic\"].lower()\n",
        "    female= [\"f\",\"female\",\"woman\",\"chick\",\"girl\"]\n",
        "    male = [\"m\",\"male\",\"man\",\"guy\",\"men\"]\n",
        "    if any(token.lower() in female for token in label.split()):\n",
        "        if (\"not\" in label) | (\"non\" in label):\n",
        "            label = \"not female\"\n",
        "        else:\n",
        "            label = \"female\"\n",
        "    if any(token in male for token in label.split()):\n",
        "        if(\"not\" in label) | (\"non\" in label):\n",
        "            label = \"not male\"\n",
        "        else:\n",
        "            label = \"male\"\n",
        "    x[\"demographic\"] = label\n",
        "    return x\n",
        "\n",
        "def normalize_politics(x):\n",
        "    label = x[\"demographic\"].lower()\n",
        "    right = [\"d\",\"democratic\",\"right\",\"r\",'right-leaning']\n",
        "    left = [\"republican\",\"republicans\",\"left\",\"left-leaning\"]\n",
        "    if any(token.lower() in label.split(\" \") for token in right):\n",
        "        if(\"not\" in label) | (\"non\" in label):\n",
        "            label = \"not democrat\"\n",
        "        else: \n",
        "            label = \"democrat\"\n",
        "    elif any(token.lower() in label.split(\" \") for token in left):\n",
        "        if(\"not\" in label) | (\"non\" in label):\n",
        "            label = \"not republican\"\n",
        "        else: \n",
        "            label = \"republican\"\n",
        "    x[\"demographic\"] = label\n",
        "    return x\n",
        "\n",
        "def remove_nan(x):\n",
        "  labels = x[\"label\"]\n",
        "  if any(np.isnan(labels)):\n",
        "      pass\n",
        "  else:\n",
        "      return x\n"
      ]
    },
    {
      "cell_type": "code",
      "execution_count": 299,
      "metadata": {
        "colab": {
          "base_uri": "https://localhost:8080/",
          "referenced_widgets": [
            "ea62743429f7422584a256e9bba64ee3",
            "50f6569692e545c0ae1773f1f265cc2f",
            "28418a9326f9426b92816a91574f86fb",
            "c1d8a18d571c4550b9de220fd022de71",
            "2cadbae434da48b9914fdfee4082566c",
            "0e8c14640eab4fcb82e19e5cac547359",
            "86f314d912964c938ddd09251a16f592",
            "59206c936dc6432c876feb537aa18fe0",
            "5f4db938211144729b2434014f83694f",
            "06c741f9df7041bf9605ee82d7fdc37d",
            "59ddead281da4a0e85594a99de04c16e"
          ]
        },
        "id": "mP_aE214MiFY",
        "outputId": "9e554ffc-d73d-40aa-c50f-4d5ead9b312f"
      },
      "outputs": [
        {
          "data": {
            "application/vnd.jupyter.widget-view+json": {
              "model_id": "9eeaf2c496394d0e98b31bd7d5000bb6",
              "version_major": 2,
              "version_minor": 0
            },
            "text/plain": [
              "  0%|          | 0/11561 [00:00<?, ?it/s]"
            ]
          },
          "metadata": {},
          "output_type": "display_data"
        },
        {
          "data": {
            "text/html": [
              "<div>\n",
              "<style scoped>\n",
              "    .dataframe tbody tr th:only-of-type {\n",
              "        vertical-align: middle;\n",
              "    }\n",
              "\n",
              "    .dataframe tbody tr th {\n",
              "        vertical-align: top;\n",
              "    }\n",
              "\n",
              "    .dataframe thead th {\n",
              "        text-align: right;\n",
              "    }\n",
              "</style>\n",
              "<table border=\"1\" class=\"dataframe\">\n",
              "  <thead>\n",
              "    <tr style=\"text-align: right;\">\n",
              "      <th></th>\n",
              "      <th>id</th>\n",
              "      <th>title</th>\n",
              "      <th>created</th>\n",
              "      <th>category</th>\n",
              "      <th>inputs</th>\n",
              "      <th>n_answers</th>\n",
              "      <th>split</th>\n",
              "      <th>demographic</th>\n",
              "      <th>choice_0</th>\n",
              "      <th>choice_1</th>\n",
              "      <th>choice_2</th>\n",
              "      <th>choice_3</th>\n",
              "      <th>choice_4</th>\n",
              "      <th>choice_5</th>\n",
              "      <th>label</th>\n",
              "      <th>task</th>\n",
              "    </tr>\n",
              "  </thead>\n",
              "  <tbody>\n",
              "    <tr>\n",
              "      <th>1</th>\n",
              "      <td>yvae7l</td>\n",
              "      <td>Do You Believe Your Congressional District is ...</td>\n",
              "      <td>1.668455e+09</td>\n",
              "      <td>news_&amp;_social_concern</td>\n",
              "      <td>R: Do You Believe Your Congressional District ...</td>\n",
              "      <td>134.0</td>\n",
              "      <td>train</td>\n",
              "      <td>democrat</td>\n",
              "      <td>Yes</td>\n",
              "      <td>No</td>\n",
              "      <td></td>\n",
              "      <td></td>\n",
              "      <td></td>\n",
              "      <td></td>\n",
              "      <td>[0.4666666666666667, 0.5333333333333333, -1.0,...</td>\n",
              "      <td>0.0</td>\n",
              "    </tr>\n",
              "    <tr>\n",
              "      <th>65</th>\n",
              "      <td>yuipdn</td>\n",
              "      <td>Does body count matter?</td>\n",
              "      <td>1.668383e+09</td>\n",
              "      <td>diaries_&amp;_daily_life</td>\n",
              "      <td>Male: Does body count matter?</td>\n",
              "      <td>168.0</td>\n",
              "      <td>train</td>\n",
              "      <td>male</td>\n",
              "      <td>Yes</td>\n",
              "      <td>No</td>\n",
              "      <td></td>\n",
              "      <td></td>\n",
              "      <td></td>\n",
              "      <td></td>\n",
              "      <td>[0.5737704918032787, 0.4262295081967213, -1.0,...</td>\n",
              "      <td>0.0</td>\n",
              "    </tr>\n",
              "    <tr>\n",
              "      <th>65</th>\n",
              "      <td>yuipdn</td>\n",
              "      <td>Does body count matter?</td>\n",
              "      <td>1.668383e+09</td>\n",
              "      <td>diaries_&amp;_daily_life</td>\n",
              "      <td>Female: Does body count matter?</td>\n",
              "      <td>168.0</td>\n",
              "      <td>train</td>\n",
              "      <td>female</td>\n",
              "      <td>Yes</td>\n",
              "      <td>No</td>\n",
              "      <td></td>\n",
              "      <td></td>\n",
              "      <td></td>\n",
              "      <td></td>\n",
              "      <td>[0.2826086956521739, 0.717391304347826, -1.0, ...</td>\n",
              "      <td>0.0</td>\n",
              "    </tr>\n",
              "    <tr>\n",
              "      <th>66</th>\n",
              "      <td>yui5re</td>\n",
              "      <td>are your nails long or short?</td>\n",
              "      <td>1.668382e+09</td>\n",
              "      <td>fashion_&amp;_style</td>\n",
              "      <td>Male: are your nails long or short?</td>\n",
              "      <td>631.0</td>\n",
              "      <td>test</td>\n",
              "      <td>male</td>\n",
              "      <td>Long</td>\n",
              "      <td>Short</td>\n",
              "      <td></td>\n",
              "      <td></td>\n",
              "      <td></td>\n",
              "      <td></td>\n",
              "      <td>[0.06680584551148225, 0.9331941544885177, -1.0...</td>\n",
              "      <td>0.0</td>\n",
              "    </tr>\n",
              "    <tr>\n",
              "      <th>66</th>\n",
              "      <td>yui5re</td>\n",
              "      <td>are your nails long or short?</td>\n",
              "      <td>1.668382e+09</td>\n",
              "      <td>fashion_&amp;_style</td>\n",
              "      <td>Female: are your nails long or short?</td>\n",
              "      <td>631.0</td>\n",
              "      <td>test</td>\n",
              "      <td>female</td>\n",
              "      <td>Long</td>\n",
              "      <td>Short</td>\n",
              "      <td></td>\n",
              "      <td></td>\n",
              "      <td></td>\n",
              "      <td></td>\n",
              "      <td>[0.23026315789473684, 0.7697368421052632, -1.0...</td>\n",
              "      <td>0.0</td>\n",
              "    </tr>\n",
              "    <tr>\n",
              "      <th>...</th>\n",
              "      <td>...</td>\n",
              "      <td>...</td>\n",
              "      <td>...</td>\n",
              "      <td>...</td>\n",
              "      <td>...</td>\n",
              "      <td>...</td>\n",
              "      <td>...</td>\n",
              "      <td>...</td>\n",
              "      <td>...</td>\n",
              "      <td>...</td>\n",
              "      <td>...</td>\n",
              "      <td>...</td>\n",
              "      <td>...</td>\n",
              "      <td>...</td>\n",
              "      <td>...</td>\n",
              "      <td>...</td>\n",
              "    </tr>\n",
              "    <tr>\n",
              "      <th>307851</th>\n",
              "      <td>gq6x1r</td>\n",
              "      <td>Should women go to jail for false rape accusat...</td>\n",
              "      <td>1.590393e+09</td>\n",
              "      <td>news_&amp;_social_concern</td>\n",
              "      <td>Female: Should women go to jail for false rape...</td>\n",
              "      <td>408.0</td>\n",
              "      <td>train</td>\n",
              "      <td>female</td>\n",
              "      <td>Yes</td>\n",
              "      <td>No</td>\n",
              "      <td></td>\n",
              "      <td></td>\n",
              "      <td></td>\n",
              "      <td></td>\n",
              "      <td>[0.8681318681318682, 0.13186813186813187, -1.0...</td>\n",
              "      <td>0.0</td>\n",
              "    </tr>\n",
              "    <tr>\n",
              "      <th>307851</th>\n",
              "      <td>gq6x1r</td>\n",
              "      <td>Should women go to jail for false rape accusat...</td>\n",
              "      <td>1.590393e+09</td>\n",
              "      <td>news_&amp;_social_concern</td>\n",
              "      <td>Other: Should women go to jail for false rape ...</td>\n",
              "      <td>408.0</td>\n",
              "      <td>train</td>\n",
              "      <td>other</td>\n",
              "      <td>Yes</td>\n",
              "      <td>No</td>\n",
              "      <td></td>\n",
              "      <td></td>\n",
              "      <td></td>\n",
              "      <td></td>\n",
              "      <td>[0.8, 0.2, -1.0, -1.0, -1.0, -1.0]</td>\n",
              "      <td>0.0</td>\n",
              "    </tr>\n",
              "    <tr>\n",
              "      <th>308670</th>\n",
              "      <td>gkzer2</td>\n",
              "      <td>Lying about your age</td>\n",
              "      <td>1.589653e+09</td>\n",
              "      <td>diaries_&amp;_daily_life</td>\n",
              "      <td>male: Lying about your age</td>\n",
              "      <td>165.0</td>\n",
              "      <td>train</td>\n",
              "      <td>male</td>\n",
              "      <td>Yes</td>\n",
              "      <td>No</td>\n",
              "      <td></td>\n",
              "      <td></td>\n",
              "      <td></td>\n",
              "      <td></td>\n",
              "      <td>[0.42276422764227645, 0.5772357723577236, -1.0...</td>\n",
              "      <td>0.0</td>\n",
              "    </tr>\n",
              "    <tr>\n",
              "      <th>309958</th>\n",
              "      <td>gdk0w1</td>\n",
              "      <td>Your preference in comics</td>\n",
              "      <td>1.588626e+09</td>\n",
              "      <td>arts_&amp;_culture</td>\n",
              "      <td>comment: Your preference in comics</td>\n",
              "      <td>97.0</td>\n",
              "      <td>train</td>\n",
              "      <td>comment</td>\n",
              "      <td>Multiple</td>\n",
              "      <td>Other</td>\n",
              "      <td></td>\n",
              "      <td></td>\n",
              "      <td></td>\n",
              "      <td></td>\n",
              "      <td>[0.44, 0.56, -1.0, -1.0, -1.0, -1.0]</td>\n",
              "      <td>0.0</td>\n",
              "    </tr>\n",
              "    <tr>\n",
              "      <th>311887</th>\n",
              "      <td>fsruvs</td>\n",
              "      <td>political ideology</td>\n",
              "      <td>1.585712e+09</td>\n",
              "      <td>news_&amp;_social_concern</td>\n",
              "      <td>comment: political ideology</td>\n",
              "      <td>46.0</td>\n",
              "      <td>train</td>\n",
              "      <td>comment</td>\n",
              "      <td>centrist/moderate</td>\n",
              "      <td>other</td>\n",
              "      <td></td>\n",
              "      <td></td>\n",
              "      <td></td>\n",
              "      <td></td>\n",
              "      <td>[0.38095238095238093, 0.6190476190476191, -1.0...</td>\n",
              "      <td>0.0</td>\n",
              "    </tr>\n",
              "  </tbody>\n",
              "</table>\n",
              "<p>11556 rows × 16 columns</p>\n",
              "</div>"
            ],
            "text/plain": [
              "            id                                              title  \\\n",
              "1       yvae7l  Do You Believe Your Congressional District is ...   \n",
              "65      yuipdn                            Does body count matter?   \n",
              "65      yuipdn                            Does body count matter?   \n",
              "66      yui5re                      are your nails long or short?   \n",
              "66      yui5re                      are your nails long or short?   \n",
              "...        ...                                                ...   \n",
              "307851  gq6x1r  Should women go to jail for false rape accusat...   \n",
              "307851  gq6x1r  Should women go to jail for false rape accusat...   \n",
              "308670  gkzer2                               Lying about your age   \n",
              "309958  gdk0w1                          Your preference in comics   \n",
              "311887  fsruvs                                 political ideology   \n",
              "\n",
              "             created               category  \\\n",
              "1       1.668455e+09  news_&_social_concern   \n",
              "65      1.668383e+09   diaries_&_daily_life   \n",
              "65      1.668383e+09   diaries_&_daily_life   \n",
              "66      1.668382e+09        fashion_&_style   \n",
              "66      1.668382e+09        fashion_&_style   \n",
              "...              ...                    ...   \n",
              "307851  1.590393e+09  news_&_social_concern   \n",
              "307851  1.590393e+09  news_&_social_concern   \n",
              "308670  1.589653e+09   diaries_&_daily_life   \n",
              "309958  1.588626e+09         arts_&_culture   \n",
              "311887  1.585712e+09  news_&_social_concern   \n",
              "\n",
              "                                                   inputs  n_answers  split  \\\n",
              "1       R: Do You Believe Your Congressional District ...      134.0  train   \n",
              "65                          Male: Does body count matter?      168.0  train   \n",
              "65                        Female: Does body count matter?      168.0  train   \n",
              "66                    Male: are your nails long or short?      631.0   test   \n",
              "66                  Female: are your nails long or short?      631.0   test   \n",
              "...                                                   ...        ...    ...   \n",
              "307851  Female: Should women go to jail for false rape...      408.0  train   \n",
              "307851  Other: Should women go to jail for false rape ...      408.0  train   \n",
              "308670                         male: Lying about your age      165.0  train   \n",
              "309958                 comment: Your preference in comics       97.0  train   \n",
              "311887                        comment: political ideology       46.0  train   \n",
              "\n",
              "       demographic            choice_0 choice_1 choice_2 choice_3 choice_4  \\\n",
              "1         democrat                Yes       No                               \n",
              "65            male                Yes       No                               \n",
              "65          female                Yes       No                               \n",
              "66            male               Long    Short                               \n",
              "66          female               Long    Short                               \n",
              "...            ...                 ...      ...      ...      ...      ...   \n",
              "307851      female                Yes       No                               \n",
              "307851       other                Yes       No                               \n",
              "308670        male                Yes       No                               \n",
              "309958     comment           Multiple    Other                               \n",
              "311887     comment  centrist/moderate    other                               \n",
              "\n",
              "       choice_5                                              label  task  \n",
              "1                [0.4666666666666667, 0.5333333333333333, -1.0,...   0.0  \n",
              "65               [0.5737704918032787, 0.4262295081967213, -1.0,...   0.0  \n",
              "65               [0.2826086956521739, 0.717391304347826, -1.0, ...   0.0  \n",
              "66               [0.06680584551148225, 0.9331941544885177, -1.0...   0.0  \n",
              "66               [0.23026315789473684, 0.7697368421052632, -1.0...   0.0  \n",
              "...         ...                                                ...   ...  \n",
              "307851           [0.8681318681318682, 0.13186813186813187, -1.0...   0.0  \n",
              "307851                          [0.8, 0.2, -1.0, -1.0, -1.0, -1.0]   0.0  \n",
              "308670           [0.42276422764227645, 0.5772357723577236, -1.0...   0.0  \n",
              "309958                        [0.44, 0.56, -1.0, -1.0, -1.0, -1.0]   0.0  \n",
              "311887           [0.38095238095238093, 0.6190476190476191, -1.0...   0.0  \n",
              "\n",
              "[11556 rows x 16 columns]"
            ]
          },
          "execution_count": 299,
          "metadata": {},
          "output_type": "execute_result"
        }
      ],
      "source": [
        "df_reddit_demographics_normalized_labels=df_reddit_demographics_normalized.apply(normalize_nationality,axis=1)\n",
        "df_reddit_demographics_normalized_labels=df_reddit_demographics_normalized_labels.apply(normalize_genders,axis=1)\n",
        "df_reddit_demographics_normalized_labels=df_reddit_demographics_normalized_labels.apply(normalize_countries,axis=1)\n",
        "df_reddit_demographics_normalized_labels=df_reddit_demographics_normalized_labels.apply(normalize_politics,axis=1)\n",
        "df_reddit_demographics_normalized_labels = df_reddit_demographics_normalized_labels.progress_apply(remove_nan,axis=1)\n",
        "df_reddit_demographics_normalized_labels.dropna()"
      ]
    },
    {
      "attachments": {},
      "cell_type": "markdown",
      "metadata": {},
      "source": [
        "### Applying templates"
      ]
    },
    {
      "attachments": {},
      "cell_type": "markdown",
      "metadata": {},
      "source": [
        "#### Zeroshot for Masked Language Setting"
      ]
    },
    {
      "cell_type": "code",
      "execution_count": 300,
      "metadata": {},
      "outputs": [],
      "source": [
        "def to_sentences(df):\n",
        "    input_index = 1\n",
        "    year_index = 2\n",
        "    split_index = 4\n",
        "    demographic_index= 5\n",
        "    label_index = 13\n",
        "    dataset_reddit_sentences = []\n",
        "    for input in df.values:\n",
        "        try:\n",
        "            question_input = str(input[input_index])\n",
        "            year = input[year_index]\n",
        "            choices = choices = [input[7],input[8],input[9],input[10],input[11],input[12]]\n",
        "            demographic = input[demographic_index]\n",
        "            split = input[split_index]\n",
        "            labels = input[label_index]\n",
        "            \n",
        "            for (choice,label) in zip(choices,labels):\n",
        "                if(choice != \"\"):\n",
        "                    sentence = f\"In {year}, <mask> percent of {demographic} voted '{choice}' on the question '{question_input}'\".lower()\n",
        "                    dataset_reddit_sentences.append({\"input\": sentence,\"subject\":question_input,\"choice\":choice,\"demographic\":demographic,\"year\":year, \"y\": label,\"split\":split})\n",
        "        except:\n",
        "            pass\n",
        "    return pd.DataFrame(dataset_reddit_sentences)"
      ]
    },
    {
      "cell_type": "code",
      "execution_count": 301,
      "metadata": {},
      "outputs": [
        {
          "data": {
            "application/vnd.jupyter.widget-view+json": {
              "model_id": "25e655d992634eccae1ef6b7865830ad",
              "version_major": 2,
              "version_minor": 0
            },
            "text/plain": [
              "  0%|          | 0/11561 [00:00<?, ?it/s]"
            ]
          },
          "metadata": {},
          "output_type": "display_data"
        }
      ],
      "source": [
        "df_reddit_demographics_normalized_labels = df_reddit_demographics_normalized_labels.progress_apply(to_year,axis=1)"
      ]
    },
    {
      "cell_type": "code",
      "execution_count": 302,
      "metadata": {},
      "outputs": [],
      "source": [
        "df_reddit_demographics_normalized_sentences = to_sentences(df_reddit_demographics_normalized_labels)"
      ]
    },
    {
      "cell_type": "code",
      "execution_count": 303,
      "metadata": {},
      "outputs": [],
      "source": [
        "#df_reddit_normalized_sentences = to_sentences(df_reddit_normalized)\n",
        "\n",
        "#dataset_reddit_full=DatasetDict({k:datasets.Dataset.from_pandas(df_reddit_normalized_sentences[df_reddit_normalized_sentences['split']==k]) for k in {'train','test','validation'}})\n",
        "dataset_wvs_zeroshot=DatasetDict({k:datasets.Dataset.from_pandas(df_reddit_demographics_normalized_sentences[df_reddit_demographics_normalized_sentences['split']==k]) for k in {'train','test','validation'}})\n"
      ]
    },
    {
      "attachments": {},
      "cell_type": "markdown",
      "metadata": {},
      "source": [
        "#### Fine-tuning and Zeroshot for MCQ setting"
      ]
    },
    {
      "cell_type": "code",
      "execution_count": 304,
      "metadata": {
        "id": "8LTaOEmwJB3B"
      },
      "outputs": [],
      "source": [
        "df_reddit_demographics_normalized_labels['inputs']=df_reddit_demographics_normalized_labels.demographic+': '+df_reddit_demographics_normalized_labels.title"
      ]
    },
    {
      "cell_type": "code",
      "execution_count": 305,
      "metadata": {},
      "outputs": [],
      "source": [
        "newdf = df_reddit_demographics_normalized_labels.drop_duplicates(\n",
        "  subset = ['title', 'demographic'],\n",
        "  keep = 'last').reset_index(drop = True)"
      ]
    },
    {
      "attachments": {},
      "cell_type": "markdown",
      "metadata": {},
      "source": [
        "### Example"
      ]
    },
    {
      "cell_type": "code",
      "execution_count": 306,
      "metadata": {},
      "outputs": [],
      "source": [
        "tokenizer =AutoTokenizer.from_pretrained(\"roberta-large\", use_fast=True)"
      ]
    },
    {
      "cell_type": "code",
      "execution_count": 307,
      "metadata": {},
      "outputs": [
        {
          "name": "stdout",
          "output_type": "stream",
          "text": [
            "{'input_ids': [0, 31414, 6, 42, 65, 3645, 328, 2, 2, 2409, 42, 3645, 1411, 19, 24, 4, 2], 'attention_mask': [1, 1, 1, 1, 1, 1, 1, 1, 1, 1, 1, 1, 1, 1, 1, 1, 1]}\n"
          ]
        },
        {
          "data": {
            "text/plain": [
              "'<s>Hello, this one sentence!</s></s>And this sentence goes with it.</s>'"
            ]
          },
          "execution_count": 307,
          "metadata": {},
          "output_type": "execute_result"
        }
      ],
      "source": [
        "features = tokenizer(\"Hello, this one sentence!\", \"And this sentence goes with it.\",truncation=True)\n",
        "print(features)\n",
        "tokenizer.decode(features[\"input_ids\"])"
      ]
    },
    {
      "attachments": {},
      "cell_type": "markdown",
      "metadata": {
        "id": "UqBUq5dO24bm"
      },
      "source": [
        "### Reco"
      ]
    },
    {
      "cell_type": "code",
      "execution_count": 308,
      "metadata": {
        "id": "zTk0GNq54dyh"
      },
      "outputs": [],
      "source": [
        "try:\n",
        "    del df_reddit_demographics_normalized_labels['options']\n",
        "except:\n",
        "    pass\n",
        "df_reddit_demographics_normalized_labels['labels']=df_reddit_demographics_normalized_labels['label']\n",
        "del df_reddit_demographics_normalized_labels['label']\n",
        "dataset_reddit_demographics_plbrt=DatasetDict({k:datasets.Dataset.from_pandas(df_reddit_demographics_normalized_labels[df_reddit_demographics_normalized_labels['split']==k]) for k in {'train','test','validation'}})"
      ]
    },
    {
      "cell_type": "code",
      "execution_count": 309,
      "metadata": {},
      "outputs": [],
      "source": [
        "@dataclass\n",
        "class DataCollatorForPolls:\n",
        "    tokenizer: None=None\n",
        "    tokenizer_kwargs: None=None\n",
        "    def __call__(self, features):\n",
        "        label_name = \"label\" if \"label\" in features[0].keys() else \"labels\"\n",
        "        labels = [feature.pop(label_name) for feature in features]\n",
        "        batch_size = len(features)\n",
        "        num_choices = len(features[0][\"input_ids\"])\n",
        "        flattened_features = [\n",
        "            [{k: v[i] for k, v in feature.items()} for i in range(num_choices)]\n",
        "            for feature in features\n",
        "        ]\n",
        "        \n",
        "        flattened_features = sum(flattened_features, [])\n",
        "        pad_args=inspect.signature(self.tokenizer.pad).parameters.keys()\n",
        "        batch = self.tokenizer.pad(flattened_features, **fc.project(self.tokenizer_kwargs,pad_args))\n",
        "        batch = {k: v.view(batch_size, num_choices, -1) for k, v in batch.items()}\n",
        "        batch[\"labels\"] = torch.stack(labels).float() #### Allows one value per choice\n",
        "\n",
        "        return batch"
      ]
    },
    {
      "cell_type": "code",
      "execution_count": 310,
      "metadata": {
        "id": "maXUydH_4dyh"
      },
      "outputs": [],
      "source": [
        "reco = tn.MultipleChoice(\n",
        "    dataset_reddit_demographics_plbrt,\n",
        "    s1=\"inputs\",\n",
        "    y=\"labels\",\n",
        "    num_labels = num_choices,\n",
        "    choices=choices_names,\n",
        "    data_collator=DataCollatorForPolls()\n",
        ")\n",
        "\n",
        "tasks_reddit_demographics_plbrt = [reco]"
      ]
    },
    {
      "cell_type": "code",
      "execution_count": 311,
      "metadata": {
        "id": "cRCGt38kMl0s"
      },
      "outputs": [],
      "source": [
        "reco = tn.MultipleChoice(\n",
        "    dataset_reddit_demographics_plbrt,\n",
        "    s1=\"title\",\n",
        "    y=\"labels\",\n",
        "    num_labels = num_choices,\n",
        "    choices=choices_names,\n",
        "    data_collator=DataCollatorForPolls()\n",
        ")\n",
        "\n",
        "tasks_plbrt = [reco]"
      ]
    },
    {
      "cell_type": "code",
      "execution_count": 312,
      "metadata": {},
      "outputs": [],
      "source": [
        "def show_one(example):\n",
        "    print(f\"Context: {example['inputs']}\")\n",
        "    print(f\"  A - {example['inputs']} {example['choice_0']}\")\n",
        "    print(f\"  B - {example['inputs']} {example['choice_1']}\")"
      ]
    },
    {
      "cell_type": "code",
      "execution_count": 313,
      "metadata": {},
      "outputs": [
        {
          "name": "stdout",
          "output_type": "stream",
          "text": [
            "Context: democrat: Do You Believe Your Congressional District is Gerrymandered?\n",
            "  A - democrat: Do You Believe Your Congressional District is Gerrymandered? Yes \n",
            "  B - democrat: Do You Believe Your Congressional District is Gerrymandered? No \n"
          ]
        }
      ],
      "source": [
        "show_one(dataset_reddit_demographics_plbrt[\"train\"][0])"
      ]
    },
    {
      "attachments": {},
      "cell_type": "markdown",
      "metadata": {
        "id": "x7q8EDva4dyh"
      },
      "source": [
        "## WVMCQ7"
      ]
    },
    {
      "attachments": {},
      "cell_type": "markdown",
      "metadata": {},
      "source": [
        "### Filtering out non relevant questions"
      ]
    },
    {
      "attachments": {},
      "cell_type": "markdown",
      "metadata": {},
      "source": [
        "From the questionnaires we discard questions that do not serve to capture the opinion of people. Questions about family situation, sex, age etc of a demographic is not useable for our purpose."
      ]
    },
    {
      "cell_type": "code",
      "execution_count": 314,
      "metadata": {},
      "outputs": [],
      "source": [
        "dict_questions_discard = [\"Religious person\",\n",
        "\"Neighbours: Drug addicts\",\n",
        "\"Neighbours: People of a different race\",\n",
        "\"Neighbours: Immigrants/foreign workers\",\n",
        "\"Neighbours: Homosexuals\",\n",
        "\"Neighbours: Heavy drinkers\",\n",
        "\"Sex\",\n",
        "\"Year of birth\",\n",
        "\"Age\",\n",
        "\"Respondent immigrant\",\n",
        "\"Mother immigrant\",\n",
        "\"Father immigrant\",\n",
        "\"Country of birth: Respondent\",\n",
        "\"Country of birth: Mother of the respondent\",\n",
        "\"Country of birth: Father of the respondent\",\n",
        "\"Citizen of [country]\",\n",
        "\"Number of people in household\",\n",
        "\"Do you live with your parents\",\n",
        "\"Marital status\",\n",
        "\"How many children do you have\",\n",
        "\"Highest educational level attained - Respondent\",\n",
        "\"Education level (recoded)\",\n",
        "\"Highest educational level attained - Respondent´s Spouse\",\n",
        "\"Highest educational level attained - Respondent´s Spouse (Recoded)\",\n",
        "\"Highest educational level attained - Respondent´s Mother\",\n",
        "\"Highest educational level attained - Respondent´s Mother (Recoded)\",\n",
        "\"Highest educational level attained - Respondent´s Father\",\n",
        "\"Highest educational level attained - Respondent´s Father (Recoded)\",\n",
        "\"Employment status\",\n",
        "\"Pre-school child suffers with working mother\",\n",
        "\"Employment status - Responent´s Spouse\",\n",
        "\"Respondent - Occupational group\",\n",
        "\"Respondent´s Spouse - Occupational group\",\n",
        "\"Respondent´s Father - Occupational group (when respondent was 14 years old)\",\n",
        "\"Sector of employment\",\n",
        "\"Scale of incomes\",\n",
        "\"State of health (subjective)\",\n",
        "]"
      ]
    },
    {
      "cell_type": "code",
      "execution_count": 315,
      "metadata": {},
      "outputs": [],
      "source": [
        "def discard_questions(x):\n",
        "    if(x['input'] in dict_questions_discard):\n",
        "        pass\n",
        "    else:\n",
        "        return x"
      ]
    },
    {
      "cell_type": "code",
      "execution_count": 316,
      "metadata": {},
      "outputs": [
        {
          "data": {
            "application/vnd.jupyter.widget-view+json": {
              "model_id": "0fd0a5a246754d9e81829d7e04cfc078",
              "version_major": 2,
              "version_minor": 0
            },
            "text/plain": [
              "  0%|          | 0/110901 [00:00<?, ?it/s]"
            ]
          },
          "metadata": {},
          "output_type": "display_data"
        }
      ],
      "source": [
        "df_filtered = df.progress_apply(discard_questions,axis= 1)\n",
        "df_filtered = df_filtered.dropna()"
      ]
    },
    {
      "cell_type": "code",
      "execution_count": 317,
      "metadata": {
        "colab": {
          "referenced_widgets": [
            "e5deddc804a24949bd7d521a23e960d1"
          ]
        },
        "id": "eyhXmmb5nP88",
        "outputId": "2fec2270-f393-4922-8af8-6f4e79929962"
      },
      "outputs": [
        {
          "data": {
            "application/vnd.jupyter.widget-view+json": {
              "model_id": "2df775b935054cf389739571740aa4e2",
              "version_major": 2,
              "version_minor": 0
            },
            "text/plain": [
              "  0%|          | 0/103602 [00:00<?, ?it/s]"
            ]
          },
          "metadata": {},
          "output_type": "display_data"
        },
        {
          "data": {
            "text/html": [
              "<div>\n",
              "<style scoped>\n",
              "    .dataframe tbody tr th:only-of-type {\n",
              "        vertical-align: middle;\n",
              "    }\n",
              "\n",
              "    .dataframe tbody tr th {\n",
              "        vertical-align: top;\n",
              "    }\n",
              "\n",
              "    .dataframe thead th {\n",
              "        text-align: right;\n",
              "    }\n",
              "</style>\n",
              "<table border=\"1\" class=\"dataframe\">\n",
              "  <thead>\n",
              "    <tr style=\"text-align: right;\">\n",
              "      <th></th>\n",
              "      <th>year</th>\n",
              "      <th>demographic</th>\n",
              "      <th>input</th>\n",
              "      <th>demographic_topic</th>\n",
              "      <th>options</th>\n",
              "      <th>labels</th>\n",
              "    </tr>\n",
              "  </thead>\n",
              "  <tbody>\n",
              "    <tr>\n",
              "      <th>0</th>\n",
              "      <td>2017.0</td>\n",
              "      <td>-1</td>\n",
              "      <td>Aims of country: first choice</td>\n",
              "      <td>age</td>\n",
              "      <td>[A high level of economic growth, Making sure ...</td>\n",
              "      <td>[0.25, 0.25, 0.25, 0.25]</td>\n",
              "    </tr>\n",
              "    <tr>\n",
              "      <th>1</th>\n",
              "      <td>2017.0</td>\n",
              "      <td>-1</td>\n",
              "      <td>Aims of country: second choice</td>\n",
              "      <td>age</td>\n",
              "      <td>[Making sure this country has strong defense f...</td>\n",
              "      <td>[0.2, 0.8]</td>\n",
              "    </tr>\n",
              "    <tr>\n",
              "      <th>2</th>\n",
              "      <td>2017.0</td>\n",
              "      <td>-1</td>\n",
              "      <td>Aims of respondent: first choice</td>\n",
              "      <td>age</td>\n",
              "      <td>[maintaining order in the nation, Giving peopl...</td>\n",
              "      <td>[0.6000000000000001, 0.2, 0.2]</td>\n",
              "    </tr>\n",
              "    <tr>\n",
              "      <th>3</th>\n",
              "      <td>2017.0</td>\n",
              "      <td>-1</td>\n",
              "      <td>Aims of respondent: second choice</td>\n",
              "      <td>age</td>\n",
              "      <td>[Giving people more say in important governmen...</td>\n",
              "      <td>[0.5, 0.25, 0.25]</td>\n",
              "    </tr>\n",
              "    <tr>\n",
              "      <th>4</th>\n",
              "      <td>2017.0</td>\n",
              "      <td>-1</td>\n",
              "      <td>Believe in: God</td>\n",
              "      <td>age</td>\n",
              "      <td>[No, Yes]</td>\n",
              "      <td>[0.5, 0.5]</td>\n",
              "    </tr>\n",
              "    <tr>\n",
              "      <th>...</th>\n",
              "      <td>...</td>\n",
              "      <td>...</td>\n",
              "      <td>...</td>\n",
              "      <td>...</td>\n",
              "      <td>...</td>\n",
              "      <td>...</td>\n",
              "    </tr>\n",
              "    <tr>\n",
              "      <th>209537</th>\n",
              "      <td>2022.0</td>\n",
              "      <td>male</td>\n",
              "      <td>Vote in elections: local level</td>\n",
              "      <td>gender</td>\n",
              "      <td>[Always, Usually, Never, Not allowed to vote]</td>\n",
              "      <td>[0.5963541667000001, 0.24804687500000003, 0.14...</td>\n",
              "    </tr>\n",
              "    <tr>\n",
              "      <th>209538</th>\n",
              "      <td>2022.0</td>\n",
              "      <td>male</td>\n",
              "      <td>Which party would you vote for: first choice (...</td>\n",
              "      <td>gender</td>\n",
              "      <td>[No right to vote, Other, Independent Candidate]</td>\n",
              "      <td>[0.36250000000000004, 0.125, 0.5125000000000001]</td>\n",
              "    </tr>\n",
              "    <tr>\n",
              "      <th>209539</th>\n",
              "      <td>2022.0</td>\n",
              "      <td>male</td>\n",
              "      <td>Willingness to fight for country</td>\n",
              "      <td>gender</td>\n",
              "      <td>[no, yes]</td>\n",
              "      <td>[0.22697899840000002, 0.7730210016]</td>\n",
              "    </tr>\n",
              "    <tr>\n",
              "      <th>209540</th>\n",
              "      <td>2022.0</td>\n",
              "      <td>male</td>\n",
              "      <td>Work is a duty towards society</td>\n",
              "      <td>gender</td>\n",
              "      <td>[Strongly agree, Agree, Neither agree nor disa...</td>\n",
              "      <td>[0.3264913406, 0.3688261706, 0.1610006414, 0.1...</td>\n",
              "    </tr>\n",
              "    <tr>\n",
              "      <th>209541</th>\n",
              "      <td>2022.0</td>\n",
              "      <td>male</td>\n",
              "      <td>Work should come first even if it means less s...</td>\n",
              "      <td>gender</td>\n",
              "      <td>[Strongly agree, Agree, Neither agree nor disa...</td>\n",
              "      <td>[0.22796934870000002, 0.22860791830000002, 0.1...</td>\n",
              "    </tr>\n",
              "  </tbody>\n",
              "</table>\n",
              "<p>95453 rows × 6 columns</p>\n",
              "</div>"
            ],
            "text/plain": [
              "          year demographic                                              input  \\\n",
              "0       2017.0          -1                      Aims of country: first choice   \n",
              "1       2017.0          -1                     Aims of country: second choice   \n",
              "2       2017.0          -1                   Aims of respondent: first choice   \n",
              "3       2017.0          -1                  Aims of respondent: second choice   \n",
              "4       2017.0          -1                                    Believe in: God   \n",
              "...        ...         ...                                                ...   \n",
              "209537  2022.0        male                     Vote in elections: local level   \n",
              "209538  2022.0        male  Which party would you vote for: first choice (...   \n",
              "209539  2022.0        male                   Willingness to fight for country   \n",
              "209540  2022.0        male                     Work is a duty towards society   \n",
              "209541  2022.0        male  Work should come first even if it means less s...   \n",
              "\n",
              "       demographic_topic                                            options  \\\n",
              "0                    age  [A high level of economic growth, Making sure ...   \n",
              "1                    age  [Making sure this country has strong defense f...   \n",
              "2                    age  [maintaining order in the nation, Giving peopl...   \n",
              "3                    age  [Giving people more say in important governmen...   \n",
              "4                    age                                          [No, Yes]   \n",
              "...                  ...                                                ...   \n",
              "209537            gender      [Always, Usually, Never, Not allowed to vote]   \n",
              "209538            gender   [No right to vote, Other, Independent Candidate]   \n",
              "209539            gender                                          [no, yes]   \n",
              "209540            gender  [Strongly agree, Agree, Neither agree nor disa...   \n",
              "209541            gender  [Strongly agree, Agree, Neither agree nor disa...   \n",
              "\n",
              "                                                   labels  \n",
              "0                                [0.25, 0.25, 0.25, 0.25]  \n",
              "1                                              [0.2, 0.8]  \n",
              "2                          [0.6000000000000001, 0.2, 0.2]  \n",
              "3                                       [0.5, 0.25, 0.25]  \n",
              "4                                              [0.5, 0.5]  \n",
              "...                                                   ...  \n",
              "209537  [0.5963541667000001, 0.24804687500000003, 0.14...  \n",
              "209538   [0.36250000000000004, 0.125, 0.5125000000000001]  \n",
              "209539                [0.22697899840000002, 0.7730210016]  \n",
              "209540  [0.3264913406, 0.3688261706, 0.1610006414, 0.1...  \n",
              "209541  [0.22796934870000002, 0.22860791830000002, 0.1...  \n",
              "\n",
              "[95453 rows x 6 columns]"
            ]
          },
          "execution_count": 317,
          "metadata": {},
          "output_type": "execute_result"
        }
      ],
      "source": [
        "df_filtered = df_filtered.progress_apply(filter_data,axis=1)\n",
        "df_filtered = df_filtered.dropna()\n",
        "pd.DataFrame(df_filtered)"
      ]
    },
    {
      "cell_type": "code",
      "execution_count": 318,
      "metadata": {
        "id": "iAJNgaF4v1QJ"
      },
      "outputs": [],
      "source": [
        "df_filtered= pd.DataFrame([item for item in df_filtered.values if item[1].lower() not in [\"-5\",\"-4\",\"-3\",\"-2\",\"-1\",\"no answer\",\"don't know\",\"missing\",\"other\"] ],columns= [\"year\",\"demographic\",\"input\",\"demographic_category\",\"options\",\"labels\"])"
      ]
    },
    {
      "cell_type": "code",
      "execution_count": 319,
      "metadata": {},
      "outputs": [],
      "source": [
        "df_filtered = df_filtered[df_filtered[\"year\"]>2019]"
      ]
    },
    {
      "cell_type": "code",
      "execution_count": 320,
      "metadata": {},
      "outputs": [
        {
          "data": {
            "application/vnd.jupyter.widget-view+json": {
              "model_id": "aa0ee7ead5b44078a910453714567c95",
              "version_major": 2,
              "version_minor": 0
            },
            "text/plain": [
              "  0%|          | 0/39731 [00:00<?, ?it/s]"
            ]
          },
          "metadata": {},
          "output_type": "display_data"
        }
      ],
      "source": [
        "df_filtered['split']=df_filtered.input.progress_map(lambda x: get_split(x,0.80,0.20))"
      ]
    },
    {
      "attachments": {},
      "cell_type": "markdown",
      "metadata": {},
      "source": [
        "### Undersampling for dataset demographic attribute balancing on training set"
      ]
    },
    {
      "cell_type": "code",
      "execution_count": 321,
      "metadata": {},
      "outputs": [],
      "source": [
        "newdf = df_filtered.sample(frac=1).reset_index(drop=True).drop_duplicates(\n",
        "  subset = ['input', 'demographic'],\n",
        "  keep = 'last').reset_index(drop = True)"
      ]
    },
    {
      "cell_type": "code",
      "execution_count": 322,
      "metadata": {},
      "outputs": [],
      "source": [
        "df_filtered_undersampled = newdf.undersample(column=\"demographic\")"
      ]
    },
    {
      "cell_type": "code",
      "execution_count": 323,
      "metadata": {},
      "outputs": [
        {
          "data": {
            "application/vnd.jupyter.widget-view+json": {
              "model_id": "412e658e7bde4aa1b4fe959b625aa6c8",
              "version_major": 2,
              "version_minor": 0
            },
            "text/plain": [
              "  0%|          | 0/15228 [00:00<?, ?it/s]"
            ]
          },
          "metadata": {},
          "output_type": "display_data"
        },
        {
          "data": {
            "text/html": [
              "<div>\n",
              "<style scoped>\n",
              "    .dataframe tbody tr th:only-of-type {\n",
              "        vertical-align: middle;\n",
              "    }\n",
              "\n",
              "    .dataframe tbody tr th {\n",
              "        vertical-align: top;\n",
              "    }\n",
              "\n",
              "    .dataframe thead th {\n",
              "        text-align: right;\n",
              "    }\n",
              "</style>\n",
              "<table border=\"1\" class=\"dataframe\">\n",
              "  <thead>\n",
              "    <tr style=\"text-align: right;\">\n",
              "      <th></th>\n",
              "      <th>year</th>\n",
              "      <th>demographic</th>\n",
              "      <th>input</th>\n",
              "      <th>demographic_category</th>\n",
              "      <th>options</th>\n",
              "      <th>labels</th>\n",
              "      <th>split</th>\n",
              "    </tr>\n",
              "  </thead>\n",
              "  <tbody>\n",
              "    <tr>\n",
              "      <th>0</th>\n",
              "      <td>2020.0</td>\n",
              "      <td>16</td>\n",
              "      <td>Feeling of happiness</td>\n",
              "      <td>age</td>\n",
              "      <td>[very happy, not very happy, Rather happy]</td>\n",
              "      <td>[0.5714285714, 0.1071428571, 0.32142857140000003]</td>\n",
              "      <td>train</td>\n",
              "    </tr>\n",
              "    <tr>\n",
              "      <th>1</th>\n",
              "      <td>2020.0</td>\n",
              "      <td>18</td>\n",
              "      <td>Member:  Self-help group, mutual aid group</td>\n",
              "      <td>age</td>\n",
              "      <td>[not mentioned, mentioned]</td>\n",
              "      <td>[0.796460177, 0.203539823]</td>\n",
              "      <td>train</td>\n",
              "    </tr>\n",
              "    <tr>\n",
              "      <th>2</th>\n",
              "      <td>2020.0</td>\n",
              "      <td>61</td>\n",
              "      <td>Scale of incomes (WVS7)</td>\n",
              "      <td>age</td>\n",
              "      <td>[Highest group, Lowest group]</td>\n",
              "      <td>[0.35000000000000003, 0.65]</td>\n",
              "      <td>validation</td>\n",
              "    </tr>\n",
              "    <tr>\n",
              "      <th>3</th>\n",
              "      <td>2022.0</td>\n",
              "      <td>82</td>\n",
              "      <td>How close you feel: Continent; e.g. Europe, As...</td>\n",
              "      <td>age</td>\n",
              "      <td>[not close at all, very close, close, not very...</td>\n",
              "      <td>[0.0952380952, 0.1904761905, 0.460317460300000...</td>\n",
              "      <td>train</td>\n",
              "    </tr>\n",
              "    <tr>\n",
              "      <th>4</th>\n",
              "      <td>2021.0</td>\n",
              "      <td>39</td>\n",
              "      <td>Institution of occupation</td>\n",
              "      <td>age</td>\n",
              "      <td>[Private non-profit organization , Private bus...</td>\n",
              "      <td>[0.1074380165, 0.5785123967, 0.3140495868]</td>\n",
              "      <td>train</td>\n",
              "    </tr>\n",
              "    <tr>\n",
              "      <th>...</th>\n",
              "      <td>...</td>\n",
              "      <td>...</td>\n",
              "      <td>...</td>\n",
              "      <td>...</td>\n",
              "      <td>...</td>\n",
              "      <td>...</td>\n",
              "      <td>...</td>\n",
              "    </tr>\n",
              "    <tr>\n",
              "      <th>15223</th>\n",
              "      <td>2022.0</td>\n",
              "      <td>48</td>\n",
              "      <td>Employment status Respondent</td>\n",
              "      <td>age</td>\n",
              "      <td>[No, no paid employment:Housewife not otherwis...</td>\n",
              "      <td>[0.0322580645, 0.0322580645, 0.016129032300000...</td>\n",
              "      <td>validation</td>\n",
              "    </tr>\n",
              "    <tr>\n",
              "      <th>15224</th>\n",
              "      <td>2021.0</td>\n",
              "      <td>Armenia</td>\n",
              "      <td>Democraticness in own country</td>\n",
              "      <td>country</td>\n",
              "      <td>[Not at all democratic, Completely democratic]</td>\n",
              "      <td>[0.6115417743, 0.3884582257]</td>\n",
              "      <td>validation</td>\n",
              "    </tr>\n",
              "    <tr>\n",
              "      <th>15225</th>\n",
              "      <td>2022.0</td>\n",
              "      <td>26</td>\n",
              "      <td>Trust: Your neighborhood (B)</td>\n",
              "      <td>age</td>\n",
              "      <td>[do not trust at all, do not trust very much, ...</td>\n",
              "      <td>[0.027027027000000002, 0.24324324320000001, 0....</td>\n",
              "      <td>train</td>\n",
              "    </tr>\n",
              "    <tr>\n",
              "      <th>15226</th>\n",
              "      <td>2020.0</td>\n",
              "      <td>Myanmar</td>\n",
              "      <td>Important child qualities: good manners</td>\n",
              "      <td>country</td>\n",
              "      <td>[mentioned, not mentioned]</td>\n",
              "      <td>[0.655, 0.34500000000000003]</td>\n",
              "      <td>train</td>\n",
              "    </tr>\n",
              "    <tr>\n",
              "      <th>15227</th>\n",
              "      <td>2021.0</td>\n",
              "      <td>No, no paid employment:Unemployed</td>\n",
              "      <td>Private vs state ownership of business</td>\n",
              "      <td>employement</td>\n",
              "      <td>[Government ownership of business and industry...</td>\n",
              "      <td>[0.4348387097, 0.5651612903000001]</td>\n",
              "      <td>train</td>\n",
              "    </tr>\n",
              "  </tbody>\n",
              "</table>\n",
              "<p>15228 rows × 7 columns</p>\n",
              "</div>"
            ],
            "text/plain": [
              "         year                        demographic  \\\n",
              "0      2020.0                                 16   \n",
              "1      2020.0                                 18   \n",
              "2      2020.0                                 61   \n",
              "3      2022.0                                 82   \n",
              "4      2021.0                                 39   \n",
              "...       ...                                ...   \n",
              "15223  2022.0                                 48   \n",
              "15224  2021.0                            Armenia   \n",
              "15225  2022.0                                 26   \n",
              "15226  2020.0                            Myanmar   \n",
              "15227  2021.0  No, no paid employment:Unemployed   \n",
              "\n",
              "                                                   input demographic_category  \\\n",
              "0                                   Feeling of happiness                  age   \n",
              "1             Member:  Self-help group, mutual aid group                  age   \n",
              "2                                Scale of incomes (WVS7)                  age   \n",
              "3      How close you feel: Continent; e.g. Europe, As...                  age   \n",
              "4                              Institution of occupation                  age   \n",
              "...                                                  ...                  ...   \n",
              "15223                       Employment status Respondent                  age   \n",
              "15224                      Democraticness in own country              country   \n",
              "15225                       Trust: Your neighborhood (B)                  age   \n",
              "15226            Important child qualities: good manners              country   \n",
              "15227             Private vs state ownership of business          employement   \n",
              "\n",
              "                                                 options  \\\n",
              "0             [very happy, not very happy, Rather happy]   \n",
              "1                             [not mentioned, mentioned]   \n",
              "2                          [Highest group, Lowest group]   \n",
              "3      [not close at all, very close, close, not very...   \n",
              "4      [Private non-profit organization , Private bus...   \n",
              "...                                                  ...   \n",
              "15223  [No, no paid employment:Housewife not otherwis...   \n",
              "15224     [Not at all democratic, Completely democratic]   \n",
              "15225  [do not trust at all, do not trust very much, ...   \n",
              "15226                         [mentioned, not mentioned]   \n",
              "15227  [Government ownership of business and industry...   \n",
              "\n",
              "                                                  labels       split  \n",
              "0      [0.5714285714, 0.1071428571, 0.32142857140000003]       train  \n",
              "1                             [0.796460177, 0.203539823]       train  \n",
              "2                            [0.35000000000000003, 0.65]  validation  \n",
              "3      [0.0952380952, 0.1904761905, 0.460317460300000...       train  \n",
              "4             [0.1074380165, 0.5785123967, 0.3140495868]       train  \n",
              "...                                                  ...         ...  \n",
              "15223  [0.0322580645, 0.0322580645, 0.016129032300000...  validation  \n",
              "15224                       [0.6115417743, 0.3884582257]  validation  \n",
              "15225  [0.027027027000000002, 0.24324324320000001, 0....       train  \n",
              "15226                       [0.655, 0.34500000000000003]       train  \n",
              "15227                 [0.4348387097, 0.5651612903000001]       train  \n",
              "\n",
              "[15228 rows x 7 columns]"
            ]
          },
          "execution_count": 323,
          "metadata": {},
          "output_type": "execute_result"
        }
      ],
      "source": [
        "df_filtered_undersampled.progress_apply(shuffle_options,axis=1)"
      ]
    },
    {
      "attachments": {},
      "cell_type": "markdown",
      "metadata": {
        "id": "F5rOGf4TKhC0"
      },
      "source": [
        "### Add choice columns to dataset"
      ]
    },
    {
      "cell_type": "code",
      "execution_count": 324,
      "metadata": {
        "colab": {
          "base_uri": "https://localhost:8080/",
          "referenced_widgets": [
            "9723218a0cf4493a8064e2f7a9ac8413",
            "efcbc7c6c86c4ab9b989a55d8bc0665b",
            "6d23ae5837f1453ea257616de77ec341",
            "2f31d810bb0041eab85c4cea280611bd",
            "61557d9bf05847ef9b4f3b56962b31af",
            "23450e5b778d48c0ac13fc69f6596412",
            "f91038fae9ee450a87c617f50f892927",
            "0bbab79ea8d9410796beaa34ea3196db",
            "b9580d701dc4457c9ee83f8b793b216a",
            "b6e736343b2440489b1a6cea92ef77db",
            "039fd251894a49eb8c9dc27287150bfc",
            "98c7921040eb44f5b783bbd39ec51d30"
          ]
        },
        "id": "Err6mcmtKZO3",
        "outputId": "04eed026-d624-435e-ce6d-f3f4c5963212"
      },
      "outputs": [
        {
          "data": {
            "application/vnd.jupyter.widget-view+json": {
              "model_id": "83ba7a3d536a40d0b8be8f84d6828848",
              "version_major": 2,
              "version_minor": 0
            },
            "text/plain": [
              "  0%|          | 0/15228 [00:00<?, ?it/s]"
            ]
          },
          "metadata": {},
          "output_type": "display_data"
        }
      ],
      "source": [
        "df=df_filtered_undersampled.progress_apply(choices,axis=1)"
      ]
    },
    {
      "cell_type": "code",
      "execution_count": 325,
      "metadata": {
        "colab": {
          "base_uri": "https://localhost:8080/"
        },
        "id": "xwX23ZMCKc7c",
        "outputId": "6c1485d8-9338-419c-c3a1-5e0a693b70bc"
      },
      "outputs": [
        {
          "data": {
            "text/plain": [
              "15228"
            ]
          },
          "execution_count": 325,
          "metadata": {},
          "output_type": "execute_result"
        }
      ],
      "source": [
        "if mode=='binary':\n",
        "    df=df[df.labels<num_choices]\n",
        "else:\n",
        "    df=df[df.labels.map(len)==num_choices]\n",
        "len(df)"
      ]
    },
    {
      "attachments": {},
      "cell_type": "markdown",
      "metadata": {},
      "source": [
        "### Apply Templates"
      ]
    },
    {
      "attachments": {},
      "cell_type": "markdown",
      "metadata": {
        "id": "gaxGiV_SKPju"
      },
      "source": [
        "#### Zeroshot Setting for Masked Language Task\n"
      ]
    },
    {
      "cell_type": "code",
      "execution_count": 405,
      "metadata": {},
      "outputs": [
        {
          "data": {
            "text/html": [
              "<div>\n",
              "<style scoped>\n",
              "    .dataframe tbody tr th:only-of-type {\n",
              "        vertical-align: middle;\n",
              "    }\n",
              "\n",
              "    .dataframe tbody tr th {\n",
              "        vertical-align: top;\n",
              "    }\n",
              "\n",
              "    .dataframe thead th {\n",
              "        text-align: right;\n",
              "    }\n",
              "</style>\n",
              "<table border=\"1\" class=\"dataframe\">\n",
              "  <thead>\n",
              "    <tr style=\"text-align: right;\">\n",
              "      <th></th>\n",
              "      <th>year</th>\n",
              "      <th>demographic</th>\n",
              "      <th>input</th>\n",
              "      <th>demographic_category</th>\n",
              "      <th>options</th>\n",
              "      <th>labels</th>\n",
              "      <th>split</th>\n",
              "    </tr>\n",
              "  </thead>\n",
              "  <tbody>\n",
              "    <tr>\n",
              "      <th>0</th>\n",
              "      <td>2020.0</td>\n",
              "      <td>16</td>\n",
              "      <td>Feeling of happiness</td>\n",
              "      <td>age</td>\n",
              "      <td>[very happy, Rather happy, not very happy]</td>\n",
              "      <td>[0.5714285714, 0.32142857140000003, 0.1071428571]</td>\n",
              "      <td>train</td>\n",
              "    </tr>\n",
              "    <tr>\n",
              "      <th>1</th>\n",
              "      <td>2020.0</td>\n",
              "      <td>18</td>\n",
              "      <td>Member:  Self-help group, mutual aid group</td>\n",
              "      <td>age</td>\n",
              "      <td>[not mentioned, mentioned]</td>\n",
              "      <td>[0.796460177, 0.203539823]</td>\n",
              "      <td>train</td>\n",
              "    </tr>\n",
              "    <tr>\n",
              "      <th>2</th>\n",
              "      <td>2020.0</td>\n",
              "      <td>61</td>\n",
              "      <td>Scale of incomes (WVS7)</td>\n",
              "      <td>age</td>\n",
              "      <td>[Highest group, Lowest group]</td>\n",
              "      <td>[0.35000000000000003, 0.65]</td>\n",
              "      <td>validation</td>\n",
              "    </tr>\n",
              "    <tr>\n",
              "      <th>3</th>\n",
              "      <td>2022.0</td>\n",
              "      <td>82</td>\n",
              "      <td>How close you feel: Continent; e.g. Europe, As...</td>\n",
              "      <td>age</td>\n",
              "      <td>[very close, close, not very close, not close ...</td>\n",
              "      <td>[0.1904761905, 0.46031746030000004, 0.25396825...</td>\n",
              "      <td>train</td>\n",
              "    </tr>\n",
              "    <tr>\n",
              "      <th>4</th>\n",
              "      <td>2021.0</td>\n",
              "      <td>39</td>\n",
              "      <td>Institution of occupation</td>\n",
              "      <td>age</td>\n",
              "      <td>[Government or public institution , Private bu...</td>\n",
              "      <td>[0.3140495868, 0.5785123967, 0.1074380165]</td>\n",
              "      <td>train</td>\n",
              "    </tr>\n",
              "    <tr>\n",
              "      <th>...</th>\n",
              "      <td>...</td>\n",
              "      <td>...</td>\n",
              "      <td>...</td>\n",
              "      <td>...</td>\n",
              "      <td>...</td>\n",
              "      <td>...</td>\n",
              "      <td>...</td>\n",
              "    </tr>\n",
              "    <tr>\n",
              "      <th>15223</th>\n",
              "      <td>2022.0</td>\n",
              "      <td>48</td>\n",
              "      <td>Employment status Respondent</td>\n",
              "      <td>age</td>\n",
              "      <td>[Yes, has paid employment: Full time employee,...</td>\n",
              "      <td>[0.6451612903, 0.25806451610000003, 0.03225806...</td>\n",
              "      <td>validation</td>\n",
              "    </tr>\n",
              "    <tr>\n",
              "      <th>15224</th>\n",
              "      <td>2021.0</td>\n",
              "      <td>Armenia</td>\n",
              "      <td>Democraticness in own country</td>\n",
              "      <td>country</td>\n",
              "      <td>[Completely democratic, Not at all democratic]</td>\n",
              "      <td>[0.3884582257, 0.6115417743]</td>\n",
              "      <td>validation</td>\n",
              "    </tr>\n",
              "    <tr>\n",
              "      <th>15225</th>\n",
              "      <td>2022.0</td>\n",
              "      <td>26</td>\n",
              "      <td>Trust: Your neighborhood (B)</td>\n",
              "      <td>age</td>\n",
              "      <td>[trust completely, trust somewhat, do not trus...</td>\n",
              "      <td>[0.1351351351, 0.5945945946, 0.243243243200000...</td>\n",
              "      <td>train</td>\n",
              "    </tr>\n",
              "    <tr>\n",
              "      <th>15226</th>\n",
              "      <td>2020.0</td>\n",
              "      <td>Myanmar</td>\n",
              "      <td>Important child qualities: good manners</td>\n",
              "      <td>country</td>\n",
              "      <td>[not mentioned, mentioned]</td>\n",
              "      <td>[0.34500000000000003, 0.655]</td>\n",
              "      <td>train</td>\n",
              "    </tr>\n",
              "    <tr>\n",
              "      <th>15227</th>\n",
              "      <td>2021.0</td>\n",
              "      <td>No, no paid employment:Unemployed</td>\n",
              "      <td>Private vs state ownership of business</td>\n",
              "      <td>employement</td>\n",
              "      <td>[private owneship of buseness andindustry shou...</td>\n",
              "      <td>[0.5651612903000001, 0.4348387097]</td>\n",
              "      <td>train</td>\n",
              "    </tr>\n",
              "  </tbody>\n",
              "</table>\n",
              "<p>15228 rows × 7 columns</p>\n",
              "</div>"
            ],
            "text/plain": [
              "         year                        demographic  \\\n",
              "0      2020.0                                 16   \n",
              "1      2020.0                                 18   \n",
              "2      2020.0                                 61   \n",
              "3      2022.0                                 82   \n",
              "4      2021.0                                 39   \n",
              "...       ...                                ...   \n",
              "15223  2022.0                                 48   \n",
              "15224  2021.0                            Armenia   \n",
              "15225  2022.0                                 26   \n",
              "15226  2020.0                            Myanmar   \n",
              "15227  2021.0  No, no paid employment:Unemployed   \n",
              "\n",
              "                                                   input demographic_category  \\\n",
              "0                                   Feeling of happiness                  age   \n",
              "1             Member:  Self-help group, mutual aid group                  age   \n",
              "2                                Scale of incomes (WVS7)                  age   \n",
              "3      How close you feel: Continent; e.g. Europe, As...                  age   \n",
              "4                              Institution of occupation                  age   \n",
              "...                                                  ...                  ...   \n",
              "15223                       Employment status Respondent                  age   \n",
              "15224                      Democraticness in own country              country   \n",
              "15225                       Trust: Your neighborhood (B)                  age   \n",
              "15226            Important child qualities: good manners              country   \n",
              "15227             Private vs state ownership of business          employement   \n",
              "\n",
              "                                                 options  \\\n",
              "0             [very happy, Rather happy, not very happy]   \n",
              "1                             [not mentioned, mentioned]   \n",
              "2                          [Highest group, Lowest group]   \n",
              "3      [very close, close, not very close, not close ...   \n",
              "4      [Government or public institution , Private bu...   \n",
              "...                                                  ...   \n",
              "15223  [Yes, has paid employment: Full time employee,...   \n",
              "15224     [Completely democratic, Not at all democratic]   \n",
              "15225  [trust completely, trust somewhat, do not trus...   \n",
              "15226                         [not mentioned, mentioned]   \n",
              "15227  [private owneship of buseness andindustry shou...   \n",
              "\n",
              "                                                  labels       split  \n",
              "0      [0.5714285714, 0.32142857140000003, 0.1071428571]       train  \n",
              "1                             [0.796460177, 0.203539823]       train  \n",
              "2                            [0.35000000000000003, 0.65]  validation  \n",
              "3      [0.1904761905, 0.46031746030000004, 0.25396825...       train  \n",
              "4             [0.3140495868, 0.5785123967, 0.1074380165]       train  \n",
              "...                                                  ...         ...  \n",
              "15223  [0.6451612903, 0.25806451610000003, 0.03225806...  validation  \n",
              "15224                       [0.3884582257, 0.6115417743]  validation  \n",
              "15225  [0.1351351351, 0.5945945946, 0.243243243200000...       train  \n",
              "15226                       [0.34500000000000003, 0.655]       train  \n",
              "15227                 [0.5651612903000001, 0.4348387097]       train  \n",
              "\n",
              "[15228 rows x 7 columns]"
            ]
          },
          "execution_count": 405,
          "metadata": {},
          "output_type": "execute_result"
        }
      ],
      "source": [
        "df_filtered_undersampled"
      ]
    },
    {
      "cell_type": "code",
      "execution_count": 326,
      "metadata": {},
      "outputs": [],
      "source": [
        "year_index = 0\n",
        "demographic_index= 1\n",
        "input_index = 2\n",
        "category_index = 3\n",
        "options_index = 4\n",
        "labels_index = 5\n",
        "split_index = 6\n",
        "\n",
        "\n",
        "dataset_wvs_sentences = []\n",
        "for input in df_filtered_undersampled.values:\n",
        "    year = input[year_index]\n",
        "    demographic = input[demographic_index]\n",
        "    question_input = str(input[input_index])\n",
        "    category = input[category_index]\n",
        "    options = input[options_index]\n",
        "    labels = input[labels_index]\n",
        "    split = input[split_index]\n",
        "\n",
        "    for i in range(len(options)):\n",
        "        label = labels[i]\n",
        "        choice = options[i]\n",
        "        sentence = f\"In {int(year)}, <mask> percent of {demographic} voted '{choice}' on the subject '{question_input}'\".lower()\n",
        "        dataset_wvs_sentences.append({\"year\":year,\"demographic\":demographic,\"subject\":question_input,\"demographic_category\":category,\"choice\":choice,\"input\": sentence, \"y\": label,\"split\":split})\n",
        "dataset_wvs_sentences = pd.DataFrame(dataset_wvs_sentences)"
      ]
    },
    {
      "cell_type": "code",
      "execution_count": 422,
      "metadata": {},
      "outputs": [
        {
          "data": {
            "text/html": [
              "<div>\n",
              "<style scoped>\n",
              "    .dataframe tbody tr th:only-of-type {\n",
              "        vertical-align: middle;\n",
              "    }\n",
              "\n",
              "    .dataframe tbody tr th {\n",
              "        vertical-align: top;\n",
              "    }\n",
              "\n",
              "    .dataframe thead th {\n",
              "        text-align: right;\n",
              "    }\n",
              "</style>\n",
              "<table border=\"1\" class=\"dataframe\">\n",
              "  <thead>\n",
              "    <tr style=\"text-align: right;\">\n",
              "      <th></th>\n",
              "      <th>year</th>\n",
              "      <th>demographic</th>\n",
              "      <th>input</th>\n",
              "      <th>demographic_category</th>\n",
              "      <th>labels</th>\n",
              "      <th>split</th>\n",
              "      <th>choice_0</th>\n",
              "      <th>choice_1</th>\n",
              "      <th>choice_2</th>\n",
              "      <th>choice_3</th>\n",
              "      <th>choice_4</th>\n",
              "      <th>choice_5</th>\n",
              "      <th>question</th>\n",
              "    </tr>\n",
              "  </thead>\n",
              "  <tbody>\n",
              "    <tr>\n",
              "      <th>2</th>\n",
              "      <td>2020.0</td>\n",
              "      <td>61</td>\n",
              "      <td>Scale of incomes (WVS7)</td>\n",
              "      <td>age</td>\n",
              "      <td>[0.35000000000000003, 0.65, -1.0, -1.0, -1.0, ...</td>\n",
              "      <td>validation</td>\n",
              "      <td>Highest group</td>\n",
              "      <td>Lowest group</td>\n",
              "      <td></td>\n",
              "      <td></td>\n",
              "      <td></td>\n",
              "      <td></td>\n",
              "      <td>61 years old: which of these options would you...</td>\n",
              "    </tr>\n",
              "    <tr>\n",
              "      <th>17</th>\n",
              "      <td>2021.0</td>\n",
              "      <td>32</td>\n",
              "      <td>Democraticness in own country</td>\n",
              "      <td>age</td>\n",
              "      <td>[0.5730337079, 0.42696629210000003, -1.0, -1.0...</td>\n",
              "      <td>validation</td>\n",
              "      <td>Not at all democratic</td>\n",
              "      <td>Completely democratic</td>\n",
              "      <td></td>\n",
              "      <td></td>\n",
              "      <td></td>\n",
              "      <td></td>\n",
              "      <td>32 years old: which of these options would you...</td>\n",
              "    </tr>\n",
              "    <tr>\n",
              "      <th>23</th>\n",
              "      <td>2021.0</td>\n",
              "      <td>Kenya</td>\n",
              "      <td>Vote in elections: local level</td>\n",
              "      <td>country</td>\n",
              "      <td>[0.5538707103, 0.2705506784, 0.166001596200000...</td>\n",
              "      <td>validation</td>\n",
              "      <td>Always</td>\n",
              "      <td>Usually</td>\n",
              "      <td>Never</td>\n",
              "      <td>Not allowed to vote</td>\n",
              "      <td></td>\n",
              "      <td></td>\n",
              "      <td>kenya: which of these options would you take i...</td>\n",
              "    </tr>\n",
              "    <tr>\n",
              "      <th>25</th>\n",
              "      <td>2020.0</td>\n",
              "      <td>53</td>\n",
              "      <td>Believe in: life after death</td>\n",
              "      <td>age</td>\n",
              "      <td>[0.36571428570000003, 0.6342857143, -1.0, -1.0...</td>\n",
              "      <td>validation</td>\n",
              "      <td>No</td>\n",
              "      <td>Yes</td>\n",
              "      <td></td>\n",
              "      <td></td>\n",
              "      <td></td>\n",
              "      <td></td>\n",
              "      <td>53 years old: which of these options would you...</td>\n",
              "    </tr>\n",
              "    <tr>\n",
              "      <th>29</th>\n",
              "      <td>2022.0</td>\n",
              "      <td>40</td>\n",
              "      <td>Competition good or harmful</td>\n",
              "      <td>age</td>\n",
              "      <td>[0.7592592593, 0.2407407407, -1.0, -1.0, -1.0,...</td>\n",
              "      <td>validation</td>\n",
              "      <td>Competition is good</td>\n",
              "      <td>Competition is harmful</td>\n",
              "      <td></td>\n",
              "      <td></td>\n",
              "      <td></td>\n",
              "      <td></td>\n",
              "      <td>40 years old: which of these options would you...</td>\n",
              "    </tr>\n",
              "    <tr>\n",
              "      <th>...</th>\n",
              "      <td>...</td>\n",
              "      <td>...</td>\n",
              "      <td>...</td>\n",
              "      <td>...</td>\n",
              "      <td>...</td>\n",
              "      <td>...</td>\n",
              "      <td>...</td>\n",
              "      <td>...</td>\n",
              "      <td>...</td>\n",
              "      <td>...</td>\n",
              "      <td>...</td>\n",
              "      <td>...</td>\n",
              "      <td>...</td>\n",
              "    </tr>\n",
              "    <tr>\n",
              "      <th>15206</th>\n",
              "      <td>2022.0</td>\n",
              "      <td>No, no paid employment:Unemployed</td>\n",
              "      <td>How important is God in your life</td>\n",
              "      <td>employement</td>\n",
              "      <td>[0.35338345860000003, 0.6466165414, -1.0, -1.0...</td>\n",
              "      <td>validation</td>\n",
              "      <td>not at all important</td>\n",
              "      <td>very important</td>\n",
              "      <td></td>\n",
              "      <td></td>\n",
              "      <td></td>\n",
              "      <td></td>\n",
              "      <td>no, no paid employment:unemployed: how importa...</td>\n",
              "    </tr>\n",
              "    <tr>\n",
              "      <th>15210</th>\n",
              "      <td>2020.0</td>\n",
              "      <td>Guatemala</td>\n",
              "      <td>Member: Belong to conservation, the environmen...</td>\n",
              "      <td>country</td>\n",
              "      <td>[0.7365771812, 0.2634228188, -1.0, -1.0, -1.0,...</td>\n",
              "      <td>validation</td>\n",
              "      <td>not mentioned</td>\n",
              "      <td>mentioned</td>\n",
              "      <td></td>\n",
              "      <td></td>\n",
              "      <td></td>\n",
              "      <td></td>\n",
              "      <td>guatemala: which of these options would you ta...</td>\n",
              "    </tr>\n",
              "    <tr>\n",
              "      <th>15216</th>\n",
              "      <td>2020.0</td>\n",
              "      <td>21</td>\n",
              "      <td>Justifiable: Political violence</td>\n",
              "      <td>age</td>\n",
              "      <td>[0.9043659044000001, 0.09563409560000001, -1.0...</td>\n",
              "      <td>validation</td>\n",
              "      <td>Never justifiable</td>\n",
              "      <td>Always justifiable</td>\n",
              "      <td></td>\n",
              "      <td></td>\n",
              "      <td></td>\n",
              "      <td></td>\n",
              "      <td>21 years old: which of these options would you...</td>\n",
              "    </tr>\n",
              "    <tr>\n",
              "      <th>15223</th>\n",
              "      <td>2022.0</td>\n",
              "      <td>48</td>\n",
              "      <td>Employment status Respondent</td>\n",
              "      <td>age</td>\n",
              "      <td>[0.6451612903, 0.25806451610000003, 0.03225806...</td>\n",
              "      <td>validation</td>\n",
              "      <td>Yes, has paid employment: Full time employee</td>\n",
              "      <td>Yes, has paid employment: Part time employee</td>\n",
              "      <td>Yes, has paid employment: Self employed</td>\n",
              "      <td>No, no paid employment:Housewife not otherwise...</td>\n",
              "      <td>No, no paid employment:Student</td>\n",
              "      <td>No, no paid employment:Unemployed</td>\n",
              "      <td>48 years old: which of these options would you...</td>\n",
              "    </tr>\n",
              "    <tr>\n",
              "      <th>15224</th>\n",
              "      <td>2021.0</td>\n",
              "      <td>Armenia</td>\n",
              "      <td>Democraticness in own country</td>\n",
              "      <td>country</td>\n",
              "      <td>[0.3884582257, 0.6115417743, -1.0, -1.0, -1.0,...</td>\n",
              "      <td>validation</td>\n",
              "      <td>Completely democratic</td>\n",
              "      <td>Not at all democratic</td>\n",
              "      <td></td>\n",
              "      <td></td>\n",
              "      <td></td>\n",
              "      <td></td>\n",
              "      <td>armenia: which of these options would you take...</td>\n",
              "    </tr>\n",
              "  </tbody>\n",
              "</table>\n",
              "<p>3146 rows × 13 columns</p>\n",
              "</div>"
            ],
            "text/plain": [
              "         year                        demographic  \\\n",
              "2      2020.0                                 61   \n",
              "17     2021.0                                 32   \n",
              "23     2021.0                              Kenya   \n",
              "25     2020.0                                 53   \n",
              "29     2022.0                                 40   \n",
              "...       ...                                ...   \n",
              "15206  2022.0  No, no paid employment:Unemployed   \n",
              "15210  2020.0                          Guatemala   \n",
              "15216  2020.0                                 21   \n",
              "15223  2022.0                                 48   \n",
              "15224  2021.0                            Armenia   \n",
              "\n",
              "                                                   input demographic_category  \\\n",
              "2                                Scale of incomes (WVS7)                  age   \n",
              "17                         Democraticness in own country                  age   \n",
              "23                        Vote in elections: local level              country   \n",
              "25                          Believe in: life after death                  age   \n",
              "29                           Competition good or harmful                  age   \n",
              "...                                                  ...                  ...   \n",
              "15206                  How important is God in your life          employement   \n",
              "15210  Member: Belong to conservation, the environmen...              country   \n",
              "15216                    Justifiable: Political violence                  age   \n",
              "15223                       Employment status Respondent                  age   \n",
              "15224                      Democraticness in own country              country   \n",
              "\n",
              "                                                  labels       split  \\\n",
              "2      [0.35000000000000003, 0.65, -1.0, -1.0, -1.0, ...  validation   \n",
              "17     [0.5730337079, 0.42696629210000003, -1.0, -1.0...  validation   \n",
              "23     [0.5538707103, 0.2705506784, 0.166001596200000...  validation   \n",
              "25     [0.36571428570000003, 0.6342857143, -1.0, -1.0...  validation   \n",
              "29     [0.7592592593, 0.2407407407, -1.0, -1.0, -1.0,...  validation   \n",
              "...                                                  ...         ...   \n",
              "15206  [0.35338345860000003, 0.6466165414, -1.0, -1.0...  validation   \n",
              "15210  [0.7365771812, 0.2634228188, -1.0, -1.0, -1.0,...  validation   \n",
              "15216  [0.9043659044000001, 0.09563409560000001, -1.0...  validation   \n",
              "15223  [0.6451612903, 0.25806451610000003, 0.03225806...  validation   \n",
              "15224  [0.3884582257, 0.6115417743, -1.0, -1.0, -1.0,...  validation   \n",
              "\n",
              "                                           choice_0  \\\n",
              "2                                     Highest group   \n",
              "17                            Not at all democratic   \n",
              "23                                           Always   \n",
              "25                                               No   \n",
              "29                              Competition is good   \n",
              "...                                             ...   \n",
              "15206                          not at all important   \n",
              "15210                                 not mentioned   \n",
              "15216                             Never justifiable   \n",
              "15223  Yes, has paid employment: Full time employee   \n",
              "15224                         Completely democratic   \n",
              "\n",
              "                                           choice_1  \\\n",
              "2                                      Lowest group   \n",
              "17                            Completely democratic   \n",
              "23                                          Usually   \n",
              "25                                              Yes   \n",
              "29                           Competition is harmful   \n",
              "...                                             ...   \n",
              "15206                                very important   \n",
              "15210                                     mentioned   \n",
              "15216                            Always justifiable   \n",
              "15223  Yes, has paid employment: Part time employee   \n",
              "15224                         Not at all democratic   \n",
              "\n",
              "                                       choice_2  \\\n",
              "2                                                 \n",
              "17                                                \n",
              "23                                        Never   \n",
              "25                                                \n",
              "29                                                \n",
              "...                                         ...   \n",
              "15206                                             \n",
              "15210                                             \n",
              "15216                                             \n",
              "15223  Yes, has paid employment: Self employed    \n",
              "15224                                             \n",
              "\n",
              "                                                choice_3  \\\n",
              "2                                                          \n",
              "17                                                         \n",
              "23                                   Not allowed to vote   \n",
              "25                                                         \n",
              "29                                                         \n",
              "...                                                  ...   \n",
              "15206                                                      \n",
              "15210                                                      \n",
              "15216                                                      \n",
              "15223  No, no paid employment:Housewife not otherwise...   \n",
              "15224                                                      \n",
              "\n",
              "                              choice_4                           choice_5  \\\n",
              "2                                                                           \n",
              "17                                                                          \n",
              "23                                                                          \n",
              "25                                                                          \n",
              "29                                                                          \n",
              "...                                ...                                ...   \n",
              "15206                                                                       \n",
              "15210                                                                       \n",
              "15216                                                                       \n",
              "15223  No, no paid employment:Student   No, no paid employment:Unemployed   \n",
              "15224                                                                       \n",
              "\n",
              "                                                question  \n",
              "2      61 years old: which of these options would you...  \n",
              "17     32 years old: which of these options would you...  \n",
              "23     kenya: which of these options would you take i...  \n",
              "25     53 years old: which of these options would you...  \n",
              "29     40 years old: which of these options would you...  \n",
              "...                                                  ...  \n",
              "15206  no, no paid employment:unemployed: how importa...  \n",
              "15210  guatemala: which of these options would you ta...  \n",
              "15216  21 years old: which of these options would you...  \n",
              "15223  48 years old: which of these options would you...  \n",
              "15224  armenia: which of these options would you take...  \n",
              "\n",
              "[3146 rows x 13 columns]"
            ]
          },
          "execution_count": 422,
          "metadata": {},
          "output_type": "execute_result"
        }
      ],
      "source": [
        "df[df[\"split\"] == \"validation\"]"
      ]
    },
    {
      "cell_type": "code",
      "execution_count": 327,
      "metadata": {},
      "outputs": [],
      "source": [
        "dataset_wvs_sentences['labels']=dataset_wvs_sentences['y']\n",
        "try:\n",
        "    del dataset_wvs_sentences['options']\n",
        "except:\n",
        "    pass\n",
        "dataset_wvs_zeroshot=DatasetDict({k:datasets.Dataset.from_pandas(dataset_wvs_sentences[dataset_wvs_sentences['split']==k]) for k in {'train','test','validation'}})"
      ]
    },
    {
      "attachments": {},
      "cell_type": "markdown",
      "metadata": {},
      "source": [
        "### Zeroshot and fine-tuning setting for MCQ task"
      ]
    },
    {
      "cell_type": "code",
      "execution_count": 328,
      "metadata": {
        "colab": {
          "referenced_widgets": [
            "0d6deae0173649f487d21dc59b245f6a"
          ]
        },
        "id": "Akd0VkxNKxnK",
        "outputId": "399a0014-3bcb-4302-aa8c-8785c23bd9eb"
      },
      "outputs": [
        {
          "data": {
            "application/vnd.jupyter.widget-view+json": {
              "model_id": "11f12db4928e4f9494842549dfe009fd",
              "version_major": 2,
              "version_minor": 0
            },
            "text/plain": [
              "  0%|          | 0/15228 [00:00<?, ?it/s]"
            ]
          },
          "metadata": {},
          "output_type": "display_data"
        }
      ],
      "source": [
        "df = df.progress_apply(apply_question_template,axis=1)"
      ]
    },
    {
      "attachments": {},
      "cell_type": "markdown",
      "metadata": {
        "id": "DILV-seDKrp_"
      },
      "source": [
        "### Training, Validation and Test Sets"
      ]
    },
    {
      "cell_type": "code",
      "execution_count": 331,
      "metadata": {
        "colab": {
          "base_uri": "https://localhost:8080/",
          "referenced_widgets": [
            "015042b733e145bb9908288257b8e136",
            "8e0f83e8343f4fa2af1f97481e1e0970",
            "d83252c162e949a8a916ce003baf08fa",
            "9ca06a02507e4c1fb602121f111aa26a",
            "999e59a83bf546c082dfb67663518506",
            "2a18c2ab84544761a13b0ca3d09a21c8",
            "02441eb7ae1146378a27c07745337b30",
            "319a3a215ea54a25b3d8764b5b2d9312",
            "0f2e03a9624f45eb8c8562185c5308af",
            "9f58aeb5c69d458b8c419e542d992bfd",
            "2def6489b95347b3b810300a1ccb7a45",
            "a08d1c9c5e4c4e16b59c0151985e64d8"
          ]
        },
        "id": "Y5nDJdzOKqZc",
        "outputId": "dce00251-a582-4197-fac8-dedb045ee69b"
      },
      "outputs": [
        {
          "data": {
            "application/vnd.jupyter.widget-view+json": {
              "model_id": "9be514f1083a42a1b152eeecf4c224a2",
              "version_major": 2,
              "version_minor": 0
            },
            "text/plain": [
              "  0%|          | 0/15228 [00:00<?, ?it/s]"
            ]
          },
          "metadata": {},
          "output_type": "display_data"
        },
        {
          "data": {
            "text/html": [
              "<div>\n",
              "<style scoped>\n",
              "    .dataframe tbody tr th:only-of-type {\n",
              "        vertical-align: middle;\n",
              "    }\n",
              "\n",
              "    .dataframe tbody tr th {\n",
              "        vertical-align: top;\n",
              "    }\n",
              "\n",
              "    .dataframe thead th {\n",
              "        text-align: right;\n",
              "    }\n",
              "</style>\n",
              "<table border=\"1\" class=\"dataframe\">\n",
              "  <thead>\n",
              "    <tr style=\"text-align: right;\">\n",
              "      <th></th>\n",
              "      <th>year</th>\n",
              "      <th>demographic</th>\n",
              "      <th>input</th>\n",
              "      <th>demographic_category</th>\n",
              "      <th>options</th>\n",
              "      <th>labels</th>\n",
              "      <th>split</th>\n",
              "      <th>choice_0</th>\n",
              "      <th>choice_1</th>\n",
              "      <th>choice_2</th>\n",
              "      <th>choice_3</th>\n",
              "      <th>choice_4</th>\n",
              "      <th>choice_5</th>\n",
              "      <th>question</th>\n",
              "    </tr>\n",
              "  </thead>\n",
              "  <tbody>\n",
              "  </tbody>\n",
              "</table>\n",
              "</div>"
            ],
            "text/plain": [
              "Empty DataFrame\n",
              "Columns: [year, demographic, input, demographic_category, options, labels, split, choice_0, choice_1, choice_2, choice_3, choice_4, choice_5, question]\n",
              "Index: []"
            ]
          },
          "execution_count": 331,
          "metadata": {},
          "output_type": "execute_result"
        }
      ],
      "source": [
        "df[df.labels.progress_map(lambda x: any(np.isnan(a) for a in x))]"
      ]
    },
    {
      "cell_type": "code",
      "execution_count": 338,
      "metadata": {
        "id": "6aY2XuwhKsOH"
      },
      "outputs": [],
      "source": [
        "try:\n",
        "    del df['options']\n",
        "except:\n",
        "    pass\n",
        "dataset=DatasetDict({k:datasets.Dataset.from_pandas(df[df['split']==k]) for k in {'train','test','validation'}})"
      ]
    },
    {
      "cell_type": "code",
      "execution_count": 399,
      "metadata": {},
      "outputs": [
        {
          "data": {
            "text/plain": [
              "Counter({'Scale of incomes (WVS7)': 204,\n",
              "         'Democraticness in own country': 204,\n",
              "         'Vote in elections: local level': 373,\n",
              "         'Believe in: life after death': 204,\n",
              "         'Competition good or harmful': 204,\n",
              "         'Jobs scarce: Men should have more right to a job than women\\n(5-point scale)': 528,\n",
              "         'Believe in: heaven': 208,\n",
              "         'Member: Belong to education, arts, music or cultural activities': 210,\n",
              "         'Future changes: less importance placed on work': 303,\n",
              "         'Important child qualities: religious faith': 206,\n",
              "         'Believe in: hell': 208,\n",
              "         'Member: Belong to labour unions': 208,\n",
              "         'How important is God in your life': 202,\n",
              "         'Employment status Spouse/partner': 374,\n",
              "         \"How often in country's elections: Rich people buy elections\": 419,\n",
              "         'Mother immigrant / born in country\\n': 190,\n",
              "         'Duty towards society to have children': 513,\n",
              "         'Aims of country: first choice': 419,\n",
              "         'Democracy: People receive state aid for unemployment.': 272,\n",
              "         'Employment status Respondent': 297,\n",
              "         'Democracy: People choose their leaders in free elections.': 253,\n",
              "         'Justifiable: Suicide': 206,\n",
              "         'Work should come first even if it means less spare time': 502,\n",
              "         'Member: Belong to conservation, the environment, ecology, animal rights': 214,\n",
              "         'Confidence: The Civil Services': 404,\n",
              "         \"How often in country's elections: TV news favors the governing party\": 416,\n",
              "         'Aims of respondent: second choice': 424,\n",
              "         'People who don´t work turn lazy': 503,\n",
              "         'Confidence: The Police': 404,\n",
              "         \"How often in country's elections: Opposition candidates are prevented from running\": 413,\n",
              "         'Justifiable: Political violence': 212,\n",
              "         'Occupational group - respondent´s spouse (WVS7)': 122})"
            ]
          },
          "execution_count": 399,
          "metadata": {},
          "output_type": "execute_result"
        }
      ],
      "source": [
        "Counter(dataset_wvs_zeroshot[\"validation\"][\"subject\"])"
      ]
    },
    {
      "cell_type": "code",
      "execution_count": 404,
      "metadata": {},
      "outputs": [
        {
          "data": {
            "text/plain": [
              "[\"61 years old: which of these options would you take in regard to the subject 'scale of incomes (wvs7)'?\",\n",
              " \"32 years old: which of these options would you take in regard to the subject 'democraticness in own country'?\",\n",
              " \"kenya: which of these options would you take in regard to the subject 'vote in elections: local level'?\",\n",
              " \"53 years old: which of these options would you take in regard to the subject 'believe in: life after death'?\",\n",
              " \"40 years old: which of these options would you take in regard to the subject 'competition good or harmful'?\",\n",
              " \"30 years old: which of these options would you take in regard to the subject 'democraticness in own country'?\",\n",
              " \"51 years old: which of these options would you take in regard to the subject 'jobs scarce: men should have more right to a job than women\\n(5-point scale)'?\",\n",
              " \"26 years old: which of these options would you take in regard to the subject 'believe in: heaven'?\",\n",
              " \"34 years old: which of these options would you take in regard to the subject 'member: belong to education, arts, music or cultural activities'?\",\n",
              " \"26 years old: which of these options would you take in regard to the subject 'competition good or harmful'?\",\n",
              " \"no, no paid employment:housewife not otherwise employed: which of these options would you take in regard to the subject 'future changes: less importance placed on work'?\",\n",
              " \"ethiopia: which of these options would you take in regard to the subject 'important child qualities: religious faith'?\",\n",
              " \"16 years old: which of these options would you take in regard to the subject 'believe in: hell'?\",\n",
              " \"55 years old: which of these options would you take in regard to the subject 'member: belong to labour unions'?\",\n",
              " \"29 years old: which of these options would you take in regard to the subject 'important child qualities: religious faith'?\",\n",
              " 'divorced: how important is god in your life ?',\n",
              " \"42 years old: which of these options would you take in regard to the subject 'employment status spouse/partner'?\",\n",
              " \"living together as married: how often in country's elections: rich people buy elections ?\",\n",
              " \"mongolia: which of these options would you take in regard to the subject 'mother immigrant / born in country\\n'?\",\n",
              " \"62 years old: which of these options would you take in regard to the subject 'member: belong to education, arts, music or cultural activities'?\",\n",
              " \"mongolia: which of these options would you take in regard to the subject 'duty towards society to have children'?\",\n",
              " \"23 years old: which of these options would you take in regard to the subject 'competition good or harmful'?\",\n",
              " \"42: how often in country's elections: rich people buy elections ?\",\n",
              " \"71 years old: which of these options would you take in regard to the subject 'believe in: heaven'?\",\n",
              " \"49 years old: which of these options would you take in regard to the subject 'employment status spouse/partner'?\",\n",
              " \"37 years old: which of these options would you take in regard to the subject 'aims of country: first choice'?\",\n",
              " '67: how important is god in your life ?',\n",
              " \"80 years old: which of these options would you take in regard to the subject 'democracy: people receive state aid for unemployment.'?\",\n",
              " \"relationship satus living together as married: which of these options would you take in regard to the subject 'jobs scarce: men should have more right to a job than women\\n(5-point scale)'?\",\n",
              " \"relationship satus seperated: which of these options would you take in regard to the subject 'duty towards society to have children'?\",\n",
              " \"82 years old: which of these options would you take in regard to the subject 'member: belong to education, arts, music or cultural activities'?\",\n",
              " \"37 years old: which of these options would you take in regard to the subject 'employment status respondent'?\",\n",
              " \"maldives: which of these options would you take in regard to the subject 'believe in: life after death'?\",\n",
              " \"no, no paid employment:unemployed: which of these options would you take in regard to the subject 'democracy: people choose their leaders in free elections.'?\",\n",
              " \"63 years old: which of these options would you take in regard to the subject 'justifiable: suicide'?\",\n",
              " \"65 years old: which of these options would you take in regard to the subject 'believe in: hell'?\",\n",
              " \"24 years old: which of these options would you take in regard to the subject 'member: belong to education, arts, music or cultural activities'?\",\n",
              " \"66 years old: which of these options would you take in regard to the subject 'justifiable: suicide'?\",\n",
              " \"yes, has paid employment: part time employee: how often in country's elections: rich people buy elections ?\",\n",
              " \"62 years old: which of these options would you take in regard to the subject 'work should come first even if it means less spare time'?\",\n",
              " \"56 years old: which of these options would you take in regard to the subject 'believe in: heaven'?\",\n",
              " \"24 years old: which of these options would you take in regard to the subject 'member: belong to conservation, the environment, ecology, animal rights'?\",\n",
              " \"mongolia: which of these options would you take in regard to the subject 'important child qualities: religious faith'?\",\n",
              " \"27 years old: which of these options would you take in regard to the subject 'democracy: people choose their leaders in free elections.'?\",\n",
              " \"52 years old: which of these options would you take in regard to the subject 'confidence: the civil services'?\",\n",
              " \"49 years old: which of these options would you take in regard to the subject 'confidence: the civil services'?\",\n",
              " \"43 years old: which of these options would you take in regard to the subject 'work should come first even if it means less spare time'?\",\n",
              " \"no, no paid employment:unemployed: which of these options would you take in regard to the subject 'competition good or harmful'?\",\n",
              " \"17 years old: which of these options would you take in regard to the subject 'aims of country: first choice'?\",\n",
              " \"19: how often in country's elections: tv news favors the governing party ?\",\n",
              " \"23 years old: which of these options would you take in regard to the subject 'confidence: the civil services'?\",\n",
              " \"yes, has paid employment: full time employee: which of these options would you take in regard to the subject 'future changes: less importance placed on work'?\",\n",
              " \"libya: which of these options would you take in regard to the subject 'believe in: hell'?\",\n",
              " \"relationship satus single: which of these options would you take in regard to the subject 'work should come first even if it means less spare time'?\",\n",
              " \"52 years old: which of these options would you take in regard to the subject 'member: belong to education, arts, music or cultural activities'?\",\n",
              " \"portugal: which of these options would you take in regard to the subject 'believe in: heaven'?\",\n",
              " \"no, no paid employment: retired/pensioned: which of these options would you take in regard to the subject 'member: belong to conservation, the environment, ecology, animal rights'?\",\n",
              " \"morocco: which of these options would you take in regard to the subject 'vote in elections: local level'?\",\n",
              " \"no, no paid employment: retired/pensioned: which of these options would you take in regard to the subject 'confidence: the civil services'?\",\n",
              " \"an atheist: which of these options would you take in regard to the subject 'future changes: less importance placed on work'?\",\n",
              " \"80 years old: which of these options would you take in regard to the subject 'jobs scarce: men should have more right to a job than women\\n(5-point scale)'?\",\n",
              " \"66 years old: which of these options would you take in regard to the subject 'aims of respondent: second choice'?\",\n",
              " \"77 years old: which of these options would you take in regard to the subject 'people who don´t work turn lazy'?\",\n",
              " \"64 years old: which of these options would you take in regard to the subject 'confidence: the police'?\",\n",
              " \"relationship satus widowed: which of these options would you take in regard to the subject 'future changes: less importance placed on work'?\",\n",
              " \"43 years old: which of these options would you take in regard to the subject 'member: belong to conservation, the environment, ecology, animal rights'?\",\n",
              " \"iran (islamic republic of): which of these options would you take in regard to the subject 'work should come first even if it means less spare time'?\",\n",
              " \"17 years old: which of these options would you take in regard to the subject 'important child qualities: religious faith'?\",\n",
              " \"62 years old: which of these options would you take in regard to the subject 'believe in: hell'?\",\n",
              " \"50 years old: which of these options would you take in regard to the subject 'democracy: people choose their leaders in free elections.'?\",\n",
              " \"29: how often in country's elections: rich people buy elections ?\",\n",
              " \"80 years old: which of these options would you take in regard to the subject 'aims of country: first choice'?\",\n",
              " \"no, no paid employment:housewife not otherwise employed: which of these options would you take in regard to the subject 'jobs scarce: men should have more right to a job than women\\n(5-point scale)'?\",\n",
              " \"63: how often in country's elections: opposition candidates are prevented from running ?\",\n",
              " \"42 years old: which of these options would you take in regard to the subject 'future changes: less importance placed on work'?\",\n",
              " \"73: how often in country's elections: rich people buy elections ?\",\n",
              " \"50: how often in country's elections: opposition candidates are prevented from running ?\",\n",
              " \"55 years old: which of these options would you take in regard to the subject 'employment status spouse/partner'?\",\n",
              " \"63 years old: which of these options would you take in regard to the subject 'justifiable: political violence'?\",\n",
              " \"no, no paid employment: retired/pensioned: which of these options would you take in regard to the subject 'people who don´t work turn lazy'?\",\n",
              " \"73 years old: which of these options would you take in regard to the subject 'important child qualities: religious faith'?\",\n",
              " \"53 years old: which of these options would you take in regard to the subject 'jobs scarce: men should have more right to a job than women\\n(5-point scale)'?\",\n",
              " \"tajikistan: which of these options would you take in regard to the subject 'believe in: life after death'?\",\n",
              " \"54 years old: which of these options would you take in regard to the subject 'confidence: the civil services'?\",\n",
              " \"zimbabwe: how often in country's elections: tv news favors the governing party ?\",\n",
              " \"female: which of these options would you take in regard to the subject 'important child qualities: religious faith'?\",\n",
              " \"tajikistan: which of these options would you take in regard to the subject 'democraticness in own country'?\",\n",
              " \"guatemala: which of these options would you take in regard to the subject 'democracy: people receive state aid for unemployment.'?\",\n",
              " \"46 years old: which of these options would you take in regard to the subject 'people who don´t work turn lazy'?\",\n",
              " \"iran (islamic republic of): which of these options would you take in regard to the subject 'aims of country: first choice'?\",\n",
              " '63: how important is god in your life ?',\n",
              " \"31 years old: which of these options would you take in regard to the subject 'confidence: the civil services'?\",\n",
              " \"39 years old: which of these options would you take in regard to the subject 'duty towards society to have children'?\",\n",
              " \"56 years old: which of these options would you take in regard to the subject 'scale of incomes (wvs7)'?\",\n",
              " \"new zealand: which of these options would you take in regard to the subject 'confidence: the police'?\",\n",
              " \"78 years old: which of these options would you take in regard to the subject 'confidence: the civil services'?\",\n",
              " \"75 years old: which of these options would you take in regard to the subject 'employment status respondent'?\",\n",
              " \"portugal: which of these options would you take in regard to the subject 'jobs scarce: men should have more right to a job than women\\n(5-point scale)'?\",\n",
              " \"82 years old: which of these options would you take in regard to the subject 'member: belong to labour unions'?\",\n",
              " \"venezuela (bolivarian republic of): which of these options would you take in regard to the subject 'aims of respondent: second choice'?\",\n",
              " \"67 years old: which of these options would you take in regard to the subject 'democracy: people receive state aid for unemployment.'?\",\n",
              " \"16 years old: which of these options would you take in regard to the subject 'democraticness in own country'?\",\n",
              " \"20 years old: which of these options would you take in regard to the subject 'vote in elections: local level'?\",\n",
              " \"65 years old: which of these options would you take in regard to the subject 'future changes: less importance placed on work'?\",\n",
              " \"relationship satus living together as married: which of these options would you take in regard to the subject 'member: belong to labour unions'?\",\n",
              " \"an atheist: which of these options would you take in regard to the subject 'believe in: hell'?\",\n",
              " \"74 years old: which of these options would you take in regard to the subject 'democracy: people choose their leaders in free elections.'?\",\n",
              " \"58 years old: which of these options would you take in regard to the subject 'democracy: people choose their leaders in free elections.'?\",\n",
              " \"55: how often in country's elections: rich people buy elections ?\",\n",
              " \"relationship satus single: which of these options would you take in regard to the subject 'believe in: heaven'?\",\n",
              " \"relationship satus seperated: which of these options would you take in regard to the subject 'member: belong to education, arts, music or cultural activities'?\",\n",
              " \"57 years old: which of these options would you take in regard to the subject 'aims of country: first choice'?\",\n",
              " \"male: which of these options would you take in regard to the subject 'confidence: the police'?\",\n",
              " \"69 years old: which of these options would you take in regard to the subject 'aims of country: first choice'?\",\n",
              " \"53 years old: which of these options would you take in regard to the subject 'duty towards society to have children'?\",\n",
              " \"53 years old: which of these options would you take in regard to the subject 'work should come first even if it means less spare time'?\",\n",
              " \"61 years old: which of these options would you take in regard to the subject 'aims of country: first choice'?\",\n",
              " \"zimbabwe: which of these options would you take in regard to the subject 'member: belong to conservation, the environment, ecology, animal rights'?\",\n",
              " \"maldives: how often in country's elections: tv news favors the governing party ?\",\n",
              " \"yes, has paid employment: full time employee: which of these options would you take in regard to the subject 'democracy: people receive state aid for unemployment.'?\",\n",
              " \"yes, has paid employment: full time employee: which of these options would you take in regard to the subject 'believe in: life after death'?\",\n",
              " \"male: which of these options would you take in regard to the subject 'scale of incomes (wvs7)'?\",\n",
              " \"67 years old: which of these options would you take in regard to the subject 'member: belong to education, arts, music or cultural activities'?\",\n",
              " '45: how important is god in your life ?',\n",
              " \"no, no paid employment: retired/pensioned: which of these options would you take in regard to the subject 'aims of country: first choice'?\",\n",
              " \"new zealand: which of these options would you take in regard to the subject 'democracy: people receive state aid for unemployment.'?\",\n",
              " \"27 years old: which of these options would you take in regard to the subject 'justifiable: suicide'?\",\n",
              " \"no, no paid employment:housewife not otherwise employed: which of these options would you take in regard to the subject 'important child qualities: religious faith'?\",\n",
              " \"singapore: which of these options would you take in regard to the subject 'future changes: less importance placed on work'?\",\n",
              " \"relationship satus single: which of these options would you take in regard to the subject 'democracy: people receive state aid for unemployment.'?\",\n",
              " \"21 years old: which of these options would you take in regard to the subject 'member: belong to labour unions'?\",\n",
              " \"52 years old: which of these options would you take in regard to the subject 'confidence: the police'?\",\n",
              " \"16 years old: which of these options would you take in regard to the subject 'aims of country: first choice'?\",\n",
              " \"64: how often in country's elections: tv news favors the governing party ?\",\n",
              " \"female: which of these options would you take in regard to the subject 'member: belong to labour unions'?\",\n",
              " \"40: how often in country's elections: tv news favors the governing party ?\",\n",
              " \"24: how often in country's elections: tv news favors the governing party ?\",\n",
              " \"relationship satus widowed: which of these options would you take in regard to the subject 'member: belong to education, arts, music or cultural activities'?\",\n",
              " \"viet nam: which of these options would you take in regard to the subject 'member: belong to conservation, the environment, ecology, animal rights'?\",\n",
              " \"kyrgyzstan: which of these options would you take in regard to the subject 'people who don´t work turn lazy'?\",\n",
              " \"72 years old: which of these options would you take in regard to the subject 'believe in: hell'?\",\n",
              " \"iran (islamic republic of): which of these options would you take in regard to the subject 'mother immigrant / born in country\\n'?\",\n",
              " \"not a religious person: how often in country's elections: opposition candidates are prevented from running ?\",\n",
              " \"not a religious person: which of these options would you take in regard to the subject 'democracy: people receive state aid for unemployment.'?\",\n",
              " \"65 years old: which of these options would you take in regard to the subject 'aims of country: first choice'?\",\n",
              " \"latvia: which of these options would you take in regard to the subject 'people who don´t work turn lazy'?\",\n",
              " \"female: which of these options would you take in regard to the subject 'people who don´t work turn lazy'?\",\n",
              " \"kyrgyzstan: which of these options would you take in regard to the subject 'jobs scarce: men should have more right to a job than women\\n(5-point scale)'?\",\n",
              " \"46 years old: which of these options would you take in regard to the subject 'work should come first even if it means less spare time'?\",\n",
              " \"41 years old: which of these options would you take in regard to the subject 'people who don´t work turn lazy'?\",\n",
              " \"relationship satus living together as married: which of these options would you take in regard to the subject 'people who don´t work turn lazy'?\",\n",
              " \"not a religious person: which of these options would you take in regard to the subject 'duty towards society to have children'?\",\n",
              " \"guatemala: which of these options would you take in regard to the subject 'believe in: hell'?\",\n",
              " \"58 years old: which of these options would you take in regard to the subject 'justifiable: suicide'?\",\n",
              " '39: how important is god in your life ?',\n",
              " \"81 years old: which of these options would you take in regard to the subject 'justifiable: political violence'?\",\n",
              " \"48: how often in country's elections: opposition candidates are prevented from running ?\",\n",
              " \"52 years old: which of these options would you take in regard to the subject 'justifiable: suicide'?\",\n",
              " \"79 years old: which of these options would you take in regard to the subject 'justifiable: suicide'?\",\n",
              " \"74 years old: which of these options would you take in regard to the subject 'employment status spouse/partner'?\",\n",
              " \"39 years old: which of these options would you take in regard to the subject 'mother immigrant / born in country\\n'?\",\n",
              " \"venezuela (bolivarian republic of): which of these options would you take in regard to the subject 'people who don´t work turn lazy'?\",\n",
              " \"32 years old: which of these options would you take in regard to the subject 'confidence: the civil services'?\",\n",
              " \"37 years old: which of these options would you take in regard to the subject 'justifiable: political violence'?\",\n",
              " \"75 years old: which of these options would you take in regard to the subject 'member: belong to labour unions'?\",\n",
              " \"40 years old: which of these options would you take in regard to the subject 'employment status spouse/partner'?\",\n",
              " \"66 years old: which of these options would you take in regard to the subject 'democracy: people choose their leaders in free elections.'?\",\n",
              " \"54: how often in country's elections: opposition candidates are prevented from running ?\",\n",
              " \"21 years old: which of these options would you take in regard to the subject 'important child qualities: religious faith'?\",\n",
              " \"82 years old: which of these options would you take in regard to the subject 'confidence: the civil services'?\",\n",
              " \"46 years old: which of these options would you take in regard to the subject 'aims of respondent: second choice'?\",\n",
              " \"54 years old: which of these options would you take in regard to the subject 'believe in: heaven'?\",\n",
              " \"new zealand: which of these options would you take in regard to the subject 'democraticness in own country'?\",\n",
              " \"netherlands: which of these options would you take in regard to the subject 'justifiable: political violence'?\",\n",
              " \"68 years old: which of these options would you take in regard to the subject 'believe in: life after death'?\",\n",
              " \"39 years old: which of these options would you take in regard to the subject 'work should come first even if it means less spare time'?\",\n",
              " \"37 years old: which of these options would you take in regard to the subject 'duty towards society to have children'?\",\n",
              " \"39 years old: which of these options would you take in regard to the subject 'scale of incomes (wvs7)'?\",\n",
              " \"19 years old: which of these options would you take in regard to the subject 'member: belong to labour unions'?\",\n",
              " \"52: how often in country's elections: rich people buy elections ?\",\n",
              " \"48 years old: which of these options would you take in regard to the subject 'employment status spouse/partner'?\",\n",
              " \"no, no paid employment:student : which of these options would you take in regard to the subject 'justifiable: suicide'?\",\n",
              " \"armenia: how often in country's elections: opposition candidates are prevented from running ?\",\n",
              " \"78 years old: which of these options would you take in regard to the subject 'believe in: hell'?\",\n",
              " \"53 years old: which of these options would you take in regard to the subject 'employment status spouse/partner'?\",\n",
              " \"new zealand: which of these options would you take in regard to the subject 'people who don´t work turn lazy'?\",\n",
              " \"yes, has paid employment: full time employee: which of these options would you take in regard to the subject 'confidence: the civil services'?\",\n",
              " \"no, no paid employment:housewife not otherwise employed: which of these options would you take in regard to the subject 'member: belong to conservation, the environment, ecology, animal rights'?\",\n",
              " \"32 years old: which of these options would you take in regard to the subject 'member: belong to labour unions'?\",\n",
              " \"31 years old: which of these options would you take in regard to the subject 'employment status spouse/partner'?\",\n",
              " \"69 years old: which of these options would you take in regard to the subject 'competition good or harmful'?\",\n",
              " \"21 years old: which of these options would you take in regard to the subject 'believe in: heaven'?\",\n",
              " \"no, no paid employment: retired/pensioned: which of these options would you take in regard to the subject 'believe in: heaven'?\",\n",
              " \"male: which of these options would you take in regard to the subject 'democraticness in own country'?\",\n",
              " \"relationship satus seperated: which of these options would you take in regard to the subject 'occupational group - respondent´s spouse (wvs7)'?\",\n",
              " \"male: which of these options would you take in regard to the subject 'future changes: less importance placed on work'?\",\n",
              " \"66: how often in country's elections: rich people buy elections ?\",\n",
              " \"57 years old: which of these options would you take in regard to the subject 'employment status respondent'?\",\n",
              " \"kenya: how often in country's elections: tv news favors the governing party ?\",\n",
              " \"36 years old: which of these options would you take in regard to the subject 'aims of respondent: second choice'?\",\n",
              " \"18 years old: which of these options would you take in regard to the subject 'member: belong to conservation, the environment, ecology, animal rights'?\",\n",
              " \"kyrgyzstan: which of these options would you take in regard to the subject 'member: belong to labour unions'?\",\n",
              " \"canada: which of these options would you take in regard to the subject 'people who don´t work turn lazy'?\",\n",
              " \"53 years old: which of these options would you take in regard to the subject 'scale of incomes (wvs7)'?\",\n",
              " \"70 years old: which of these options would you take in regard to the subject 'mother immigrant / born in country\\n'?\",\n",
              " \"no, no paid employment: retired/pensioned: which of these options would you take in regard to the subject 'justifiable: suicide'?\",\n",
              " \"28 years old: which of these options would you take in regard to the subject 'scale of incomes (wvs7)'?\",\n",
              " \"29 years old: which of these options would you take in regard to the subject 'believe in: hell'?\",\n",
              " \"36 years old: which of these options would you take in regard to the subject 'people who don´t work turn lazy'?\",\n",
              " \"44 years old: which of these options would you take in regard to the subject 'believe in: life after death'?\",\n",
              " \"61 years old: which of these options would you take in regard to the subject 'employment status respondent'?\",\n",
              " 'singapore: how important is god in your life ?',\n",
              " \"78 years old: which of these options would you take in regard to the subject 'aims of respondent: second choice'?\",\n",
              " \"portugal: how often in country's elections: tv news favors the governing party ?\",\n",
              " \"kenya: which of these options would you take in regard to the subject 'democracy: people receive state aid for unemployment.'?\",\n",
              " \"29 years old: which of these options would you take in regard to the subject 'employment status spouse/partner'?\",\n",
              " \"relationship satus married: which of these options would you take in regard to the subject 'democracy: people receive state aid for unemployment.'?\",\n",
              " \"80 years old: which of these options would you take in regard to the subject 'democraticness in own country'?\",\n",
              " \"30 years old: which of these options would you take in regard to the subject 'future changes: less importance placed on work'?\",\n",
              " \"44 years old: which of these options would you take in regard to the subject 'important child qualities: religious faith'?\",\n",
              " \"42 years old: which of these options would you take in regard to the subject 'member: belong to labour unions'?\",\n",
              " \"62 years old: which of these options would you take in regard to the subject 'competition good or harmful'?\",\n",
              " \"netherlands: how often in country's elections: rich people buy elections ?\",\n",
              " \"54 years old: which of these options would you take in regard to the subject 'competition good or harmful'?\",\n",
              " \"71 years old: which of these options would you take in regard to the subject 'believe in: hell'?\",\n",
              " \"46 years old: which of these options would you take in regard to the subject 'member: belong to education, arts, music or cultural activities'?\",\n",
              " \"46 years old: which of these options would you take in regard to the subject 'aims of country: first choice'?\",\n",
              " \"relationship satus seperated: which of these options would you take in regard to the subject 'mother immigrant / born in country\\n'?\",\n",
              " \"canada: which of these options would you take in regard to the subject 'confidence: the civil services'?\",\n",
              " \"82 years old: which of these options would you take in regard to the subject 'jobs scarce: men should have more right to a job than women\\n(5-point scale)'?\",\n",
              " '80: how important is god in your life ?',\n",
              " \"64 years old: which of these options would you take in regard to the subject 'duty towards society to have children'?\",\n",
              " \"not a religious person: which of these options would you take in regard to the subject 'jobs scarce: men should have more right to a job than women\\n(5-point scale)'?\",\n",
              " \"17: how often in country's elections: tv news favors the governing party ?\",\n",
              " \"no, no paid employment: retired/pensioned: which of these options would you take in regard to the subject 'employment status spouse/partner'?\",\n",
              " \"21 years old: which of these options would you take in regard to the subject 'democracy: people receive state aid for unemployment.'?\",\n",
              " \"32 years old: which of these options would you take in regard to the subject 'aims of respondent: second choice'?\",\n",
              " \"36 years old: which of these options would you take in regard to the subject 'mother immigrant / born in country\\n'?\",\n",
              " \"iran (islamic republic of): which of these options would you take in regard to the subject 'democracy: people receive state aid for unemployment.'?\",\n",
              " \"17 years old: which of these options would you take in regard to the subject 'confidence: the police'?\",\n",
              " \"relationship satus widowed: which of these options would you take in regard to the subject 'duty towards society to have children'?\",\n",
              " \"73 years old: which of these options would you take in regard to the subject 'scale of incomes (wvs7)'?\",\n",
              " \"48 years old: which of these options would you take in regard to the subject 'people who don´t work turn lazy'?\",\n",
              " \"47 years old: which of these options would you take in regard to the subject 'confidence: the civil services'?\",\n",
              " \"33 years old: which of these options would you take in regard to the subject 'member: belong to conservation, the environment, ecology, animal rights'?\",\n",
              " \"43: how often in country's elections: rich people buy elections ?\",\n",
              " \"44 years old: which of these options would you take in regard to the subject 'justifiable: political violence'?\",\n",
              " \"72 years old: which of these options would you take in regard to the subject 'duty towards society to have children'?\",\n",
              " \"ethiopia: which of these options would you take in regard to the subject 'justifiable: suicide'?\",\n",
              " \"no, no paid employment:unemployed: how often in country's elections: rich people buy elections ?\",\n",
              " \"relationship satus seperated: which of these options would you take in regard to the subject 'competition good or harmful'?\",\n",
              " \"yes, has paid employment: full time employee: which of these options would you take in regard to the subject 'member: belong to conservation, the environment, ecology, animal rights'?\",\n",
              " \"55 years old: which of these options would you take in regard to the subject 'future changes: less importance placed on work'?\",\n",
              " \"72 years old: which of these options would you take in regard to the subject 'aims of country: first choice'?\",\n",
              " \"morocco: which of these options would you take in regard to the subject 'aims of country: first choice'?\",\n",
              " \"30 years old: which of these options would you take in regard to the subject 'duty towards society to have children'?\",\n",
              " \"44 years old: which of these options would you take in regard to the subject 'people who don´t work turn lazy'?\",\n",
              " \"16 years old: which of these options would you take in regard to the subject 'important child qualities: religious faith'?\",\n",
              " \"38 years old: which of these options would you take in regard to the subject 'democracy: people receive state aid for unemployment.'?\",\n",
              " \"33 years old: which of these options would you take in regard to the subject 'employment status respondent'?\",\n",
              " \"34 years old: which of these options would you take in regard to the subject 'member: belong to conservation, the environment, ecology, animal rights'?\",\n",
              " \"canada: which of these options would you take in regard to the subject 'mother immigrant / born in country\\n'?\",\n",
              " \"40 years old: which of these options would you take in regard to the subject 'jobs scarce: men should have more right to a job than women\\n(5-point scale)'?\",\n",
              " \"single: how often in country's elections: rich people buy elections ?\",\n",
              " \"25 years old: which of these options would you take in regard to the subject 'aims of respondent: second choice'?\",\n",
              " \"relationship satus seperated: which of these options would you take in regard to the subject 'democracy: people receive state aid for unemployment.'?\",\n",
              " \"51: how often in country's elections: tv news favors the governing party ?\",\n",
              " \"a religious person: which of these options would you take in regard to the subject 'work should come first even if it means less spare time'?\",\n",
              " \"kenya: which of these options would you take in regard to the subject 'member: belong to education, arts, music or cultural activities'?\",\n",
              " \"33 years old: which of these options would you take in regard to the subject 'believe in: hell'?\",\n",
              " \"ukraine: which of these options would you take in regard to the subject 'member: belong to conservation, the environment, ecology, animal rights'?\",\n",
              " \"27 years old: which of these options would you take in regard to the subject 'member: belong to education, arts, music or cultural activities'?\",\n",
              " \"18 years old: which of these options would you take in regard to the subject 'mother immigrant / born in country\\n'?\",\n",
              " \"35 years old: which of these options would you take in regard to the subject 'justifiable: suicide'?\",\n",
              " \"77 years old: which of these options would you take in regard to the subject 'jobs scarce: men should have more right to a job than women\\n(5-point scale)'?\",\n",
              " \"yes, has paid employment: self employed : which of these options would you take in regard to the subject 'work should come first even if it means less spare time'?\",\n",
              " \"39 years old: which of these options would you take in regard to the subject 'member: belong to conservation, the environment, ecology, animal rights'?\",\n",
              " \"new zealand: which of these options would you take in regard to the subject 'mother immigrant / born in country\\n'?\",\n",
              " \"43 years old: which of these options would you take in regard to the subject 'scale of incomes (wvs7)'?\",\n",
              " \"68 years old: which of these options would you take in regard to the subject 'believe in: hell'?\",\n",
              " \"77 years old: which of these options would you take in regard to the subject 'confidence: the civil services'?\",\n",
              " \"39 years old: which of these options would you take in regard to the subject 'future changes: less importance placed on work'?\",\n",
              " \"49 years old: which of these options would you take in regard to the subject 'believe in: heaven'?\",\n",
              " \"ethiopia: which of these options would you take in regard to the subject 'democracy: people choose their leaders in free elections.'?\",\n",
              " \"zimbabwe: which of these options would you take in regard to the subject 'member: belong to education, arts, music or cultural activities'?\",\n",
              " \"66 years old: which of these options would you take in regard to the subject 'confidence: the civil services'?\",\n",
              " '81: how important is god in your life ?',\n",
              " \"kyrgyzstan: which of these options would you take in regard to the subject 'aims of respondent: second choice'?\",\n",
              " \"50 years old: which of these options would you take in regard to the subject 'member: belong to labour unions'?\",\n",
              " \"57 years old: which of these options would you take in regard to the subject 'aims of respondent: second choice'?\",\n",
              " \"morocco: which of these options would you take in regard to the subject 'work should come first even if it means less spare time'?\",\n",
              " \"22 years old: which of these options would you take in regard to the subject 'people who don´t work turn lazy'?\",\n",
              " \"77 years old: which of these options would you take in regard to the subject 'occupational group - respondent´s spouse (wvs7)'?\",\n",
              " \"71 years old: which of these options would you take in regard to the subject 'democracy: people receive state aid for unemployment.'?\",\n",
              " \"ukraine: which of these options would you take in regard to the subject 'justifiable: suicide'?\",\n",
              " \"latvia: which of these options would you take in regard to the subject 'democracy: people choose their leaders in free elections.'?\",\n",
              " \"82 years old: which of these options would you take in regard to the subject 'justifiable: suicide'?\",\n",
              " \"71 years old: which of these options would you take in regard to the subject 'aims of country: first choice'?\",\n",
              " \"relationship satus single: which of these options would you take in regard to the subject 'vote in elections: local level'?\",\n",
              " \"relationship satus single: which of these options would you take in regard to the subject 'duty towards society to have children'?\",\n",
              " \"55 years old: which of these options would you take in regard to the subject 'democracy: people choose their leaders in free elections.'?\",\n",
              " \"48 years old: which of these options would you take in regard to the subject 'justifiable: political violence'?\",\n",
              " \"50 years old: which of these options would you take in regard to the subject 'mother immigrant / born in country\\n'?\",\n",
              " \"an atheist: which of these options would you take in regard to the subject 'democracy: people receive state aid for unemployment.'?\",\n",
              " \"78: how often in country's elections: tv news favors the governing party ?\",\n",
              " \"18 years old: which of these options would you take in regard to the subject 'future changes: less importance placed on work'?\",\n",
              " \"54 years old: which of these options would you take in regard to the subject 'justifiable: suicide'?\",\n",
              " \"34 years old: which of these options would you take in regard to the subject 'confidence: the police'?\",\n",
              " \"no, no paid employment:student : which of these options would you take in regard to the subject 'mother immigrant / born in country\\n'?\",\n",
              " \"19 years old: which of these options would you take in regard to the subject 'believe in: heaven'?\",\n",
              " \"canada: which of these options would you take in regard to the subject 'justifiable: suicide'?\",\n",
              " \"venezuela (bolivarian republic of): which of these options would you take in regard to the subject 'democraticness in own country'?\",\n",
              " \"33 years old: which of these options would you take in regard to the subject 'democraticness in own country'?\",\n",
              " \"63 years old: which of these options would you take in regard to the subject 'member: belong to conservation, the environment, ecology, animal rights'?\",\n",
              " \"67 years old: which of these options would you take in regard to the subject 'mother immigrant / born in country\\n'?\",\n",
              " \"37 years old: which of these options would you take in regard to the subject 'employment status spouse/partner'?\",\n",
              " \"60 years old: which of these options would you take in regard to the subject 'aims of respondent: second choice'?\",\n",
              " \"56: how often in country's elections: tv news favors the governing party ?\",\n",
              " \"46 years old: which of these options would you take in regard to the subject 'democracy: people receive state aid for unemployment.'?\",\n",
              " \"portugal: which of these options would you take in regard to the subject 'work should come first even if it means less spare time'?\",\n",
              " \"relationship satus living together as married: which of these options would you take in regard to the subject 'future changes: less importance placed on work'?\",\n",
              " \"17 years old: which of these options would you take in regard to the subject 'democracy: people choose their leaders in free elections.'?\",\n",
              " \"ukraine: which of these options would you take in regard to the subject 'member: belong to education, arts, music or cultural activities'?\",\n",
              " \"myanmar: which of these options would you take in regard to the subject 'democracy: people choose their leaders in free elections.'?\",\n",
              " \"54 years old: which of these options would you take in regard to the subject 'vote in elections: local level'?\",\n",
              " \"libya: how often in country's elections: rich people buy elections ?\",\n",
              " \"netherlands: which of these options would you take in regard to the subject 'aims of respondent: second choice'?\",\n",
              " \"singapore: which of these options would you take in regard to the subject 'duty towards society to have children'?\",\n",
              " \"16 years old: which of these options would you take in regard to the subject 'aims of respondent: second choice'?\",\n",
              " \"viet nam: how often in country's elections: opposition candidates are prevented from running ?\",\n",
              " \"30 years old: which of these options would you take in regard to the subject 'people who don´t work turn lazy'?\",\n",
              " \"armenia: which of these options would you take in regard to the subject 'competition good or harmful'?\",\n",
              " \"40 years old: which of these options would you take in regard to the subject 'believe in: life after death'?\",\n",
              " \"71 years old: which of these options would you take in regard to the subject 'believe in: life after death'?\",\n",
              " \"27 years old: which of these options would you take in regard to the subject 'justifiable: political violence'?\",\n",
              " \"49: how often in country's elections: rich people buy elections ?\",\n",
              " \"ethiopia: which of these options would you take in regard to the subject 'member: belong to education, arts, music or cultural activities'?\",\n",
              " \"28 years old: which of these options would you take in regard to the subject 'member: belong to education, arts, music or cultural activities'?\",\n",
              " \"viet nam: which of these options would you take in regard to the subject 'employment status spouse/partner'?\",\n",
              " \"75 years old: which of these options would you take in regard to the subject 'member: belong to conservation, the environment, ecology, animal rights'?\",\n",
              " \"71 years old: which of these options would you take in regard to the subject 'democraticness in own country'?\",\n",
              " \"18 years old: which of these options would you take in regard to the subject 'member: belong to labour unions'?\",\n",
              " \"51 years old: which of these options would you take in regard to the subject 'important child qualities: religious faith'?\",\n",
              " \"77 years old: which of these options would you take in regard to the subject 'member: belong to conservation, the environment, ecology, animal rights'?\",\n",
              " \"54: how often in country's elections: tv news favors the governing party ?\",\n",
              " \"16 years old: which of these options would you take in regard to the subject 'people who don´t work turn lazy'?\",\n",
              " \"new zealand: which of these options would you take in regard to the subject 'future changes: less importance placed on work'?\",\n",
              " \"27 years old: which of these options would you take in regard to the subject 'aims of country: first choice'?\",\n",
              " \"18: how often in country's elections: tv news favors the governing party ?\",\n",
              " \"70 years old: which of these options would you take in regard to the subject 'future changes: less importance placed on work'?\",\n",
              " \"canada: which of these options would you take in regard to the subject 'future changes: less importance placed on work'?\",\n",
              " \"28 years old: which of these options would you take in regard to the subject 'important child qualities: religious faith'?\",\n",
              " \"30 years old: which of these options would you take in regard to the subject 'member: belong to education, arts, music or cultural activities'?\",\n",
              " \"44: how often in country's elections: tv news favors the governing party ?\",\n",
              " \"63 years old: which of these options would you take in regard to the subject 'believe in: heaven'?\",\n",
              " \"viet nam: which of these options would you take in regard to the subject 'duty towards society to have children'?\",\n",
              " \"42 years old: which of these options would you take in regard to the subject 'believe in: life after death'?\",\n",
              " \"71 years old: which of these options would you take in regard to the subject 'work should come first even if it means less spare time'?\",\n",
              " \"49 years old: which of these options would you take in regard to the subject 'justifiable: suicide'?\",\n",
              " \"libya: which of these options would you take in regard to the subject 'duty towards society to have children'?\",\n",
              " \"60 years old: which of these options would you take in regard to the subject 'aims of country: first choice'?\",\n",
              " \"zimbabwe: which of these options would you take in regard to the subject 'democracy: people choose their leaders in free elections.'?\",\n",
              " \"ukraine: which of these options would you take in regard to the subject 'people who don´t work turn lazy'?\",\n",
              " \"portugal: which of these options would you take in regard to the subject 'member: belong to conservation, the environment, ecology, animal rights'?\",\n",
              " \"61 years old: which of these options would you take in regard to the subject 'duty towards society to have children'?\",\n",
              " \"56 years old: which of these options would you take in regard to the subject 'work should come first even if it means less spare time'?\",\n",
              " \"22 years old: which of these options would you take in regard to the subject 'justifiable: suicide'?\",\n",
              " \"53 years old: which of these options would you take in regard to the subject 'important child qualities: religious faith'?\",\n",
              " \"72 years old: which of these options would you take in regard to the subject 'member: belong to conservation, the environment, ecology, animal rights'?\",\n",
              " \"55 years old: which of these options would you take in regard to the subject 'jobs scarce: men should have more right to a job than women\\n(5-point scale)'?\",\n",
              " \"no, no paid employment:student : which of these options would you take in regard to the subject 'member: belong to conservation, the environment, ecology, animal rights'?\",\n",
              " \"68: how often in country's elections: tv news favors the governing party ?\",\n",
              " \"ukraine: which of these options would you take in regard to the subject 'competition good or harmful'?\",\n",
              " \"63 years old: which of these options would you take in regard to the subject 'work should come first even if it means less spare time'?\",\n",
              " \"55 years old: which of these options would you take in regard to the subject 'believe in: heaven'?\",\n",
              " \"26 years old: which of these options would you take in regard to the subject 'duty towards society to have children'?\",\n",
              " \"61 years old: which of these options would you take in regard to the subject 'member: belong to conservation, the environment, ecology, animal rights'?\",\n",
              " \"27: how often in country's elections: opposition candidates are prevented from running ?\",\n",
              " \"zimbabwe: which of these options would you take in regard to the subject 'justifiable: political violence'?\",\n",
              " \"48 years old: which of these options would you take in regard to the subject 'member: belong to education, arts, music or cultural activities'?\",\n",
              " \"50 years old: which of these options would you take in regard to the subject 'important child qualities: religious faith'?\",\n",
              " \"65 years old: which of these options would you take in regard to the subject 'confidence: the police'?\",\n",
              " \"a religious person: which of these options would you take in regard to the subject 'duty towards society to have children'?\",\n",
              " \"new zealand: which of these options would you take in regard to the subject 'democracy: people choose their leaders in free elections.'?\",\n",
              " \"maldives: which of these options would you take in regard to the subject 'mother immigrant / born in country\\n'?\",\n",
              " \"67 years old: which of these options would you take in regard to the subject 'believe in: hell'?\",\n",
              " \"30 years old: which of these options would you take in regard to the subject 'jobs scarce: men should have more right to a job than women\\n(5-point scale)'?\",\n",
              " \"17 years old: which of these options would you take in regard to the subject 'believe in: heaven'?\",\n",
              " \"48 years old: which of these options would you take in regard to the subject 'important child qualities: religious faith'?\",\n",
              " \"35 years old: which of these options would you take in regard to the subject 'vote in elections: local level'?\",\n",
              " \"51 years old: which of these options would you take in regard to the subject 'employment status respondent'?\",\n",
              " \"71: how often in country's elections: tv news favors the governing party ?\",\n",
              " \"68: how often in country's elections: opposition candidates are prevented from running ?\",\n",
              " \"51 years old: which of these options would you take in regard to the subject 'confidence: the police'?\",\n",
              " \"tajikistan: how often in country's elections: rich people buy elections ?\",\n",
              " \"relationship satus divorced: which of these options would you take in regard to the subject 'vote in elections: local level'?\",\n",
              " \"55 years old: which of these options would you take in regard to the subject 'people who don´t work turn lazy'?\",\n",
              " \"54 years old: which of these options would you take in regard to the subject 'democracy: people choose their leaders in free elections.'?\",\n",
              " \"24 years old: which of these options would you take in regard to the subject 'employment status respondent'?\",\n",
              " \"61 years old: which of these options would you take in regard to the subject 'justifiable: suicide'?\",\n",
              " \"65 years old: which of these options would you take in regard to the subject 'justifiable: suicide'?\",\n",
              " \"43 years old: which of these options would you take in regard to the subject 'member: belong to education, arts, music or cultural activities'?\",\n",
              " \"41 years old: which of these options would you take in regard to the subject 'believe in: heaven'?\",\n",
              " \"19 years old: which of these options would you take in regard to the subject 'important child qualities: religious faith'?\",\n",
              " \"no, no paid employment: retired/pensioned: which of these options would you take in regard to the subject 'justifiable: political violence'?\",\n",
              " \"52 years old: which of these options would you take in regard to the subject 'democraticness in own country'?\",\n",
              " \"an atheist: which of these options would you take in regard to the subject 'confidence: the civil services'?\",\n",
              " '34: how important is god in your life ?',\n",
              " \"yes, has paid employment: part time employee: which of these options would you take in regard to the subject 'aims of respondent: second choice'?\",\n",
              " \"singapore: which of these options would you take in regard to the subject 'member: belong to labour unions'?\",\n",
              " \"iran (islamic republic of): which of these options would you take in regard to the subject 'people who don´t work turn lazy'?\",\n",
              " \"67 years old: which of these options would you take in regard to the subject 'justifiable: political violence'?\",\n",
              " 'seperated: how important is god in your life ?',\n",
              " \"40 years old: which of these options would you take in regard to the subject 'democracy: people receive state aid for unemployment.'?\",\n",
              " \"44 years old: which of these options would you take in regard to the subject 'jobs scarce: men should have more right to a job than women\\n(5-point scale)'?\",\n",
              " \"no, no paid employment:housewife not otherwise employed: which of these options would you take in regard to the subject 'democracy: people receive state aid for unemployment.'?\",\n",
              " \"21 years old: which of these options would you take in regard to the subject 'duty towards society to have children'?\",\n",
              " \"28 years old: which of these options would you take in regard to the subject 'aims of respondent: second choice'?\",\n",
              " \"venezuela (bolivarian republic of): which of these options would you take in regard to the subject 'confidence: the police'?\",\n",
              " \"62 years old: which of these options would you take in regard to the subject 'important child qualities: religious faith'?\",\n",
              " \"51 years old: which of these options would you take in regard to the subject 'duty towards society to have children'?\",\n",
              " \"no, no paid employment: retired/pensioned: which of these options would you take in regard to the subject 'competition good or harmful'?\",\n",
              " \"65: how often in country's elections: tv news favors the governing party ?\",\n",
              " \"29 years old: which of these options would you take in regard to the subject 'justifiable: political violence'?\",\n",
              " \"44: how often in country's elections: opposition candidates are prevented from running ?\",\n",
              " \"26 years old: which of these options would you take in regard to the subject 'believe in: life after death'?\",\n",
              " \"37: how often in country's elections: tv news favors the governing party ?\",\n",
              " \"43 years old: which of these options would you take in regard to the subject 'confidence: the civil services'?\",\n",
              " \"25 years old: which of these options would you take in regard to the subject 'important child qualities: religious faith'?\",\n",
              " \"54 years old: which of these options would you take in regard to the subject 'aims of country: first choice'?\",\n",
              " \"myanmar: which of these options would you take in regard to the subject 'jobs scarce: men should have more right to a job than women\\n(5-point scale)'?\",\n",
              " \"76 years old: which of these options would you take in regard to the subject 'work should come first even if it means less spare time'?\",\n",
              " \"17 years old: which of these options would you take in regard to the subject 'democracy: people receive state aid for unemployment.'?\",\n",
              " \"relationship satus divorced: which of these options would you take in regard to the subject 'duty towards society to have children'?\",\n",
              " \"25 years old: which of these options would you take in regard to the subject 'scale of incomes (wvs7)'?\",\n",
              " \"73 years old: which of these options would you take in regard to the subject 'aims of country: first choice'?\",\n",
              " \"52 years old: which of these options would you take in regard to the subject 'vote in elections: local level'?\",\n",
              " \"a religious person: which of these options would you take in regard to the subject 'member: belong to conservation, the environment, ecology, animal rights'?\",\n",
              " \"libya: which of these options would you take in regard to the subject 'member: belong to education, arts, music or cultural activities'?\",\n",
              " \"37 years old: which of these options would you take in regard to the subject 'democracy: people choose their leaders in free elections.'?\",\n",
              " \"52 years old: which of these options would you take in regard to the subject 'democracy: people choose their leaders in free elections.'?\",\n",
              " \"yes, has paid employment: part time employee: which of these options would you take in regard to the subject 'important child qualities: religious faith'?\",\n",
              " \"71 years old: which of these options would you take in regard to the subject 'justifiable: suicide'?\",\n",
              " \"72 years old: which of these options would you take in regard to the subject 'confidence: the civil services'?\",\n",
              " \"38 years old: which of these options would you take in regard to the subject 'people who don´t work turn lazy'?\",\n",
              " \"zimbabwe: which of these options would you take in regard to the subject 'important child qualities: religious faith'?\",\n",
              " \"51 years old: which of these options would you take in regard to the subject 'competition good or harmful'?\",\n",
              " \"armenia: which of these options would you take in regard to the subject 'work should come first even if it means less spare time'?\",\n",
              " \"libya: which of these options would you take in regard to the subject 'mother immigrant / born in country\\n'?\",\n",
              " \"66 years old: which of these options would you take in regard to the subject 'employment status spouse/partner'?\",\n",
              " 'netherlands: how important is god in your life ?',\n",
              " \"78 years old: which of these options would you take in regard to the subject 'member: belong to conservation, the environment, ecology, animal rights'?\",\n",
              " \"kyrgyzstan: which of these options would you take in regard to the subject 'confidence: the police'?\",\n",
              " \"76 years old: which of these options would you take in regard to the subject 'future changes: less importance placed on work'?\",\n",
              " \"kyrgyzstan: which of these options would you take in regard to the subject 'confidence: the civil services'?\",\n",
              " \"76 years old: which of these options would you take in regard to the subject 'vote in elections: local level'?\",\n",
              " \"56 years old: which of these options would you take in regard to the subject 'justifiable: political violence'?\",\n",
              " \"kyrgyzstan: which of these options would you take in regard to the subject 'aims of country: first choice'?\",\n",
              " \"yes, has paid employment: part time employee: which of these options would you take in regard to the subject 'confidence: the police'?\",\n",
              " \"19 years old: which of these options would you take in regard to the subject 'justifiable: suicide'?\",\n",
              " \"75: how often in country's elections: opposition candidates are prevented from running ?\",\n",
              " \"25: how often in country's elections: tv news favors the governing party ?\",\n",
              " \"62 years old: which of these options would you take in regard to the subject 'vote in elections: local level'?\",\n",
              " \"relationship satus seperated: which of these options would you take in regard to the subject 'aims of country: first choice'?\",\n",
              " \"relationship satus widowed: which of these options would you take in regard to the subject 'vote in elections: local level'?\",\n",
              " \"34 years old: which of these options would you take in regard to the subject 'aims of respondent: second choice'?\",\n",
              " \"50 years old: which of these options would you take in regard to the subject 'aims of respondent: second choice'?\",\n",
              " \"72 years old: which of these options would you take in regard to the subject 'justifiable: suicide'?\",\n",
              " '28: how important is god in your life ?',\n",
              " \"67 years old: which of these options would you take in regard to the subject 'aims of respondent: second choice'?\",\n",
              " \"71 years old: which of these options would you take in regard to the subject 'confidence: the police'?\",\n",
              " \"30 years old: which of these options would you take in regard to the subject 'employment status respondent'?\",\n",
              " 'widowed: how important is god in your life ?',\n",
              " \"76 years old: which of these options would you take in regard to the subject 'aims of respondent: second choice'?\",\n",
              " \"53: how often in country's elections: opposition candidates are prevented from running ?\",\n",
              " \"37 years old: which of these options would you take in regard to the subject 'democraticness in own country'?\",\n",
              " \"35 years old: which of these options would you take in regard to the subject 'competition good or harmful'?\",\n",
              " \"41 years old: which of these options would you take in regard to the subject 'justifiable: political violence'?\",\n",
              " \"72 years old: which of these options would you take in regard to the subject 'work should come first even if it means less spare time'?\",\n",
              " \"new zealand: which of these options would you take in regard to the subject 'competition good or harmful'?\",\n",
              " \"yes, has paid employment: part time employee: which of these options would you take in regard to the subject 'believe in: life after death'?\",\n",
              " \"21 years old: which of these options would you take in regard to the subject 'confidence: the police'?\",\n",
              " \"50 years old: which of these options would you take in regard to the subject 'democraticness in own country'?\",\n",
              " \"61 years old: which of these options would you take in regard to the subject 'believe in: hell'?\",\n",
              " \"38 years old: which of these options would you take in regard to the subject 'member: belong to conservation, the environment, ecology, animal rights'?\",\n",
              " \"male: which of these options would you take in regard to the subject 'confidence: the civil services'?\",\n",
              " \"no, no paid employment:student : how often in country's elections: opposition candidates are prevented from running ?\",\n",
              " \"53 years old: which of these options would you take in regard to the subject 'justifiable: political violence'?\",\n",
              " \"relationship satus widowed: which of these options would you take in regard to the subject 'aims of respondent: second choice'?\",\n",
              " \"kenya: which of these options would you take in regard to the subject 'democracy: people choose their leaders in free elections.'?\",\n",
              " \"netherlands: which of these options would you take in regard to the subject 'democraticness in own country'?\",\n",
              " \"56 years old: which of these options would you take in regard to the subject 'mother immigrant / born in country\\n'?\",\n",
              " \"82 years old: which of these options would you take in regard to the subject 'competition good or harmful'?\",\n",
              " \"new zealand: which of these options would you take in regard to the subject 'aims of country: first choice'?\",\n",
              " \"55 years old: which of these options would you take in regard to the subject 'mother immigrant / born in country\\n'?\",\n",
              " \"relationship satus divorced: which of these options would you take in regard to the subject 'believe in: hell'?\",\n",
              " \"61 years old: which of these options would you take in regard to the subject 'jobs scarce: men should have more right to a job than women\\n(5-point scale)'?\",\n",
              " \"53 years old: which of these options would you take in regard to the subject 'competition good or harmful'?\",\n",
              " \"34 years old: which of these options would you take in regard to the subject 'democraticness in own country'?\",\n",
              " \"new zealand: which of these options would you take in regard to the subject 'aims of respondent: second choice'?\",\n",
              " \"64 years old: which of these options would you take in regard to the subject 'vote in elections: local level'?\",\n",
              " \"66 years old: which of these options would you take in regard to the subject 'democraticness in own country'?\",\n",
              " \"male: which of these options would you take in regard to the subject 'jobs scarce: men should have more right to a job than women\\n(5-point scale)'?\",\n",
              " \"53 years old: which of these options would you take in regard to the subject 'member: belong to labour unions'?\",\n",
              " \"no, no paid employment:unemployed: which of these options would you take in regard to the subject 'aims of respondent: second choice'?\",\n",
              " \"22 years old: which of these options would you take in regard to the subject 'jobs scarce: men should have more right to a job than women\\n(5-point scale)'?\",\n",
              " \"an atheist: which of these options would you take in regard to the subject 'believe in: heaven'?\",\n",
              " \"74 years old: which of these options would you take in regard to the subject 'aims of respondent: second choice'?\",\n",
              " 'male: how important is god in your life ?',\n",
              " \"18 years old: which of these options would you take in regard to the subject 'aims of country: first choice'?\",\n",
              " \"70: how often in country's elections: tv news favors the governing party ?\",\n",
              " \"29 years old: which of these options would you take in regard to the subject 'confidence: the civil services'?\",\n",
              " \"74 years old: which of these options would you take in regard to the subject 'aims of country: first choice'?\",\n",
              " \"59: how often in country's elections: rich people buy elections ?\",\n",
              " \"singapore: which of these options would you take in regard to the subject 'democraticness in own country'?\",\n",
              " \"39 years old: which of these options would you take in regard to the subject 'democraticness in own country'?\",\n",
              " \"kenya: which of these options would you take in regard to the subject 'competition good or harmful'?\",\n",
              " \"ethiopia: which of these options would you take in regard to the subject 'jobs scarce: men should have more right to a job than women\\n(5-point scale)'?\",\n",
              " \"44 years old: which of these options would you take in regard to the subject 'work should come first even if it means less spare time'?\",\n",
              " \"myanmar: which of these options would you take in regard to the subject 'scale of incomes (wvs7)'?\",\n",
              " \"23 years old: which of these options would you take in regard to the subject 'aims of respondent: second choice'?\",\n",
              " \"morocco: which of these options would you take in regard to the subject 'believe in: hell'?\",\n",
              " \"30: how often in country's elections: opposition candidates are prevented from running ?\",\n",
              " \"42 years old: which of these options would you take in regard to the subject 'people who don´t work turn lazy'?\",\n",
              " \"40 years old: which of these options would you take in regard to the subject 'democracy: people choose their leaders in free elections.'?\",\n",
              " \"relationship satus divorced: which of these options would you take in regard to the subject 'competition good or harmful'?\",\n",
              " \"netherlands: which of these options would you take in regard to the subject 'scale of incomes (wvs7)'?\",\n",
              " \"55 years old: which of these options would you take in regard to the subject 'democraticness in own country'?\",\n",
              " \"57 years old: which of these options would you take in regard to the subject 'justifiable: political violence'?\",\n",
              " \"44 years old: which of these options would you take in regard to the subject 'employment status respondent'?\",\n",
              " \"75 years old: which of these options would you take in regard to the subject 'employment status spouse/partner'?\",\n",
              " \"67 years old: which of these options would you take in regard to the subject 'vote in elections: local level'?\",\n",
              " \"viet nam: which of these options would you take in regard to the subject 'mother immigrant / born in country\\n'?\",\n",
              " \"33 years old: which of these options would you take in regard to the subject 'member: belong to labour unions'?\",\n",
              " \"latvia: which of these options would you take in regard to the subject 'aims of respondent: second choice'?\",\n",
              " \"66 years old: which of these options would you take in regard to the subject 'duty towards society to have children'?\",\n",
              " \"42 years old: which of these options would you take in regard to the subject 'scale of incomes (wvs7)'?\",\n",
              " \"28 years old: which of these options would you take in regard to the subject 'occupational group - respondent´s spouse (wvs7)'?\",\n",
              " \"no, no paid employment:student : which of these options would you take in regard to the subject 'member: belong to education, arts, music or cultural activities'?\",\n",
              " \"kenya: which of these options would you take in regard to the subject 'believe in: heaven'?\",\n",
              " \"44 years old: which of these options would you take in regard to the subject 'believe in: heaven'?\",\n",
              " \"canada: which of these options would you take in regard to the subject 'democracy: people choose their leaders in free elections.'?\",\n",
              " \"kenya: which of these options would you take in regard to the subject 'jobs scarce: men should have more right to a job than women\\n(5-point scale)'?\",\n",
              " \"canada: which of these options would you take in regard to the subject 'scale of incomes (wvs7)'?\",\n",
              " \"27 years old: which of these options would you take in regard to the subject 'work should come first even if it means less spare time'?\",\n",
              " \"26 years old: which of these options would you take in regard to the subject 'vote in elections: local level'?\",\n",
              " \"myanmar: which of these options would you take in regard to the subject 'justifiable: political violence'?\",\n",
              " \"female: which of these options would you take in regard to the subject 'believe in: hell'?\",\n",
              " \"guatemala: which of these options would you take in regard to the subject 'people who don´t work turn lazy'?\",\n",
              " \"81 years old: which of these options would you take in regard to the subject 'mother immigrant / born in country\\n'?\",\n",
              " \"61 years old: which of these options would you take in regard to the subject 'believe in: heaven'?\",\n",
              " \"78: how often in country's elections: rich people buy elections ?\",\n",
              " \"77 years old: which of these options would you take in regard to the subject 'duty towards society to have children'?\",\n",
              " \"armenia: which of these options would you take in regard to the subject 'people who don´t work turn lazy'?\",\n",
              " \"ukraine: which of these options would you take in regard to the subject 'democracy: people choose their leaders in free elections.'?\",\n",
              " \"libya: which of these options would you take in regard to the subject 'justifiable: political violence'?\",\n",
              " \"65 years old: which of these options would you take in regard to the subject 'aims of respondent: second choice'?\",\n",
              " \"no, no paid employment: retired/pensioned: which of these options would you take in regard to the subject 'vote in elections: local level'?\",\n",
              " \"76: how often in country's elections: tv news favors the governing party ?\",\n",
              " \"61 years old: which of these options would you take in regard to the subject 'democraticness in own country'?\",\n",
              " \"42 years old: which of these options would you take in regard to the subject 'believe in: hell'?\",\n",
              " \"80 years old: which of these options would you take in regard to the subject 'people who don´t work turn lazy'?\",\n",
              " \"yes, has paid employment: self employed : which of these options would you take in regard to the subject 'justifiable: political violence'?\",\n",
              " \"79 years old: which of these options would you take in regard to the subject 'vote in elections: local level'?\",\n",
              " \"70 years old: which of these options would you take in regard to the subject 'confidence: the civil services'?\",\n",
              " \"ethiopia: how often in country's elections: rich people buy elections ?\",\n",
              " \"67 years old: which of these options would you take in regard to the subject 'work should come first even if it means less spare time'?\",\n",
              " \"venezuela (bolivarian republic of): which of these options would you take in regard to the subject 'vote in elections: local level'?\",\n",
              " \"relationship satus single: which of these options would you take in regard to the subject 'democracy: people choose their leaders in free elections.'?\",\n",
              " \"relationship satus living together as married: which of these options would you take in regard to the subject 'democraticness in own country'?\",\n",
              " \"kenya: which of these options would you take in regard to the subject 'justifiable: suicide'?\",\n",
              " \"49 years old: which of these options would you take in regard to the subject 'believe in: life after death'?\",\n",
              " \"17 years old: which of these options would you take in regard to the subject 'employment status respondent'?\",\n",
              " \"47 years old: which of these options would you take in regard to the subject 'member: belong to labour unions'?\",\n",
              " \"23 years old: which of these options would you take in regard to the subject 'work should come first even if it means less spare time'?\",\n",
              " \"portugal: which of these options would you take in regard to the subject 'aims of respondent: second choice'?\",\n",
              " \"no, no paid employment: retired/pensioned: which of these options would you take in regard to the subject 'confidence: the police'?\",\n",
              " \"kenya: which of these options would you take in regard to the subject 'important child qualities: religious faith'?\",\n",
              " \"latvia: which of these options would you take in regard to the subject 'member: belong to education, arts, music or cultural activities'?\",\n",
              " \"no, no paid employment:student : which of these options would you take in regard to the subject 'work should come first even if it means less spare time'?\",\n",
              " \"27 years old: which of these options would you take in regard to the subject 'aims of respondent: second choice'?\",\n",
              " 'portugal: how important is god in your life ?',\n",
              " \"portugal: which of these options would you take in regard to the subject 'justifiable: suicide'?\",\n",
              " \"ukraine: which of these options would you take in regard to the subject 'mother immigrant / born in country\\n'?\",\n",
              " \"67 years old: which of these options would you take in regard to the subject 'confidence: the police'?\",\n",
              " \"38 years old: which of these options would you take in regard to the subject 'believe in: heaven'?\",\n",
              " \"an atheist: which of these options would you take in regard to the subject 'confidence: the police'?\",\n",
              " \"relationship satus widowed: which of these options would you take in regard to the subject 'believe in: life after death'?\",\n",
              " \"no, no paid employment:student : which of these options would you take in regard to the subject 'competition good or harmful'?\",\n",
              " \"no, no paid employment:student : which of these options would you take in regard to the subject 'believe in: heaven'?\",\n",
              " \"38 years old: which of these options would you take in regard to the subject 'confidence: the civil services'?\",\n",
              " \"singapore: which of these options would you take in regard to the subject 'member: belong to education, arts, music or cultural activities'?\",\n",
              " \"82 years old: which of these options would you take in regard to the subject 'vote in elections: local level'?\",\n",
              " \"67 years old: which of these options would you take in regard to the subject 'member: belong to labour unions'?\",\n",
              " \"26 years old: which of these options would you take in regard to the subject 'work should come first even if it means less spare time'?\",\n",
              " \"54 years old: which of these options would you take in regard to the subject 'aims of respondent: second choice'?\",\n",
              " \"65 years old: which of these options would you take in regard to the subject 'justifiable: political violence'?\",\n",
              " \"31: how often in country's elections: tv news favors the governing party ?\",\n",
              " \"yes, has paid employment: full time employee: which of these options would you take in regard to the subject 'aims of country: first choice'?\",\n",
              " \"19 years old: which of these options would you take in regard to the subject 'democracy: people receive state aid for unemployment.'?\",\n",
              " \"75 years old: which of these options would you take in regard to the subject 'important child qualities: religious faith'?\",\n",
              " \"18 years old: which of these options would you take in regard to the subject 'vote in elections: local level'?\",\n",
              " \"63 years old: which of these options would you take in regard to the subject 'jobs scarce: men should have more right to a job than women\\n(5-point scale)'?\",\n",
              " \"80 years old: which of these options would you take in regard to the subject 'confidence: the police'?\",\n",
              " \"48 years old: which of these options would you take in regard to the subject 'aims of country: first choice'?\",\n",
              " \"79 years old: which of these options would you take in regard to the subject 'believe in: heaven'?\",\n",
              " \"40 years old: which of these options would you take in regard to the subject 'important child qualities: religious faith'?\",\n",
              " \"no, no paid employment: retired/pensioned: how often in country's elections: opposition candidates are prevented from running ?\",\n",
              " \"no, no paid employment:housewife not otherwise employed: how often in country's elections: tv news favors the governing party ?\",\n",
              " \"76 years old: which of these options would you take in regard to the subject 'member: belong to labour unions'?\",\n",
              " \"31 years old: which of these options would you take in regard to the subject 'employment status respondent'?\",\n",
              " \"myanmar: which of these options would you take in regard to the subject 'work should come first even if it means less spare time'?\",\n",
              " \"38 years old: which of these options would you take in regard to the subject 'believe in: hell'?\",\n",
              " \"yes, has paid employment: self employed : which of these options would you take in regard to the subject 'duty towards society to have children'?\",\n",
              " \"43 years old: which of these options would you take in regard to the subject 'important child qualities: religious faith'?\",\n",
              " \"74 years old: which of these options would you take in regard to the subject 'people who don´t work turn lazy'?\",\n",
              " \"26 years old: which of these options would you take in regard to the subject 'justifiable: political violence'?\",\n",
              " \"82 years old: which of these options would you take in regard to the subject 'people who don´t work turn lazy'?\",\n",
              " \"60 years old: which of these options would you take in regard to the subject 'believe in: heaven'?\",\n",
              " \"57 years old: which of these options would you take in regard to the subject 'democracy: people choose their leaders in free elections.'?\",\n",
              " \"no, no paid employment: retired/pensioned: which of these options would you take in regard to the subject 'mother immigrant / born in country\\n'?\",\n",
              " \"51 years old: which of these options would you take in regard to the subject 'confidence: the civil services'?\",\n",
              " \"18 years old: which of these options would you take in regard to the subject 'believe in: hell'?\",\n",
              " \"58 years old: which of these options would you take in regard to the subject 'employment status respondent'?\",\n",
              " '33: how important is god in your life ?',\n",
              " \"relationship satus married: which of these options would you take in regard to the subject 'competition good or harmful'?\",\n",
              " \"33 years old: which of these options would you take in regard to the subject 'believe in: life after death'?\",\n",
              " \"new zealand: how often in country's elections: tv news favors the governing party ?\",\n",
              " \"male: which of these options would you take in regard to the subject 'democracy: people choose their leaders in free elections.'?\",\n",
              " \"64 years old: which of these options would you take in regard to the subject 'believe in: life after death'?\",\n",
              " \"libya: which of these options would you take in regard to the subject 'believe in: life after death'?\",\n",
              " \"62 years old: which of these options would you take in regard to the subject 'justifiable: political violence'?\",\n",
              " \"70 years old: which of these options would you take in regard to the subject 'aims of country: first choice'?\",\n",
              " \"68 years old: which of these options would you take in regard to the subject 'justifiable: political violence'?\",\n",
              " \"viet nam: which of these options would you take in regard to the subject 'aims of respondent: second choice'?\",\n",
              " \"relationship satus divorced: which of these options would you take in regard to the subject 'democraticness in own country'?\",\n",
              " \"75: how often in country's elections: rich people buy elections ?\",\n",
              " \"72: how often in country's elections: tv news favors the governing party ?\",\n",
              " \"no, no paid employment: retired/pensioned: which of these options would you take in regard to the subject 'believe in: life after death'?\",\n",
              " \"57 years old: which of these options would you take in regard to the subject 'democraticness in own country'?\",\n",
              " \"canada: which of these options would you take in regard to the subject 'confidence: the police'?\",\n",
              " \"68 years old: which of these options would you take in regard to the subject 'member: belong to conservation, the environment, ecology, animal rights'?\",\n",
              " \"31: how often in country's elections: rich people buy elections ?\",\n",
              " \"singapore: which of these options would you take in regard to the subject 'work should come first even if it means less spare time'?\",\n",
              " \"58 years old: which of these options would you take in regard to the subject 'member: belong to labour unions'?\",\n",
              " \"70 years old: which of these options would you take in regard to the subject 'democraticness in own country'?\",\n",
              " \"81 years old: which of these options would you take in regard to the subject 'people who don´t work turn lazy'?\",\n",
              " \"23 years old: which of these options would you take in regard to the subject 'jobs scarce: men should have more right to a job than women\\n(5-point scale)'?\",\n",
              " \"zimbabwe: how often in country's elections: rich people buy elections ?\",\n",
              " \"66 years old: which of these options would you take in regard to the subject 'scale of incomes (wvs7)'?\",\n",
              " \"51 years old: which of these options would you take in regard to the subject 'vote in elections: local level'?\",\n",
              " \"19 years old: which of these options would you take in regard to the subject 'believe in: hell'?\",\n",
              " \"59 years old: which of these options would you take in regard to the subject 'people who don´t work turn lazy'?\",\n",
              " \"59 years old: which of these options would you take in regard to the subject 'democracy: people choose their leaders in free elections.'?\",\n",
              " \"65 years old: which of these options would you take in regard to the subject 'member: belong to labour unions'?\",\n",
              " \"58 years old: which of these options would you take in regard to the subject 'democracy: people receive state aid for unemployment.'?\",\n",
              " \"16 years old: which of these options would you take in regard to the subject 'confidence: the civil services'?\",\n",
              " \"45 years old: which of these options would you take in regard to the subject 'believe in: hell'?\",\n",
              " \"no, no paid employment: retired/pensioned: which of these options would you take in regard to the subject 'duty towards society to have children'?\",\n",
              " \"latvia: how often in country's elections: rich people buy elections ?\",\n",
              " \"23 years old: which of these options would you take in regard to the subject 'duty towards society to have children'?\",\n",
              " \"a religious person: how often in country's elections: opposition candidates are prevented from running ?\",\n",
              " \"zimbabwe: which of these options would you take in regard to the subject 'believe in: hell'?\",\n",
              " \"64 years old: which of these options would you take in regard to the subject 'democracy: people receive state aid for unemployment.'?\",\n",
              " \"78 years old: which of these options would you take in regard to the subject 'jobs scarce: men should have more right to a job than women\\n(5-point scale)'?\",\n",
              " \"no, no paid employment:unemployed: which of these options would you take in regard to the subject 'member: belong to education, arts, music or cultural activities'?\",\n",
              " \"63 years old: which of these options would you take in regard to the subject 'confidence: the civil services'?\",\n",
              " \"no, no paid employment:unemployed: which of these options would you take in regard to the subject 'scale of incomes (wvs7)'?\",\n",
              " \"relationship satus single: which of these options would you take in regard to the subject 'confidence: the police'?\",\n",
              " \"39: how often in country's elections: opposition candidates are prevented from running ?\",\n",
              " \"44 years old: which of these options would you take in regard to the subject 'mother immigrant / born in country\\n'?\",\n",
              " \"33 years old: which of these options would you take in regard to the subject 'confidence: the civil services'?\",\n",
              " \"24 years old: which of these options would you take in regard to the subject 'aims of respondent: second choice'?\",\n",
              " \"venezuela (bolivarian republic of): which of these options would you take in regard to the subject 'justifiable: suicide'?\",\n",
              " '32: how important is god in your life ?',\n",
              " \"74: how often in country's elections: tv news favors the governing party ?\",\n",
              " \"56 years old: which of these options would you take in regard to the subject 'important child qualities: religious faith'?\",\n",
              " \"34 years old: which of these options would you take in regard to the subject 'employment status respondent'?\",\n",
              " \"45 years old: which of these options would you take in regard to the subject 'future changes: less importance placed on work'?\",\n",
              " \"68 years old: which of these options would you take in regard to the subject 'future changes: less importance placed on work'?\",\n",
              " \"80 years old: which of these options would you take in regard to the subject 'member: belong to conservation, the environment, ecology, animal rights'?\",\n",
              " \"canada: which of these options would you take in regard to the subject 'democraticness in own country'?\",\n",
              " \"62 years old: which of these options would you take in regard to the subject 'believe in: life after death'?\",\n",
              " \"venezuela (bolivarian republic of): which of these options would you take in regard to the subject 'aims of country: first choice'?\",\n",
              " \"42 years old: which of these options would you take in regard to the subject 'democracy: people receive state aid for unemployment.'?\",\n",
              " \"51 years old: which of these options would you take in regard to the subject 'aims of country: first choice'?\",\n",
              " \"80 years old: which of these options would you take in regard to the subject 'future changes: less importance placed on work'?\",\n",
              " \"78 years old: which of these options would you take in regard to the subject 'aims of country: first choice'?\",\n",
              " \"68 years old: which of these options would you take in regard to the subject 'work should come first even if it means less spare time'?\",\n",
              " \"79 years old: which of these options would you take in regard to the subject 'future changes: less importance placed on work'?\",\n",
              " \"no, no paid employment:student : which of these options would you take in regard to the subject 'democracy: people choose their leaders in free elections.'?\",\n",
              " \"relationship satus widowed: which of these options would you take in regard to the subject 'competition good or harmful'?\",\n",
              " \"32 years old: which of these options would you take in regard to the subject 'scale of incomes (wvs7)'?\",\n",
              " \"mongolia: which of these options would you take in regard to the subject 'justifiable: suicide'?\",\n",
              " \"tajikistan: which of these options would you take in regard to the subject 'believe in: hell'?\",\n",
              " \"relationship satus widowed: which of these options would you take in regard to the subject 'justifiable: suicide'?\",\n",
              " \"libya: which of these options would you take in regard to the subject 'competition good or harmful'?\",\n",
              " \"yes, has paid employment: full time employee: which of these options would you take in regard to the subject 'democraticness in own country'?\",\n",
              " \"66 years old: which of these options would you take in regard to the subject 'justifiable: political violence'?\",\n",
              " \"new zealand: how often in country's elections: opposition candidates are prevented from running ?\",\n",
              " \"20 years old: which of these options would you take in regard to the subject 'occupational group - respondent´s spouse (wvs7)'?\",\n",
              " \"51: how often in country's elections: opposition candidates are prevented from running ?\",\n",
              " \"21 years old: which of these options would you take in regard to the subject 'competition good or harmful'?\",\n",
              " \"68 years old: which of these options would you take in regard to the subject 'vote in elections: local level'?\",\n",
              " \"21 years old: which of these options would you take in regard to the subject 'believe in: hell'?\",\n",
              " \"43 years old: which of these options would you take in regard to the subject 'member: belong to labour unions'?\",\n",
              " \"40 years old: which of these options would you take in regard to the subject 'duty towards society to have children'?\",\n",
              " \"tajikistan: which of these options would you take in regard to the subject 'confidence: the police'?\",\n",
              " \"73 years old: which of these options would you take in regard to the subject 'people who don´t work turn lazy'?\",\n",
              " '17: how important is god in your life ?',\n",
              " \"59 years old: which of these options would you take in regard to the subject 'important child qualities: religious faith'?\",\n",
              " \"73 years old: which of these options would you take in regard to the subject 'believe in: heaven'?\",\n",
              " \"29 years old: which of these options would you take in regard to the subject 'believe in: heaven'?\",\n",
              " \"libya: which of these options would you take in regard to the subject 'confidence: the police'?\",\n",
              " \"maldives: which of these options would you take in regard to the subject 'jobs scarce: men should have more right to a job than women\\n(5-point scale)'?\",\n",
              " \"69 years old: which of these options would you take in regard to the subject 'vote in elections: local level'?\",\n",
              " \"portugal: which of these options would you take in regard to the subject 'democraticness in own country'?\",\n",
              " \"64 years old: which of these options would you take in regard to the subject 'member: belong to education, arts, music or cultural activities'?\",\n",
              " '27: how important is god in your life ?',\n",
              " \"63 years old: which of these options would you take in regard to the subject 'democracy: people choose their leaders in free elections.'?\",\n",
              " \"relationship satus divorced: which of these options would you take in regard to the subject 'confidence: the civil services'?\",\n",
              " \"79 years old: which of these options would you take in regard to the subject 'believe in: life after death'?\",\n",
              " \"45 years old: which of these options would you take in regard to the subject 'member: belong to education, arts, music or cultural activities'?\",\n",
              " \"iran (islamic republic of): which of these options would you take in regard to the subject 'confidence: the police'?\",\n",
              " \"63 years old: which of these options would you take in regard to the subject 'duty towards society to have children'?\",\n",
              " \"yes, has paid employment: full time employee: how often in country's elections: opposition candidates are prevented from running ?\",\n",
              " \"guatemala: which of these options would you take in regard to the subject 'scale of incomes (wvs7)'?\",\n",
              " \"17 years old: which of these options would you take in regard to the subject 'confidence: the civil services'?\",\n",
              " \"no, no paid employment:unemployed: how often in country's elections: tv news favors the governing party ?\",\n",
              " \"41 years old: which of these options would you take in regard to the subject 'member: belong to conservation, the environment, ecology, animal rights'?\",\n",
              " \"58: how often in country's elections: tv news favors the governing party ?\",\n",
              " \"66 years old: which of these options would you take in regard to the subject 'believe in: life after death'?\",\n",
              " \"myanmar: how often in country's elections: tv news favors the governing party ?\",\n",
              " \"seperated: how often in country's elections: opposition candidates are prevented from running ?\",\n",
              " \"65 years old: which of these options would you take in regard to the subject 'democracy: people receive state aid for unemployment.'?\",\n",
              " \"kyrgyzstan: which of these options would you take in regard to the subject 'future changes: less importance placed on work'?\",\n",
              " \"male: which of these options would you take in regard to the subject 'member: belong to conservation, the environment, ecology, animal rights'?\",\n",
              " \"38 years old: which of these options would you take in regard to the subject 'employment status respondent'?\",\n",
              " \"23 years old: which of these options would you take in regard to the subject 'confidence: the police'?\",\n",
              " \"70 years old: which of these options would you take in regard to the subject 'democracy: people receive state aid for unemployment.'?\",\n",
              " \"29 years old: which of these options would you take in regard to the subject 'competition good or harmful'?\",\n",
              " \"24 years old: which of these options would you take in regard to the subject 'competition good or harmful'?\",\n",
              " \"52: how often in country's elections: tv news favors the governing party ?\",\n",
              " \"64 years old: which of these options would you take in regard to the subject 'democracy: people choose their leaders in free elections.'?\",\n",
              " \"82 years old: which of these options would you take in regard to the subject 'duty towards society to have children'?\",\n",
              " \"myanmar: which of these options would you take in regard to the subject 'mother immigrant / born in country\\n'?\",\n",
              " \"21: how often in country's elections: rich people buy elections ?\",\n",
              " \"myanmar: which of these options would you take in regard to the subject 'member: belong to conservation, the environment, ecology, animal rights'?\",\n",
              " \"73 years old: which of these options would you take in regard to the subject 'competition good or harmful'?\",\n",
              " \"guatemala: which of these options would you take in regard to the subject 'vote in elections: local level'?\",\n",
              " \"36: how often in country's elections: rich people buy elections ?\",\n",
              " \"no, no paid employment: retired/pensioned: how often in country's elections: tv news favors the governing party ?\",\n",
              " \"16 years old: which of these options would you take in regard to the subject 'believe in: heaven'?\",\n",
              " \"netherlands: which of these options would you take in regard to the subject 'important child qualities: religious faith'?\",\n",
              " \"49 years old: which of these options would you take in regard to the subject 'member: belong to labour unions'?\",\n",
              " \"maldives: which of these options would you take in regard to the subject 'justifiable: suicide'?\",\n",
              " \"82: how often in country's elections: rich people buy elections ?\",\n",
              " \"43 years old: which of these options would you take in regard to the subject 'people who don´t work turn lazy'?\",\n",
              " \"21 years old: which of these options would you take in regard to the subject 'future changes: less importance placed on work'?\",\n",
              " \"19 years old: which of these options would you take in regard to the subject 'mother immigrant / born in country\\n'?\",\n",
              " \"tajikistan: which of these options would you take in regard to the subject 'member: belong to labour unions'?\",\n",
              " \"49 years old: which of these options would you take in regard to the subject 'confidence: the police'?\",\n",
              " \"55 years old: which of these options would you take in regard to the subject 'duty towards society to have children'?\",\n",
              " \"24 years old: which of these options would you take in regard to the subject 'aims of country: first choice'?\",\n",
              " \"43 years old: which of these options would you take in regard to the subject 'believe in: life after death'?\",\n",
              " \"74 years old: which of these options would you take in regard to the subject 'future changes: less importance placed on work'?\",\n",
              " \"female: which of these options would you take in regard to the subject 'aims of respondent: second choice'?\",\n",
              " 'guatemala: how important is god in your life ?',\n",
              " \"32 years old: which of these options would you take in regard to the subject 'confidence: the police'?\",\n",
              " \"64 years old: which of these options would you take in regard to the subject 'employment status spouse/partner'?\",\n",
              " \"31 years old: which of these options would you take in regard to the subject 'aims of respondent: second choice'?\",\n",
              " \"relationship satus seperated: which of these options would you take in regard to the subject 'employment status spouse/partner'?\",\n",
              " \"latvia: which of these options would you take in regard to the subject 'confidence: the police'?\",\n",
              " \"ukraine: which of these options would you take in regard to the subject 'democraticness in own country'?\",\n",
              " \"57 years old: which of these options would you take in regard to the subject 'believe in: hell'?\",\n",
              " \"50 years old: which of these options would you take in regard to the subject 'justifiable: political violence'?\",\n",
              " \"75 years old: which of these options would you take in regard to the subject 'future changes: less importance placed on work'?\",\n",
              " \"no, no paid employment:housewife not otherwise employed: which of these options would you take in regard to the subject 'believe in: hell'?\",\n",
              " \"relationship satus divorced: which of these options would you take in regard to the subject 'member: belong to education, arts, music or cultural activities'?\",\n",
              " \"53 years old: which of these options would you take in regard to the subject 'confidence: the police'?\",\n",
              " \"armenia: which of these options would you take in regard to the subject 'justifiable: political violence'?\",\n",
              " \"41 years old: which of these options would you take in regard to the subject 'employment status respondent'?\",\n",
              " \"46 years old: which of these options would you take in regard to the subject 'confidence: the police'?\",\n",
              " \"tajikistan: how often in country's elections: tv news favors the governing party ?\",\n",
              " \"34 years old: which of these options would you take in regard to the subject 'mother immigrant / born in country\\n'?\",\n",
              " \"morocco: how often in country's elections: opposition candidates are prevented from running ?\",\n",
              " \"no, no paid employment:unemployed: which of these options would you take in regard to the subject 'mother immigrant / born in country\\n'?\",\n",
              " \"72 years old: which of these options would you take in regard to the subject 'important child qualities: religious faith'?\",\n",
              " \"27: how often in country's elections: tv news favors the governing party ?\",\n",
              " \"guatemala: which of these options would you take in regard to the subject 'aims of respondent: second choice'?\",\n",
              " \"59 years old: which of these options would you take in regard to the subject 'believe in: life after death'?\",\n",
              " \"49 years old: which of these options would you take in regard to the subject 'aims of respondent: second choice'?\",\n",
              " \"24 years old: which of these options would you take in regard to the subject 'confidence: the police'?\",\n",
              " \"64 years old: which of these options would you take in regard to the subject 'important child qualities: religious faith'?\",\n",
              " \"32 years old: which of these options would you take in regard to the subject 'jobs scarce: men should have more right to a job than women\\n(5-point scale)'?\",\n",
              " \"72: how often in country's elections: rich people buy elections ?\",\n",
              " \"25 years old: which of these options would you take in regard to the subject 'democraticness in own country'?\",\n",
              " \"zimbabwe: which of these options would you take in regard to the subject 'jobs scarce: men should have more right to a job than women\\n(5-point scale)'?\",\n",
              " \"17 years old: which of these options would you take in regard to the subject 'occupational group - respondent´s spouse (wvs7)'?\",\n",
              " \"mongolia: which of these options would you take in regard to the subject 'member: belong to labour unions'?\",\n",
              " \"no, no paid employment:housewife not otherwise employed: which of these options would you take in regard to the subject 'work should come first even if it means less spare time'?\",\n",
              " \"canada: which of these options would you take in regard to the subject 'member: belong to conservation, the environment, ecology, animal rights'?\",\n",
              " \"maldives: which of these options would you take in regard to the subject 'member: belong to education, arts, music or cultural activities'?\",\n",
              " \"viet nam: which of these options would you take in regard to the subject 'believe in: heaven'?\",\n",
              " \"32 years old: which of these options would you take in regard to the subject 'vote in elections: local level'?\",\n",
              " \"latvia: which of these options would you take in regard to the subject 'employment status spouse/partner'?\",\n",
              " \"27 years old: which of these options would you take in regard to the subject 'believe in: hell'?\",\n",
              " \"73 years old: which of these options would you take in regard to the subject 'justifiable: suicide'?\",\n",
              " \"44 years old: which of these options would you take in regard to the subject 'justifiable: suicide'?\",\n",
              " \"41 years old: which of these options would you take in regard to the subject 'believe in: life after death'?\",\n",
              " \"relationship satus seperated: which of these options would you take in regard to the subject 'employment status respondent'?\",\n",
              " \"75 years old: which of these options would you take in regard to the subject 'mother immigrant / born in country\\n'?\",\n",
              " '73: how important is god in your life ?',\n",
              " \"63 years old: which of these options would you take in regard to the subject 'vote in elections: local level'?\",\n",
              " \"32 years old: which of these options would you take in regard to the subject 'democracy: people choose their leaders in free elections.'?\",\n",
              " \"57 years old: which of these options would you take in regard to the subject 'work should come first even if it means less spare time'?\",\n",
              " \"relationship satus single: which of these options would you take in regard to the subject 'confidence: the civil services'?\",\n",
              " \"ukraine: which of these options would you take in regard to the subject 'duty towards society to have children'?\",\n",
              " \"tajikistan: which of these options would you take in regard to the subject 'justifiable: suicide'?\",\n",
              " \"25 years old: which of these options would you take in regard to the subject 'believe in: life after death'?\",\n",
              " \"66 years old: which of these options would you take in regard to the subject 'member: belong to education, arts, music or cultural activities'?\",\n",
              " \"31 years old: which of these options would you take in regard to the subject 'democraticness in own country'?\",\n",
              " \"no, no paid employment: retired/pensioned: which of these options would you take in regard to the subject 'member: belong to labour unions'?\",\n",
              " \"28 years old: which of these options would you take in regard to the subject 'confidence: the civil services'?\",\n",
              " \"51 years old: which of these options would you take in regard to the subject 'aims of respondent: second choice'?\",\n",
              " \"67 years old: which of these options would you take in regard to the subject 'member: belong to conservation, the environment, ecology, animal rights'?\",\n",
              " \"33: how often in country's elections: opposition candidates are prevented from running ?\",\n",
              " \"17 years old: which of these options would you take in regard to the subject 'aims of respondent: second choice'?\",\n",
              " \"47 years old: which of these options would you take in regard to the subject 'democracy: people choose their leaders in free elections.'?\",\n",
              " \"iran (islamic republic of): how often in country's elections: opposition candidates are prevented from running ?\",\n",
              " \"58 years old: which of these options would you take in regard to the subject 'believe in: heaven'?\",\n",
              " \"69 years old: which of these options would you take in regard to the subject 'democracy: people choose their leaders in free elections.'?\",\n",
              " \"relationship satus divorced: which of these options would you take in regard to the subject 'employment status spouse/partner'?\",\n",
              " \"relationship satus married: which of these options would you take in regard to the subject 'confidence: the police'?\",\n",
              " \"66 years old: which of these options would you take in regard to the subject 'future changes: less importance placed on work'?\",\n",
              " \"19: how often in country's elections: rich people buy elections ?\",\n",
              " \"canada: which of these options would you take in regard to the subject 'important child qualities: religious faith'?\",\n",
              " \"17 years old: which of these options would you take in regard to the subject 'member: belong to education, arts, music or cultural activities'?\",\n",
              " \"74 years old: which of these options would you take in regard to the subject 'important child qualities: religious faith'?\",\n",
              " \"41 years old: which of these options would you take in regard to the subject 'important child qualities: religious faith'?\",\n",
              " \"58 years old: which of these options would you take in regard to the subject 'aims of country: first choice'?\",\n",
              " \"ethiopia: which of these options would you take in regard to the subject 'believe in: life after death'?\",\n",
              " \"new zealand: how often in country's elections: rich people buy elections ?\",\n",
              " \"59: how often in country's elections: tv news favors the governing party ?\",\n",
              " \"myanmar: which of these options would you take in regard to the subject 'believe in: heaven'?\",\n",
              " \"57 years old: which of these options would you take in regard to the subject 'confidence: the police'?\",\n",
              " \"32 years old: which of these options would you take in regard to the subject 'work should come first even if it means less spare time'?\",\n",
              " '42: how important is god in your life ?',\n",
              " \"48 years old: which of these options would you take in regard to the subject 'democracy: people choose their leaders in free elections.'?\",\n",
              " \"viet nam: which of these options would you take in regard to the subject 'democraticness in own country'?\",\n",
              " \"57 years old: which of these options would you take in regard to the subject 'member: belong to conservation, the environment, ecology, animal rights'?\",\n",
              " \"no, no paid employment:student : which of these options would you take in regard to the subject 'future changes: less importance placed on work'?\",\n",
              " \"30: how often in country's elections: rich people buy elections ?\",\n",
              " \"44 years old: which of these options would you take in regard to the subject 'scale of incomes (wvs7)'?\",\n",
              " \"yes, has paid employment: self employed : which of these options would you take in regard to the subject 'competition good or harmful'?\",\n",
              " \"morocco: which of these options would you take in regard to the subject 'competition good or harmful'?\",\n",
              " \"69 years old: which of these options would you take in regard to the subject 'future changes: less importance placed on work'?\",\n",
              " \"female: which of these options would you take in regard to the subject 'confidence: the police'?\",\n",
              " \"34 years old: which of these options would you take in regard to the subject 'member: belong to labour unions'?\",\n",
              " \"kyrgyzstan: which of these options would you take in regard to the subject 'important child qualities: religious faith'?\",\n",
              " \"16 years old: which of these options would you take in regard to the subject 'democracy: people choose their leaders in free elections.'?\",\n",
              " \"43 years old: which of these options would you take in regard to the subject 'democraticness in own country'?\",\n",
              " \"iran (islamic republic of): which of these options would you take in regard to the subject 'member: belong to labour unions'?\",\n",
              " \"22 years old: which of these options would you take in regard to the subject 'confidence: the civil services'?\",\n",
              " \"kyrgyzstan: which of these options would you take in regard to the subject 'democraticness in own country'?\",\n",
              " \"42 years old: which of these options would you take in regard to the subject 'democraticness in own country'?\",\n",
              " \"relationship satus living together as married: which of these options would you take in regard to the subject 'believe in: hell'?\",\n",
              " \"79 years old: which of these options would you take in regard to the subject 'member: belong to labour unions'?\",\n",
              " \"30 years old: which of these options would you take in regard to the subject 'believe in: life after death'?\",\n",
              " \"no, no paid employment:housewife not otherwise employed: which of these options would you take in regard to the subject 'justifiable: suicide'?\",\n",
              " \"33 years old: which of these options would you take in regard to the subject 'important child qualities: religious faith'?\",\n",
              " \"56: how often in country's elections: opposition candidates are prevented from running ?\",\n",
              " \"tajikistan: which of these options would you take in regard to the subject 'future changes: less importance placed on work'?\",\n",
              " \"40 years old: which of these options would you take in regard to the subject 'people who don´t work turn lazy'?\",\n",
              " \"55 years old: which of these options would you take in regard to the subject 'democracy: people receive state aid for unemployment.'?\",\n",
              " \"45 years old: which of these options would you take in regard to the subject 'scale of incomes (wvs7)'?\",\n",
              " \"viet nam: which of these options would you take in regard to the subject 'justifiable: political violence'?\",\n",
              " \"60 years old: which of these options would you take in regard to the subject 'employment status spouse/partner'?\",\n",
              " \"45 years old: which of these options would you take in regard to the subject 'believe in: life after death'?\",\n",
              " \"37 years old: which of these options would you take in regard to the subject 'important child qualities: religious faith'?\",\n",
              " \"no, no paid employment: retired/pensioned: which of these options would you take in regard to the subject 'member: belong to education, arts, music or cultural activities'?\",\n",
              " \"61 years old: which of these options would you take in regard to the subject 'important child qualities: religious faith'?\",\n",
              " \"21 years old: which of these options would you take in regard to the subject 'occupational group - respondent´s spouse (wvs7)'?\",\n",
              " \"netherlands: which of these options would you take in regard to the subject 'duty towards society to have children'?\",\n",
              " \"relationship satus divorced: which of these options would you take in regard to the subject 'important child qualities: religious faith'?\",\n",
              " \"23 years old: which of these options would you take in regard to the subject 'important child qualities: religious faith'?\",\n",
              " \"no, no paid employment:student : which of these options would you take in regard to the subject 'justifiable: political violence'?\",\n",
              " \"relationship satus seperated: which of these options would you take in regard to the subject 'member: belong to labour unions'?\",\n",
              " \"19 years old: which of these options would you take in regard to the subject 'justifiable: political violence'?\",\n",
              " \"21 years old: which of these options would you take in regard to the subject 'member: belong to conservation, the environment, ecology, animal rights'?\",\n",
              " \"no, no paid employment:student : which of these options would you take in regard to the subject 'people who don´t work turn lazy'?\",\n",
              " \"nicaragua: which of these options would you take in regard to the subject 'justifiable: political violence'?\",\n",
              " \"yes, has paid employment: part time employee: which of these options would you take in regard to the subject 'scale of incomes (wvs7)'?\",\n",
              " \"28 years old: which of these options would you take in regard to the subject 'vote in elections: local level'?\",\n",
              " \"23 years old: which of these options would you take in regard to the subject 'democracy: people choose their leaders in free elections.'?\",\n",
              " \"47 years old: which of these options would you take in regard to the subject 'employment status spouse/partner'?\",\n",
              " \"singapore: how often in country's elections: tv news favors the governing party ?\",\n",
              " \"55 years old: which of these options would you take in regard to the subject 'employment status respondent'?\",\n",
              " \"relationship satus married: which of these options would you take in regard to the subject 'member: belong to labour unions'?\",\n",
              " \"nicaragua: which of these options would you take in regard to the subject 'aims of respondent: second choice'?\",\n",
              " \"29 years old: which of these options would you take in regard to the subject 'occupational group - respondent´s spouse (wvs7)'?\",\n",
              " \"mongolia: which of these options would you take in regard to the subject 'believe in: life after death'?\",\n",
              " \"maldives: which of these options would you take in regard to the subject 'justifiable: political violence'?\",\n",
              " \"29 years old: which of these options would you take in regard to the subject 'people who don´t work turn lazy'?\",\n",
              " \"46 years old: which of these options would you take in regard to the subject 'justifiable: political violence'?\",\n",
              " \"42 years old: which of these options would you take in regard to the subject 'believe in: heaven'?\",\n",
              " \"80 years old: which of these options would you take in regard to the subject 'work should come first even if it means less spare time'?\",\n",
              " \"56 years old: which of these options would you take in regard to the subject 'duty towards society to have children'?\",\n",
              " \"57 years old: which of these options would you take in regard to the subject 'important child qualities: religious faith'?\",\n",
              " \"69 years old: which of these options would you take in regard to the subject 'duty towards society to have children'?\",\n",
              " \"19 years old: which of these options would you take in regard to the subject 'work should come first even if it means less spare time'?\",\n",
              " \"77 years old: which of these options would you take in regard to the subject 'democracy: people receive state aid for unemployment.'?\",\n",
              " \"79 years old: which of these options would you take in regard to the subject 'competition good or harmful'?\",\n",
              " '69: how important is god in your life ?',\n",
              " \"24 years old: which of these options would you take in regard to the subject 'people who don´t work turn lazy'?\",\n",
              " \"59 years old: which of these options would you take in regard to the subject 'confidence: the civil services'?\",\n",
              " \"78 years old: which of these options would you take in regard to the subject 'democracy: people receive state aid for unemployment.'?\",\n",
              " \"yes, has paid employment: part time employee: which of these options would you take in regard to the subject 'democraticness in own country'?\",\n",
              " \"61 years old: which of these options would you take in regard to the subject 'future changes: less importance placed on work'?\",\n",
              " \"new zealand: which of these options would you take in regard to the subject 'scale of incomes (wvs7)'?\",\n",
              " \"iran (islamic republic of): which of these options would you take in regard to the subject 'believe in: life after death'?\",\n",
              " \"portugal: which of these options would you take in regard to the subject 'duty towards society to have children'?\",\n",
              " \"not a religious person: which of these options would you take in regard to the subject 'justifiable: political violence'?\",\n",
              " \"48 years old: which of these options would you take in regard to the subject 'believe in: hell'?\",\n",
              " \"57 years old: which of these options would you take in regard to the subject 'vote in elections: local level'?\",\n",
              " \"ethiopia: which of these options would you take in regard to the subject 'confidence: the civil services'?\",\n",
              " \"76 years old: which of these options would you take in regard to the subject 'member: belong to conservation, the environment, ecology, animal rights'?\",\n",
              " \"68 years old: which of these options would you take in regard to the subject 'mother immigrant / born in country\\n'?\",\n",
              " \"18 years old: which of these options would you take in regard to the subject 'democracy: people choose their leaders in free elections.'?\",\n",
              " \"yes, has paid employment: full time employee: which of these options would you take in regard to the subject 'justifiable: political violence'?\",\n",
              " \"56 years old: which of these options would you take in regard to the subject 'future changes: less importance placed on work'?\",\n",
              " \"60 years old: which of these options would you take in regard to the subject 'vote in elections: local level'?\",\n",
              " \"guatemala: which of these options would you take in regard to the subject 'member: belong to education, arts, music or cultural activities'?\",\n",
              " \"venezuela (bolivarian republic of): which of these options would you take in regard to the subject 'mother immigrant / born in country\\n'?\",\n",
              " \"45 years old: which of these options would you take in regard to the subject 'aims of country: first choice'?\",\n",
              " \"28 years old: which of these options would you take in regard to the subject 'believe in: hell'?\",\n",
              " \"27 years old: which of these options would you take in regard to the subject 'believe in: heaven'?\",\n",
              " \"viet nam: which of these options would you take in regard to the subject 'people who don´t work turn lazy'?\",\n",
              " \"44 years old: which of these options would you take in regard to the subject 'vote in elections: local level'?\",\n",
              " \"not a religious person: which of these options would you take in regard to the subject 'justifiable: suicide'?\",\n",
              " \"33 years old: which of these options would you take in regard to the subject 'vote in elections: local level'?\",\n",
              " \"68 years old: which of these options would you take in regard to the subject 'scale of incomes (wvs7)'?\",\n",
              " \"mongolia: which of these options would you take in regard to the subject 'people who don´t work turn lazy'?\",\n",
              " \"venezuela (bolivarian republic of): which of these options would you take in regard to the subject 'important child qualities: religious faith'?\",\n",
              " \"relationship satus living together as married: which of these options would you take in regard to the subject 'justifiable: political violence'?\",\n",
              " \"60 years old: which of these options would you take in regard to the subject 'democracy: people choose their leaders in free elections.'?\",\n",
              " \"tajikistan: which of these options would you take in regard to the subject 'believe in: heaven'?\",\n",
              " \"no, no paid employment:unemployed: which of these options would you take in regard to the subject 'member: belong to conservation, the environment, ecology, animal rights'?\",\n",
              " \"no, no paid employment:student : which of these options would you take in regard to the subject 'aims of respondent: second choice'?\",\n",
              " \"20 years old: which of these options would you take in regard to the subject 'confidence: the police'?\",\n",
              " \"yes, has paid employment: self employed : which of these options would you take in regard to the subject 'confidence: the civil services'?\",\n",
              " \"no, no paid employment:student : how often in country's elections: rich people buy elections ?\",\n",
              " \"relationship satus widowed: which of these options would you take in regard to the subject 'people who don´t work turn lazy'?\",\n",
              " \"64 years old: which of these options would you take in regard to the subject 'believe in: hell'?\",\n",
              " \"latvia: how often in country's elections: opposition candidates are prevented from running ?\",\n",
              " \"16 years old: which of these options would you take in regard to the subject 'scale of incomes (wvs7)'?\",\n",
              " \"ethiopia: which of these options would you take in regard to the subject 'justifiable: political violence'?\",\n",
              " \"not a religious person: how often in country's elections: tv news favors the governing party ?\",\n",
              " \"71 years old: which of these options would you take in regard to the subject 'important child qualities: religious faith'?\",\n",
              " \"kenya: how often in country's elections: rich people buy elections ?\",\n",
              " \"81 years old: which of these options would you take in regard to the subject 'work should come first even if it means less spare time'?\",\n",
              " \"yes, has paid employment: part time employee: which of these options would you take in regard to the subject 'justifiable: political violence'?\",\n",
              " \"kenya: which of these options would you take in regard to the subject 'future changes: less importance placed on work'?\",\n",
              " \"female: which of these options would you take in regard to the subject 'aims of country: first choice'?\",\n",
              " \"relationship satus seperated: which of these options would you take in regard to the subject 'future changes: less importance placed on work'?\",\n",
              " \"yes, has paid employment: full time employee: which of these options would you take in regard to the subject 'mother immigrant / born in country\\n'?\",\n",
              " \"76 years old: which of these options would you take in regard to the subject 'member: belong to education, arts, music or cultural activities'?\",\n",
              " \"morocco: which of these options would you take in regard to the subject 'people who don´t work turn lazy'?\",\n",
              " \"61 years old: which of these options would you take in regard to the subject 'member: belong to education, arts, music or cultural activities'?\",\n",
              " '58: how important is god in your life ?',\n",
              " \"73 years old: which of these options would you take in regard to the subject 'occupational group - respondent´s spouse (wvs7)'?\",\n",
              " \"79 years old: which of these options would you take in regard to the subject 'work should come first even if it means less spare time'?\",\n",
              " \"80: how often in country's elections: tv news favors the governing party ?\",\n",
              " \"21 years old: which of these options would you take in regard to the subject 'people who don´t work turn lazy'?\",\n",
              " \"37 years old: which of these options would you take in regard to the subject 'confidence: the civil services'?\",\n",
              " \"nicaragua: which of these options would you take in regard to the subject 'believe in: heaven'?\",\n",
              " \"53 years old: which of these options would you take in regard to the subject 'vote in elections: local level'?\",\n",
              " \"tajikistan: which of these options would you take in regard to the subject 'people who don´t work turn lazy'?\",\n",
              " \"21 years old: which of these options would you take in regard to the subject 'vote in elections: local level'?\",\n",
              " \"74 years old: which of these options would you take in regard to the subject 'democracy: people receive state aid for unemployment.'?\",\n",
              " \"20 years old: which of these options would you take in regard to the subject 'aims of country: first choice'?\",\n",
              " \"netherlands: which of these options would you take in regard to the subject 'jobs scarce: men should have more right to a job than women\\n(5-point scale)'?\",\n",
              " \"54 years old: which of these options would you take in regard to the subject 'democraticness in own country'?\",\n",
              " \"26 years old: which of these options would you take in regard to the subject 'believe in: hell'?\",\n",
              " \"32 years old: which of these options would you take in regard to the subject 'employment status respondent'?\",\n",
              " \"62 years old: which of these options would you take in regard to the subject 'believe in: heaven'?\",\n",
              " \"82 years old: which of these options would you take in regard to the subject 'employment status respondent'?\",\n",
              " \"69 years old: which of these options would you take in regard to the subject 'employment status spouse/partner'?\",\n",
              " \"20: how often in country's elections: tv news favors the governing party ?\",\n",
              " \"nicaragua: which of these options would you take in regard to the subject 'believe in: life after death'?\",\n",
              " \"venezuela (bolivarian republic of): how often in country's elections: tv news favors the governing party ?\",\n",
              " \"61 years old: which of these options would you take in regard to the subject 'member: belong to labour unions'?\",\n",
              " \"iran (islamic republic of): which of these options would you take in regard to the subject 'future changes: less importance placed on work'?\",\n",
              " \"guatemala: which of these options would you take in regard to the subject 'democracy: people choose their leaders in free elections.'?\",\n",
              " \"viet nam: which of these options would you take in regard to the subject 'vote in elections: local level'?\",\n",
              " \"yes, has paid employment: self employed : how often in country's elections: rich people buy elections ?\",\n",
              " \"guatemala: how often in country's elections: tv news favors the governing party ?\",\n",
              " \"55 years old: which of these options would you take in regard to the subject 'believe in: hell'?\",\n",
              " \"zimbabwe: which of these options would you take in regard to the subject 'duty towards society to have children'?\",\n",
              " \"60 years old: which of these options would you take in regard to the subject 'scale of incomes (wvs7)'?\",\n",
              " ...]"
            ]
          },
          "execution_count": 404,
          "metadata": {},
          "output_type": "execute_result"
        }
      ],
      "source": [
        "dataset[\"validation\"][\"question\"]"
      ]
    },
    {
      "cell_type": "code",
      "execution_count": 333,
      "metadata": {},
      "outputs": [],
      "source": [
        "def show_one(example):\n",
        "    print(f\"Context: {example['question']}\")\n",
        "    print(f\"  A - {example['question']} {example['choice_0']}\")\n",
        "    print(f\"  B - {example['question']} {example['choice_1']}\")\n",
        "    print(f\"  C - {example['question']} {example['choice_2']}\")\n",
        "    print(f\"  D - {example['question']} {example['choice_3']}\")\n",
        "    print(f\"  D - {example['question']} {example['choice_4']}\")"
      ]
    },
    {
      "cell_type": "code",
      "execution_count": 334,
      "metadata": {},
      "outputs": [
        {
          "name": "stdout",
          "output_type": "stream",
          "text": [
            "Context: singapore: which of these options would you take in regard to the subject 'government has the right: collect information about anyone living in [country] without their knowledge'?\n",
            "  A - singapore: which of these options would you take in regard to the subject 'government has the right: collect information about anyone living in [country] without their knowledge'? Definitely should have the right\n",
            "  B - singapore: which of these options would you take in regard to the subject 'government has the right: collect information about anyone living in [country] without their knowledge'? Probably should have the right\n",
            "  C - singapore: which of these options would you take in regard to the subject 'government has the right: collect information about anyone living in [country] without their knowledge'? Probably should not have the right\n",
            "  D - singapore: which of these options would you take in regard to the subject 'government has the right: collect information about anyone living in [country] without their knowledge'? Definitely should not have the right\n",
            "  D - singapore: which of these options would you take in regard to the subject 'government has the right: collect information about anyone living in [country] without their knowledge'? \n"
          ]
        }
      ],
      "source": [
        "show_one(dataset[\"train\"][8])"
      ]
    },
    {
      "cell_type": "code",
      "execution_count": 335,
      "metadata": {
        "id": "_lnYi6WOZoGk"
      },
      "outputs": [],
      "source": [
        "reco = tn.MultipleChoice(\n",
        "    dataset,\n",
        "    s1=\"question\",\n",
        "    y=\"labels\",\n",
        "    num_labels = num_choices,\n",
        "    choices=choices_names,\n",
        "    data_collator=DataCollatorForPolls()\n",
        ")\n",
        "\n",
        "tasks_wvs = [reco]"
      ]
    },
    {
      "attachments": {},
      "cell_type": "markdown",
      "metadata": {
        "id": "TLlmA94_C0H4"
      },
      "source": [
        "## PollBERT Model"
      ]
    },
    {
      "attachments": {},
      "cell_type": "markdown",
      "metadata": {},
      "source": [
        "### insights"
      ]
    },
    {
      "attachments": {},
      "cell_type": "markdown",
      "metadata": {},
      "source": []
    },
    {
      "cell_type": "code",
      "execution_count": 356,
      "metadata": {},
      "outputs": [],
      "source": [
        "input_ids = torch.tensor([[   0,  281,  811,   35, 1336,  171, 3102,  749,  115,   47,  766,  116,\n",
        "           2,    2,  134,  111,  158,    2,    1,    1,    1,    1,    1,    1,\n",
        "           1,    1,    1,    1,    1,    1,    1,    1,    1,    1,    1,    1,\n",
        "           1,    1,    1,    1,    1,    1,    1,    1,    1,    1,    1,    1,\n",
        "           1,    1,    1,    1,    1,    1,    1,    1,    1,    1,    1,    1,\n",
        "           1,    1,    1,    1,    1,    1,    1,    1,    1,    1,    1,    1,\n",
        "           1,    1,    1,    1,    1,    1,    1,    1,    1,    1,    1,    1,\n",
        "           1,    1,    1,    1,    1,    1,    1,    1,    1,    1,    1,    1,\n",
        "           1,    1,    1,    1,    1,    1,    1,    1,    1,    1,    1,    1,\n",
        "           1,    1,    1,    1,    1,    1,    1,    1,    1,    1,    1,    1,\n",
        "           1,    1,    1,    1,    1,    1,    1,    1,    1,    1,    1,    1,\n",
        "           1,    1,    1,    1,    1,    1,    1,    1,    1,    1,    1,    1,\n",
        "           1,    1,    1,    1,    1,    1,    1,    1,    1,    1,    1,    1,\n",
        "           1,    1,    1,    1,    1,    1,    1,    1,    1,    1,    1,    1,\n",
        "           1,    1,    1,    1,    1,    1,    1,    1,    1,    1,    1,    1,\n",
        "           1,    1,    1,    1,    1,    1,    1,    1,    1,    1,    1,    1,\n",
        "           1,    1,    1,    1,    1,    1,    1,    1,    1,    1,    1,    1,\n",
        "           1,    1,    1,    1,    1,    1,    1,    1,    1,    1,    1,    1,\n",
        "           1,    1,    1,    1,    1,    1,    1,    1,    1,    1,    1,    1,\n",
        "           1,    1,    1,    1,    1,    1,    1,    1,    1,    1,    1,    1,\n",
        "           1,    1,    1,    1,    1,    1,    1,    1,    1,    1,    1,    1,\n",
        "           1,    1,    1,    1], [   0,  281,  811,   35, 1336,  171, 3102,  749,  115,   47,  766,  116,\n",
        "           2,    2, 1225,  111,  389,    2,    1,    1,    1,    1,    1,    1,\n",
        "           1,    1,    1,    1,    1,    1,    1,    1,    1,    1,    1,    1,\n",
        "           1,    1,    1,    1,    1,    1,    1,    1,    1,    1,    1,    1,\n",
        "           1,    1,    1,    1,    1,    1,    1,    1,    1,    1,    1,    1,\n",
        "           1,    1,    1,    1,    1,    1,    1,    1,    1,    1,    1,    1,\n",
        "           1,    1,    1,    1,    1,    1,    1,    1,    1,    1,    1,    1,\n",
        "           1,    1,    1,    1,    1,    1,    1,    1,    1,    1,    1,    1,\n",
        "           1,    1,    1,    1,    1,    1,    1,    1,    1,    1,    1,    1,\n",
        "           1,    1,    1,    1,    1,    1,    1,    1,    1,    1,    1,    1,\n",
        "           1,    1,    1,    1,    1,    1,    1,    1,    1,    1,    1,    1,\n",
        "           1,    1,    1,    1,    1,    1,    1,    1,    1,    1,    1,    1,\n",
        "           1,    1,    1,    1,    1,    1,    1,    1,    1,    1,    1,    1,\n",
        "           1,    1,    1,    1,    1,    1,    1,    1,    1,    1,    1,    1,\n",
        "           1,    1,    1,    1,    1,    1,    1,    1,    1,    1,    1,    1,\n",
        "           1,    1,    1,    1,    1,    1,    1,    1,    1,    1,    1,    1,\n",
        "           1,    1,    1,    1,    1,    1,    1,    1,    1,    1,    1,    1,\n",
        "           1,    1,    1,    1,    1,    1,    1,    1,    1,    1,    1,    1,\n",
        "           1,    1,    1,    1,    1,    1,    1,    1,    1,    1,    1,    1,\n",
        "           1,    1,    1,    1,    1,    1,    1,    1,    1,    1,    1,    1,\n",
        "           1,    1,    1,    1,    1,    1,    1,    1,    1,    1,    1,    1,\n",
        "           1,    1,    1,    1], [   0,  281,  811,   35, 1336,  171, 3102,  749,  115,   47,  766,  116,\n",
        "           2,    2, 2983,  111,   70,    9,  106,    2,    1,    1,    1,    1,\n",
        "           1,    1,    1,    1,    1,    1,    1,    1,    1,    1,    1,    1,\n",
        "           1,    1,    1,    1,    1,    1,    1,    1,    1,    1,    1,    1,\n",
        "           1,    1,    1,    1,    1,    1,    1,    1,    1,    1,    1,    1,\n",
        "           1,    1,    1,    1,    1,    1,    1,    1,    1,    1,    1,    1,\n",
        "           1,    1,    1,    1,    1,    1,    1,    1,    1,    1,    1,    1,\n",
        "           1,    1,    1,    1,    1,    1,    1,    1,    1,    1,    1,    1,\n",
        "           1,    1,    1,    1,    1,    1,    1,    1,    1,    1,    1,    1,\n",
        "           1,    1,    1,    1,    1,    1,    1,    1,    1,    1,    1,    1,\n",
        "           1,    1,    1,    1,    1,    1,    1,    1,    1,    1,    1,    1,\n",
        "           1,    1,    1,    1,    1,    1,    1,    1,    1,    1,    1,    1,\n",
        "           1,    1,    1,    1,    1,    1,    1,    1,    1,    1,    1,    1,\n",
        "           1,    1,    1,    1,    1,    1,    1,    1,    1,    1,    1,    1,\n",
        "           1,    1,    1,    1,    1,    1,    1,    1,    1,    1,    1,    1,\n",
        "           1,    1,    1,    1,    1,    1,    1,    1,    1,    1,    1,    1,\n",
        "           1,    1,    1,    1,    1,    1,    1,    1,    1,    1,    1,    1,\n",
        "           1,    1,    1,    1,    1,    1,    1,    1,    1,    1,    1,    1,\n",
        "           1,    1,    1,    1,    1,    1,    1,    1,    1,    1,    1,    1,\n",
        "           1,    1,    1,    1,    1,    1,    1,    1,    1,    1,    1,    1,\n",
        "           1,    1,    1,    1,    1,    1,    1,    1,    1,    1,    1,    1,\n",
        "           1,    1,    1,    1], [   0,  281,  811,   35, 1336,  171, 3102,  749,  115,   47,  766,  116,\n",
        "           2,    2,    2,    1,    1,    1,    1,    1,    1,    1,    1,    1,\n",
        "           1,    1,    1,    1,    1,    1,    1,    1,    1,    1,    1,    1,\n",
        "           1,    1,    1,    1,    1,    1,    1,    1,    1,    1,    1,    1,\n",
        "           1,    1,    1,    1,    1,    1,    1,    1,    1,    1,    1,    1,\n",
        "           1,    1,    1,    1,    1,    1,    1,    1,    1,    1,    1,    1,\n",
        "           1,    1,    1,    1,    1,    1,    1,    1,    1,    1,    1,    1,\n",
        "           1,    1,    1,    1,    1,    1,    1,    1,    1,    1,    1,    1,\n",
        "           1,    1,    1,    1,    1,    1,    1,    1,    1,    1,    1,    1,\n",
        "           1,    1,    1,    1,    1,    1,    1,    1,    1,    1,    1,    1,\n",
        "           1,    1,    1,    1,    1,    1,    1,    1,    1,    1,    1,    1,\n",
        "           1,    1,    1,    1,    1,    1,    1,    1,    1,    1,    1,    1,\n",
        "           1,    1,    1,    1,    1,    1,    1,    1,    1,    1,    1,    1,\n",
        "           1,    1,    1,    1,    1,    1,    1,    1,    1,    1,    1,    1,\n",
        "           1,    1,    1,    1,    1,    1,    1,    1,    1,    1,    1,    1,\n",
        "           1,    1,    1,    1,    1,    1,    1,    1,    1,    1,    1,    1,\n",
        "           1,    1,    1,    1,    1,    1,    1,    1,    1,    1,    1,    1,\n",
        "           1,    1,    1,    1,    1,    1,    1,    1,    1,    1,    1,    1,\n",
        "           1,    1,    1,    1,    1,    1,    1,    1,    1,    1,    1,    1,\n",
        "           1,    1,    1,    1,    1,    1,    1,    1,    1,    1,    1,    1,\n",
        "           1,    1,    1,    1,    1,    1,    1,    1,    1,    1,    1,    1,\n",
        "           1,    1,    1,    1], [   0,  281,  811,   35, 1336,  171, 3102,  749,  115,   47,  766,  116,\n",
        "           2,    2,    2,    1,    1,    1,    1,    1,    1,    1,    1,    1,\n",
        "           1,    1,    1,    1,    1,    1,    1,    1,    1,    1,    1,    1,\n",
        "           1,    1,    1,    1,    1,    1,    1,    1,    1,    1,    1,    1,\n",
        "           1,    1,    1,    1,    1,    1,    1,    1,    1,    1,    1,    1,\n",
        "           1,    1,    1,    1,    1,    1,    1,    1,    1,    1,    1,    1,\n",
        "           1,    1,    1,    1,    1,    1,    1,    1,    1,    1,    1,    1,\n",
        "           1,    1,    1,    1,    1,    1,    1,    1,    1,    1,    1,    1,\n",
        "           1,    1,    1,    1,    1,    1,    1,    1,    1,    1,    1,    1,\n",
        "           1,    1,    1,    1,    1,    1,    1,    1,    1,    1,    1,    1,\n",
        "           1,    1,    1,    1,    1,    1,    1,    1,    1,    1,    1,    1,\n",
        "           1,    1,    1,    1,    1,    1,    1,    1,    1,    1,    1,    1,\n",
        "           1,    1,    1,    1,    1,    1,    1,    1,    1,    1,    1,    1,\n",
        "           1,    1,    1,    1,    1,    1,    1,    1,    1,    1,    1,    1,\n",
        "           1,    1,    1,    1,    1,    1,    1,    1,    1,    1,    1,    1,\n",
        "           1,    1,    1,    1,    1,    1,    1,    1,    1,    1,    1,    1,\n",
        "           1,    1,    1,    1,    1,    1,    1,    1,    1,    1,    1,    1,\n",
        "           1,    1,    1,    1,    1,    1,    1,    1,    1,    1,    1,    1,\n",
        "           1,    1,    1,    1,    1,    1,    1,    1,    1,    1,    1,    1,\n",
        "           1,    1,    1,    1,    1,    1,    1,    1,    1,    1,    1,    1,\n",
        "           1,    1,    1,    1,    1,    1,    1,    1,    1,    1,    1,    1,\n",
        "           1,    1,    1,    1], [   0,  281,  811,   35, 1336,  171, 3102,  749,  115,   47,  766,  116,\n",
        "           2,    2,    2,    1,    1,    1,    1,    1,    1,    1,    1,    1,\n",
        "           1,    1,    1,    1,    1,    1,    1,    1,    1,    1,    1,    1,\n",
        "           1,    1,    1,    1,    1,    1,    1,    1,    1,    1,    1,    1,\n",
        "           1,    1,    1,    1,    1,    1,    1,    1,    1,    1,    1,    1,\n",
        "           1,    1,    1,    1,    1,    1,    1,    1,    1,    1,    1,    1,\n",
        "           1,    1,    1,    1,    1,    1,    1,    1,    1,    1,    1,    1,\n",
        "           1,    1,    1,    1,    1,    1,    1,    1,    1,    1,    1,    1,\n",
        "           1,    1,    1,    1,    1,    1,    1,    1,    1,    1,    1,    1,\n",
        "           1,    1,    1,    1,    1,    1,    1,    1,    1,    1,    1,    1,\n",
        "           1,    1,    1,    1,    1,    1,    1,    1,    1,    1,    1,    1,\n",
        "           1,    1,    1,    1,    1,    1,    1,    1,    1,    1,    1,    1,\n",
        "           1,    1,    1,    1,    1,    1,    1,    1,    1,    1,    1,    1,\n",
        "           1,    1,    1,    1,    1,    1,    1,    1,    1,    1,    1,    1,\n",
        "           1,    1,    1,    1,    1,    1,    1,    1,    1,    1,    1,    1,\n",
        "           1,    1,    1,    1,    1,    1,    1,    1,    1,    1,    1,    1,\n",
        "           1,    1,    1,    1,    1,    1,    1,    1,    1,    1,    1,    1,\n",
        "           1,    1,    1,    1,    1,    1,    1,    1,    1,    1,    1,    1,\n",
        "           1,    1,    1,    1,    1,    1,    1,    1,    1,    1,    1,    1,\n",
        "           1,    1,    1,    1,    1,    1,    1,    1,    1,    1,    1,    1,\n",
        "           1,    1,    1,    1,    1,    1,    1,    1,    1,    1,    1,    1,\n",
        "           1,    1,    1,    1]])"
      ]
    },
    {
      "cell_type": "code",
      "execution_count": 383,
      "metadata": {},
      "outputs": [
        {
          "data": {
            "text/plain": [
              "torch.Size([6, 256])"
            ]
          },
          "execution_count": 383,
          "metadata": {},
          "output_type": "execute_result"
        }
      ],
      "source": [
        "input_ids.size()"
      ]
    },
    {
      "cell_type": "code",
      "execution_count": 387,
      "metadata": {},
      "outputs": [
        {
          "data": {
            "text/plain": [
              "torch.Size([6, 256])"
            ]
          },
          "execution_count": 387,
          "metadata": {},
          "output_type": "execute_result"
        }
      ],
      "source": [
        "input_ids.view(-1, input_ids.size(-1)).size()"
      ]
    },
    {
      "attachments": {},
      "cell_type": "markdown",
      "metadata": {},
      "source": [
        "### Forward method"
      ]
    },
    {
      "cell_type": "code",
      "execution_count": 391,
      "metadata": {
        "id": "2zPyf4ELC3ec"
      },
      "outputs": [],
      "source": [
        "from transformers.models.roberta.modeling_roberta import *\n",
        "  \n",
        "        \n",
        "def forward(\n",
        "    self,\n",
        "    input_ids: Optional[torch.LongTensor] = None,\n",
        "    token_type_ids: Optional[torch.LongTensor] = None,\n",
        "    attention_mask: Optional[torch.FloatTensor] = None,\n",
        "    labels: Optional[torch.LongTensor] = None,\n",
        "    position_ids: Optional[torch.LongTensor] = None,\n",
        "    head_mask: Optional[torch.FloatTensor] = None,\n",
        "    inputs_embeds: Optional[torch.FloatTensor] = None,\n",
        "    output_attentions: Optional[bool] = None,\n",
        "    output_hidden_states: Optional[bool] = None,\n",
        "    return_dict: Optional[bool] = None,\n",
        ") -> Union[Tuple[torch.Tensor], MultipleChoiceModelOutput]:\n",
        "    r\"\"\"\n",
        "    labels (`torch.LongTensor` of shape `(batch_size,)`, *optional*):\n",
        "        Labels for computing the multiple choice classification loss. Indices should be in `[0, ...,\n",
        "        num_choices-1]` where `num_choices` is the size of the second dimension of the input tensors. (See\n",
        "        `input_ids` above)\n",
        "    \"\"\"\n",
        "    return_dict = return_dict if return_dict is not None else self.config.use_return_dict\n",
        "    num_choices = input_ids.shape[1] if input_ids is not None else inputs_embeds.shape[1]\n",
        "\n",
        "    flat_input_ids = input_ids.view(-1, input_ids.size(-1)) if input_ids is not None else None\n",
        "    flat_position_ids = position_ids.view(-1, position_ids.size(-1)) if position_ids is not None else None\n",
        "    flat_token_type_ids = token_type_ids.view(-1, token_type_ids.size(-1)) if token_type_ids is not None else None\n",
        "    flat_attention_mask = attention_mask.view(-1, attention_mask.size(-1)) if attention_mask is not None else None\n",
        "    flat_inputs_embeds = (\n",
        "        inputs_embeds.view(-1, inputs_embeds.size(-2), inputs_embeds.size(-1))\n",
        "        if inputs_embeds is not None\n",
        "        else None\n",
        "    )\n",
        "\n",
        "    outputs = self.roberta(\n",
        "        flat_input_ids,\n",
        "        position_ids=flat_position_ids,\n",
        "        token_type_ids=flat_token_type_ids,\n",
        "        attention_mask=flat_attention_mask,\n",
        "        head_mask=head_mask,\n",
        "        inputs_embeds=flat_inputs_embeds,\n",
        "        output_attentions=output_attentions,\n",
        "        output_hidden_states=output_hidden_states,\n",
        "        return_dict=return_dict,\n",
        "    )\n",
        "\n",
        "    pooled_output = outputs[1]\n",
        "    \n",
        "    pooled_output = self.dropout(pooled_output)\n",
        "    \n",
        "    logits = self.classifier(pooled_output)\n",
        "    print(self.classifier.in_features,self.classifier.out_features,self.classifier.bias)\n",
        "    reshaped_logits = logits.view(-1, num_choices)\n",
        "    print(outputs[1].size(),pooled_output.size(),logits.size(),reshaped_logits.size()) \n",
        "\n",
        "    m=nn.Softmax(dim=1)\n",
        "    reshaped_logits=m(reshaped_logits)\n",
        "    loss = None\n",
        "    if labels is not None:\n",
        "        loss_fct = self.loss\n",
        "        loss = loss_fct(reshaped_logits, labels)\n",
        "    if not return_dict:\n",
        "        output = (reshaped_logits,) + outputs[2:]\n",
        "        return ((loss,) + output) if loss is not None else output\n",
        "    \n",
        "    return MultipleChoiceModelOutput(\n",
        "        loss=loss,\n",
        "        logits=reshaped_logits,\n",
        "        hidden_states=outputs.hidden_states,\n",
        "        attentions=outputs.attentions,\n",
        "    )\n",
        "from types import MethodType "
      ]
    },
    {
      "cell_type": "code",
      "execution_count": 250,
      "metadata": {
        "id": "AjKgEHM17CE9"
      },
      "outputs": [],
      "source": [
        "from statistics import mean\n",
        "def compute_metrics_old(element):\n",
        "    f_distance = lambda x,y: np.abs((x-y)).max(axis=0).mean()\n",
        "    y_pred,y_true = element\n",
        "    distance = f_distance(y_pred,y_true)\n",
        "    return distance\n",
        "    \n",
        "def crop(element):\n",
        "  y_pred,y_true = element\n",
        "  mask = y_true == -1\n",
        "  return (y_pred[~mask],y_true[~mask])\n",
        "\n",
        "\n",
        "def compute_metrics(self,batch):\n",
        "  meta = {\"name\": self.name, \"size\": len(batch.predictions), \"index\": self.index}\n",
        "  distance = mean([compute_metrics_old(crop(element)) for element in zip(batch.predictions,batch.label_ids)])\n",
        "  return {**meta, 'distance':distance}\n",
        "\n",
        "\n",
        "def mse_loss(input, target, ignored_index=-1):\n",
        "    mask = target == ignored_index\n",
        "    out = (input[~mask]-target[~mask])**2\n",
        "    return out.mean()**.5\n",
        "\n",
        "def bce_loss(input, target, ignored_index=-1):\n",
        "  loss = nn.BCELoss()\n",
        "  mask = target == ignored_index\n",
        "  out = loss(input[~mask],target[~mask])\n",
        "  return out"
      ]
    },
    {
      "attachments": {},
      "cell_type": "markdown",
      "metadata": {},
      "source": [
        "# Experiments"
      ]
    },
    {
      "attachments": {},
      "cell_type": "markdown",
      "metadata": {},
      "source": [
        "## Zeroshot"
      ]
    },
    {
      "attachments": {},
      "cell_type": "markdown",
      "metadata": {},
      "source": [
        "### Loading model"
      ]
    },
    {
      "cell_type": "code",
      "execution_count": 423,
      "metadata": {},
      "outputs": [
        {
          "ename": "AssertionError",
          "evalue": "Torch not compiled with CUDA enabled",
          "output_type": "error",
          "traceback": [
            "\u001b[1;31m---------------------------------------------------------------------------\u001b[0m",
            "\u001b[1;31mAssertionError\u001b[0m                            Traceback (most recent call last)",
            "Cell \u001b[1;32mIn[423], line 1\u001b[0m\n\u001b[1;32m----> 1\u001b[0m classifier \u001b[39m=\u001b[39m transformers\u001b[39m.\u001b[39;49mpipeline(\u001b[39m\"\u001b[39;49m\u001b[39mfill-mask\u001b[39;49m\u001b[39m\"\u001b[39;49m,device\u001b[39m=\u001b[39;49m\u001b[39m0\u001b[39;49m,model\u001b[39m=\u001b[39;49m\u001b[39m\"\u001b[39;49m\u001b[39mroberta-base\u001b[39;49m\u001b[39m\"\u001b[39;49m)\n",
            "File \u001b[1;32mc:\\Users\\Quent\\AppData\\Local\\Programs\\Python\\Python39\\lib\\site-packages\\transformers\\pipelines\\__init__.py:870\u001b[0m, in \u001b[0;36mpipeline\u001b[1;34m(task, model, config, tokenizer, feature_extractor, framework, revision, use_fast, use_auth_token, device, device_map, torch_dtype, trust_remote_code, model_kwargs, pipeline_class, **kwargs)\u001b[0m\n\u001b[0;32m    867\u001b[0m \u001b[39mif\u001b[39;00m device \u001b[39mis\u001b[39;00m \u001b[39mnot\u001b[39;00m \u001b[39mNone\u001b[39;00m:\n\u001b[0;32m    868\u001b[0m     kwargs[\u001b[39m\"\u001b[39m\u001b[39mdevice\u001b[39m\u001b[39m\"\u001b[39m] \u001b[39m=\u001b[39m device\n\u001b[1;32m--> 870\u001b[0m \u001b[39mreturn\u001b[39;00m pipeline_class(model\u001b[39m=\u001b[39mmodel, framework\u001b[39m=\u001b[39mframework, task\u001b[39m=\u001b[39mtask, \u001b[39m*\u001b[39m\u001b[39m*\u001b[39mkwargs)\n",
            "File \u001b[1;32mc:\\Users\\Quent\\AppData\\Local\\Programs\\Python\\Python39\\lib\\site-packages\\transformers\\pipelines\\base.py:778\u001b[0m, in \u001b[0;36mPipeline.__init__\u001b[1;34m(self, model, tokenizer, feature_extractor, modelcard, framework, task, args_parser, device, binary_output, **kwargs)\u001b[0m\n\u001b[0;32m    776\u001b[0m \u001b[39m# Special handling\u001b[39;00m\n\u001b[0;32m    777\u001b[0m \u001b[39mif\u001b[39;00m \u001b[39mself\u001b[39m\u001b[39m.\u001b[39mframework \u001b[39m==\u001b[39m \u001b[39m\"\u001b[39m\u001b[39mpt\u001b[39m\u001b[39m\"\u001b[39m \u001b[39mand\u001b[39;00m \u001b[39mself\u001b[39m\u001b[39m.\u001b[39mdevice\u001b[39m.\u001b[39mtype \u001b[39m!=\u001b[39m \u001b[39m\"\u001b[39m\u001b[39mcpu\u001b[39m\u001b[39m\"\u001b[39m:\n\u001b[1;32m--> 778\u001b[0m     \u001b[39mself\u001b[39m\u001b[39m.\u001b[39mmodel \u001b[39m=\u001b[39m \u001b[39mself\u001b[39;49m\u001b[39m.\u001b[39;49mmodel\u001b[39m.\u001b[39;49mto(\u001b[39mself\u001b[39;49m\u001b[39m.\u001b[39;49mdevice)\n\u001b[0;32m    780\u001b[0m \u001b[39m# Update config with task specific parameters\u001b[39;00m\n\u001b[0;32m    781\u001b[0m task_specific_params \u001b[39m=\u001b[39m \u001b[39mself\u001b[39m\u001b[39m.\u001b[39mmodel\u001b[39m.\u001b[39mconfig\u001b[39m.\u001b[39mtask_specific_params\n",
            "File \u001b[1;32mc:\\Users\\Quent\\AppData\\Local\\Programs\\Python\\Python39\\lib\\site-packages\\transformers\\modeling_utils.py:1682\u001b[0m, in \u001b[0;36mPreTrainedModel.to\u001b[1;34m(self, *args, **kwargs)\u001b[0m\n\u001b[0;32m   1677\u001b[0m     \u001b[39mraise\u001b[39;00m \u001b[39mValueError\u001b[39;00m(\n\u001b[0;32m   1678\u001b[0m         \u001b[39m\"\u001b[39m\u001b[39m`.to` is not supported for `8-bit` models. Please use the model as it is, since the\u001b[39m\u001b[39m\"\u001b[39m\n\u001b[0;32m   1679\u001b[0m         \u001b[39m\"\u001b[39m\u001b[39m model has already been set to the correct devices and casted to the correct `dtype`.\u001b[39m\u001b[39m\"\u001b[39m\n\u001b[0;32m   1680\u001b[0m     )\n\u001b[0;32m   1681\u001b[0m \u001b[39melse\u001b[39;00m:\n\u001b[1;32m-> 1682\u001b[0m     \u001b[39mreturn\u001b[39;00m \u001b[39msuper\u001b[39m()\u001b[39m.\u001b[39mto(\u001b[39m*\u001b[39margs, \u001b[39m*\u001b[39m\u001b[39m*\u001b[39mkwargs)\n",
            "File \u001b[1;32mc:\\Users\\Quent\\AppData\\Local\\Programs\\Python\\Python39\\lib\\site-packages\\torch\\nn\\modules\\module.py:989\u001b[0m, in \u001b[0;36mModule.to\u001b[1;34m(self, *args, **kwargs)\u001b[0m\n\u001b[0;32m    985\u001b[0m         \u001b[39mreturn\u001b[39;00m t\u001b[39m.\u001b[39mto(device, dtype \u001b[39mif\u001b[39;00m t\u001b[39m.\u001b[39mis_floating_point() \u001b[39mor\u001b[39;00m t\u001b[39m.\u001b[39mis_complex() \u001b[39melse\u001b[39;00m \u001b[39mNone\u001b[39;00m,\n\u001b[0;32m    986\u001b[0m                     non_blocking, memory_format\u001b[39m=\u001b[39mconvert_to_format)\n\u001b[0;32m    987\u001b[0m     \u001b[39mreturn\u001b[39;00m t\u001b[39m.\u001b[39mto(device, dtype \u001b[39mif\u001b[39;00m t\u001b[39m.\u001b[39mis_floating_point() \u001b[39mor\u001b[39;00m t\u001b[39m.\u001b[39mis_complex() \u001b[39melse\u001b[39;00m \u001b[39mNone\u001b[39;00m, non_blocking)\n\u001b[1;32m--> 989\u001b[0m \u001b[39mreturn\u001b[39;00m \u001b[39mself\u001b[39;49m\u001b[39m.\u001b[39;49m_apply(convert)\n",
            "File \u001b[1;32mc:\\Users\\Quent\\AppData\\Local\\Programs\\Python\\Python39\\lib\\site-packages\\torch\\nn\\modules\\module.py:641\u001b[0m, in \u001b[0;36mModule._apply\u001b[1;34m(self, fn)\u001b[0m\n\u001b[0;32m    639\u001b[0m \u001b[39mdef\u001b[39;00m \u001b[39m_apply\u001b[39m(\u001b[39mself\u001b[39m, fn):\n\u001b[0;32m    640\u001b[0m     \u001b[39mfor\u001b[39;00m module \u001b[39min\u001b[39;00m \u001b[39mself\u001b[39m\u001b[39m.\u001b[39mchildren():\n\u001b[1;32m--> 641\u001b[0m         module\u001b[39m.\u001b[39;49m_apply(fn)\n\u001b[0;32m    643\u001b[0m     \u001b[39mdef\u001b[39;00m \u001b[39mcompute_should_use_set_data\u001b[39m(tensor, tensor_applied):\n\u001b[0;32m    644\u001b[0m         \u001b[39mif\u001b[39;00m torch\u001b[39m.\u001b[39m_has_compatible_shallow_copy_type(tensor, tensor_applied):\n\u001b[0;32m    645\u001b[0m             \u001b[39m# If the new tensor has compatible tensor type as the existing tensor,\u001b[39;00m\n\u001b[0;32m    646\u001b[0m             \u001b[39m# the current behavior is to change the tensor in-place using `.data =`,\u001b[39;00m\n\u001b[1;32m   (...)\u001b[0m\n\u001b[0;32m    651\u001b[0m             \u001b[39m# global flag to let the user control whether they want the future\u001b[39;00m\n\u001b[0;32m    652\u001b[0m             \u001b[39m# behavior of overwriting the existing tensor or not.\u001b[39;00m\n",
            "File \u001b[1;32mc:\\Users\\Quent\\AppData\\Local\\Programs\\Python\\Python39\\lib\\site-packages\\torch\\nn\\modules\\module.py:641\u001b[0m, in \u001b[0;36mModule._apply\u001b[1;34m(self, fn)\u001b[0m\n\u001b[0;32m    639\u001b[0m \u001b[39mdef\u001b[39;00m \u001b[39m_apply\u001b[39m(\u001b[39mself\u001b[39m, fn):\n\u001b[0;32m    640\u001b[0m     \u001b[39mfor\u001b[39;00m module \u001b[39min\u001b[39;00m \u001b[39mself\u001b[39m\u001b[39m.\u001b[39mchildren():\n\u001b[1;32m--> 641\u001b[0m         module\u001b[39m.\u001b[39;49m_apply(fn)\n\u001b[0;32m    643\u001b[0m     \u001b[39mdef\u001b[39;00m \u001b[39mcompute_should_use_set_data\u001b[39m(tensor, tensor_applied):\n\u001b[0;32m    644\u001b[0m         \u001b[39mif\u001b[39;00m torch\u001b[39m.\u001b[39m_has_compatible_shallow_copy_type(tensor, tensor_applied):\n\u001b[0;32m    645\u001b[0m             \u001b[39m# If the new tensor has compatible tensor type as the existing tensor,\u001b[39;00m\n\u001b[0;32m    646\u001b[0m             \u001b[39m# the current behavior is to change the tensor in-place using `.data =`,\u001b[39;00m\n\u001b[1;32m   (...)\u001b[0m\n\u001b[0;32m    651\u001b[0m             \u001b[39m# global flag to let the user control whether they want the future\u001b[39;00m\n\u001b[0;32m    652\u001b[0m             \u001b[39m# behavior of overwriting the existing tensor or not.\u001b[39;00m\n",
            "File \u001b[1;32mc:\\Users\\Quent\\AppData\\Local\\Programs\\Python\\Python39\\lib\\site-packages\\torch\\nn\\modules\\module.py:641\u001b[0m, in \u001b[0;36mModule._apply\u001b[1;34m(self, fn)\u001b[0m\n\u001b[0;32m    639\u001b[0m \u001b[39mdef\u001b[39;00m \u001b[39m_apply\u001b[39m(\u001b[39mself\u001b[39m, fn):\n\u001b[0;32m    640\u001b[0m     \u001b[39mfor\u001b[39;00m module \u001b[39min\u001b[39;00m \u001b[39mself\u001b[39m\u001b[39m.\u001b[39mchildren():\n\u001b[1;32m--> 641\u001b[0m         module\u001b[39m.\u001b[39;49m_apply(fn)\n\u001b[0;32m    643\u001b[0m     \u001b[39mdef\u001b[39;00m \u001b[39mcompute_should_use_set_data\u001b[39m(tensor, tensor_applied):\n\u001b[0;32m    644\u001b[0m         \u001b[39mif\u001b[39;00m torch\u001b[39m.\u001b[39m_has_compatible_shallow_copy_type(tensor, tensor_applied):\n\u001b[0;32m    645\u001b[0m             \u001b[39m# If the new tensor has compatible tensor type as the existing tensor,\u001b[39;00m\n\u001b[0;32m    646\u001b[0m             \u001b[39m# the current behavior is to change the tensor in-place using `.data =`,\u001b[39;00m\n\u001b[1;32m   (...)\u001b[0m\n\u001b[0;32m    651\u001b[0m             \u001b[39m# global flag to let the user control whether they want the future\u001b[39;00m\n\u001b[0;32m    652\u001b[0m             \u001b[39m# behavior of overwriting the existing tensor or not.\u001b[39;00m\n",
            "File \u001b[1;32mc:\\Users\\Quent\\AppData\\Local\\Programs\\Python\\Python39\\lib\\site-packages\\torch\\nn\\modules\\module.py:664\u001b[0m, in \u001b[0;36mModule._apply\u001b[1;34m(self, fn)\u001b[0m\n\u001b[0;32m    660\u001b[0m \u001b[39m# Tensors stored in modules are graph leaves, and we don't want to\u001b[39;00m\n\u001b[0;32m    661\u001b[0m \u001b[39m# track autograd history of `param_applied`, so we have to use\u001b[39;00m\n\u001b[0;32m    662\u001b[0m \u001b[39m# `with torch.no_grad():`\u001b[39;00m\n\u001b[0;32m    663\u001b[0m \u001b[39mwith\u001b[39;00m torch\u001b[39m.\u001b[39mno_grad():\n\u001b[1;32m--> 664\u001b[0m     param_applied \u001b[39m=\u001b[39m fn(param)\n\u001b[0;32m    665\u001b[0m should_use_set_data \u001b[39m=\u001b[39m compute_should_use_set_data(param, param_applied)\n\u001b[0;32m    666\u001b[0m \u001b[39mif\u001b[39;00m should_use_set_data:\n",
            "File \u001b[1;32mc:\\Users\\Quent\\AppData\\Local\\Programs\\Python\\Python39\\lib\\site-packages\\torch\\nn\\modules\\module.py:987\u001b[0m, in \u001b[0;36mModule.to.<locals>.convert\u001b[1;34m(t)\u001b[0m\n\u001b[0;32m    984\u001b[0m \u001b[39mif\u001b[39;00m convert_to_format \u001b[39mis\u001b[39;00m \u001b[39mnot\u001b[39;00m \u001b[39mNone\u001b[39;00m \u001b[39mand\u001b[39;00m t\u001b[39m.\u001b[39mdim() \u001b[39min\u001b[39;00m (\u001b[39m4\u001b[39m, \u001b[39m5\u001b[39m):\n\u001b[0;32m    985\u001b[0m     \u001b[39mreturn\u001b[39;00m t\u001b[39m.\u001b[39mto(device, dtype \u001b[39mif\u001b[39;00m t\u001b[39m.\u001b[39mis_floating_point() \u001b[39mor\u001b[39;00m t\u001b[39m.\u001b[39mis_complex() \u001b[39melse\u001b[39;00m \u001b[39mNone\u001b[39;00m,\n\u001b[0;32m    986\u001b[0m                 non_blocking, memory_format\u001b[39m=\u001b[39mconvert_to_format)\n\u001b[1;32m--> 987\u001b[0m \u001b[39mreturn\u001b[39;00m t\u001b[39m.\u001b[39;49mto(device, dtype \u001b[39mif\u001b[39;49;00m t\u001b[39m.\u001b[39;49mis_floating_point() \u001b[39mor\u001b[39;49;00m t\u001b[39m.\u001b[39;49mis_complex() \u001b[39melse\u001b[39;49;00m \u001b[39mNone\u001b[39;49;00m, non_blocking)\n",
            "File \u001b[1;32mc:\\Users\\Quent\\AppData\\Local\\Programs\\Python\\Python39\\lib\\site-packages\\torch\\cuda\\__init__.py:221\u001b[0m, in \u001b[0;36m_lazy_init\u001b[1;34m()\u001b[0m\n\u001b[0;32m    217\u001b[0m     \u001b[39mraise\u001b[39;00m \u001b[39mRuntimeError\u001b[39;00m(\n\u001b[0;32m    218\u001b[0m         \u001b[39m\"\u001b[39m\u001b[39mCannot re-initialize CUDA in forked subprocess. To use CUDA with \u001b[39m\u001b[39m\"\u001b[39m\n\u001b[0;32m    219\u001b[0m         \u001b[39m\"\u001b[39m\u001b[39mmultiprocessing, you must use the \u001b[39m\u001b[39m'\u001b[39m\u001b[39mspawn\u001b[39m\u001b[39m'\u001b[39m\u001b[39m start method\u001b[39m\u001b[39m\"\u001b[39m)\n\u001b[0;32m    220\u001b[0m \u001b[39mif\u001b[39;00m \u001b[39mnot\u001b[39;00m \u001b[39mhasattr\u001b[39m(torch\u001b[39m.\u001b[39m_C, \u001b[39m'\u001b[39m\u001b[39m_cuda_getDeviceCount\u001b[39m\u001b[39m'\u001b[39m):\n\u001b[1;32m--> 221\u001b[0m     \u001b[39mraise\u001b[39;00m \u001b[39mAssertionError\u001b[39;00m(\u001b[39m\"\u001b[39m\u001b[39mTorch not compiled with CUDA enabled\u001b[39m\u001b[39m\"\u001b[39m)\n\u001b[0;32m    222\u001b[0m \u001b[39mif\u001b[39;00m _cudart \u001b[39mis\u001b[39;00m \u001b[39mNone\u001b[39;00m:\n\u001b[0;32m    223\u001b[0m     \u001b[39mraise\u001b[39;00m \u001b[39mAssertionError\u001b[39;00m(\n\u001b[0;32m    224\u001b[0m         \u001b[39m\"\u001b[39m\u001b[39mlibcudart functions unavailable. It looks like you have a broken build?\u001b[39m\u001b[39m\"\u001b[39m)\n",
            "\u001b[1;31mAssertionError\u001b[0m: Torch not compiled with CUDA enabled"
          ]
        }
      ],
      "source": [
        "classifier = transformers.pipeline(\"fill-mask\",device=0,model=\"roberta-base\")"
      ]
    },
    {
      "attachments": {},
      "cell_type": "markdown",
      "metadata": {},
      "source": [
        "### Evaluation"
      ]
    },
    {
      "attachments": {},
      "cell_type": "markdown",
      "metadata": {},
      "source": [
        "#### WVMCQ7"
      ]
    },
    {
      "cell_type": "code",
      "execution_count": 425,
      "metadata": {},
      "outputs": [
        {
          "data": {
            "text/plain": [
              "DatasetDict({\n",
              "    train: Dataset({\n",
              "        features: ['year', 'demographic', 'subject', 'demographic_category', 'choice', 'input', 'y', 'split', 'labels', '__index_level_0__'],\n",
              "        num_rows: 38272\n",
              "    })\n",
              "    test: Dataset({\n",
              "        features: ['year', 'demographic', 'subject', 'demographic_category', 'choice', 'input', 'y', 'split', 'labels', '__index_level_0__'],\n",
              "        num_rows: 0\n",
              "    })\n",
              "    validation: Dataset({\n",
              "        features: ['year', 'demographic', 'subject', 'demographic_category', 'choice', 'input', 'y', 'split', 'labels', '__index_level_0__'],\n",
              "        num_rows: 9819\n",
              "    })\n",
              "})"
            ]
          },
          "execution_count": 425,
          "metadata": {},
          "output_type": "execute_result"
        }
      ],
      "source": [
        "dataset_wvs_zeroshot"
      ]
    },
    {
      "cell_type": "code",
      "execution_count": null,
      "metadata": {},
      "outputs": [],
      "source": [
        "results_wvs_bert = []\n",
        "for example in dataset_wvs_zeroshot[\"validation\"]:\n",
        "  prediction = round(Decimal(int(classifier(example[\"input\"])[0][\"token_str\"]) / 100),2)\n",
        "  data = {\"input\":example[\"input\"],\"subject\":example[\"subject\"],\"choice\":example[\"choice\"],\"demographic\":example[\"demographic\"],\"year\":example[\"year\"],\"predictions\":prediction,\"ground_truth\":example[\"y\"]}\n",
        "  results_wvs_bert.append(data)\n",
        "pd.DataFrame(results_wvs_bert).to_csv(\"./validation_sets/roberta_wvs_results_validation.csv\")"
      ]
    },
    {
      "attachments": {},
      "cell_type": "markdown",
      "metadata": {},
      "source": [
        "#### RedditPoll350k"
      ]
    },
    {
      "cell_type": "code",
      "execution_count": null,
      "metadata": {},
      "outputs": [],
      "source": []
    },
    {
      "attachments": {},
      "cell_type": "markdown",
      "metadata": {
        "id": "4Yk-8DyWcjzj"
      },
      "source": [
        "# Finetuning"
      ]
    },
    {
      "attachments": {},
      "cell_type": "markdown",
      "metadata": {
        "id": "uqpmYS_a9Hj3"
      },
      "source": [
        "### Reddit Demo on Roberta"
      ]
    },
    {
      "cell_type": "code",
      "execution_count": 392,
      "metadata": {
        "id": "RHEXcLbn9HCg"
      },
      "outputs": [],
      "source": [
        "class args:\n",
        "    model_name = \"roberta-base\"\n",
        "    # remaining arguments are from https://huggingface.co/docs/transformers/v4.24.0/en/main_classes/trainer#transformers.TrainingArguments\n",
        "    learning_rate = 1e-5\n",
        "    num_train_epochs=3\n",
        "    per_device_train_batch_size=8\n",
        "    per_device_eval_batch_size=8\n",
        "    gradient_accumulation_steps = 8\n",
        "    max_steps = 1\n",
        "    \n",
        "\n",
        "models = tn.Model(tasks_reddit_demographics_plbrt, args,) # list of models; by default, shared encoder, task-specific CLS token task-specific head \n",
        "\n",
        "models.task_models_list[0].loss = eval(['bce_loss','mse_loss'][0])\n",
        "models.task_models_list[0].forward = MethodType(forward, models.task_models_list[0])\n",
        "tasks_reddit_demographics_plbrt[0].compute_metrics=MethodType(compute_metrics,tasks_reddit_demographics_plbrt[0])\n",
        "trainer = tn.Trainer(models, tasks_reddit_demographics_plbrt, args, tokenizer = AutoTokenizer.from_pretrained(\"roberta-large\", use_fast=True)) # tasks are uniformly sampled by default"
      ]
    },
    {
      "cell_type": "code",
      "execution_count": 393,
      "metadata": {
        "colab": {
          "base_uri": "https://localhost:8080/"
        },
        "id": "AiwVZP1ZEAMM",
        "outputId": "a13e6919-8c3f-454a-9d59-e2ad3b60837c"
      },
      "outputs": [
        {
          "name": "stderr",
          "output_type": "stream",
          "text": [
            "c:\\Users\\Quent\\AppData\\Local\\Programs\\Python\\Python39\\lib\\site-packages\\transformers\\optimization.py:306: FutureWarning: This implementation of AdamW is deprecated and will be removed in a future version. Use the PyTorch implementation torch.optim.AdamW instead, or set `no_deprecation_warning=True` to disable this warning\n",
            "  warnings.warn(\n",
            "***** Running training *****\n",
            "  Num examples = 11037\n",
            "  Num Epochs = 1\n",
            "  Instantaneous batch size per device = 8\n",
            "  Total train batch size (w. parallel, distributed & accumulation) = 64\n",
            "  Gradient Accumulation steps = 8\n",
            "  Total optimization steps = 1\n",
            "  Number of trainable parameters = 124646401\n"
          ]
        },
        {
          "data": {
            "application/vnd.jupyter.widget-view+json": {
              "model_id": "880a8a1437944237bcd84333f1f6f6b0",
              "version_major": 2,
              "version_minor": 0
            },
            "text/plain": [
              "  0%|          | 0/1 [00:00<?, ?it/s]"
            ]
          },
          "metadata": {},
          "output_type": "display_data"
        },
        {
          "name": "stderr",
          "output_type": "stream",
          "text": [
            "You're using a RobertaTokenizerFast tokenizer. Please note that with a fast tokenizer, using the `__call__` method is faster than using a method to encode the text followed by a call to the `pad` method to get a padded encoding.\n"
          ]
        },
        {
          "name": "stdout",
          "output_type": "stream",
          "text": [
            "768 1 Parameter containing:\n",
            "tensor([0.], requires_grad=True)\n",
            "torch.Size([6, 768]) torch.Size([6, 768]) torch.Size([6, 1]) torch.Size([1, 6])\n",
            "768 1 Parameter containing:\n",
            "tensor([0.], requires_grad=True)\n",
            "torch.Size([6, 768]) torch.Size([6, 768]) torch.Size([6, 1]) torch.Size([1, 6])\n"
          ]
        },
        {
          "ename": "KeyboardInterrupt",
          "evalue": "",
          "output_type": "error",
          "traceback": [
            "\u001b[1;31m---------------------------------------------------------------------------\u001b[0m",
            "\u001b[1;31mKeyboardInterrupt\u001b[0m                         Traceback (most recent call last)",
            "Cell \u001b[1;32mIn[393], line 1\u001b[0m\n\u001b[1;32m----> 1\u001b[0m trainer\u001b[39m.\u001b[39;49mtrain()\n",
            "File \u001b[1;32mc:\\Users\\Quent\\AppData\\Local\\Programs\\Python\\Python39\\lib\\site-packages\\transformers\\trainer.py:1527\u001b[0m, in \u001b[0;36mTrainer.train\u001b[1;34m(self, resume_from_checkpoint, trial, ignore_keys_for_eval, **kwargs)\u001b[0m\n\u001b[0;32m   1522\u001b[0m     \u001b[39mself\u001b[39m\u001b[39m.\u001b[39mmodel_wrapped \u001b[39m=\u001b[39m \u001b[39mself\u001b[39m\u001b[39m.\u001b[39mmodel\n\u001b[0;32m   1524\u001b[0m inner_training_loop \u001b[39m=\u001b[39m find_executable_batch_size(\n\u001b[0;32m   1525\u001b[0m     \u001b[39mself\u001b[39m\u001b[39m.\u001b[39m_inner_training_loop, \u001b[39mself\u001b[39m\u001b[39m.\u001b[39m_train_batch_size, args\u001b[39m.\u001b[39mauto_find_batch_size\n\u001b[0;32m   1526\u001b[0m )\n\u001b[1;32m-> 1527\u001b[0m \u001b[39mreturn\u001b[39;00m inner_training_loop(\n\u001b[0;32m   1528\u001b[0m     args\u001b[39m=\u001b[39;49margs,\n\u001b[0;32m   1529\u001b[0m     resume_from_checkpoint\u001b[39m=\u001b[39;49mresume_from_checkpoint,\n\u001b[0;32m   1530\u001b[0m     trial\u001b[39m=\u001b[39;49mtrial,\n\u001b[0;32m   1531\u001b[0m     ignore_keys_for_eval\u001b[39m=\u001b[39;49mignore_keys_for_eval,\n\u001b[0;32m   1532\u001b[0m )\n",
            "File \u001b[1;32mc:\\Users\\Quent\\AppData\\Local\\Programs\\Python\\Python39\\lib\\site-packages\\transformers\\trainer.py:1775\u001b[0m, in \u001b[0;36mTrainer._inner_training_loop\u001b[1;34m(self, batch_size, args, resume_from_checkpoint, trial, ignore_keys_for_eval)\u001b[0m\n\u001b[0;32m   1773\u001b[0m         tr_loss_step \u001b[39m=\u001b[39m \u001b[39mself\u001b[39m\u001b[39m.\u001b[39mtraining_step(model, inputs)\n\u001b[0;32m   1774\u001b[0m \u001b[39melse\u001b[39;00m:\n\u001b[1;32m-> 1775\u001b[0m     tr_loss_step \u001b[39m=\u001b[39m \u001b[39mself\u001b[39;49m\u001b[39m.\u001b[39;49mtraining_step(model, inputs)\n\u001b[0;32m   1777\u001b[0m \u001b[39mif\u001b[39;00m (\n\u001b[0;32m   1778\u001b[0m     args\u001b[39m.\u001b[39mlogging_nan_inf_filter\n\u001b[0;32m   1779\u001b[0m     \u001b[39mand\u001b[39;00m \u001b[39mnot\u001b[39;00m is_torch_tpu_available()\n\u001b[0;32m   1780\u001b[0m     \u001b[39mand\u001b[39;00m (torch\u001b[39m.\u001b[39misnan(tr_loss_step) \u001b[39mor\u001b[39;00m torch\u001b[39m.\u001b[39misinf(tr_loss_step))\n\u001b[0;32m   1781\u001b[0m ):\n\u001b[0;32m   1782\u001b[0m     \u001b[39m# if loss is nan or inf simply add the average of previous logged losses\u001b[39;00m\n\u001b[0;32m   1783\u001b[0m     tr_loss \u001b[39m+\u001b[39m\u001b[39m=\u001b[39m tr_loss \u001b[39m/\u001b[39m (\u001b[39m1\u001b[39m \u001b[39m+\u001b[39m \u001b[39mself\u001b[39m\u001b[39m.\u001b[39mstate\u001b[39m.\u001b[39mglobal_step \u001b[39m-\u001b[39m \u001b[39mself\u001b[39m\u001b[39m.\u001b[39m_globalstep_last_logged)\n",
            "File \u001b[1;32mc:\\Users\\Quent\\AppData\\Local\\Programs\\Python\\Python39\\lib\\site-packages\\transformers\\trainer.py:2541\u001b[0m, in \u001b[0;36mTrainer.training_step\u001b[1;34m(self, model, inputs)\u001b[0m\n\u001b[0;32m   2539\u001b[0m     loss \u001b[39m=\u001b[39m \u001b[39mself\u001b[39m\u001b[39m.\u001b[39mdeepspeed\u001b[39m.\u001b[39mbackward(loss)\n\u001b[0;32m   2540\u001b[0m \u001b[39melse\u001b[39;00m:\n\u001b[1;32m-> 2541\u001b[0m     loss\u001b[39m.\u001b[39;49mbackward()\n\u001b[0;32m   2543\u001b[0m \u001b[39mreturn\u001b[39;00m loss\u001b[39m.\u001b[39mdetach()\n",
            "File \u001b[1;32mc:\\Users\\Quent\\AppData\\Local\\Programs\\Python\\Python39\\lib\\site-packages\\torch\\_tensor.py:488\u001b[0m, in \u001b[0;36mTensor.backward\u001b[1;34m(self, gradient, retain_graph, create_graph, inputs)\u001b[0m\n\u001b[0;32m    478\u001b[0m \u001b[39mif\u001b[39;00m has_torch_function_unary(\u001b[39mself\u001b[39m):\n\u001b[0;32m    479\u001b[0m     \u001b[39mreturn\u001b[39;00m handle_torch_function(\n\u001b[0;32m    480\u001b[0m         Tensor\u001b[39m.\u001b[39mbackward,\n\u001b[0;32m    481\u001b[0m         (\u001b[39mself\u001b[39m,),\n\u001b[1;32m   (...)\u001b[0m\n\u001b[0;32m    486\u001b[0m         inputs\u001b[39m=\u001b[39minputs,\n\u001b[0;32m    487\u001b[0m     )\n\u001b[1;32m--> 488\u001b[0m torch\u001b[39m.\u001b[39;49mautograd\u001b[39m.\u001b[39;49mbackward(\n\u001b[0;32m    489\u001b[0m     \u001b[39mself\u001b[39;49m, gradient, retain_graph, create_graph, inputs\u001b[39m=\u001b[39;49minputs\n\u001b[0;32m    490\u001b[0m )\n",
            "File \u001b[1;32mc:\\Users\\Quent\\AppData\\Local\\Programs\\Python\\Python39\\lib\\site-packages\\torch\\autograd\\__init__.py:197\u001b[0m, in \u001b[0;36mbackward\u001b[1;34m(tensors, grad_tensors, retain_graph, create_graph, grad_variables, inputs)\u001b[0m\n\u001b[0;32m    192\u001b[0m     retain_graph \u001b[39m=\u001b[39m create_graph\n\u001b[0;32m    194\u001b[0m \u001b[39m# The reason we repeat same the comment below is that\u001b[39;00m\n\u001b[0;32m    195\u001b[0m \u001b[39m# some Python versions print out the first line of a multi-line function\u001b[39;00m\n\u001b[0;32m    196\u001b[0m \u001b[39m# calls in the traceback and some print out the last line\u001b[39;00m\n\u001b[1;32m--> 197\u001b[0m Variable\u001b[39m.\u001b[39;49m_execution_engine\u001b[39m.\u001b[39;49mrun_backward(  \u001b[39m# Calls into the C++ engine to run the backward pass\u001b[39;49;00m\n\u001b[0;32m    198\u001b[0m     tensors, grad_tensors_, retain_graph, create_graph, inputs,\n\u001b[0;32m    199\u001b[0m     allow_unreachable\u001b[39m=\u001b[39;49m\u001b[39mTrue\u001b[39;49;00m, accumulate_grad\u001b[39m=\u001b[39;49m\u001b[39mTrue\u001b[39;49;00m)\n",
            "\u001b[1;31mKeyboardInterrupt\u001b[0m: "
          ]
        }
      ],
      "source": [
        "trainer.train()"
      ]
    },
    {
      "attachments": {},
      "cell_type": "markdown",
      "metadata": {
        "id": "Yjc2ppv04dyl"
      },
      "source": [
        "### WVS wihtout Reddit"
      ]
    },
    {
      "cell_type": "code",
      "execution_count": null,
      "metadata": {
        "id": "auBTi9Tk4dyl"
      },
      "outputs": [],
      "source": [
        "class args:\n",
        "    model_name = \"roberta-base\"\n",
        "    # remaining arguments are from https://huggingface.co/docs/transformers/v4.24.0/en/main_classes/trainer#transformers.TrainingArguments\n",
        "    learning_rate = 1e-5\n",
        "    num_train_epochs=3\n",
        "    per_device_train_batch_size=8\n",
        "    per_device_eval_batch_size=8\n",
        "    gradient_accumulation_steps = 8\n",
        "    max_steps = 100\n",
        "    \n",
        "\n",
        "models = tn.Model(tasks_wvs, args,) # list of models; by default, shared encoder, task-specific CLS token task-specific head \n",
        "\n",
        "models.task_models_list[0].loss = eval(['bce_loss','mse_loss'][0])\n",
        "models.task_models_list[0].forward = MethodType(forward, models.task_models_list[0])\n",
        "trainer = tn.Trainer(models, tasks_wvs, args, tokenizer = AutoTokenizer.from_pretrained(\"roberta-large\", use_fast=True)) # tasks are uniformly sampled by default"
      ]
    },
    {
      "cell_type": "code",
      "execution_count": null,
      "metadata": {
        "id": "C5dSwveH4dyl"
      },
      "outputs": [],
      "source": [
        "trainer.evaluate()"
      ]
    },
    {
      "cell_type": "code",
      "execution_count": null,
      "metadata": {
        "id": "3F8xeuainGe1"
      },
      "outputs": [],
      "source": [
        "print(\"\\n ------------------------------ START \"+str(args.learning_rate)+\" & \"+str(args.num_train_epochs)+\" ---------------------------- \\n \")\n",
        "trainer.train()"
      ]
    },
    {
      "cell_type": "code",
      "execution_count": null,
      "metadata": {
        "colab": {
          "base_uri": "https://localhost:8080/",
          "height": 383
        },
        "id": "GD4H4lnf4dyl",
        "outputId": "48fab1e1-b7bc-49f9-c7ba-fa4554c46964"
      },
      "outputs": [
        {
          "name": "stderr",
          "output_type": "stream",
          "text": [
            "/usr/local/lib/python3.9/dist-packages/transformers/optimization.py:391: FutureWarning: This implementation of AdamW is deprecated and will be removed in a future version. Use the PyTorch implementation torch.optim.AdamW instead, or set `no_deprecation_warning=True` to disable this warning\n",
            "  warnings.warn(\n"
          ]
        },
        {
          "name": "stdout",
          "output_type": "stream",
          "text": [
            "\n",
            " ------------------------------ START 1e-05 & 3 ---------------------------- \n",
            " \n"
          ]
        },
        {
          "data": {
            "text/html": [
              "\n",
              "    <div>\n",
              "      \n",
              "      <progress value='5898' max='5898' style='width:300px; height:20px; vertical-align: middle;'></progress>\n",
              "      [5898/5898 1:25:37, Epoch 2/3]\n",
              "    </div>\n",
              "    <table border=\"1\" class=\"dataframe\">\n",
              "  <thead>\n",
              " <tr style=\"text-align: left;\">\n",
              "      <th>Epoch</th>\n",
              "      <th>Training Loss</th>\n",
              "      <th>Validation Loss</th>\n",
              "      <th>Name</th>\n",
              "      <th>Size</th>\n",
              "      <th>Index</th>\n",
              "      <th>Distance</th>\n",
              "    </tr>\n",
              "  </thead>\n",
              "  <tbody>\n",
              "    <tr>\n",
              "      <td>0</td>\n",
              "      <td>0.100900</td>\n",
              "      <td>0.084520</td>\n",
              "      <td></td>\n",
              "      <td>208</td>\n",
              "      <td>0</td>\n",
              "      <td>0.170294</td>\n",
              "    </tr>\n",
              "    <tr>\n",
              "      <td>1</td>\n",
              "      <td>0.079100</td>\n",
              "      <td>0.094514</td>\n",
              "      <td></td>\n",
              "      <td>208</td>\n",
              "      <td>0</td>\n",
              "      <td>0.191019</td>\n",
              "    </tr>\n",
              "    <tr>\n",
              "      <td>2</td>\n",
              "      <td>0.073900</td>\n",
              "      <td>0.115245</td>\n",
              "      <td></td>\n",
              "      <td>208</td>\n",
              "      <td>0</td>\n",
              "      <td>0.203698</td>\n",
              "    </tr>\n",
              "  </tbody>\n",
              "</table><p>"
            ],
            "text/plain": [
              "<IPython.core.display.HTML object>"
            ]
          },
          "metadata": {},
          "output_type": "display_data"
        },
        {
          "data": {
            "text/html": [
              "\n",
              "    <div>\n",
              "      \n",
              "      <progress value='416' max='208' style='width:300px; height:20px; vertical-align: middle;'></progress>\n",
              "      [208/208 28:48]\n",
              "    </div>\n",
              "    "
            ],
            "text/plain": [
              "<IPython.core.display.HTML object>"
            ]
          },
          "metadata": {},
          "output_type": "display_data"
        },
        {
          "name": "stderr",
          "output_type": "stream",
          "text": [
            "Trainer is attempting to log a value of \"\" of type <class 'str'> for key \"eval/name\" as a scalar. This invocation of Tensorboard's writer.add_scalar() is incorrect so we dropped this attribute.\n",
            "Trainer is attempting to log a value of \"\" of type <class 'str'> for key \"eval/name\" as a scalar. This invocation of Tensorboard's writer.add_scalar() is incorrect so we dropped this attribute.\n",
            "Trainer is attempting to log a value of \"\" of type <class 'str'> for key \"eval/name\" as a scalar. This invocation of Tensorboard's writer.add_scalar() is incorrect so we dropped this attribute.\n"
          ]
        },
        {
          "data": {
            "text/plain": [
              "TrainOutput(global_step=5898, training_loss=0.08463457068090481, metrics={'train_runtime': 5138.5809, 'train_samples_per_second': 9.185, 'train_steps_per_second': 1.148, 'total_flos': 3.724389567347098e+16, 'train_loss': 0.08463457068090481, 'epoch': 3.0})"
            ]
          },
          "execution_count": 25,
          "metadata": {},
          "output_type": "execute_result"
        }
      ],
      "source": [
        "print(\"\\n ------------------------------ START \"+str(args.learning_rate)+\" & \"+str(args.num_train_epochs)+\" ---------------------------- \\n \")\n",
        "trainer.train()"
      ]
    },
    {
      "cell_type": "code",
      "execution_count": null,
      "metadata": {
        "colab": {
          "base_uri": "https://localhost:8080/",
          "height": 248
        },
        "id": "ML6vpbY44yv6",
        "outputId": "466531b0-b18f-40b3-c195-14485fce6718"
      },
      "outputs": [
        {
          "data": {
            "text/html": [
              "\n",
              "    <div>\n",
              "      \n",
              "      <progress value='208' max='208' style='width:300px; height:20px; vertical-align: middle;'></progress>\n",
              "      [208/208 00:11]\n",
              "    </div>\n",
              "    "
            ],
            "text/plain": [
              "<IPython.core.display.HTML object>"
            ]
          },
          "metadata": {},
          "output_type": "display_data"
        },
        {
          "name": "stderr",
          "output_type": "stream",
          "text": [
            "Trainer is attempting to log a value of \"\" of type <class 'str'> for key \"eval/name\" as a scalar. This invocation of Tensorboard's writer.add_scalar() is incorrect so we dropped this attribute.\n"
          ]
        },
        {
          "data": {
            "text/plain": [
              "{'eval_loss': 0.12094242870807648,\n",
              " 'eval_name': '',\n",
              " 'eval_size': 208,\n",
              " 'eval_index': 0,\n",
              " 'eval_distance': 0.20369841158390045,\n",
              " 'eval_runtime': 12.0254,\n",
              " 'eval_samples_per_second': 17.297,\n",
              " 'eval_steps_per_second': 2.162,\n",
              " 'epoch': 3.0,\n",
              " 'Accuracy': nan}"
            ]
          },
          "execution_count": 26,
          "metadata": {},
          "output_type": "execute_result"
        }
      ],
      "source": [
        "trainer.evaluate()"
      ]
    },
    {
      "cell_type": "code",
      "execution_count": null,
      "metadata": {
        "id": "l_t-bqHh4vhF"
      },
      "outputs": [],
      "source": [
        "torch.cuda.empty_cache()"
      ]
    },
    {
      "attachments": {},
      "cell_type": "markdown",
      "metadata": {
        "id": "VQlfQoOL4dyn"
      },
      "source": [
        "### WVS with Reddit finetuned (Full)"
      ]
    },
    {
      "cell_type": "code",
      "execution_count": null,
      "metadata": {
        "id": "A9w1bL064dyn"
      },
      "outputs": [],
      "source": [
        "class args:\n",
        "    model_name = \"sileod/plbrt\"\n",
        "    # remaining arguments are from https://huggingface.co/docs/transformers/v4.24.0/en/main_classes/trainer#transformers.TrainingArguments\n",
        "    learning_rate = 1e-5\n",
        "    num_train_epochs=4\n",
        "    per_device_train_batch_size=8\n",
        "    per_device_eval_batch_size=8\n",
        "    gradient_accumulation_steps = 8\n",
        "\n",
        "\n",
        "models = tn.Model(tasks_wvs, args,) # list of models; by default, shared encoder, task-specific CLS token task-specific head \n",
        "\n",
        "models.task_models_list[0].loss = eval(['bce_loss','mse_loss'][1])\n",
        "models.task_models_list[0].forward = MethodType(forward, models.task_models_list[0])\n",
        "tasks_wvs[0].compute_metrics=MethodType(compute_metrics,tasks_wvs[0])\n",
        "trainer = tn.Trainer(models, tasks_wvs, args, tokenizer = AutoTokenizer.from_pretrained(\"roberta-large\", use_fast=True)) # tasks are uniformly sampled by default"
      ]
    },
    {
      "cell_type": "code",
      "execution_count": null,
      "metadata": {
        "id": "oTmx4Btt4dyn"
      },
      "outputs": [],
      "source": [
        "trainer.evaluate()"
      ]
    },
    {
      "cell_type": "code",
      "execution_count": null,
      "metadata": {
        "id": "UzBr_1uk4dyn"
      },
      "outputs": [],
      "source": [
        "print(\"\\n ------------------------------ START \"+str(args.learning_rate)+\" & \"+str(args.num_train_epochs)+\" ---------------------------- \\n \")\n",
        "trainer.train()"
      ]
    },
    {
      "cell_type": "code",
      "execution_count": null,
      "metadata": {
        "colab": {
          "base_uri": "https://localhost:8080/",
          "height": 116,
          "referenced_widgets": [
            "d1d2879d335e4dbcbade70d0bcd0b2ef",
            "d42a45aa43694ced94b95be3354a8026",
            "16f343c3de7e4402936c88c1dc88cb0d",
            "06ad674df17841df84e32e52a45250d0",
            "d09fb13324b64e178a7039ad18ea34ae",
            "da9a9e1c52b44c29b84e16854e4882cf",
            "1517a392caf5426c91323b643ec19f5d",
            "e211b63f6fec4b7d861b8f23b791976a",
            "b9b49361bfec4e1a85b792a15ce1d5e8",
            "76e57a062441478a9c202716170fc334",
            "84778feb064644f8b2c1368dade5aa88",
            "b07b2d8423944abda2567fd88460e7f0",
            "78131fa63e0746b990f18ca6baff1a8f",
            "79567f8682374474a9ee8e46f7e264e4",
            "d29bce796173479592dcc2a6d87f9506",
            "d1d5a89e0fff4597a31bf7fb236575fb",
            "560d475f9e7a40aea1e5a5f150b3fba5",
            "98c4240ab54e4da1be6c581f21937b78",
            "697e5bed2c4b4f279f42c913ae8b8052",
            "53ffe76e4ac74ef18ade471858a932e5",
            "d68dd9a03e124bb69a2d01f78a6fac8a",
            "d6f417660ddf4f87967b23c7a03f84ff"
          ]
        },
        "id": "SpaO_ENbosQb",
        "outputId": "2d4400de-5aa4-47fc-98a9-dbbf28f81236"
      },
      "outputs": [
        {
          "data": {
            "application/vnd.jupyter.widget-view+json": {
              "model_id": "d1d2879d335e4dbcbade70d0bcd0b2ef",
              "version_major": 2,
              "version_minor": 0
            },
            "text/plain": [
              "Upload 1 LFS files:   0%|          | 0/1 [00:00<?, ?it/s]"
            ]
          },
          "metadata": {},
          "output_type": "display_data"
        },
        {
          "data": {
            "application/vnd.jupyter.widget-view+json": {
              "model_id": "b07b2d8423944abda2567fd88460e7f0",
              "version_major": 2,
              "version_minor": 0
            },
            "text/plain": [
              "pytorch_model.bin:   0%|          | 0.00/499M [00:00<?, ?B/s]"
            ]
          },
          "metadata": {},
          "output_type": "display_data"
        },
        {
          "data": {
            "text/plain": [
              "CommitInfo(commit_url='https://huggingface.co/Qubix/RoBERTa-WVSMCQ7/commit/33c1374113124445e6168c49527f0b084f70ca26', commit_message='Upload RobertaForMultipleChoice', commit_description='', oid='33c1374113124445e6168c49527f0b084f70ca26', pr_url=None, pr_revision=None, pr_num=None)"
            ]
          },
          "execution_count": 28,
          "metadata": {},
          "output_type": "execute_result"
        }
      ],
      "source": [
        "trainer.model.task_models_list[0].push_to_hub(\"Qubix/RoBERTa-WVSMCQ7\")"
      ]
    },
    {
      "cell_type": "code",
      "execution_count": null,
      "metadata": {
        "id": "ySvVmKfOp87B"
      },
      "outputs": [],
      "source": [
        "class args:\n",
        "    model_name = \"Qubix/RoBERTa-WVSMCQ7\"\n",
        "    # remaining arguments are from https://huggingface.co/docs/transformers/v4.24.0/en/main_classes/trainer#transformers.TrainingArguments\n",
        "    learning_rate = 1e-5\n",
        "    num_train_epochs=4\n",
        "    per_device_train_batch_size=8\n",
        "    per_device_eval_batch_size=8\n",
        "    gradient_accumulation_steps = 8\n",
        "\n",
        "\n",
        "models = tn.Model(tasks_wvs, args,) # list of models; by default, shared encoder, task-specific CLS token task-specific head \n",
        "\n",
        "models.task_models_list[0].loss = eval(['bce_loss','mse_loss'][1])\n",
        "models.task_models_list[0].forward = MethodType(forward, models.task_models_list[0])\n",
        "tasks_wvs[0].compute_metrics=MethodType(compute_metrics,tasks_wvs[0])\n",
        "trainer = tn.Trainer(models, tasks_wvs, args, tokenizer = AutoTokenizer.from_pretrained(\"roberta-large\", use_fast=True)) # tasks are uniformly sampled by default"
      ]
    },
    {
      "cell_type": "code",
      "execution_count": null,
      "metadata": {
        "id": "Uc33v_DdqFoM"
      },
      "outputs": [],
      "source": [
        "trainer.evaluate()"
      ]
    },
    {
      "cell_type": "code",
      "execution_count": null,
      "metadata": {
        "id": "gGIuXp5o4ubI"
      },
      "outputs": [],
      "source": [
        "torch.cuda.empty_cache()"
      ]
    },
    {
      "cell_type": "code",
      "execution_count": null,
      "metadata": {
        "id": "zkAx9EHpqHlv"
      },
      "outputs": [],
      "source": [
        "class args:\n",
        "    model_name = \"Qubix/RoBERTa-WVSMCQ7\"\n",
        "    # remaining arguments are from https://huggingface.co/docs/transformers/v4.24.0/en/main_classes/trainer#transformers.TrainingArguments\n",
        "    learning_rate = 1e-5\n",
        "    num_train_epochs=3\n",
        "    per_device_train_batch_size=8\n",
        "    per_device_eval_batch_size=8\n",
        "    gradient_accumulation_steps = 8\n",
        "    max_steps=128\n",
        "\n",
        "\n",
        "models = tn.Model(tasks_reddit_demographics_plbrt, args,) # list of models; by default, shared encoder, task-specific CLS token task-specific head \n",
        "\n",
        "models.task_models_list[0].loss = eval(['bce_loss','mse_loss'][1])\n",
        "models.task_models_list[0].forward = MethodType(forward, models.task_models_list[0])\n",
        "tasks_reddit_demographics_plbrt[0].compute_metrics=MethodType(compute_metrics,tasks_reddit_demographics_plbrt[0])\n",
        "trainer = tn.Trainer(models, tasks_reddit_demographics_plbrt, args, tokenizer = AutoTokenizer.from_pretrained(\"roberta-large\", use_fast=True)) # tasks are uniformly sampled by default"
      ]
    },
    {
      "cell_type": "code",
      "execution_count": null,
      "metadata": {
        "colab": {
          "base_uri": "https://localhost:8080/",
          "height": 248
        },
        "id": "e0HGNynhqNHX",
        "outputId": "25b26156-a17b-4d6e-9622-051d1bae57cd"
      },
      "outputs": [
        {
          "name": "stderr",
          "output_type": "stream",
          "text": [
            "You're using a RobertaTokenizerFast tokenizer. Please note that with a fast tokenizer, using the `__call__` method is faster than using a method to encode the text followed by a call to the `pad` method to get a padded encoding.\n"
          ]
        },
        {
          "data": {
            "text/html": [
              "\n",
              "    <div>\n",
              "      \n",
              "      <progress value='209' max='209' style='width:300px; height:20px; vertical-align: middle;'></progress>\n",
              "      [209/209 00:11]\n",
              "    </div>\n",
              "    "
            ],
            "text/plain": [
              "<IPython.core.display.HTML object>"
            ]
          },
          "metadata": {},
          "output_type": "display_data"
        },
        {
          "name": "stderr",
          "output_type": "stream",
          "text": [
            "Trainer is attempting to log a value of \"\" of type <class 'str'> for key \"eval/name\" as a scalar. This invocation of Tensorboard's writer.add_scalar() is incorrect so we dropped this attribute.\n"
          ]
        },
        {
          "data": {
            "text/plain": [
              "{'eval_loss': 0.2991941273212433,\n",
              " 'eval_name': '',\n",
              " 'eval_size': 209,\n",
              " 'eval_index': 0,\n",
              " 'eval_distance': 0.34720391035079956,\n",
              " 'eval_runtime': 11.6235,\n",
              " 'eval_samples_per_second': 17.981,\n",
              " 'eval_steps_per_second': 2.323,\n",
              " 'Accuracy': nan}"
            ]
          },
          "execution_count": 53,
          "metadata": {},
          "output_type": "execute_result"
        }
      ],
      "source": [
        "trainer.evaluate()"
      ]
    },
    {
      "cell_type": "code",
      "execution_count": null,
      "metadata": {
        "id": "gmaAoS43uBk5"
      },
      "outputs": [],
      "source": [
        "class args:\n",
        "    model_name = \"sileod/plbrt\"\n",
        "    # remaining arguments are from https://huggingface.co/docs/transformers/v4.24.0/en/main_classes/trainer#transformers.TrainingArguments\n",
        "    learning_rate = 1e-5\n",
        "    num_train_epochs=3\n",
        "    per_device_train_batch_size=8\n",
        "    per_device_eval_batch_size=8\n",
        "    gradient_accumulation_steps = 8\n",
        "    max_steps=128\n",
        "\n",
        "\n",
        "models = tn.Model(tasks_reddit_demographics_plbrt, args,) # list of models; by default, shared encoder, task-specific CLS token task-specific head \n",
        "\n",
        "models.task_models_list[0].loss = eval(['bce_loss','mse_loss'][1])\n",
        "models.task_models_list[0].forward = MethodType(forward, models.task_models_list[0])\n",
        "tasks_reddit_demographics_plbrt[0].compute_metrics=MethodType(compute_metrics,tasks_reddit_demographics_plbrt[0])\n",
        "trainer = tn.Trainer(models, tasks_reddit_demographics_plbrt, args, tokenizer = AutoTokenizer.from_pretrained(\"roberta-large\", use_fast=True)) # tasks are uniformly sampled by default"
      ]
    },
    {
      "cell_type": "code",
      "execution_count": null,
      "metadata": {
        "colab": {
          "base_uri": "https://localhost:8080/",
          "height": 248
        },
        "id": "p7zykhCbuGZ2",
        "outputId": "70e6c629-21ba-4c23-9666-0aa583d1d84c"
      },
      "outputs": [
        {
          "name": "stderr",
          "output_type": "stream",
          "text": [
            "You're using a RobertaTokenizerFast tokenizer. Please note that with a fast tokenizer, using the `__call__` method is faster than using a method to encode the text followed by a call to the `pad` method to get a padded encoding.\n"
          ]
        },
        {
          "data": {
            "text/html": [
              "\n",
              "    <div>\n",
              "      \n",
              "      <progress value='209' max='209' style='width:300px; height:20px; vertical-align: middle;'></progress>\n",
              "      [209/209 00:14]\n",
              "    </div>\n",
              "    "
            ],
            "text/plain": [
              "<IPython.core.display.HTML object>"
            ]
          },
          "metadata": {},
          "output_type": "display_data"
        },
        {
          "name": "stderr",
          "output_type": "stream",
          "text": [
            "Trainer is attempting to log a value of \"\" of type <class 'str'> for key \"eval/name\" as a scalar. This invocation of Tensorboard's writer.add_scalar() is incorrect so we dropped this attribute.\n"
          ]
        },
        {
          "data": {
            "text/plain": [
              "{'eval_loss': 0.3640327751636505,\n",
              " 'eval_name': '',\n",
              " 'eval_size': 209,\n",
              " 'eval_index': 0,\n",
              " 'eval_distance': 0.5242656469345093,\n",
              " 'eval_runtime': 14.946,\n",
              " 'eval_samples_per_second': 13.984,\n",
              " 'eval_steps_per_second': 1.807,\n",
              " 'Accuracy': nan}"
            ]
          },
          "execution_count": 55,
          "metadata": {},
          "output_type": "execute_result"
        }
      ],
      "source": [
        "trainer.evaluate()"
      ]
    },
    {
      "attachments": {},
      "cell_type": "markdown",
      "metadata": {
        "id": "1NisRdbi4dyo"
      },
      "source": [
        "### Reddit with Reddit finetuned (Full)"
      ]
    },
    {
      "attachments": {},
      "cell_type": "markdown",
      "metadata": {
        "id": "IJZ8qMly0SoL"
      },
      "source": [
        "#### Hyperparameters GRID SEARCH"
      ]
    },
    {
      "attachments": {},
      "cell_type": "markdown",
      "metadata": {
        "id": "YfTyBZp4S1Gk"
      },
      "source": [
        "~ 2:20:40 for first combination"
      ]
    },
    {
      "cell_type": "code",
      "execution_count": null,
      "metadata": {
        "colab": {
          "base_uri": "https://localhost:8080/",
          "height": 346
        },
        "id": "U7dhpc5T-WbE",
        "outputId": "14ad3ee0-b479-421b-91b8-cf714f15c238"
      },
      "outputs": [
        {
          "name": "stderr",
          "output_type": "stream",
          "text": [
            "You're using a RobertaTokenizerFast tokenizer. Please note that with a fast tokenizer, using the `__call__` method is faster than using a method to encode the text followed by a call to the `pad` method to get a padded encoding.\n"
          ]
        },
        {
          "name": "stdout",
          "output_type": "stream",
          "text": [
            "\n",
            " ------------------------------ START 0.0001 & 4 ---------------------------- \n",
            " \n"
          ]
        },
        {
          "data": {
            "text/html": [
              "\n",
              "    <div>\n",
              "      \n",
              "      <progress value='8277' max='8277' style='width:300px; height:20px; vertical-align: middle;'></progress>\n",
              "      [8277/8277 2:20:40, Epoch 2/3]\n",
              "    </div>\n",
              "    <table border=\"1\" class=\"dataframe\">\n",
              "  <thead>\n",
              " <tr style=\"text-align: left;\">\n",
              "      <th>Epoch</th>\n",
              "      <th>Training Loss</th>\n",
              "      <th>Validation Loss</th>\n",
              "      <th>Name</th>\n",
              "      <th>Size</th>\n",
              "      <th>Index</th>\n",
              "      <th>Distance</th>\n",
              "    </tr>\n",
              "  </thead>\n",
              "  <tbody>\n",
              "    <tr>\n",
              "      <td>0</td>\n",
              "      <td>0.389500</td>\n",
              "      <td>0.368831</td>\n",
              "      <td></td>\n",
              "      <td>254</td>\n",
              "      <td>0</td>\n",
              "      <td>0.533278</td>\n",
              "    </tr>\n",
              "    <tr>\n",
              "      <td>1</td>\n",
              "      <td>0.390000</td>\n",
              "      <td>0.380050</td>\n",
              "      <td></td>\n",
              "      <td>254</td>\n",
              "      <td>0</td>\n",
              "      <td>0.533278</td>\n",
              "    </tr>\n",
              "    <tr>\n",
              "      <td>2</td>\n",
              "      <td>0.385900</td>\n",
              "      <td>0.366642</td>\n",
              "      <td></td>\n",
              "      <td>254</td>\n",
              "      <td>0</td>\n",
              "      <td>0.533278</td>\n",
              "    </tr>\n",
              "  </tbody>\n",
              "</table><p>"
            ],
            "text/plain": [
              "<IPython.core.display.HTML object>"
            ]
          },
          "metadata": {},
          "output_type": "display_data"
        },
        {
          "name": "stderr",
          "output_type": "stream",
          "text": [
            "Trainer is attempting to log a value of \"\" of type <class 'str'> for key \"eval/name\" as a scalar. This invocation of Tensorboard's writer.add_scalar() is incorrect so we dropped this attribute.\n",
            "Trainer is attempting to log a value of \"\" of type <class 'str'> for key \"eval/name\" as a scalar. This invocation of Tensorboard's writer.add_scalar() is incorrect so we dropped this attribute.\n",
            "Trainer is attempting to log a value of \"\" of type <class 'str'> for key \"eval/name\" as a scalar. This invocation of Tensorboard's writer.add_scalar() is incorrect so we dropped this attribute.\n"
          ]
        },
        {
          "data": {
            "text/plain": [
              "TrainOutput(global_step=8277, training_loss=0.38846958958182315, metrics={'train_runtime': 8440.8129, 'train_samples_per_second': 3.923, 'train_steps_per_second': 0.981, 'total_flos': 2.613324215745331e+16, 'train_loss': 0.38846958958182315, 'epoch': 3.0})"
            ]
          },
          "execution_count": 182,
          "metadata": {},
          "output_type": "execute_result"
        }
      ],
      "source": [
        "lr= 1e-4\n",
        "bs = 4\n",
        "class args:\n",
        "    model_name = \"sileod/plbrt\"\n",
        "    # remaining arguments are from https://huggingface.co/docs/transformers/v4.24.0/en/main_classes/trainer#transformers.TrainingArguments\n",
        "    learning_rate = lr\n",
        "    num_train_epochs=3\n",
        "    per_device_train_batch_size=bs\n",
        "    per_device_eval_batch_size=bs\n",
        "    gradient_accumulation_steps = bs\n",
        "    #max_steps=128\n",
        "\n",
        "\n",
        "models = tn.Model(tasks_reddit_demographics_plbrt, args,) # list of models; by default, shared encoder, task-specific CLS token task-specific head \n",
        "\n",
        "models.task_models_list[0].loss = eval(['bce_loss','mse_loss'][1])\n",
        "models.task_models_list[0].forward = MethodType(forward, models.task_models_list[0])\n",
        "tasks_reddit_demographics_plbrt[0].compute_metrics=MethodType(compute_metrics,tasks_reddit_demographics_plbrt[0])\n",
        "trainer = tn.Trainer(models, tasks_reddit_demographics_plbrt, args, tokenizer = AutoTokenizer.from_pretrained(\"roberta-large\", use_fast=True)) # tasks are uniformly sampled by default\n",
        "print(\"\\n ------------------------------ START \"+str(args.learning_rate)+\" & \"+str(args.per_device_train_batch_size)+\" ---------------------------- \\n \")\n",
        "trainer.train()"
      ]
    },
    {
      "attachments": {},
      "cell_type": "markdown",
      "metadata": {
        "id": "qoO04eaAS5WY"
      },
      "source": [
        "~  1:11:54 for second combination"
      ]
    },
    {
      "cell_type": "code",
      "execution_count": null,
      "metadata": {
        "colab": {
          "base_uri": "https://localhost:8080/",
          "height": 346
        },
        "id": "YSGx3Rmg-XLP",
        "outputId": "bf0d1586-46b1-442b-8e19-6e7b74ee7f43"
      },
      "outputs": [
        {
          "name": "stderr",
          "output_type": "stream",
          "text": [
            "You're using a RobertaTokenizerFast tokenizer. Please note that with a fast tokenizer, using the `__call__` method is faster than using a method to encode the text followed by a call to the `pad` method to get a padded encoding.\n"
          ]
        },
        {
          "name": "stdout",
          "output_type": "stream",
          "text": [
            "\n",
            " ------------------------------ START 0.0001 & 8 ---------------------------- \n",
            " \n"
          ]
        },
        {
          "data": {
            "text/html": [
              "\n",
              "    <div>\n",
              "      \n",
              "      <progress value='4137' max='4137' style='width:300px; height:20px; vertical-align: middle;'></progress>\n",
              "      [4137/4137 1:11:54, Epoch 2/3]\n",
              "    </div>\n",
              "    <table border=\"1\" class=\"dataframe\">\n",
              "  <thead>\n",
              " <tr style=\"text-align: left;\">\n",
              "      <th>Epoch</th>\n",
              "      <th>Training Loss</th>\n",
              "      <th>Validation Loss</th>\n",
              "      <th>Name</th>\n",
              "      <th>Size</th>\n",
              "      <th>Index</th>\n",
              "      <th>Distance</th>\n",
              "    </tr>\n",
              "  </thead>\n",
              "  <tbody>\n",
              "    <tr>\n",
              "      <td>0</td>\n",
              "      <td>0.389700</td>\n",
              "      <td>0.378001</td>\n",
              "      <td></td>\n",
              "      <td>254</td>\n",
              "      <td>0</td>\n",
              "      <td>0.533278</td>\n",
              "    </tr>\n",
              "    <tr>\n",
              "      <td>1</td>\n",
              "      <td>0.388600</td>\n",
              "      <td>0.369769</td>\n",
              "      <td></td>\n",
              "      <td>254</td>\n",
              "      <td>0</td>\n",
              "      <td>0.533278</td>\n",
              "    </tr>\n",
              "    <tr>\n",
              "      <td>2</td>\n",
              "      <td>0.344200</td>\n",
              "      <td>0.255908</td>\n",
              "      <td></td>\n",
              "      <td>254</td>\n",
              "      <td>0</td>\n",
              "      <td>0.279023</td>\n",
              "    </tr>\n",
              "  </tbody>\n",
              "</table><p>"
            ],
            "text/plain": [
              "<IPython.core.display.HTML object>"
            ]
          },
          "metadata": {},
          "output_type": "display_data"
        },
        {
          "name": "stderr",
          "output_type": "stream",
          "text": [
            "Trainer is attempting to log a value of \"\" of type <class 'str'> for key \"eval/name\" as a scalar. This invocation of Tensorboard's writer.add_scalar() is incorrect so we dropped this attribute.\n",
            "Trainer is attempting to log a value of \"\" of type <class 'str'> for key \"eval/name\" as a scalar. This invocation of Tensorboard's writer.add_scalar() is incorrect so we dropped this attribute.\n",
            "Trainer is attempting to log a value of \"\" of type <class 'str'> for key \"eval/name\" as a scalar. This invocation of Tensorboard's writer.add_scalar() is incorrect so we dropped this attribute.\n"
          ]
        },
        {
          "data": {
            "text/plain": [
              "TrainOutput(global_step=4137, training_loss=0.3741645102976946, metrics={'train_runtime': 4315.023, 'train_samples_per_second': 7.673, 'train_steps_per_second': 0.959, 'total_flos': 2.6123770159570944e+16, 'train_loss': 0.3741645102976946, 'epoch': 3.0})"
            ]
          },
          "execution_count": 183,
          "metadata": {},
          "output_type": "execute_result"
        }
      ],
      "source": [
        "lr= 1e-4\n",
        "bs = 8\n",
        "class args:\n",
        "    model_name = \"sileod/plbrt\"\n",
        "    # remaining arguments are from https://huggingface.co/docs/transformers/v4.24.0/en/main_classes/trainer#transformers.TrainingArguments\n",
        "    learning_rate = lr\n",
        "    num_train_epochs=3\n",
        "    per_device_train_batch_size=bs\n",
        "    per_device_eval_batch_size=bs\n",
        "    gradient_accumulation_steps = bs\n",
        "    #max_steps=128\n",
        "\n",
        "\n",
        "models = tn.Model(tasks_reddit_demographics_plbrt, args,) # list of models; by default, shared encoder, task-specific CLS token task-specific head \n",
        "\n",
        "models.task_models_list[0].loss = eval(['bce_loss','mse_loss'][1])\n",
        "models.task_models_list[0].forward = MethodType(forward, models.task_models_list[0])\n",
        "tasks_reddit_demographics_plbrt[0].compute_metrics=MethodType(compute_metrics,tasks_reddit_demographics_plbrt[0])\n",
        "trainer = tn.Trainer(models, tasks_reddit_demographics_plbrt, args, tokenizer = AutoTokenizer.from_pretrained(\"roberta-large\", use_fast=True)) # tasks are uniformly sampled by default\n",
        "print(\"\\n ------------------------------ START \"+str(args.learning_rate)+\" & \"+str(args.per_device_train_batch_size)+\" ---------------------------- \\n \")\n",
        "trainer.train()"
      ]
    },
    {
      "attachments": {},
      "cell_type": "markdown",
      "metadata": {
        "id": "FkmlAHOzTTng"
      },
      "source": [
        "~ 53:47 for third combination"
      ]
    },
    {
      "cell_type": "code",
      "execution_count": null,
      "metadata": {
        "colab": {
          "base_uri": "https://localhost:8080/",
          "height": 346
        },
        "id": "2MBYGT6--YHE",
        "outputId": "e54d89df-e65c-4b66-d992-00698aa02500"
      },
      "outputs": [
        {
          "name": "stderr",
          "output_type": "stream",
          "text": [
            "You're using a RobertaTokenizerFast tokenizer. Please note that with a fast tokenizer, using the `__call__` method is faster than using a method to encode the text followed by a call to the `pad` method to get a padded encoding.\n"
          ]
        },
        {
          "name": "stdout",
          "output_type": "stream",
          "text": [
            "\n",
            " ------------------------------ START 0.0001 & 16 ---------------------------- \n",
            " \n"
          ]
        },
        {
          "data": {
            "text/html": [
              "\n",
              "    <div>\n",
              "      \n",
              "      <progress value='1032' max='1032' style='width:300px; height:20px; vertical-align: middle;'></progress>\n",
              "      [1032/1032 53:47, Epoch 2/3]\n",
              "    </div>\n",
              "    <table border=\"1\" class=\"dataframe\">\n",
              "  <thead>\n",
              " <tr style=\"text-align: left;\">\n",
              "      <th>Epoch</th>\n",
              "      <th>Training Loss</th>\n",
              "      <th>Validation Loss</th>\n",
              "      <th>Name</th>\n",
              "      <th>Size</th>\n",
              "      <th>Index</th>\n",
              "      <th>Distance</th>\n",
              "    </tr>\n",
              "  </thead>\n",
              "  <tbody>\n",
              "    <tr>\n",
              "      <td>0</td>\n",
              "      <td>0.269700</td>\n",
              "      <td>0.227759</td>\n",
              "      <td></td>\n",
              "      <td>254</td>\n",
              "      <td>0</td>\n",
              "      <td>0.254176</td>\n",
              "    </tr>\n",
              "    <tr>\n",
              "      <td>1</td>\n",
              "      <td>0.239700</td>\n",
              "      <td>0.210592</td>\n",
              "      <td></td>\n",
              "      <td>254</td>\n",
              "      <td>0</td>\n",
              "      <td>0.241543</td>\n",
              "    </tr>\n",
              "    <tr>\n",
              "      <td>2</td>\n",
              "      <td>0.233900</td>\n",
              "      <td>0.230469</td>\n",
              "      <td></td>\n",
              "      <td>254</td>\n",
              "      <td>0</td>\n",
              "      <td>0.242492</td>\n",
              "    </tr>\n",
              "  </tbody>\n",
              "</table><p>"
            ],
            "text/plain": [
              "<IPython.core.display.HTML object>"
            ]
          },
          "metadata": {},
          "output_type": "display_data"
        },
        {
          "name": "stderr",
          "output_type": "stream",
          "text": [
            "Trainer is attempting to log a value of \"\" of type <class 'str'> for key \"eval/name\" as a scalar. This invocation of Tensorboard's writer.add_scalar() is incorrect so we dropped this attribute.\n",
            "Trainer is attempting to log a value of \"\" of type <class 'str'> for key \"eval/name\" as a scalar. This invocation of Tensorboard's writer.add_scalar() is incorrect so we dropped this attribute.\n",
            "Trainer is attempting to log a value of \"\" of type <class 'str'> for key \"eval/name\" as a scalar. This invocation of Tensorboard's writer.add_scalar() is incorrect so we dropped this attribute.\n"
          ]
        },
        {
          "data": {
            "text/plain": [
              "TrainOutput(global_step=1032, training_loss=0.24776996198550674, metrics={'train_runtime': 3230.4743, 'train_samples_per_second': 10.25, 'train_steps_per_second': 0.319, 'total_flos': 2.606535950596301e+16, 'train_loss': 0.24776996198550674, 'epoch': 2.99})"
            ]
          },
          "execution_count": 184,
          "metadata": {},
          "output_type": "execute_result"
        }
      ],
      "source": [
        "lr= 1e-4\n",
        "bs = 16\n",
        "class args:\n",
        "    model_name = \"sileod/plbrt\"\n",
        "    # remaining arguments are from https://huggingface.co/docs/transformers/v4.24.0/en/main_classes/trainer#transformers.TrainingArguments\n",
        "    learning_rate = lr\n",
        "    num_train_epochs=3\n",
        "    per_device_train_batch_size=bs\n",
        "    per_device_eval_batch_size=bs\n",
        "    gradient_accumulation_steps = bs\n",
        "    #max_steps=128\n",
        "\n",
        "\n",
        "models = tn.Model(tasks_reddit_demographics_plbrt, args,) # list of models; by default, shared encoder, task-specific CLS token task-specific head \n",
        "\n",
        "models.task_models_list[0].loss = eval(['bce_loss','mse_loss'][1])\n",
        "models.task_models_list[0].forward = MethodType(forward, models.task_models_list[0])\n",
        "tasks_reddit_demographics_plbrt[0].compute_metrics=MethodType(compute_metrics,tasks_reddit_demographics_plbrt[0])\n",
        "trainer = tn.Trainer(models, tasks_reddit_demographics_plbrt, args, tokenizer = AutoTokenizer.from_pretrained(\"roberta-large\", use_fast=True)) # tasks are uniformly sampled by default\n",
        "print(\"\\n ------------------------------ START \"+str(args.learning_rate)+\" & \"+str(args.per_device_train_batch_size)+\" ---------------------------- \\n \")\n",
        "trainer.train()"
      ]
    },
    {
      "attachments": {},
      "cell_type": "markdown",
      "metadata": {
        "id": "td95DaoiTVs3"
      },
      "source": [
        "~ for  2:19:44 fourth combination"
      ]
    },
    {
      "cell_type": "code",
      "execution_count": null,
      "metadata": {
        "colab": {
          "base_uri": "https://localhost:8080/",
          "height": 346
        },
        "id": "B1xNXpQH-YyG",
        "outputId": "e5f88d2f-7f72-458a-c60d-96ac16f6b5f4"
      },
      "outputs": [
        {
          "name": "stderr",
          "output_type": "stream",
          "text": [
            "You're using a RobertaTokenizerFast tokenizer. Please note that with a fast tokenizer, using the `__call__` method is faster than using a method to encode the text followed by a call to the `pad` method to get a padded encoding.\n"
          ]
        },
        {
          "name": "stdout",
          "output_type": "stream",
          "text": [
            "\n",
            " ------------------------------ START 1e-05 & 4 ---------------------------- \n",
            " \n"
          ]
        },
        {
          "data": {
            "text/html": [
              "\n",
              "    <div>\n",
              "      \n",
              "      <progress value='8277' max='8277' style='width:300px; height:20px; vertical-align: middle;'></progress>\n",
              "      [8277/8277 2:19:44, Epoch 2/3]\n",
              "    </div>\n",
              "    <table border=\"1\" class=\"dataframe\">\n",
              "  <thead>\n",
              " <tr style=\"text-align: left;\">\n",
              "      <th>Epoch</th>\n",
              "      <th>Training Loss</th>\n",
              "      <th>Validation Loss</th>\n",
              "      <th>Name</th>\n",
              "      <th>Size</th>\n",
              "      <th>Index</th>\n",
              "      <th>Distance</th>\n",
              "    </tr>\n",
              "  </thead>\n",
              "  <tbody>\n",
              "    <tr>\n",
              "      <td>0</td>\n",
              "      <td>0.247400</td>\n",
              "      <td>0.195566</td>\n",
              "      <td></td>\n",
              "      <td>254</td>\n",
              "      <td>0</td>\n",
              "      <td>0.244280</td>\n",
              "    </tr>\n",
              "    <tr>\n",
              "      <td>1</td>\n",
              "      <td>0.218100</td>\n",
              "      <td>0.220026</td>\n",
              "      <td></td>\n",
              "      <td>254</td>\n",
              "      <td>0</td>\n",
              "      <td>0.242190</td>\n",
              "    </tr>\n",
              "    <tr>\n",
              "      <td>2</td>\n",
              "      <td>0.217200</td>\n",
              "      <td>0.196327</td>\n",
              "      <td></td>\n",
              "      <td>254</td>\n",
              "      <td>0</td>\n",
              "      <td>0.240249</td>\n",
              "    </tr>\n",
              "  </tbody>\n",
              "</table><p>"
            ],
            "text/plain": [
              "<IPython.core.display.HTML object>"
            ]
          },
          "metadata": {},
          "output_type": "display_data"
        },
        {
          "name": "stderr",
          "output_type": "stream",
          "text": [
            "Trainer is attempting to log a value of \"\" of type <class 'str'> for key \"eval/name\" as a scalar. This invocation of Tensorboard's writer.add_scalar() is incorrect so we dropped this attribute.\n",
            "Trainer is attempting to log a value of \"\" of type <class 'str'> for key \"eval/name\" as a scalar. This invocation of Tensorboard's writer.add_scalar() is incorrect so we dropped this attribute.\n",
            "Trainer is attempting to log a value of \"\" of type <class 'str'> for key \"eval/name\" as a scalar. This invocation of Tensorboard's writer.add_scalar() is incorrect so we dropped this attribute.\n"
          ]
        },
        {
          "data": {
            "text/plain": [
              "TrainOutput(global_step=8277, training_loss=0.227559931110872, metrics={'train_runtime': 8384.4201, 'train_samples_per_second': 3.949, 'train_steps_per_second': 0.987, 'total_flos': 2.613324215745331e+16, 'train_loss': 0.227559931110872, 'epoch': 3.0})"
            ]
          },
          "execution_count": 185,
          "metadata": {},
          "output_type": "execute_result"
        }
      ],
      "source": [
        "lr= 1e-5\n",
        "bs = 4\n",
        "class args:\n",
        "    model_name = \"sileod/plbrt\"\n",
        "    # remaining arguments are from https://huggingface.co/docs/transformers/v4.24.0/en/main_classes/trainer#transformers.TrainingArguments\n",
        "    learning_rate = lr\n",
        "    num_train_epochs=3\n",
        "    per_device_train_batch_size=bs\n",
        "    per_device_eval_batch_size=bs\n",
        "    gradient_accumulation_steps = bs\n",
        "    #max_steps=128\n",
        "\n",
        "\n",
        "models = tn.Model(tasks_reddit_demographics_plbrt, args,) # list of models; by default, shared encoder, task-specific CLS token task-specific head \n",
        "\n",
        "models.task_models_list[0].loss = eval(['bce_loss','mse_loss'][1])\n",
        "models.task_models_list[0].forward = MethodType(forward, models.task_models_list[0])\n",
        "tasks_reddit_demographics_plbrt[0].compute_metrics=MethodType(compute_metrics,tasks_reddit_demographics_plbrt[0])\n",
        "trainer = tn.Trainer(models, tasks_reddit_demographics_plbrt, args, tokenizer = AutoTokenizer.from_pretrained(\"roberta-large\", use_fast=True)) # tasks are uniformly sampled by default\n",
        "print(\"\\n ------------------------------ START \"+str(args.learning_rate)+\" & \"+str(args.per_device_train_batch_size)+\" ---------------------------- \\n \")\n",
        "trainer.train()"
      ]
    },
    {
      "attachments": {},
      "cell_type": "markdown",
      "metadata": {
        "id": "rLiomkkLTFnV"
      },
      "source": [
        "~1:11:03 for fifth combination"
      ]
    },
    {
      "cell_type": "code",
      "execution_count": null,
      "metadata": {
        "colab": {
          "base_uri": "https://localhost:8080/",
          "height": 346
        },
        "id": "K17bVVtv-ZVc",
        "outputId": "06512864-dc0d-4ca9-ff87-bc86d1f0ebc8"
      },
      "outputs": [
        {
          "name": "stderr",
          "output_type": "stream",
          "text": [
            "You're using a RobertaTokenizerFast tokenizer. Please note that with a fast tokenizer, using the `__call__` method is faster than using a method to encode the text followed by a call to the `pad` method to get a padded encoding.\n"
          ]
        },
        {
          "name": "stdout",
          "output_type": "stream",
          "text": [
            "\n",
            " ------------------------------ START 1e-05 & 8 ---------------------------- \n",
            " \n"
          ]
        },
        {
          "data": {
            "text/html": [
              "\n",
              "    <div>\n",
              "      \n",
              "      <progress value='4137' max='4137' style='width:300px; height:20px; vertical-align: middle;'></progress>\n",
              "      [4137/4137 1:11:03, Epoch 2/3]\n",
              "    </div>\n",
              "    <table border=\"1\" class=\"dataframe\">\n",
              "  <thead>\n",
              " <tr style=\"text-align: left;\">\n",
              "      <th>Epoch</th>\n",
              "      <th>Training Loss</th>\n",
              "      <th>Validation Loss</th>\n",
              "      <th>Name</th>\n",
              "      <th>Size</th>\n",
              "      <th>Index</th>\n",
              "      <th>Distance</th>\n",
              "    </tr>\n",
              "  </thead>\n",
              "  <tbody>\n",
              "    <tr>\n",
              "      <td>0</td>\n",
              "      <td>0.244200</td>\n",
              "      <td>0.202886</td>\n",
              "      <td></td>\n",
              "      <td>254</td>\n",
              "      <td>0</td>\n",
              "      <td>0.242256</td>\n",
              "    </tr>\n",
              "    <tr>\n",
              "      <td>1</td>\n",
              "      <td>0.216600</td>\n",
              "      <td>0.197489</td>\n",
              "      <td></td>\n",
              "      <td>254</td>\n",
              "      <td>0</td>\n",
              "      <td>0.240204</td>\n",
              "    </tr>\n",
              "    <tr>\n",
              "      <td>2</td>\n",
              "      <td>0.215600</td>\n",
              "      <td>0.207006</td>\n",
              "      <td></td>\n",
              "      <td>254</td>\n",
              "      <td>0</td>\n",
              "      <td>0.238804</td>\n",
              "    </tr>\n",
              "  </tbody>\n",
              "</table><p>"
            ],
            "text/plain": [
              "<IPython.core.display.HTML object>"
            ]
          },
          "metadata": {},
          "output_type": "display_data"
        },
        {
          "name": "stderr",
          "output_type": "stream",
          "text": [
            "Trainer is attempting to log a value of \"\" of type <class 'str'> for key \"eval/name\" as a scalar. This invocation of Tensorboard's writer.add_scalar() is incorrect so we dropped this attribute.\n",
            "Trainer is attempting to log a value of \"\" of type <class 'str'> for key \"eval/name\" as a scalar. This invocation of Tensorboard's writer.add_scalar() is incorrect so we dropped this attribute.\n",
            "Trainer is attempting to log a value of \"\" of type <class 'str'> for key \"eval/name\" as a scalar. This invocation of Tensorboard's writer.add_scalar() is incorrect so we dropped this attribute.\n"
          ]
        },
        {
          "data": {
            "text/plain": [
              "TrainOutput(global_step=4137, training_loss=0.22548083369213803, metrics={'train_runtime': 4264.6217, 'train_samples_per_second': 7.764, 'train_steps_per_second': 0.97, 'total_flos': 2.6123770159570944e+16, 'train_loss': 0.22548083369213803, 'epoch': 3.0})"
            ]
          },
          "execution_count": 186,
          "metadata": {},
          "output_type": "execute_result"
        }
      ],
      "source": [
        "lr= 1e-5\n",
        "bs = 8\n",
        "class args:\n",
        "    model_name = \"sileod/plbrt\"\n",
        "    # remaining arguments are from https://huggingface.co/docs/transformers/v4.24.0/en/main_classes/trainer#transformers.TrainingArguments\n",
        "    learning_rate = lr\n",
        "    num_train_epochs=3\n",
        "    per_device_train_batch_size=bs\n",
        "    per_device_eval_batch_size=bs\n",
        "    gradient_accumulation_steps = bs\n",
        "    #max_steps=128\n",
        "\n",
        "\n",
        "models = tn.Model(tasks_reddit_demographics_plbrt, args,) # list of models; by default, shared encoder, task-specific CLS token task-specific head \n",
        "\n",
        "models.task_models_list[0].loss = eval(['bce_loss','mse_loss'][1])\n",
        "models.task_models_list[0].forward = MethodType(forward, models.task_models_list[0])\n",
        "tasks_reddit_demographics_plbrt[0].compute_metrics=MethodType(compute_metrics,tasks_reddit_demographics_plbrt[0])\n",
        "trainer = tn.Trainer(models, tasks_reddit_demographics_plbrt, args, tokenizer = AutoTokenizer.from_pretrained(\"roberta-large\", use_fast=True)) # tasks are uniformly sampled by default\n",
        "print(\"\\n ------------------------------ START \"+str(args.learning_rate)+\" & \"+str(args.per_device_train_batch_size)+\" ---------------------------- \\n \")\n",
        "trainer.train()"
      ]
    },
    {
      "attachments": {},
      "cell_type": "markdown",
      "metadata": {
        "id": "pg8GpbdZTHiO"
      },
      "source": [
        "~53:02 for sixth combination"
      ]
    },
    {
      "cell_type": "code",
      "execution_count": null,
      "metadata": {
        "colab": {
          "base_uri": "https://localhost:8080/",
          "height": 346
        },
        "id": "c9f9bAh5-ZyU",
        "outputId": "71c15059-a5c1-4231-a526-c3cd05ed3690"
      },
      "outputs": [
        {
          "name": "stderr",
          "output_type": "stream",
          "text": [
            "You're using a RobertaTokenizerFast tokenizer. Please note that with a fast tokenizer, using the `__call__` method is faster than using a method to encode the text followed by a call to the `pad` method to get a padded encoding.\n"
          ]
        },
        {
          "name": "stdout",
          "output_type": "stream",
          "text": [
            "\n",
            " ------------------------------ START 1e-05 & 16 ---------------------------- \n",
            " \n"
          ]
        },
        {
          "data": {
            "text/html": [
              "\n",
              "    <div>\n",
              "      \n",
              "      <progress value='1032' max='1032' style='width:300px; height:20px; vertical-align: middle;'></progress>\n",
              "      [1032/1032 53:02, Epoch 2/3]\n",
              "    </div>\n",
              "    <table border=\"1\" class=\"dataframe\">\n",
              "  <thead>\n",
              " <tr style=\"text-align: left;\">\n",
              "      <th>Epoch</th>\n",
              "      <th>Training Loss</th>\n",
              "      <th>Validation Loss</th>\n",
              "      <th>Name</th>\n",
              "      <th>Size</th>\n",
              "      <th>Index</th>\n",
              "      <th>Distance</th>\n",
              "    </tr>\n",
              "  </thead>\n",
              "  <tbody>\n",
              "    <tr>\n",
              "      <td>0</td>\n",
              "      <td>0.277000</td>\n",
              "      <td>0.223006</td>\n",
              "      <td></td>\n",
              "      <td>254</td>\n",
              "      <td>0</td>\n",
              "      <td>0.247216</td>\n",
              "    </tr>\n",
              "    <tr>\n",
              "      <td>1</td>\n",
              "      <td>0.235600</td>\n",
              "      <td>0.212097</td>\n",
              "      <td></td>\n",
              "      <td>254</td>\n",
              "      <td>0</td>\n",
              "      <td>0.243471</td>\n",
              "    </tr>\n",
              "    <tr>\n",
              "      <td>2</td>\n",
              "      <td>0.233400</td>\n",
              "      <td>0.226280</td>\n",
              "      <td></td>\n",
              "      <td>254</td>\n",
              "      <td>0</td>\n",
              "      <td>0.242173</td>\n",
              "    </tr>\n",
              "  </tbody>\n",
              "</table><p>"
            ],
            "text/plain": [
              "<IPython.core.display.HTML object>"
            ]
          },
          "metadata": {},
          "output_type": "display_data"
        },
        {
          "name": "stderr",
          "output_type": "stream",
          "text": [
            "Trainer is attempting to log a value of \"\" of type <class 'str'> for key \"eval/name\" as a scalar. This invocation of Tensorboard's writer.add_scalar() is incorrect so we dropped this attribute.\n",
            "Trainer is attempting to log a value of \"\" of type <class 'str'> for key \"eval/name\" as a scalar. This invocation of Tensorboard's writer.add_scalar() is incorrect so we dropped this attribute.\n",
            "Trainer is attempting to log a value of \"\" of type <class 'str'> for key \"eval/name\" as a scalar. This invocation of Tensorboard's writer.add_scalar() is incorrect so we dropped this attribute.\n"
          ]
        },
        {
          "data": {
            "text/plain": [
              "TrainOutput(global_step=1032, training_loss=0.24866703684015792, metrics={'train_runtime': 3185.4431, 'train_samples_per_second': 10.394, 'train_steps_per_second': 0.324, 'total_flos': 2.606535950596301e+16, 'train_loss': 0.24866703684015792, 'epoch': 2.99})"
            ]
          },
          "execution_count": 187,
          "metadata": {},
          "output_type": "execute_result"
        }
      ],
      "source": [
        "lr= 1e-5\n",
        "bs = 16\n",
        "class args:\n",
        "    model_name = \"sileod/plbrt\"\n",
        "    # remaining arguments are from https://huggingface.co/docs/transformers/v4.24.0/en/main_classes/trainer#transformers.TrainingArguments\n",
        "    learning_rate = lr\n",
        "    num_train_epochs=3\n",
        "    per_device_train_batch_size=bs\n",
        "    per_device_eval_batch_size=bs\n",
        "    gradient_accumulation_steps = bs\n",
        "    #max_steps=128\n",
        "\n",
        "\n",
        "models = tn.Model(tasks_reddit_demographics_plbrt, args,) # list of models; by default, shared encoder, task-specific CLS token task-specific head \n",
        "\n",
        "models.task_models_list[0].loss = eval(['bce_loss','mse_loss'][1])\n",
        "models.task_models_list[0].forward = MethodType(forward, models.task_models_list[0])\n",
        "tasks_reddit_demographics_plbrt[0].compute_metrics=MethodType(compute_metrics,tasks_reddit_demographics_plbrt[0])\n",
        "trainer = tn.Trainer(models, tasks_reddit_demographics_plbrt, args, tokenizer = AutoTokenizer.from_pretrained(\"roberta-large\", use_fast=True)) # tasks are uniformly sampled by default\n",
        "print(\"\\n ------------------------------ START \"+str(args.learning_rate)+\" & \"+str(args.per_device_train_batch_size)+\" ---------------------------- \\n \")\n",
        "trainer.train()"
      ]
    },
    {
      "attachments": {},
      "cell_type": "markdown",
      "metadata": {
        "id": "z98aBbHATJiq"
      },
      "source": [
        "~ for seventh combination"
      ]
    },
    {
      "cell_type": "code",
      "execution_count": null,
      "metadata": {
        "colab": {
          "base_uri": "https://localhost:8080/",
          "height": 346
        },
        "id": "2MKNiW2m-aQt",
        "outputId": "74df77c4-2c34-4f85-a972-822ffbd89948"
      },
      "outputs": [
        {
          "name": "stderr",
          "output_type": "stream",
          "text": [
            "You're using a RobertaTokenizerFast tokenizer. Please note that with a fast tokenizer, using the `__call__` method is faster than using a method to encode the text followed by a call to the `pad` method to get a padded encoding.\n"
          ]
        },
        {
          "name": "stdout",
          "output_type": "stream",
          "text": [
            "\n",
            " ------------------------------ START 1e-06 & 4 ---------------------------- \n",
            " \n"
          ]
        },
        {
          "data": {
            "text/html": [
              "\n",
              "    <div>\n",
              "      \n",
              "      <progress value='8277' max='8277' style='width:300px; height:20px; vertical-align: middle;'></progress>\n",
              "      [8277/8277 2:20:05, Epoch 2/3]\n",
              "    </div>\n",
              "    <table border=\"1\" class=\"dataframe\">\n",
              "  <thead>\n",
              " <tr style=\"text-align: left;\">\n",
              "      <th>Epoch</th>\n",
              "      <th>Training Loss</th>\n",
              "      <th>Validation Loss</th>\n",
              "      <th>Name</th>\n",
              "      <th>Size</th>\n",
              "      <th>Index</th>\n",
              "      <th>Distance</th>\n",
              "    </tr>\n",
              "  </thead>\n",
              "  <tbody>\n",
              "    <tr>\n",
              "      <td>0</td>\n",
              "      <td>0.308800</td>\n",
              "      <td>0.214850</td>\n",
              "      <td></td>\n",
              "      <td>254</td>\n",
              "      <td>0</td>\n",
              "      <td>0.288970</td>\n",
              "    </tr>\n",
              "    <tr>\n",
              "      <td>1</td>\n",
              "      <td>0.254600</td>\n",
              "      <td>0.230952</td>\n",
              "      <td></td>\n",
              "      <td>254</td>\n",
              "      <td>0</td>\n",
              "      <td>0.259844</td>\n",
              "    </tr>\n",
              "    <tr>\n",
              "      <td>2</td>\n",
              "      <td>0.239000</td>\n",
              "      <td>0.212346</td>\n",
              "      <td></td>\n",
              "      <td>254</td>\n",
              "      <td>0</td>\n",
              "      <td>0.257870</td>\n",
              "    </tr>\n",
              "  </tbody>\n",
              "</table><p>"
            ],
            "text/plain": [
              "<IPython.core.display.HTML object>"
            ]
          },
          "metadata": {},
          "output_type": "display_data"
        },
        {
          "name": "stderr",
          "output_type": "stream",
          "text": [
            "Trainer is attempting to log a value of \"\" of type <class 'str'> for key \"eval/name\" as a scalar. This invocation of Tensorboard's writer.add_scalar() is incorrect so we dropped this attribute.\n",
            "Trainer is attempting to log a value of \"\" of type <class 'str'> for key \"eval/name\" as a scalar. This invocation of Tensorboard's writer.add_scalar() is incorrect so we dropped this attribute.\n",
            "Trainer is attempting to log a value of \"\" of type <class 'str'> for key \"eval/name\" as a scalar. This invocation of Tensorboard's writer.add_scalar() is incorrect so we dropped this attribute.\n"
          ]
        },
        {
          "data": {
            "text/plain": [
              "TrainOutput(global_step=8277, training_loss=0.2674744824820474, metrics={'train_runtime': 8405.8731, 'train_samples_per_second': 3.939, 'train_steps_per_second': 0.985, 'total_flos': 2.613324215745331e+16, 'train_loss': 0.2674744824820474, 'epoch': 3.0})"
            ]
          },
          "execution_count": 188,
          "metadata": {},
          "output_type": "execute_result"
        }
      ],
      "source": [
        "lr= 1e-6\n",
        "bs = 4\n",
        "class args:\n",
        "    model_name = \"sileod/plbrt\"\n",
        "    # remaining arguments are from https://huggingface.co/docs/transformers/v4.24.0/en/main_classes/trainer#transformers.TrainingArguments\n",
        "    learning_rate = lr\n",
        "    num_train_epochs=3\n",
        "    per_device_train_batch_size=bs\n",
        "    per_device_eval_batch_size=bs\n",
        "    gradient_accumulation_steps = bs\n",
        "    #max_steps=128\n",
        "\n",
        "\n",
        "models = tn.Model(tasks_reddit_demographics_plbrt, args,) # list of models; by default, shared encoder, task-specific CLS token task-specific head \n",
        "\n",
        "models.task_models_list[0].loss = eval(['bce_loss','mse_loss'][1])\n",
        "models.task_models_list[0].forward = MethodType(forward, models.task_models_list[0])\n",
        "tasks_reddit_demographics_plbrt[0].compute_metrics=MethodType(compute_metrics,tasks_reddit_demographics_plbrt[0])\n",
        "trainer = tn.Trainer(models, tasks_reddit_demographics_plbrt, args, tokenizer = AutoTokenizer.from_pretrained(\"roberta-large\", use_fast=True)) # tasks are uniformly sampled by default\n",
        "print(\"\\n ------------------------------ START \"+str(args.learning_rate)+\" & \"+str(args.per_device_train_batch_size)+\" ---------------------------- \\n \")\n",
        "trainer.train()"
      ]
    },
    {
      "attachments": {},
      "cell_type": "markdown",
      "metadata": {
        "id": "M39MlPFETK9a"
      },
      "source": [
        "~ for eigthest combination"
      ]
    },
    {
      "cell_type": "code",
      "execution_count": null,
      "metadata": {
        "colab": {
          "background_save": true,
          "base_uri": "https://localhost:8080/",
          "height": 214
        },
        "id": "2-MGdhss-a6J",
        "outputId": "1756918b-ce9e-42be-ee83-095529299705"
      },
      "outputs": [
        {
          "name": "stderr",
          "output_type": "stream",
          "text": [
            "You're using a RobertaTokenizerFast tokenizer. Please note that with a fast tokenizer, using the `__call__` method is faster than using a method to encode the text followed by a call to the `pad` method to get a padded encoding.\n"
          ]
        },
        {
          "name": "stdout",
          "output_type": "stream",
          "text": [
            "\n",
            " ------------------------------ START 1e-06 & 8 ---------------------------- \n",
            " \n"
          ]
        },
        {
          "data": {
            "text/html": [
              "\n",
              "    <div>\n",
              "      \n",
              "      <progress value='4137' max='4137' style='width:300px; height:20px; vertical-align: middle;'></progress>\n",
              "      [4137/4137 1:02:01, Epoch 2/3]\n",
              "    </div>\n",
              "    <table border=\"1\" class=\"dataframe\">\n",
              "  <thead>\n",
              " <tr style=\"text-align: left;\">\n",
              "      <th>Epoch</th>\n",
              "      <th>Training Loss</th>\n",
              "      <th>Validation Loss</th>\n",
              "      <th>Name</th>\n",
              "      <th>Size</th>\n",
              "      <th>Index</th>\n",
              "      <th>Distance</th>\n",
              "    </tr>\n",
              "  </thead>\n",
              "  <tbody>\n",
              "    <tr>\n",
              "      <td>0</td>\n",
              "      <td>0.318900</td>\n",
              "      <td>0.255546</td>\n",
              "      <td></td>\n",
              "      <td>254</td>\n",
              "      <td>0</td>\n",
              "      <td>0.342961</td>\n",
              "    </tr>\n",
              "    <tr>\n",
              "      <td>1</td>\n",
              "      <td>0.274300</td>\n",
              "      <td>0.204400</td>\n",
              "      <td></td>\n",
              "      <td>254</td>\n",
              "      <td>0</td>\n",
              "      <td>0.274395</td>\n",
              "    </tr>\n",
              "    <tr>\n",
              "      <td>2</td>\n",
              "      <td>0.251700</td>\n",
              "      <td>0.243024</td>\n",
              "      <td></td>\n",
              "      <td>254</td>\n",
              "      <td>0</td>\n",
              "      <td>0.267972</td>\n",
              "    </tr>\n",
              "  </tbody>\n",
              "</table><p>"
            ],
            "text/plain": [
              "<IPython.core.display.HTML object>"
            ]
          },
          "metadata": {},
          "output_type": "display_data"
        },
        {
          "name": "stderr",
          "output_type": "stream",
          "text": [
            "Trainer is attempting to log a value of \"\" of type <class 'str'> for key \"eval/name\" as a scalar. This invocation of Tensorboard's writer.add_scalar() is incorrect so we dropped this attribute.\n",
            "Trainer is attempting to log a value of \"\" of type <class 'str'> for key \"eval/name\" as a scalar. This invocation of Tensorboard's writer.add_scalar() is incorrect so we dropped this attribute.\n",
            "Trainer is attempting to log a value of \"\" of type <class 'str'> for key \"eval/name\" as a scalar. This invocation of Tensorboard's writer.add_scalar() is incorrect so we dropped this attribute.\n"
          ]
        },
        {
          "data": {
            "text/plain": [
              "TrainOutput(global_step=4137, training_loss=0.28163181274502586, metrics={'train_runtime': 3722.1764, 'train_samples_per_second': 8.896, 'train_steps_per_second': 1.111, 'total_flos': 2.6123770159570944e+16, 'train_loss': 0.28163181274502586, 'epoch': 3.0})"
            ]
          },
          "execution_count": 189,
          "metadata": {},
          "output_type": "execute_result"
        }
      ],
      "source": [
        "lr= 1e-6\n",
        "bs = 8\n",
        "class args:\n",
        "    model_name = \"sileod/plbrt\"\n",
        "    # remaining arguments are from https://huggingface.co/docs/transformers/v4.24.0/en/main_classes/trainer#transformers.TrainingArguments\n",
        "    learning_rate = lr\n",
        "    num_train_epochs=3\n",
        "    per_device_train_batch_size=bs\n",
        "    per_device_eval_batch_size=bs\n",
        "    gradient_accumulation_steps = bs\n",
        "    #max_steps=128\n",
        "\n",
        "\n",
        "models = tn.Model(tasks_reddit_demographics_plbrt, args,) # list of models; by default, shared encoder, task-specific CLS token task-specific head \n",
        "\n",
        "models.task_models_list[0].loss = eval(['bce_loss','mse_loss'][1])\n",
        "models.task_models_list[0].forward = MethodType(forward, models.task_models_list[0])\n",
        "tasks_reddit_demographics_plbrt[0].compute_metrics=MethodType(compute_metrics,tasks_reddit_demographics_plbrt[0])\n",
        "trainer = tn.Trainer(models, tasks_reddit_demographics_plbrt, args, tokenizer = AutoTokenizer.from_pretrained(\"roberta-large\", use_fast=True)) # tasks are uniformly sampled by default\n",
        "print(\"\\n ------------------------------ START \"+str(args.learning_rate)+\" & \"+str(args.per_device_train_batch_size)+\" ---------------------------- \\n \")\n",
        "trainer.train()"
      ]
    },
    {
      "attachments": {},
      "cell_type": "markdown",
      "metadata": {
        "id": "Bty2d8G2TONB"
      },
      "source": [
        "~ for nineth combination"
      ]
    },
    {
      "cell_type": "code",
      "execution_count": null,
      "metadata": {
        "colab": {
          "background_save": true
        },
        "id": "zbysGpbD-bdV",
        "outputId": "31a48ba9-4126-4d7e-9140-5f0e2d6f95eb"
      },
      "outputs": [
        {
          "name": "stderr",
          "output_type": "stream",
          "text": [
            "You're using a RobertaTokenizerFast tokenizer. Please note that with a fast tokenizer, using the `__call__` method is faster than using a method to encode the text followed by a call to the `pad` method to get a padded encoding.\n"
          ]
        },
        {
          "name": "stdout",
          "output_type": "stream",
          "text": [
            "\n",
            " ------------------------------ START 1e-06 & 16 ---------------------------- \n",
            " \n"
          ]
        },
        {
          "data": {
            "text/html": [
              "\n",
              "    <div>\n",
              "      \n",
              "      <progress value='1032' max='1032' style='width:300px; height:20px; vertical-align: middle;'></progress>\n",
              "      [1032/1032 46:08, Epoch 2/3]\n",
              "    </div>\n",
              "    <table border=\"1\" class=\"dataframe\">\n",
              "  <thead>\n",
              " <tr style=\"text-align: left;\">\n",
              "      <th>Epoch</th>\n",
              "      <th>Training Loss</th>\n",
              "      <th>Validation Loss</th>\n",
              "      <th>Name</th>\n",
              "      <th>Size</th>\n",
              "      <th>Index</th>\n",
              "      <th>Distance</th>\n",
              "    </tr>\n",
              "  </thead>\n",
              "  <tbody>\n",
              "    <tr>\n",
              "      <td>0</td>\n",
              "      <td>0.349700</td>\n",
              "      <td>0.316913</td>\n",
              "      <td></td>\n",
              "      <td>254</td>\n",
              "      <td>0</td>\n",
              "      <td>0.403016</td>\n",
              "    </tr>\n",
              "    <tr>\n",
              "      <td>1</td>\n",
              "      <td>0.324200</td>\n",
              "      <td>0.285785</td>\n",
              "      <td></td>\n",
              "      <td>254</td>\n",
              "      <td>0</td>\n",
              "      <td>0.377293</td>\n",
              "    </tr>\n",
              "    <tr>\n",
              "      <td>2</td>\n",
              "      <td>0.313800</td>\n",
              "      <td>0.306084</td>\n",
              "      <td></td>\n",
              "      <td>254</td>\n",
              "      <td>0</td>\n",
              "      <td>0.369115</td>\n",
              "    </tr>\n",
              "  </tbody>\n",
              "</table><p>"
            ],
            "text/plain": [
              "<IPython.core.display.HTML object>"
            ]
          },
          "metadata": {},
          "output_type": "display_data"
        },
        {
          "name": "stderr",
          "output_type": "stream",
          "text": [
            "Trainer is attempting to log a value of \"\" of type <class 'str'> for key \"eval/name\" as a scalar. This invocation of Tensorboard's writer.add_scalar() is incorrect so we dropped this attribute.\n",
            "Trainer is attempting to log a value of \"\" of type <class 'str'> for key \"eval/name\" as a scalar. This invocation of Tensorboard's writer.add_scalar() is incorrect so we dropped this attribute.\n",
            "Trainer is attempting to log a value of \"\" of type <class 'str'> for key \"eval/name\" as a scalar. This invocation of Tensorboard's writer.add_scalar() is incorrect so we dropped this attribute.\n"
          ]
        },
        {
          "data": {
            "text/plain": [
              "TrainOutput(global_step=1032, training_loss=0.3292279428289842, metrics={'train_runtime': 2771.4996, 'train_samples_per_second': 11.947, 'train_steps_per_second': 0.372, 'total_flos': 2.606535950596301e+16, 'train_loss': 0.3292279428289842, 'epoch': 2.99})"
            ]
          },
          "execution_count": 190,
          "metadata": {},
          "output_type": "execute_result"
        }
      ],
      "source": [
        "lr= 1e-6\n",
        "bs = 16\n",
        "class args:\n",
        "    model_name = \"sileod/plbrt\"\n",
        "    # remaining arguments are from https://huggingface.co/docs/transformers/v4.24.0/en/main_classes/trainer#transformers.TrainingArguments\n",
        "    learning_rate = lr\n",
        "    num_train_epochs=3\n",
        "    per_device_train_batch_size=bs\n",
        "    per_device_eval_batch_size=bs\n",
        "    gradient_accumulation_steps = bs\n",
        "    #max_steps=128\n",
        "\n",
        "\n",
        "models = tn.Model(tasks_reddit_demographics_plbrt, args,) # list of models; by default, shared encoder, task-specific CLS token task-specific head \n",
        "\n",
        "models.task_models_list[0].loss = eval(['bce_loss','mse_loss'][1])\n",
        "models.task_models_list[0].forward = MethodType(forward, models.task_models_list[0])\n",
        "tasks_reddit_demographics_plbrt[0].compute_metrics=MethodType(compute_metrics,tasks_reddit_demographics_plbrt[0])\n",
        "trainer = tn.Trainer(models, tasks_reddit_demographics_plbrt, args, tokenizer = AutoTokenizer.from_pretrained(\"roberta-large\", use_fast=True)) # tasks are uniformly sampled by default\n",
        "print(\"\\n ------------------------------ START \"+str(args.learning_rate)+\" & \"+str(args.per_device_train_batch_size)+\" ---------------------------- \\n \")\n",
        "trainer.train()"
      ]
    },
    {
      "attachments": {},
      "cell_type": "markdown",
      "metadata": {
        "id": "YmoDknZm_ckY"
      },
      "source": [
        "#### other grid search"
      ]
    },
    {
      "cell_type": "code",
      "execution_count": null,
      "metadata": {
        "id": "_cEFvgiWzReH"
      },
      "outputs": [],
      "source": [
        "lrs = [1e-4,1e-5,1e-6]#\n",
        "bsz = [4,8,16]#\n",
        "grid_search = {1e-4:{4:0,8:0,16:0},1e-5:{4:0,8:0,16:0},1e-6:{4:0,8:0,16:0}}\n",
        "for lr in lrs:\n",
        "  for bs in bsz:\n",
        "    class args:\n",
        "        model_name = \"sileod/plbrt\"\n",
        "        # remaining arguments are from https://huggingface.co/docs/transformers/v4.24.0/en/main_classes/trainer#transformers.TrainingArguments\n",
        "        learning_rate = lr\n",
        "        num_train_epochs=3\n",
        "        per_device_train_batch_size=bs\n",
        "        per_device_eval_batch_size=bs\n",
        "        gradient_accumulation_steps = bs\n",
        "        models = tn.Model(tasks_reddit_demographics_plbrt, args,) # list of models; by default, shared encoder, task-specific CLS token task-specific head \n",
        "        max_steps=1\n",
        "\n",
        "    models.task_models_list[0].loss = eval(['bce_loss','mse_loss'][1])\n",
        "    models.task_models_list[0].forward = MethodType(forward, models.task_models_list[0])\n",
        "    tasks_reddit_demographics_plbrt[0].compute_metrics=MethodType(compute_metrics,tasks_reddit_demographics_plbrt[0])\n",
        "    trainer = tn.Trainer(models, tasks_reddit_demographics_plbrt, args, tokenizer = AutoTokenizer.from_pretrained(\"roberta-large\", use_fast=True)) # tasks are uniformly sampled by default\n",
        "    print(\"\\n ------------------------------ START \"+str(args.learning_rate)+\" & \"+str(args.num_train_epochs)+\" ---------------------------- \\n \")\n",
        "    trainOutput = trainer.train()\n",
        "    grid_search[lr][bs] = trainOutput[1]   \n"
      ]
    },
    {
      "cell_type": "code",
      "execution_count": null,
      "metadata": {
        "colab": {
          "base_uri": "https://localhost:8080/",
          "height": 116,
          "referenced_widgets": [
            "9eeb66104c2145f5bb4e82213f6b3aff",
            "01a07579fc334e4cb3fbd68a49d4c397",
            "33f0c1ae8efa439ba220e7c27968b08b",
            "9459f059003e4cea8e89823eb86dcc3b",
            "dc3b032d20184994872854d3c8e4873f",
            "cc69d6492f8d4c4e93267e1b1bfa4081",
            "1923d82985ba4283a5a797c3cc1f8e92",
            "735802576040464d8d3d9834ed1c3be0",
            "386d1755b91c4f14ad1b85b313c0488b",
            "44fff6a0ec9143bcb12625591531346a",
            "d7141673622c43c1a990e51ce4d4b7ab",
            "dc0d1d3b0b8347519fd9532f6e477a12",
            "4fb8beeaafaa4a54b6d39dafcd3cd045",
            "d0b7ee92af0c4a82881f03f80ffe760b",
            "366239563137474d9bcb8829b8958f11",
            "57f769432a2c4ee0ae4c5af2d63d7826",
            "650396ee348e4d0fa4089b88afe596fd",
            "a7475c99bc334877a1512b83bf776a46",
            "d8d286ceebea42e2a52baf1f5f1e6bde",
            "0bb8b4398b4340a787816bc79272342a",
            "9e283dfb5b814ad4ab3fdae5d13834c9",
            "64cd586e9f694211ba5951a3a3044968"
          ]
        },
        "id": "pU8vIq7DULtW",
        "outputId": "10d8a162-7809-470c-f6e7-85d034b3334f"
      },
      "outputs": [
        {
          "data": {
            "application/vnd.jupyter.widget-view+json": {
              "model_id": "9eeb66104c2145f5bb4e82213f6b3aff",
              "version_major": 2,
              "version_minor": 0
            },
            "text/plain": [
              "pytorch_model.bin:   0%|          | 0.00/499M [00:00<?, ?B/s]"
            ]
          },
          "metadata": {},
          "output_type": "display_data"
        },
        {
          "data": {
            "application/vnd.jupyter.widget-view+json": {
              "model_id": "dc0d1d3b0b8347519fd9532f6e477a12",
              "version_major": 2,
              "version_minor": 0
            },
            "text/plain": [
              "Upload 1 LFS files:   0%|          | 0/1 [00:00<?, ?it/s]"
            ]
          },
          "metadata": {},
          "output_type": "display_data"
        },
        {
          "data": {
            "text/plain": [
              "CommitInfo(commit_url='https://huggingface.co/Qubix/demoPollBERT/commit/68462075262ba681e088cf134191a28a5f573eab', commit_message='Upload RobertaForMultipleChoice', commit_description='', oid='68462075262ba681e088cf134191a28a5f573eab', pr_url=None, pr_revision=None, pr_num=None)"
            ]
          },
          "execution_count": 158,
          "metadata": {},
          "output_type": "execute_result"
        }
      ],
      "source": [
        "trainer.model.task_models_list[0].push_to_hub(\"Qubix/demoPollBERT\")"
      ]
    },
    {
      "cell_type": "code",
      "execution_count": null,
      "metadata": {
        "id": "x_xRLE6V4tpN"
      },
      "outputs": [],
      "source": [
        "torch.cuda.empty_cache()"
      ]
    },
    {
      "attachments": {},
      "cell_type": "markdown",
      "metadata": {
        "id": "wH4QVySV1yzI"
      },
      "source": [
        "#### Fine-Tuning"
      ]
    },
    {
      "cell_type": "code",
      "execution_count": null,
      "metadata": {
        "id": "V0BRszB6120A"
      },
      "outputs": [],
      "source": [
        "lr= 3e-5\n",
        "bs = 8\n",
        "class args:\n",
        "    model_name = \"sileod/plbrt\"\n",
        "    # remaining arguments are from https://huggingface.co/docs/transformers/v4.24.0/en/main_classes/trainer#transformers.TrainingArguments\n",
        "    learning_rate = lr\n",
        "    num_train_epochs=4\n",
        "    per_device_train_batch_size=bs\n",
        "    per_device_eval_batch_size=bs\n",
        "    gradient_accumulation_steps = bs\n",
        "    #max_steps=128\n",
        "\n",
        "\n",
        "models = tn.Model(tasks_reddit_demographics_plbrt, args,) # list of models; by default, shared encoder, task-specific CLS token task-specific head \n",
        "\n",
        "models.task_models_list[0].loss = eval(['bce_loss','mse_loss'][1])\n",
        "models.task_models_list[0].forward = MethodType(forward, models.task_models_list[0])\n",
        "tasks_reddit_demographics_plbrt[0].compute_metrics=MethodType(compute_metrics,tasks_reddit_demographics_plbrt[0])\n",
        "trainer = tn.Trainer(models, tasks_reddit_demographics_plbrt, args, tokenizer = AutoTokenizer.from_pretrained(\"roberta-large\", use_fast=True)) # tasks are uniformly sampled by default\n"
      ]
    },
    {
      "cell_type": "code",
      "execution_count": null,
      "metadata": {
        "colab": {
          "base_uri": "https://localhost:8080/",
          "height": 248
        },
        "id": "Cg74bCxIOhHL",
        "outputId": "db2d95f2-08ea-4b1e-e182-63dd3f8e9615"
      },
      "outputs": [
        {
          "name": "stderr",
          "output_type": "stream",
          "text": [
            "You're using a RobertaTokenizerFast tokenizer. Please note that with a fast tokenizer, using the `__call__` method is faster than using a method to encode the text followed by a call to the `pad` method to get a padded encoding.\n"
          ]
        },
        {
          "data": {
            "text/html": [
              "\n",
              "    <div>\n",
              "      \n",
              "      <progress value='254' max='254' style='width:300px; height:20px; vertical-align: middle;'></progress>\n",
              "      [254/254 00:25]\n",
              "    </div>\n",
              "    "
            ],
            "text/plain": [
              "<IPython.core.display.HTML object>"
            ]
          },
          "metadata": {},
          "output_type": "display_data"
        },
        {
          "name": "stderr",
          "output_type": "stream",
          "text": [
            "Trainer is attempting to log a value of \"\" of type <class 'str'> for key \"eval/name\" as a scalar. This invocation of Tensorboard's writer.add_scalar() is incorrect so we dropped this attribute.\n"
          ]
        },
        {
          "data": {
            "text/plain": [
              "{'eval_loss': 0.36841848492622375,\n",
              " 'eval_name': '',\n",
              " 'eval_size': 254,\n",
              " 'eval_index': 0,\n",
              " 'eval_distance': 0.5276154279708862,\n",
              " 'eval_runtime': 25.473,\n",
              " 'eval_samples_per_second': 9.971,\n",
              " 'eval_steps_per_second': 1.256,\n",
              " 'Accuracy': nan}"
            ]
          },
          "execution_count": 67,
          "metadata": {},
          "output_type": "execute_result"
        }
      ],
      "source": [
        "trainer.evaluate()"
      ]
    },
    {
      "cell_type": "code",
      "execution_count": null,
      "metadata": {
        "colab": {
          "base_uri": "https://localhost:8080/",
          "height": 432
        },
        "id": "KNF6V37oJqnQ",
        "outputId": "52efc53f-e87c-417c-d8a7-2081939e195a"
      },
      "outputs": [
        {
          "name": "stdout",
          "output_type": "stream",
          "text": [
            "\n",
            " ------------------------------ START 3e-05 & 8 ---------------------------- \n",
            " \n"
          ]
        },
        {
          "data": {
            "text/html": [
              "\n",
              "    <div>\n",
              "      \n",
              "      <progress value='5516' max='5516' style='width:300px; height:20px; vertical-align: middle;'></progress>\n",
              "      [5516/5516 1:33:11, Epoch 3/4]\n",
              "    </div>\n",
              "    <table border=\"1\" class=\"dataframe\">\n",
              "  <thead>\n",
              " <tr style=\"text-align: left;\">\n",
              "      <th>Epoch</th>\n",
              "      <th>Training Loss</th>\n",
              "      <th>Validation Loss</th>\n",
              "      <th>Name</th>\n",
              "      <th>Size</th>\n",
              "      <th>Index</th>\n",
              "      <th>Distance</th>\n",
              "    </tr>\n",
              "  </thead>\n",
              "  <tbody>\n",
              "    <tr>\n",
              "      <td>0</td>\n",
              "      <td>0.255700</td>\n",
              "      <td>0.217722</td>\n",
              "      <td></td>\n",
              "      <td>254</td>\n",
              "      <td>0</td>\n",
              "      <td>0.251661</td>\n",
              "    </tr>\n",
              "    <tr>\n",
              "      <td>1</td>\n",
              "      <td>0.224500</td>\n",
              "      <td>0.260339</td>\n",
              "      <td></td>\n",
              "      <td>254</td>\n",
              "      <td>0</td>\n",
              "      <td>0.244517</td>\n",
              "    </tr>\n",
              "    <tr>\n",
              "      <td>2</td>\n",
              "      <td>0.217600</td>\n",
              "      <td>0.200251</td>\n",
              "      <td></td>\n",
              "      <td>254</td>\n",
              "      <td>0</td>\n",
              "      <td>0.241439</td>\n",
              "    </tr>\n",
              "    <tr>\n",
              "      <td>3</td>\n",
              "      <td>0.215000</td>\n",
              "      <td>0.158986</td>\n",
              "      <td></td>\n",
              "      <td>254</td>\n",
              "      <td>0</td>\n",
              "      <td>0.238043</td>\n",
              "    </tr>\n",
              "  </tbody>\n",
              "</table><p>"
            ],
            "text/plain": [
              "<IPython.core.display.HTML object>"
            ]
          },
          "metadata": {},
          "output_type": "display_data"
        },
        {
          "data": {
            "text/html": [
              "\n",
              "    <div>\n",
              "      \n",
              "      <progress value='508' max='254' style='width:300px; height:20px; vertical-align: middle;'></progress>\n",
              "      [254/254 23:41]\n",
              "    </div>\n",
              "    "
            ],
            "text/plain": [
              "<IPython.core.display.HTML object>"
            ]
          },
          "metadata": {},
          "output_type": "display_data"
        },
        {
          "name": "stderr",
          "output_type": "stream",
          "text": [
            "Trainer is attempting to log a value of \"\" of type <class 'str'> for key \"eval/name\" as a scalar. This invocation of Tensorboard's writer.add_scalar() is incorrect so we dropped this attribute.\n",
            "Trainer is attempting to log a value of \"\" of type <class 'str'> for key \"eval/name\" as a scalar. This invocation of Tensorboard's writer.add_scalar() is incorrect so we dropped this attribute.\n",
            "Trainer is attempting to log a value of \"\" of type <class 'str'> for key \"eval/name\" as a scalar. This invocation of Tensorboard's writer.add_scalar() is incorrect so we dropped this attribute.\n",
            "Trainer is attempting to log a value of \"\" of type <class 'str'> for key \"eval/name\" as a scalar. This invocation of Tensorboard's writer.add_scalar() is incorrect so we dropped this attribute.\n"
          ]
        },
        {
          "data": {
            "text/plain": [
              "TrainOutput(global_step=5516, training_loss=0.22821001214683703, metrics={'train_runtime': 5592.4079, 'train_samples_per_second': 7.894, 'train_steps_per_second': 0.986, 'total_flos': 3.483169354609459e+16, 'train_loss': 0.22821001214683703, 'epoch': 4.0})"
            ]
          },
          "execution_count": 68,
          "metadata": {},
          "output_type": "execute_result"
        }
      ],
      "source": [
        "print(\"\\n ------------------------------ START \"+str(args.learning_rate)+\" & \"+str(args.per_device_train_batch_size)+\" ---------------------------- \\n \")\n",
        "trainer.train()"
      ]
    },
    {
      "cell_type": "code",
      "execution_count": null,
      "metadata": {
        "colab": {
          "base_uri": "https://localhost:8080/",
          "height": 380,
          "referenced_widgets": [
            "1ab11ed3d7a442f7b24fe6bac0a259c4",
            "17c11e257a5c46f4be20aa5544461ec5",
            "ecbb89e47a9146ccb492631566f7eb60",
            "45839a230d714d3ebc25557b497d46f0",
            "f9f9d3df1f2149dd910158fdd5a2c8f8",
            "6430f1c24f974ff48da7d8f4cf7ce610",
            "7e215e9baa444ca88111852294f01087",
            "3b37cd4ffc57497192a6624670d0a083",
            "53f8ca5f132a4a0f8f1d2cc05606373d",
            "37aded1549e4499fa4167e4282149cfa",
            "4672383421d54b01b472cec04b48b4c8",
            "586e828794a449d3b534b93ea6c791b2",
            "659cd7c68b9a42d5a077392434a0701b",
            "32f4e95396004824a06a5987bd473f10",
            "dde2292a0f9841cda1f51c66902497c1",
            "231ad3f7a66945eba85b401c350b3993",
            "338ed33dfada4b2fbeb5bc5628e7b245",
            "60d1d37b78704ecabf38e2636c9fb624",
            "eff157dd7a1f45649085fffdd1474817",
            "aaaf3356b6b849228e954ce53c1ba5a3",
            "daa6a04c795e4ddd8a5528cedc1e5f1f",
            "3b80df0d9c0748569d12d0bbd57d1909",
            "707979bc949d4b54ab37f7bbea7cec0c",
            "b140cb773d5740a0aa1e73ab190b0b60",
            "8750d10eae2a444fae9350b9d64215ee",
            "bcda6e62562f46248745aa0cdd916f44",
            "ba73e038fba0429db353b75c06261362",
            "d9fc052524eb4388b7ab5ad5d605566b",
            "3ac2149b8ffc43bca5e88e4b096d8e83",
            "0ee9e94d28144912ba55dd5255cbd5d0",
            "7db0eb3c8f82494f9732015d7c498593",
            "6185b0a4384d40eba0a7baf6cf7316c9",
            "3e4d49a2da7844388a9f8d931483210b",
            "28b9aaf09e284db89793b44a4a98783e",
            "2f2d9c5a75cd48af80aa3c68acb2d3f9",
            "2f2234b7002d4a3d823fd4bdc49c95f6",
            "7d36d64a7f404a56a0e8e2cb464b4469",
            "a448f292199c4ed3810061a3fc50da50",
            "36838c7cf61649eea5353a45c5b7c602",
            "6c18f6cccce24473b26f0b0f6cc26974",
            "37b75553c7ab4fa88ca6750537d24e58",
            "fad42bb8857e42bbaf979bc75e486727",
            "916dc9e68bce4429a22397a83295691c",
            "dc20128a8b8a42df9236c144fd600bb6",
            "2a423bcc39ab4085abf18c40007d8d7e",
            "e82486ec7f6a40cc826e3d3d0a896065",
            "c1e1ba0a7c804c5095983f8eb9d6b550",
            "12f83f3a9c404478a8eec24c65351b45",
            "7db8f338e32b4d3a8637aecbd5a826cd",
            "e518db1b5dfe4544a20d9d0cb09fc9a1",
            "97f54e29943047679ee23157d12a9178",
            "8379ce47971544c9901836d600ea6e59",
            "3d9eb6bd22684bb58db89cccbf3209aa",
            "83dab16312534cb79d13055bc3a644d4",
            "1249c8bf90cc4e5e8b4e6d57a3a3e691",
            "8bba440a29af41c99207722c444914bf",
            "de7c40a9943d457c8e449508eb64d20e",
            "9fe3c37f81b245989b9d2dccfe8441a4",
            "3b5475ae3c624b638ec23713821e3cf7",
            "00616ba9229f4763aafe9fd2293de87b",
            "62668efdbb854145bfa37a1ca5560a0c",
            "fabd400b221543d483111439ef872b0e",
            "46575f81a68f425c9309966bb4c91422",
            "73a6c09a6e2f48d0b84fcf6f8e019820",
            "496e5938349540ea923f311ee6593876",
            "859e1b383acb4e24a14adf0b190a69e0"
          ]
        },
        "id": "9360sa4SbdZZ",
        "outputId": "6f5ba09b-d346-45ed-d4f7-d6503dc96b05"
      },
      "outputs": [
        {
          "data": {
            "application/vnd.jupyter.widget-view+json": {
              "model_id": "1ab11ed3d7a442f7b24fe6bac0a259c4",
              "version_major": 2,
              "version_minor": 0
            },
            "text/plain": [
              "pytorch_model.bin:   0%|          | 0.00/499M [00:00<?, ?B/s]"
            ]
          },
          "metadata": {},
          "output_type": "display_data"
        },
        {
          "data": {
            "application/vnd.jupyter.widget-view+json": {
              "model_id": "586e828794a449d3b534b93ea6c791b2",
              "version_major": 2,
              "version_minor": 0
            },
            "text/plain": [
              "Upload 1 LFS files:   0%|          | 0/1 [00:00<?, ?it/s]"
            ]
          },
          "metadata": {},
          "output_type": "display_data"
        },
        {
          "data": {
            "application/vnd.jupyter.widget-view+json": {
              "model_id": "707979bc949d4b54ab37f7bbea7cec0c",
              "version_major": 2,
              "version_minor": 0
            },
            "text/plain": [
              "Upload 1 LFS files:   0%|          | 0/1 [00:00<?, ?it/s]"
            ]
          },
          "metadata": {},
          "output_type": "display_data"
        },
        {
          "data": {
            "application/vnd.jupyter.widget-view+json": {
              "model_id": "28b9aaf09e284db89793b44a4a98783e",
              "version_major": 2,
              "version_minor": 0
            },
            "text/plain": [
              "pytorch_model.bin:   0%|          | 0.00/7.49k [00:00<?, ?B/s]"
            ]
          },
          "metadata": {},
          "output_type": "display_data"
        },
        {
          "data": {
            "application/vnd.jupyter.widget-view+json": {
              "model_id": "2a423bcc39ab4085abf18c40007d8d7e",
              "version_major": 2,
              "version_minor": 0
            },
            "text/plain": [
              "pytorch_model.bin:   0%|          | 0.00/499M [00:00<?, ?B/s]"
            ]
          },
          "metadata": {},
          "output_type": "display_data"
        },
        {
          "data": {
            "application/vnd.jupyter.widget-view+json": {
              "model_id": "8bba440a29af41c99207722c444914bf",
              "version_major": 2,
              "version_minor": 0
            },
            "text/plain": [
              "Upload 1 LFS files:   0%|          | 0/1 [00:00<?, ?it/s]"
            ]
          },
          "metadata": {},
          "output_type": "display_data"
        },
        {
          "data": {
            "text/plain": [
              "CommitInfo(commit_url='https://huggingface.co/Qubix/RoBERTa-PollBERT350K/commit/9875a445781c7ad470a5772bcf77787193f001ed', commit_message='Upload RobertaForMultipleChoice', commit_description='', oid='9875a445781c7ad470a5772bcf77787193f001ed', pr_url=None, pr_revision=None, pr_num=None)"
            ]
          },
          "execution_count": 69,
          "metadata": {},
          "output_type": "execute_result"
        }
      ],
      "source": [
        "trainer.push_to_hub(\"Qubix/RoBERTa-PollBERT350K_full_model\")\n",
        "trainer.model.task_models_list[0].push_to_hub(\"Qubix/RoBERTa-PollBERT350K\")"
      ]
    },
    {
      "cell_type": "code",
      "execution_count": null,
      "metadata": {
        "colab": {
          "base_uri": "https://localhost:8080/",
          "height": 724
        },
        "id": "naAMNY_IOUpr",
        "outputId": "fb6577e9-a327-451d-b21e-7330e65a69f0"
      },
      "outputs": [
        {
          "name": "stdout",
          "output_type": "stream",
          "text": [
            "\n",
            " ------------------------------ START 1e-05 & 8 ---------------------------- \n",
            " \n"
          ]
        },
        {
          "data": {
            "text/html": [
              "\n",
              "    <div>\n",
              "      \n",
              "      <progress value='13790' max='13790' style='width:300px; height:20px; vertical-align: middle;'></progress>\n",
              "      [13790/13790 3:51:54, Epoch 9/10]\n",
              "    </div>\n",
              "    <table border=\"1\" class=\"dataframe\">\n",
              "  <thead>\n",
              " <tr style=\"text-align: left;\">\n",
              "      <th>Epoch</th>\n",
              "      <th>Training Loss</th>\n",
              "      <th>Validation Loss</th>\n",
              "      <th>Name</th>\n",
              "      <th>Size</th>\n",
              "      <th>Index</th>\n",
              "      <th>Distance</th>\n",
              "    </tr>\n",
              "  </thead>\n",
              "  <tbody>\n",
              "    <tr>\n",
              "      <td>0</td>\n",
              "      <td>0.235000</td>\n",
              "      <td>0.216306</td>\n",
              "      <td></td>\n",
              "      <td>254</td>\n",
              "      <td>0</td>\n",
              "      <td>0.242761</td>\n",
              "    </tr>\n",
              "    <tr>\n",
              "      <td>1</td>\n",
              "      <td>0.216700</td>\n",
              "      <td>0.255326</td>\n",
              "      <td></td>\n",
              "      <td>254</td>\n",
              "      <td>0</td>\n",
              "      <td>0.240703</td>\n",
              "    </tr>\n",
              "    <tr>\n",
              "      <td>2</td>\n",
              "      <td>0.216300</td>\n",
              "      <td>0.200082</td>\n",
              "      <td></td>\n",
              "      <td>254</td>\n",
              "      <td>0</td>\n",
              "      <td>0.239873</td>\n",
              "    </tr>\n",
              "    <tr>\n",
              "      <td>3</td>\n",
              "      <td>0.214600</td>\n",
              "      <td>0.165904</td>\n",
              "      <td></td>\n",
              "      <td>254</td>\n",
              "      <td>0</td>\n",
              "      <td>0.239016</td>\n",
              "    </tr>\n",
              "    <tr>\n",
              "      <td>4</td>\n",
              "      <td>0.212700</td>\n",
              "      <td>0.236502</td>\n",
              "      <td></td>\n",
              "      <td>254</td>\n",
              "      <td>0</td>\n",
              "      <td>0.241479</td>\n",
              "    </tr>\n",
              "    <tr>\n",
              "      <td>5</td>\n",
              "      <td>0.210200</td>\n",
              "      <td>0.207509</td>\n",
              "      <td></td>\n",
              "      <td>254</td>\n",
              "      <td>0</td>\n",
              "      <td>0.238653</td>\n",
              "    </tr>\n",
              "    <tr>\n",
              "      <td>6</td>\n",
              "      <td>0.208000</td>\n",
              "      <td>0.251372</td>\n",
              "      <td></td>\n",
              "      <td>254</td>\n",
              "      <td>0</td>\n",
              "      <td>0.239867</td>\n",
              "    </tr>\n",
              "    <tr>\n",
              "      <td>8</td>\n",
              "      <td>0.206800</td>\n",
              "      <td>0.216043</td>\n",
              "      <td></td>\n",
              "      <td>254</td>\n",
              "      <td>0</td>\n",
              "      <td>0.242528</td>\n",
              "    </tr>\n",
              "    <tr>\n",
              "      <td>8</td>\n",
              "      <td>0.204900</td>\n",
              "      <td>0.245425</td>\n",
              "      <td></td>\n",
              "      <td>254</td>\n",
              "      <td>0</td>\n",
              "      <td>0.244471</td>\n",
              "    </tr>\n",
              "    <tr>\n",
              "      <td>9</td>\n",
              "      <td>0.204300</td>\n",
              "      <td>0.201877</td>\n",
              "      <td></td>\n",
              "      <td>254</td>\n",
              "      <td>0</td>\n",
              "      <td>0.243279</td>\n",
              "    </tr>\n",
              "  </tbody>\n",
              "</table><p>"
            ],
            "text/plain": [
              "<IPython.core.display.HTML object>"
            ]
          },
          "metadata": {},
          "output_type": "display_data"
        },
        {
          "data": {
            "text/html": [
              "\n",
              "    <div>\n",
              "      \n",
              "      <progress value='508' max='254' style='width:300px; height:20px; vertical-align: middle;'></progress>\n",
              "      [254/254 27:44]\n",
              "    </div>\n",
              "    "
            ],
            "text/plain": [
              "<IPython.core.display.HTML object>"
            ]
          },
          "metadata": {},
          "output_type": "display_data"
        },
        {
          "name": "stderr",
          "output_type": "stream",
          "text": [
            "Trainer is attempting to log a value of \"\" of type <class 'str'> for key \"eval/name\" as a scalar. This invocation of Tensorboard's writer.add_scalar() is incorrect so we dropped this attribute.\n",
            "Trainer is attempting to log a value of \"\" of type <class 'str'> for key \"eval/name\" as a scalar. This invocation of Tensorboard's writer.add_scalar() is incorrect so we dropped this attribute.\n",
            "Trainer is attempting to log a value of \"\" of type <class 'str'> for key \"eval/name\" as a scalar. This invocation of Tensorboard's writer.add_scalar() is incorrect so we dropped this attribute.\n",
            "Trainer is attempting to log a value of \"\" of type <class 'str'> for key \"eval/name\" as a scalar. This invocation of Tensorboard's writer.add_scalar() is incorrect so we dropped this attribute.\n",
            "Trainer is attempting to log a value of \"\" of type <class 'str'> for key \"eval/name\" as a scalar. This invocation of Tensorboard's writer.add_scalar() is incorrect so we dropped this attribute.\n",
            "Trainer is attempting to log a value of \"\" of type <class 'str'> for key \"eval/name\" as a scalar. This invocation of Tensorboard's writer.add_scalar() is incorrect so we dropped this attribute.\n",
            "Trainer is attempting to log a value of \"\" of type <class 'str'> for key \"eval/name\" as a scalar. This invocation of Tensorboard's writer.add_scalar() is incorrect so we dropped this attribute.\n",
            "Trainer is attempting to log a value of \"\" of type <class 'str'> for key \"eval/name\" as a scalar. This invocation of Tensorboard's writer.add_scalar() is incorrect so we dropped this attribute.\n",
            "Trainer is attempting to log a value of \"\" of type <class 'str'> for key \"eval/name\" as a scalar. This invocation of Tensorboard's writer.add_scalar() is incorrect so we dropped this attribute.\n",
            "Trainer is attempting to log a value of \"\" of type <class 'str'> for key \"eval/name\" as a scalar. This invocation of Tensorboard's writer.add_scalar() is incorrect so we dropped this attribute.\n"
          ]
        },
        {
          "data": {
            "text/plain": [
              "TrainOutput(global_step=13790, training_loss=0.21295307427752788, metrics={'train_runtime': 13916.0006, 'train_samples_per_second': 7.931, 'train_steps_per_second': 0.991, 'total_flos': 8.707923386523648e+16, 'train_loss': 0.21295307427752788, 'epoch': 10.0})"
            ]
          },
          "execution_count": 40,
          "metadata": {},
          "output_type": "execute_result"
        }
      ],
      "source": [
        "print(\"\\n ------------------------------ START \"+str(args.learning_rate)+\" & \"+str(args.per_device_train_batch_size)+\" ---------------------------- \\n \")\n",
        "trainer.train()"
      ]
    },
    {
      "attachments": {},
      "cell_type": "markdown",
      "metadata": {
        "id": "DmuD9NsiM6aZ"
      },
      "source": [
        "### Eval"
      ]
    },
    {
      "cell_type": "code",
      "execution_count": null,
      "metadata": {
        "id": "BPDX3C9eJ0Eq"
      },
      "outputs": [],
      "source": [
        "lr= 1e-5\n",
        "bs = 8\n",
        "class args:\n",
        "    model_name = \"Qubix/RoBERTa-PollBERT350K\"\n",
        "    # remaining arguments are from https://huggingface.co/docs/transformers/v4.24.0/en/main_classes/trainer#transformers.TrainingArguments\n",
        "    learning_rate = lr\n",
        "    num_train_epochs=10\n",
        "    per_device_train_batch_size=bs\n",
        "    per_device_eval_batch_size=bs\n",
        "    gradient_accumulation_steps = bs\n",
        "    #max_steps=128\n",
        "\n",
        "\n",
        "models = tn.Model(tasks_reddit_demographics_plbrt, args,) # list of models; by default, shared encoder, task-specific CLS token task-specific head \n",
        "\n",
        "models.task_models_list[0].loss = eval(['bce_loss','mse_loss'][1])\n",
        "models.task_models_list[0].forward = MethodType(forward, models.task_models_list[0])\n",
        "tasks_reddit_demographics_plbrt[0].compute_metrics=MethodType(compute_metrics,tasks_reddit_demographics_plbrt[0])\n",
        "trainer = tn.Trainer(models, tasks_reddit_demographics_plbrt, args, tokenizer = AutoTokenizer.from_pretrained(\"roberta-large\", use_fast=True))"
      ]
    },
    {
      "cell_type": "code",
      "execution_count": null,
      "metadata": {
        "colab": {
          "base_uri": "https://localhost:8080/",
          "height": 248
        },
        "id": "xU8W957mJ0tq",
        "outputId": "acfa32fa-6d12-4a27-9281-f6192d266406"
      },
      "outputs": [
        {
          "name": "stderr",
          "output_type": "stream",
          "text": [
            "You're using a RobertaTokenizerFast tokenizer. Please note that with a fast tokenizer, using the `__call__` method is faster than using a method to encode the text followed by a call to the `pad` method to get a padded encoding.\n"
          ]
        },
        {
          "data": {
            "text/html": [
              "\n",
              "    <div>\n",
              "      \n",
              "      <progress value='254' max='254' style='width:300px; height:20px; vertical-align: middle;'></progress>\n",
              "      [254/254 00:25]\n",
              "    </div>\n",
              "    "
            ],
            "text/plain": [
              "<IPython.core.display.HTML object>"
            ]
          },
          "metadata": {},
          "output_type": "display_data"
        },
        {
          "name": "stderr",
          "output_type": "stream",
          "text": [
            "Trainer is attempting to log a value of \"\" of type <class 'str'> for key \"eval/name\" as a scalar. This invocation of Tensorboard's writer.add_scalar() is incorrect so we dropped this attribute.\n"
          ]
        },
        {
          "data": {
            "text/plain": [
              "{'eval_loss': 0.21321538090705872,\n",
              " 'eval_name': '',\n",
              " 'eval_size': 254,\n",
              " 'eval_index': 0,\n",
              " 'eval_distance': 0.23804275691509247,\n",
              " 'eval_runtime': 25.3863,\n",
              " 'eval_samples_per_second': 10.005,\n",
              " 'eval_steps_per_second': 1.261,\n",
              " 'Accuracy': nan}"
            ]
          },
          "execution_count": 71,
          "metadata": {},
          "output_type": "execute_result"
        }
      ],
      "source": [
        "trainer.evaluate()"
      ]
    },
    {
      "cell_type": "code",
      "execution_count": null,
      "metadata": {
        "id": "ZTJ0_OoKMvqj"
      },
      "outputs": [],
      "source": [
        "lr= 1e-5\n",
        "bs = 8\n",
        "class args:\n",
        "    model_name = \"Qubix/RoBERTa-PollBERT350K\"\n",
        "    # remaining arguments are from https://huggingface.co/docs/transformers/v4.24.0/en/main_classes/trainer#transformers.TrainingArguments\n",
        "    learning_rate = lr\n",
        "    num_train_epochs=10\n",
        "    per_device_train_batch_size=bs\n",
        "    per_device_eval_batch_size=bs\n",
        "    gradient_accumulation_steps = bs\n",
        "    #max_steps=128\n",
        "\n",
        "\n",
        "models = tn.Model(tasks_plbrt, args,) # list of models; by default, shared encoder, task-specific CLS token task-specific head \n",
        "\n",
        "models.task_models_list[0].loss = eval(['bce_loss','mse_loss'][1])\n",
        "models.task_models_list[0].forward = MethodType(forward, models.task_models_list[0])\n",
        "tasks_plbrt[0].compute_metrics=MethodType(compute_metrics,tasks_plbrt[0])\n",
        "trainer = tn.Trainer(models, tasks_plbrt, args, tokenizer = AutoTokenizer.from_pretrained(\"roberta-large\", use_fast=True))"
      ]
    },
    {
      "cell_type": "code",
      "execution_count": null,
      "metadata": {
        "colab": {
          "base_uri": "https://localhost:8080/",
          "height": 248
        },
        "id": "QNEbCZ8LNz0I",
        "outputId": "034e7b99-9a04-46d7-8906-abcaada39056"
      },
      "outputs": [
        {
          "name": "stderr",
          "output_type": "stream",
          "text": [
            "You're using a RobertaTokenizerFast tokenizer. Please note that with a fast tokenizer, using the `__call__` method is faster than using a method to encode the text followed by a call to the `pad` method to get a padded encoding.\n"
          ]
        },
        {
          "data": {
            "text/html": [
              "\n",
              "    <div>\n",
              "      \n",
              "      <progress value='254' max='254' style='width:300px; height:20px; vertical-align: middle;'></progress>\n",
              "      [254/254 00:25]\n",
              "    </div>\n",
              "    "
            ],
            "text/plain": [
              "<IPython.core.display.HTML object>"
            ]
          },
          "metadata": {},
          "output_type": "display_data"
        },
        {
          "name": "stderr",
          "output_type": "stream",
          "text": [
            "Trainer is attempting to log a value of \"\" of type <class 'str'> for key \"eval/name\" as a scalar. This invocation of Tensorboard's writer.add_scalar() is incorrect so we dropped this attribute.\n"
          ]
        },
        {
          "data": {
            "text/plain": [
              "{'eval_loss': 0.20897020399570465,\n",
              " 'eval_name': '',\n",
              " 'eval_size': 254,\n",
              " 'eval_index': 0,\n",
              " 'eval_distance': 0.23723392188549042,\n",
              " 'eval_runtime': 25.5036,\n",
              " 'eval_samples_per_second': 9.959,\n",
              " 'eval_steps_per_second': 1.255,\n",
              " 'Accuracy': nan}"
            ]
          },
          "execution_count": 73,
          "metadata": {},
          "output_type": "execute_result"
        }
      ],
      "source": [
        "trainer.evaluate()"
      ]
    },
    {
      "attachments": {},
      "cell_type": "markdown",
      "metadata": {
        "id": "MA-yg4Tq4dyo"
      },
      "source": [
        "### WVS with Reddit finetuned (Full + Demographics)"
      ]
    },
    {
      "cell_type": "code",
      "execution_count": null,
      "metadata": {
        "id": "Y1ivo2kE4dyo"
      },
      "outputs": [],
      "source": [
        "class args:\n",
        "    model_name = \"Qubix/demoPollBERT\"\n",
        "    # remaining arguments are from https://huggingface.co/docs/transformers/v4.24.0/en/main_classes/trainer#transformers.TrainingArguments\n",
        "    learning_rate = 1e-5\n",
        "    num_train_epochs=3\n",
        "    per_device_train_batch_size=8\n",
        "    per_device_eval_batch_size=8\n",
        "    gradient_accumulation_steps = 8\n",
        "\n",
        "models = tn.Model(tasks_wvs, args,) # list of models; by default, shared encoder, task-specific CLS token task-specific head \n",
        "\n",
        "models.task_models_list[0].loss = eval(['torch.nn.BCELoss()','mse_loss'][1])\n",
        "models.task_models_list[0].forward = MethodType(forward, models.task_models_list[0])\n",
        "tasks_wvs[0].compute_metrics=MethodType(compute_metrics,tasks_wvs[0])\n",
        "trainer = tn.Trainer(models, tasks_reddit_demographics_plbrt, args, tokenizer = AutoTokenizer.from_pretrained(\"roberta-large\", use_fast=True)) # tasks are uniformly sampled by default"
      ]
    },
    {
      "cell_type": "code",
      "execution_count": null,
      "metadata": {
        "id": "SsmyAjv14dyo"
      },
      "outputs": [],
      "source": [
        "trainer.evaluate()"
      ]
    },
    {
      "cell_type": "code",
      "execution_count": null,
      "metadata": {
        "id": "1nimUC454dyo"
      },
      "outputs": [],
      "source": [
        "trainer = tn.Trainer(models, tasks_wvs, args, tokenizer = AutoTokenizer.from_pretrained(\"roberta-large\", use_fast=True)) # tasks are uniformly sampled by default\n",
        "print(\"\\n ------------------------------ START \"+str(args.learning_rate)+\" & \"+str(args.num_train_epochs)+\" ---------------------------- \\n \")\n",
        "trainer.train()"
      ]
    },
    {
      "attachments": {},
      "cell_type": "markdown",
      "metadata": {},
      "source": [
        "# Results"
      ]
    },
    {
      "attachments": {},
      "cell_type": "markdown",
      "metadata": {},
      "source": [
        "## Zeroshot"
      ]
    },
    {
      "attachments": {},
      "cell_type": "markdown",
      "metadata": {},
      "source": [
        "## RoBERTa"
      ]
    },
    {
      "attachments": {},
      "cell_type": "markdown",
      "metadata": {},
      "source": [
        "#### WVMCQ7"
      ]
    },
    {
      "cell_type": "code",
      "execution_count": null,
      "metadata": {},
      "outputs": [],
      "source": [
        "results_wvs_bert = pd.read_csv(\"./validation_sets/roberta_wvs_results_validation.csv\")\n",
        "del results_wvs_bert['Unnamed: 0']\n",
        "roberta_rmse_wvs = mean_squared_error(results_wvs_bert[\"predictions\"],results_wvs_bert[\"ground_truth\"]/100,squared=False)\n",
        "roberta_rmse_wvs"
      ]
    },
    {
      "cell_type": "code",
      "execution_count": null,
      "metadata": {},
      "outputs": [],
      "source": [
        "results_normalized = []\n",
        "keys = list(pd.DataFrame(results_wvs_bert)[[\"subject\",\"demographic\",\"year\"]].value_counts().keys())\n",
        "for (subject,demographic,year) in keys:\n",
        "    results = pd.DataFrame(results_wvs_bert).groupby([\"subject\",\"demographic\",\"year\"]).get_group((subject,demographic,year))\n",
        "    for result in results.values:\n",
        "        prob = round(Decimal(result[5]/sum(results[\"predictions\"])),2)\n",
        "        result[5] = prob\n",
        "        results_normalized.append(result)\n",
        "        \n",
        "bert_wvs_normalized_results = pd.DataFrame(results_normalized,columns=[\"input\",\"subject\",\"choice\",\"demographic\",\"year\",\"prediction\",\"ground_truth\"])\n",
        "bert_wvs_normalized_results.to_csv(\"./validation_sets/roberta_wvs_normalized_results_validation.csv\")"
      ]
    },
    {
      "cell_type": "code",
      "execution_count": null,
      "metadata": {},
      "outputs": [],
      "source": [
        "bert_wvs_normalized_results = pd.read_csv(\"./validation_sets/roberta_wvs_normalized_results_validation.csv\")\n",
        "roberta_rmse_wvs_normalized = mean_squared_error(bert_wvs_normalized_results[\"prediction\"],bert_wvs_normalized_results[\"ground_truth\"]/100,squared=False)\n",
        "roberta_rmse_wvs_normalized"
      ]
    },
    {
      "attachments": {},
      "cell_type": "markdown",
      "metadata": {},
      "source": [
        "#### Reddit (Full)"
      ]
    },
    {
      "attachments": {},
      "cell_type": "markdown",
      "metadata": {},
      "source": [
        "results_reddit_bert = []\n",
        "for example in dataset_reddit_full[\"validation\"]:\n",
        "  prediction = -1\n",
        "  try:\n",
        "    prediction = round(Decimal(int(classifier(example[\"input\"])[0][\"token_str\"])/100),2)\n",
        "  except:\n",
        "    prediction = -1\n",
        "  data = {\"input\":example[\"input\"],\"subject\":example[\"subject\"],\"choice\":example[\"choice\"],\"demographic\":example[\"demographic\"],\"year\":example[\"year\"],\"predictions\":prediction,\"ground_truth\":example[\"y\"]}\n",
        "  results_reddit_bert.append(data)\n",
        "\n",
        "pd.DataFrame(results_reddit_bert).to_csv(\"./validation_sets/roberta_reddit_full_results_validation.csv\")"
      ]
    },
    {
      "cell_type": "code",
      "execution_count": null,
      "metadata": {},
      "outputs": [],
      "source": [
        "results_reddit_bert = pd.read_csv(\"./validation_sets/roberta_reddit_full_results_validation.csv\")"
      ]
    },
    {
      "cell_type": "code",
      "execution_count": null,
      "metadata": {},
      "outputs": [],
      "source": [
        "from sklearn.metrics import mean_squared_error\n",
        "roberta_rmse_reddit_full = mean_squared_error(results_reddit_bert[\"predictions\"],results_reddit_bert[\"ground_truth\"],squared=False)\n",
        "roberta_rmse_reddit_full"
      ]
    },
    {
      "cell_type": "code",
      "execution_count": null,
      "metadata": {},
      "outputs": [],
      "source": [
        "results_normalized = []\n",
        "keys = list(pd.DataFrame(results_reddit_bert)[[\"subject\",\"demographic\",\"year\"]].value_counts().keys())\n",
        "for (subject,demographic,year) in keys:\n",
        "    results = pd.DataFrame(results_reddit_bert).groupby([\"subject\",\"demographic\",\"year\"]).get_group((subject,demographic,year))\n",
        "    for result in results.values:\n",
        "        prob = (result[6]/sum(results[\"predictions\"]))\n",
        "        result[6] = prob\n",
        "        results_normalized.append(result)\n",
        "        \n",
        "bert_reddit_normalized_results = pd.DataFrame(results_normalized,columns=[\"index\",\"input\",\"subject\",\"choice\",\"demographic\",\"year\",\"prediction\",\"ground_truth\"])\n",
        "del bert_reddit_normalized_results[\"index\"]\n",
        "bert_reddit_normalized_results.to_csv(\"./validation_sets/roberta_reddit_full_normalized_results_validation.csv\")"
      ]
    },
    {
      "cell_type": "code",
      "execution_count": null,
      "metadata": {},
      "outputs": [],
      "source": [
        "bert_reddit_normalized_results = pd.read_csv(\"./validation_sets/roberta_reddit_full_normalized_results_validation.csv\")"
      ]
    },
    {
      "cell_type": "code",
      "execution_count": null,
      "metadata": {},
      "outputs": [],
      "source": [
        "from sklearn.metrics import mean_squared_error\n",
        "roberta_rmse_reddit_full_normalized = mean_squared_error(bert_reddit_normalized_results[\"prediction\"],bert_reddit_normalized_results[\"ground_truth\"],squared=False)\n",
        "roberta_rmse_reddit_full_normalized"
      ]
    },
    {
      "attachments": {},
      "cell_type": "markdown",
      "metadata": {},
      "source": [
        "#### RedditPoll350k (Demographics)"
      ]
    },
    {
      "cell_type": "code",
      "execution_count": null,
      "metadata": {},
      "outputs": [],
      "source": [
        "results_reddit_bert = []\n",
        "for example in dataset_reddit_demographic[\"validation\"]:\n",
        "  prediction = -1\n",
        "  try:\n",
        "    prediction = round(Decimal(int(classifier(example[\"input\"])[0][\"token_str\"])/100),2)\n",
        "  except:\n",
        "    prediction = -1\n",
        "  data = {\"input\":example[\"input\"],\"subject\":example[\"subject\"],\"choice\":example[\"choice\"],\"demographic\":example[\"demographic\"],\"year\":example[\"year\"],\"predictions\":prediction,\"ground_truth\":example[\"y\"]}\n",
        "  results_reddit_bert.append(data)\n",
        "\n",
        "pd.DataFrame(results_reddit_bert).to_csv(\"./validation_sets/roberta_reddit_results_validation.csv\")"
      ]
    },
    {
      "cell_type": "code",
      "execution_count": null,
      "metadata": {},
      "outputs": [],
      "source": [
        "results_reddit_bert = pd.read_csv(\"./validation_sets/roberta_reddit_results_validation.csv\")"
      ]
    },
    {
      "cell_type": "code",
      "execution_count": null,
      "metadata": {},
      "outputs": [],
      "source": [
        "results_normalized = []\n",
        "keys = list(pd.DataFrame(results_reddit_bert)[[\"subject\",\"demographic\",\"year\"]].value_counts().keys())\n",
        "for (subject,demographic,year) in keys:\n",
        "    results = pd.DataFrame(results_reddit_bert).groupby([\"subject\",\"demographic\",\"year\"]).get_group((subject,demographic,year))\n",
        "    for result in results.values:\n",
        "        prob = (result[6]/sum(results[\"predictions\"]))\n",
        "        result[6] = prob\n",
        "        results_normalized.append(result)\n",
        "        \n",
        "bert_reddit_normalized_results = pd.DataFrame(results_normalized,columns=[\"index\",\"input\",\"subject\",\"choice\",\"demographic\",\"year\",\"prediction\",\"ground_truth\"])\n",
        "del bert_reddit_normalized_results[\"index\"]\n",
        "bert_reddit_normalized_results.to_csv(\"./validation_sets/roberta_reddit_normalized_results_validation.csv\")"
      ]
    },
    {
      "cell_type": "code",
      "execution_count": null,
      "metadata": {},
      "outputs": [],
      "source": [
        "bert_reddit_normalized_results = pd.read_csv(\"./validation_sets/roberta_reddit_normalized_results_validation.csv\")"
      ]
    },
    {
      "cell_type": "code",
      "execution_count": null,
      "metadata": {},
      "outputs": [],
      "source": [
        "roberta_rmse_reddit_demographics_normalized = mean_squared_error(bert_reddit_normalized_results[\"prediction\"],bert_reddit_normalized_results[\"ground_truth\"],squared=False)\n",
        "roberta_rmse_reddit_demographics_normalized"
      ]
    },
    {
      "attachments": {},
      "cell_type": "markdown",
      "metadata": {},
      "source": [
        "### Constant Predition Model"
      ]
    },
    {
      "attachments": {},
      "cell_type": "markdown",
      "metadata": {},
      "source": [
        "#### WVMCQ7"
      ]
    },
    {
      "cell_type": "code",
      "execution_count": null,
      "metadata": {},
      "outputs": [],
      "source": [
        "def constant_prediction(row):\n",
        "  subject = row[\"subject\"]\n",
        "  demographic = row[\"demographic\"]\n",
        "  year = row[\"year\"]\n",
        "  try:\n",
        "    pred = round((1/len(results_wvs_bert.groupby([\"subject\",\"demographic\",\"year\"]).get_group((subject,demographic,year)))),2)\n",
        "    row[\"predictions\"] = pred\n",
        "  except:\n",
        "    pass\n",
        "  return row"
      ]
    },
    {
      "cell_type": "code",
      "execution_count": null,
      "metadata": {},
      "outputs": [],
      "source": [
        "results_wvs_bert = pd.read_csv(\"./validation_sets/roberta_wvs_results_validation.csv\")\n",
        "results_reddit_bert_full = pd.read_csv(\"./validation_sets/roberta_reddit_full_results_validation.csv\")\n",
        "results_reddit_bert_demographics= pd.read_csv(\"./validation_sets/roberta_reddit_results_validation.csv\")"
      ]
    },
    {
      "cell_type": "code",
      "execution_count": null,
      "metadata": {},
      "outputs": [],
      "source": [
        "results_wvs_random = results_wvs_bert.apply(constant_prediction,axis=1)\n",
        "results_wvs_random.to_csv(\"./validation_sets/results_wvs_random_validation.csv\")\n",
        "\n",
        "results_wvs_random = pd.read_csv(\"./validation_sets/results_wvs_random_validation.csv\")\n"
      ]
    },
    {
      "cell_type": "code",
      "execution_count": null,
      "metadata": {},
      "outputs": [],
      "source": [
        "from sklearn.metrics import mean_squared_error\n",
        "constant_rsme_wvs = mean_squared_error(results_wvs_random[\"predictions\"],results_wvs_random[\"ground_truth\"]/100,squared=False)\n",
        "constant_rsme_wvs"
      ]
    },
    {
      "attachments": {},
      "cell_type": "markdown",
      "metadata": {},
      "source": [
        "#### RedditPoll350k"
      ]
    },
    {
      "cell_type": "code",
      "execution_count": null,
      "metadata": {},
      "outputs": [],
      "source": [
        "results_reddit_full_random = results_reddit_bert_full.apply(constant_prediction,axis=1)\n",
        "\n",
        "results_reddit_full_random.to_csv(\"./validation_sets/results_reddit_full_random_validation.csv\")\n",
        "\n",
        "results_reddit_full_random = pd.read_csv(\"./validation_sets/results_reddit_full_random_validation.csv\")"
      ]
    },
    {
      "cell_type": "code",
      "execution_count": null,
      "metadata": {},
      "outputs": [],
      "source": [
        "results_reddit_random = results_reddit_bert_demographics.apply(constant_prediction,axis=1)\n",
        "\n",
        "results_reddit_random.to_csv(\"./validation_sets/results_reddit_random_validation.csv\")\n",
        "\n",
        "results_reddit_random = pd.read_csv(\"./validation_sets/results_reddit_random_validation.csv\")"
      ]
    },
    {
      "cell_type": "code",
      "execution_count": null,
      "metadata": {},
      "outputs": [],
      "source": [
        "constant_rsme_reddit_full = mean_squared_error(results_reddit_full_random[\"predictions\"],results_reddit_full_random[\"ground_truth\"],squared=False)\n",
        "constant_rsme_reddit_full"
      ]
    },
    {
      "cell_type": "code",
      "execution_count": null,
      "metadata": {},
      "outputs": [],
      "source": [
        "constant_rsme_reddit_demographics = mean_squared_error(results_reddit_random[\"predictions\"],results_reddit_random[\"ground_truth\"],squared=False)\n",
        "constant_rsme_reddit_demographics"
      ]
    },
    {
      "attachments": {},
      "cell_type": "markdown",
      "metadata": {},
      "source": [
        "## Fine tuning"
      ]
    },
    {
      "cell_type": "code",
      "execution_count": null,
      "metadata": {},
      "outputs": [],
      "source": []
    }
  ],
  "metadata": {
    "accelerator": "GPU",
    "colab": {
      "collapsed_sections": [
        "f03sGKqF4dyY",
        "5NL0K2EJ4dye",
        "x7q8EDva4dyh",
        "TLlmA94_C0H4",
        "uqpmYS_a9Hj3",
        "Yjc2ppv04dyl",
        "VQlfQoOL4dyn",
        "IJZ8qMly0SoL",
        "YmoDknZm_ckY"
      ],
      "provenance": []
    },
    "gpuClass": "premium",
    "kernelspec": {
      "display_name": "Python 3",
      "language": "python",
      "name": "python3"
    },
    "language_info": {
      "codemirror_mode": {
        "name": "ipython",
        "version": 3
      },
      "file_extension": ".py",
      "mimetype": "text/x-python",
      "name": "python",
      "nbconvert_exporter": "python",
      "pygments_lexer": "ipython3",
      "version": "3.9.5"
    },
    "vscode": {
      "interpreter": {
        "hash": "e04af683dcd532fab92ee3d2c1395367aa76b379b2b3ec6f861da2327957feef"
      }
    },
    "widgets": {
      "application/vnd.jupyter.widget-state+json": {
        "00616ba9229f4763aafe9fd2293de87b": {
          "model_module": "@jupyter-widgets/base",
          "model_module_version": "1.2.0",
          "model_name": "LayoutModel",
          "state": {
            "_model_module": "@jupyter-widgets/base",
            "_model_module_version": "1.2.0",
            "_model_name": "LayoutModel",
            "_view_count": null,
            "_view_module": "@jupyter-widgets/base",
            "_view_module_version": "1.2.0",
            "_view_name": "LayoutView",
            "align_content": null,
            "align_items": null,
            "align_self": null,
            "border": null,
            "bottom": null,
            "display": null,
            "flex": null,
            "flex_flow": null,
            "grid_area": null,
            "grid_auto_columns": null,
            "grid_auto_flow": null,
            "grid_auto_rows": null,
            "grid_column": null,
            "grid_gap": null,
            "grid_row": null,
            "grid_template_areas": null,
            "grid_template_columns": null,
            "grid_template_rows": null,
            "height": null,
            "justify_content": null,
            "justify_items": null,
            "left": null,
            "margin": null,
            "max_height": null,
            "max_width": null,
            "min_height": null,
            "min_width": null,
            "object_fit": null,
            "object_position": null,
            "order": null,
            "overflow": null,
            "overflow_x": null,
            "overflow_y": null,
            "padding": null,
            "right": null,
            "top": null,
            "visibility": null,
            "width": null
          }
        },
        "015042b733e145bb9908288257b8e136": {
          "model_module": "@jupyter-widgets/controls",
          "model_module_version": "1.5.0",
          "model_name": "HBoxModel",
          "state": {
            "_dom_classes": [],
            "_model_module": "@jupyter-widgets/controls",
            "_model_module_version": "1.5.0",
            "_model_name": "HBoxModel",
            "_view_count": null,
            "_view_module": "@jupyter-widgets/controls",
            "_view_module_version": "1.5.0",
            "_view_name": "HBoxView",
            "box_style": "",
            "children": [
              "IPY_MODEL_8e0f83e8343f4fa2af1f97481e1e0970",
              "IPY_MODEL_d83252c162e949a8a916ce003baf08fa",
              "IPY_MODEL_9ca06a02507e4c1fb602121f111aa26a"
            ],
            "layout": "IPY_MODEL_999e59a83bf546c082dfb67663518506"
          }
        },
        "01a07579fc334e4cb3fbd68a49d4c397": {
          "model_module": "@jupyter-widgets/controls",
          "model_module_version": "1.5.0",
          "model_name": "HTMLModel",
          "state": {
            "_dom_classes": [],
            "_model_module": "@jupyter-widgets/controls",
            "_model_module_version": "1.5.0",
            "_model_name": "HTMLModel",
            "_view_count": null,
            "_view_module": "@jupyter-widgets/controls",
            "_view_module_version": "1.5.0",
            "_view_name": "HTMLView",
            "description": "",
            "description_tooltip": null,
            "layout": "IPY_MODEL_cc69d6492f8d4c4e93267e1b1bfa4081",
            "placeholder": "​",
            "style": "IPY_MODEL_1923d82985ba4283a5a797c3cc1f8e92",
            "value": "pytorch_model.bin: 100%"
          }
        },
        "02441eb7ae1146378a27c07745337b30": {
          "model_module": "@jupyter-widgets/controls",
          "model_module_version": "1.5.0",
          "model_name": "DescriptionStyleModel",
          "state": {
            "_model_module": "@jupyter-widgets/controls",
            "_model_module_version": "1.5.0",
            "_model_name": "DescriptionStyleModel",
            "_view_count": null,
            "_view_module": "@jupyter-widgets/base",
            "_view_module_version": "1.2.0",
            "_view_name": "StyleView",
            "description_width": ""
          }
        },
        "033454a494c1482196bd273083c087d7": {
          "model_module": "@jupyter-widgets/controls",
          "model_module_version": "1.5.0",
          "model_name": "DescriptionStyleModel",
          "state": {
            "_model_module": "@jupyter-widgets/controls",
            "_model_module_version": "1.5.0",
            "_model_name": "DescriptionStyleModel",
            "_view_count": null,
            "_view_module": "@jupyter-widgets/base",
            "_view_module_version": "1.2.0",
            "_view_name": "StyleView",
            "description_width": ""
          }
        },
        "039fd251894a49eb8c9dc27287150bfc": {
          "model_module": "@jupyter-widgets/controls",
          "model_module_version": "1.5.0",
          "model_name": "DescriptionStyleModel",
          "state": {
            "_model_module": "@jupyter-widgets/controls",
            "_model_module_version": "1.5.0",
            "_model_name": "DescriptionStyleModel",
            "_view_count": null,
            "_view_module": "@jupyter-widgets/base",
            "_view_module_version": "1.2.0",
            "_view_name": "StyleView",
            "description_width": ""
          }
        },
        "03f065c9faa740819b7d58ee0f6cf3bb": {
          "model_module": "@jupyter-widgets/controls",
          "model_module_version": "1.5.0",
          "model_name": "DescriptionStyleModel",
          "state": {
            "_model_module": "@jupyter-widgets/controls",
            "_model_module_version": "1.5.0",
            "_model_name": "DescriptionStyleModel",
            "_view_count": null,
            "_view_module": "@jupyter-widgets/base",
            "_view_module_version": "1.2.0",
            "_view_name": "StyleView",
            "description_width": ""
          }
        },
        "06ad674df17841df84e32e52a45250d0": {
          "model_module": "@jupyter-widgets/controls",
          "model_module_version": "1.5.0",
          "model_name": "HTMLModel",
          "state": {
            "_dom_classes": [],
            "_model_module": "@jupyter-widgets/controls",
            "_model_module_version": "1.5.0",
            "_model_name": "HTMLModel",
            "_view_count": null,
            "_view_module": "@jupyter-widgets/controls",
            "_view_module_version": "1.5.0",
            "_view_name": "HTMLView",
            "description": "",
            "description_tooltip": null,
            "layout": "IPY_MODEL_76e57a062441478a9c202716170fc334",
            "placeholder": "​",
            "style": "IPY_MODEL_84778feb064644f8b2c1368dade5aa88",
            "value": " 1/1 [00:21&lt;00:00, 21.80s/it]"
          }
        },
        "06c741f9df7041bf9605ee82d7fdc37d": {
          "model_module": "@jupyter-widgets/base",
          "model_module_version": "1.2.0",
          "model_name": "LayoutModel",
          "state": {
            "_model_module": "@jupyter-widgets/base",
            "_model_module_version": "1.2.0",
            "_model_name": "LayoutModel",
            "_view_count": null,
            "_view_module": "@jupyter-widgets/base",
            "_view_module_version": "1.2.0",
            "_view_name": "LayoutView",
            "align_content": null,
            "align_items": null,
            "align_self": null,
            "border": null,
            "bottom": null,
            "display": null,
            "flex": null,
            "flex_flow": null,
            "grid_area": null,
            "grid_auto_columns": null,
            "grid_auto_flow": null,
            "grid_auto_rows": null,
            "grid_column": null,
            "grid_gap": null,
            "grid_row": null,
            "grid_template_areas": null,
            "grid_template_columns": null,
            "grid_template_rows": null,
            "height": null,
            "justify_content": null,
            "justify_items": null,
            "left": null,
            "margin": null,
            "max_height": null,
            "max_width": null,
            "min_height": null,
            "min_width": null,
            "object_fit": null,
            "object_position": null,
            "order": null,
            "overflow": null,
            "overflow_x": null,
            "overflow_y": null,
            "padding": null,
            "right": null,
            "top": null,
            "visibility": null,
            "width": null
          }
        },
        "06f1958fad6a45cca116050e24d86b19": {
          "model_module": "@jupyter-widgets/controls",
          "model_module_version": "1.5.0",
          "model_name": "ProgressStyleModel",
          "state": {
            "_model_module": "@jupyter-widgets/controls",
            "_model_module_version": "1.5.0",
            "_model_name": "ProgressStyleModel",
            "_view_count": null,
            "_view_module": "@jupyter-widgets/base",
            "_view_module_version": "1.2.0",
            "_view_name": "StyleView",
            "bar_color": null,
            "description_width": ""
          }
        },
        "0bb8b4398b4340a787816bc79272342a": {
          "model_module": "@jupyter-widgets/controls",
          "model_module_version": "1.5.0",
          "model_name": "ProgressStyleModel",
          "state": {
            "_model_module": "@jupyter-widgets/controls",
            "_model_module_version": "1.5.0",
            "_model_name": "ProgressStyleModel",
            "_view_count": null,
            "_view_module": "@jupyter-widgets/base",
            "_view_module_version": "1.2.0",
            "_view_name": "StyleView",
            "bar_color": null,
            "description_width": ""
          }
        },
        "0bbab79ea8d9410796beaa34ea3196db": {
          "model_module": "@jupyter-widgets/base",
          "model_module_version": "1.2.0",
          "model_name": "LayoutModel",
          "state": {
            "_model_module": "@jupyter-widgets/base",
            "_model_module_version": "1.2.0",
            "_model_name": "LayoutModel",
            "_view_count": null,
            "_view_module": "@jupyter-widgets/base",
            "_view_module_version": "1.2.0",
            "_view_name": "LayoutView",
            "align_content": null,
            "align_items": null,
            "align_self": null,
            "border": null,
            "bottom": null,
            "display": null,
            "flex": null,
            "flex_flow": null,
            "grid_area": null,
            "grid_auto_columns": null,
            "grid_auto_flow": null,
            "grid_auto_rows": null,
            "grid_column": null,
            "grid_gap": null,
            "grid_row": null,
            "grid_template_areas": null,
            "grid_template_columns": null,
            "grid_template_rows": null,
            "height": null,
            "justify_content": null,
            "justify_items": null,
            "left": null,
            "margin": null,
            "max_height": null,
            "max_width": null,
            "min_height": null,
            "min_width": null,
            "object_fit": null,
            "object_position": null,
            "order": null,
            "overflow": null,
            "overflow_x": null,
            "overflow_y": null,
            "padding": null,
            "right": null,
            "top": null,
            "visibility": null,
            "width": null
          }
        },
        "0e8c14640eab4fcb82e19e5cac547359": {
          "model_module": "@jupyter-widgets/base",
          "model_module_version": "1.2.0",
          "model_name": "LayoutModel",
          "state": {
            "_model_module": "@jupyter-widgets/base",
            "_model_module_version": "1.2.0",
            "_model_name": "LayoutModel",
            "_view_count": null,
            "_view_module": "@jupyter-widgets/base",
            "_view_module_version": "1.2.0",
            "_view_name": "LayoutView",
            "align_content": null,
            "align_items": null,
            "align_self": null,
            "border": null,
            "bottom": null,
            "display": null,
            "flex": null,
            "flex_flow": null,
            "grid_area": null,
            "grid_auto_columns": null,
            "grid_auto_flow": null,
            "grid_auto_rows": null,
            "grid_column": null,
            "grid_gap": null,
            "grid_row": null,
            "grid_template_areas": null,
            "grid_template_columns": null,
            "grid_template_rows": null,
            "height": null,
            "justify_content": null,
            "justify_items": null,
            "left": null,
            "margin": null,
            "max_height": null,
            "max_width": null,
            "min_height": null,
            "min_width": null,
            "object_fit": null,
            "object_position": null,
            "order": null,
            "overflow": null,
            "overflow_x": null,
            "overflow_y": null,
            "padding": null,
            "right": null,
            "top": null,
            "visibility": null,
            "width": null
          }
        },
        "0ee9e94d28144912ba55dd5255cbd5d0": {
          "model_module": "@jupyter-widgets/base",
          "model_module_version": "1.2.0",
          "model_name": "LayoutModel",
          "state": {
            "_model_module": "@jupyter-widgets/base",
            "_model_module_version": "1.2.0",
            "_model_name": "LayoutModel",
            "_view_count": null,
            "_view_module": "@jupyter-widgets/base",
            "_view_module_version": "1.2.0",
            "_view_name": "LayoutView",
            "align_content": null,
            "align_items": null,
            "align_self": null,
            "border": null,
            "bottom": null,
            "display": null,
            "flex": null,
            "flex_flow": null,
            "grid_area": null,
            "grid_auto_columns": null,
            "grid_auto_flow": null,
            "grid_auto_rows": null,
            "grid_column": null,
            "grid_gap": null,
            "grid_row": null,
            "grid_template_areas": null,
            "grid_template_columns": null,
            "grid_template_rows": null,
            "height": null,
            "justify_content": null,
            "justify_items": null,
            "left": null,
            "margin": null,
            "max_height": null,
            "max_width": null,
            "min_height": null,
            "min_width": null,
            "object_fit": null,
            "object_position": null,
            "order": null,
            "overflow": null,
            "overflow_x": null,
            "overflow_y": null,
            "padding": null,
            "right": null,
            "top": null,
            "visibility": null,
            "width": null
          }
        },
        "0f2e03a9624f45eb8c8562185c5308af": {
          "model_module": "@jupyter-widgets/controls",
          "model_module_version": "1.5.0",
          "model_name": "ProgressStyleModel",
          "state": {
            "_model_module": "@jupyter-widgets/controls",
            "_model_module_version": "1.5.0",
            "_model_name": "ProgressStyleModel",
            "_view_count": null,
            "_view_module": "@jupyter-widgets/base",
            "_view_module_version": "1.2.0",
            "_view_name": "StyleView",
            "bar_color": null,
            "description_width": ""
          }
        },
        "1249c8bf90cc4e5e8b4e6d57a3a3e691": {
          "model_module": "@jupyter-widgets/controls",
          "model_module_version": "1.5.0",
          "model_name": "DescriptionStyleModel",
          "state": {
            "_model_module": "@jupyter-widgets/controls",
            "_model_module_version": "1.5.0",
            "_model_name": "DescriptionStyleModel",
            "_view_count": null,
            "_view_module": "@jupyter-widgets/base",
            "_view_module_version": "1.2.0",
            "_view_name": "StyleView",
            "description_width": ""
          }
        },
        "12f83f3a9c404478a8eec24c65351b45": {
          "model_module": "@jupyter-widgets/controls",
          "model_module_version": "1.5.0",
          "model_name": "HTMLModel",
          "state": {
            "_dom_classes": [],
            "_model_module": "@jupyter-widgets/controls",
            "_model_module_version": "1.5.0",
            "_model_name": "HTMLModel",
            "_view_count": null,
            "_view_module": "@jupyter-widgets/controls",
            "_view_module_version": "1.5.0",
            "_view_name": "HTMLView",
            "description": "",
            "description_tooltip": null,
            "layout": "IPY_MODEL_83dab16312534cb79d13055bc3a644d4",
            "placeholder": "​",
            "style": "IPY_MODEL_1249c8bf90cc4e5e8b4e6d57a3a3e691",
            "value": " 499M/499M [00:10&lt;00:00, 39.5MB/s]"
          }
        },
        "1517a392caf5426c91323b643ec19f5d": {
          "model_module": "@jupyter-widgets/controls",
          "model_module_version": "1.5.0",
          "model_name": "DescriptionStyleModel",
          "state": {
            "_model_module": "@jupyter-widgets/controls",
            "_model_module_version": "1.5.0",
            "_model_name": "DescriptionStyleModel",
            "_view_count": null,
            "_view_module": "@jupyter-widgets/base",
            "_view_module_version": "1.2.0",
            "_view_name": "StyleView",
            "description_width": ""
          }
        },
        "16f343c3de7e4402936c88c1dc88cb0d": {
          "model_module": "@jupyter-widgets/controls",
          "model_module_version": "1.5.0",
          "model_name": "FloatProgressModel",
          "state": {
            "_dom_classes": [],
            "_model_module": "@jupyter-widgets/controls",
            "_model_module_version": "1.5.0",
            "_model_name": "FloatProgressModel",
            "_view_count": null,
            "_view_module": "@jupyter-widgets/controls",
            "_view_module_version": "1.5.0",
            "_view_name": "ProgressView",
            "bar_style": "success",
            "description": "",
            "description_tooltip": null,
            "layout": "IPY_MODEL_e211b63f6fec4b7d861b8f23b791976a",
            "max": 1,
            "min": 0,
            "orientation": "horizontal",
            "style": "IPY_MODEL_b9b49361bfec4e1a85b792a15ce1d5e8",
            "value": 1
          }
        },
        "17c11e257a5c46f4be20aa5544461ec5": {
          "model_module": "@jupyter-widgets/controls",
          "model_module_version": "1.5.0",
          "model_name": "HTMLModel",
          "state": {
            "_dom_classes": [],
            "_model_module": "@jupyter-widgets/controls",
            "_model_module_version": "1.5.0",
            "_model_name": "HTMLModel",
            "_view_count": null,
            "_view_module": "@jupyter-widgets/controls",
            "_view_module_version": "1.5.0",
            "_view_name": "HTMLView",
            "description": "",
            "description_tooltip": null,
            "layout": "IPY_MODEL_6430f1c24f974ff48da7d8f4cf7ce610",
            "placeholder": "​",
            "style": "IPY_MODEL_7e215e9baa444ca88111852294f01087",
            "value": "pytorch_model.bin: 100%"
          }
        },
        "18163e7e935b437080d46cdbe3212b03": {
          "model_module": "@jupyter-widgets/controls",
          "model_module_version": "1.5.0",
          "model_name": "HBoxModel",
          "state": {
            "_dom_classes": [],
            "_model_module": "@jupyter-widgets/controls",
            "_model_module_version": "1.5.0",
            "_model_name": "HBoxModel",
            "_view_count": null,
            "_view_module": "@jupyter-widgets/controls",
            "_view_module_version": "1.5.0",
            "_view_name": "HBoxView",
            "box_style": "",
            "children": [
              "IPY_MODEL_b0ee048f5c3c41bd9e4c63b3f7261116",
              "IPY_MODEL_597dcc232ae8437eb064f173f2d237d3",
              "IPY_MODEL_48f38b71c52044da9ca70fe5f55bcd73"
            ],
            "layout": "IPY_MODEL_76e349accefa46229999d933043b5b56"
          }
        },
        "1923d82985ba4283a5a797c3cc1f8e92": {
          "model_module": "@jupyter-widgets/controls",
          "model_module_version": "1.5.0",
          "model_name": "DescriptionStyleModel",
          "state": {
            "_model_module": "@jupyter-widgets/controls",
            "_model_module_version": "1.5.0",
            "_model_name": "DescriptionStyleModel",
            "_view_count": null,
            "_view_module": "@jupyter-widgets/base",
            "_view_module_version": "1.2.0",
            "_view_name": "StyleView",
            "description_width": ""
          }
        },
        "1ab11ed3d7a442f7b24fe6bac0a259c4": {
          "model_module": "@jupyter-widgets/controls",
          "model_module_version": "1.5.0",
          "model_name": "HBoxModel",
          "state": {
            "_dom_classes": [],
            "_model_module": "@jupyter-widgets/controls",
            "_model_module_version": "1.5.0",
            "_model_name": "HBoxModel",
            "_view_count": null,
            "_view_module": "@jupyter-widgets/controls",
            "_view_module_version": "1.5.0",
            "_view_name": "HBoxView",
            "box_style": "",
            "children": [
              "IPY_MODEL_17c11e257a5c46f4be20aa5544461ec5",
              "IPY_MODEL_ecbb89e47a9146ccb492631566f7eb60",
              "IPY_MODEL_45839a230d714d3ebc25557b497d46f0"
            ],
            "layout": "IPY_MODEL_f9f9d3df1f2149dd910158fdd5a2c8f8"
          }
        },
        "1bbaf80c853a4bfbb99f839b688fe62f": {
          "model_module": "@jupyter-widgets/base",
          "model_module_version": "1.2.0",
          "model_name": "LayoutModel",
          "state": {
            "_model_module": "@jupyter-widgets/base",
            "_model_module_version": "1.2.0",
            "_model_name": "LayoutModel",
            "_view_count": null,
            "_view_module": "@jupyter-widgets/base",
            "_view_module_version": "1.2.0",
            "_view_name": "LayoutView",
            "align_content": null,
            "align_items": null,
            "align_self": null,
            "border": null,
            "bottom": null,
            "display": null,
            "flex": null,
            "flex_flow": null,
            "grid_area": null,
            "grid_auto_columns": null,
            "grid_auto_flow": null,
            "grid_auto_rows": null,
            "grid_column": null,
            "grid_gap": null,
            "grid_row": null,
            "grid_template_areas": null,
            "grid_template_columns": null,
            "grid_template_rows": null,
            "height": null,
            "justify_content": null,
            "justify_items": null,
            "left": null,
            "margin": null,
            "max_height": null,
            "max_width": null,
            "min_height": null,
            "min_width": null,
            "object_fit": null,
            "object_position": null,
            "order": null,
            "overflow": null,
            "overflow_x": null,
            "overflow_y": null,
            "padding": null,
            "right": null,
            "top": null,
            "visibility": null,
            "width": null
          }
        },
        "1db9d3b241154b929bf97712476f70c7": {
          "model_module": "@jupyter-widgets/base",
          "model_module_version": "1.2.0",
          "model_name": "LayoutModel",
          "state": {
            "_model_module": "@jupyter-widgets/base",
            "_model_module_version": "1.2.0",
            "_model_name": "LayoutModel",
            "_view_count": null,
            "_view_module": "@jupyter-widgets/base",
            "_view_module_version": "1.2.0",
            "_view_name": "LayoutView",
            "align_content": null,
            "align_items": null,
            "align_self": null,
            "border": null,
            "bottom": null,
            "display": null,
            "flex": null,
            "flex_flow": null,
            "grid_area": null,
            "grid_auto_columns": null,
            "grid_auto_flow": null,
            "grid_auto_rows": null,
            "grid_column": null,
            "grid_gap": null,
            "grid_row": null,
            "grid_template_areas": null,
            "grid_template_columns": null,
            "grid_template_rows": null,
            "height": null,
            "justify_content": null,
            "justify_items": null,
            "left": null,
            "margin": null,
            "max_height": null,
            "max_width": null,
            "min_height": null,
            "min_width": null,
            "object_fit": null,
            "object_position": null,
            "order": null,
            "overflow": null,
            "overflow_x": null,
            "overflow_y": null,
            "padding": null,
            "right": null,
            "top": null,
            "visibility": null,
            "width": null
          }
        },
        "22ec69f1d86b4d07954c6d0f143aec61": {
          "model_module": "@jupyter-widgets/controls",
          "model_module_version": "1.5.0",
          "model_name": "DescriptionStyleModel",
          "state": {
            "_model_module": "@jupyter-widgets/controls",
            "_model_module_version": "1.5.0",
            "_model_name": "DescriptionStyleModel",
            "_view_count": null,
            "_view_module": "@jupyter-widgets/base",
            "_view_module_version": "1.2.0",
            "_view_name": "StyleView",
            "description_width": ""
          }
        },
        "231ad3f7a66945eba85b401c350b3993": {
          "model_module": "@jupyter-widgets/base",
          "model_module_version": "1.2.0",
          "model_name": "LayoutModel",
          "state": {
            "_model_module": "@jupyter-widgets/base",
            "_model_module_version": "1.2.0",
            "_model_name": "LayoutModel",
            "_view_count": null,
            "_view_module": "@jupyter-widgets/base",
            "_view_module_version": "1.2.0",
            "_view_name": "LayoutView",
            "align_content": null,
            "align_items": null,
            "align_self": null,
            "border": null,
            "bottom": null,
            "display": null,
            "flex": null,
            "flex_flow": null,
            "grid_area": null,
            "grid_auto_columns": null,
            "grid_auto_flow": null,
            "grid_auto_rows": null,
            "grid_column": null,
            "grid_gap": null,
            "grid_row": null,
            "grid_template_areas": null,
            "grid_template_columns": null,
            "grid_template_rows": null,
            "height": null,
            "justify_content": null,
            "justify_items": null,
            "left": null,
            "margin": null,
            "max_height": null,
            "max_width": null,
            "min_height": null,
            "min_width": null,
            "object_fit": null,
            "object_position": null,
            "order": null,
            "overflow": null,
            "overflow_x": null,
            "overflow_y": null,
            "padding": null,
            "right": null,
            "top": null,
            "visibility": null,
            "width": null
          }
        },
        "23450e5b778d48c0ac13fc69f6596412": {
          "model_module": "@jupyter-widgets/base",
          "model_module_version": "1.2.0",
          "model_name": "LayoutModel",
          "state": {
            "_model_module": "@jupyter-widgets/base",
            "_model_module_version": "1.2.0",
            "_model_name": "LayoutModel",
            "_view_count": null,
            "_view_module": "@jupyter-widgets/base",
            "_view_module_version": "1.2.0",
            "_view_name": "LayoutView",
            "align_content": null,
            "align_items": null,
            "align_self": null,
            "border": null,
            "bottom": null,
            "display": null,
            "flex": null,
            "flex_flow": null,
            "grid_area": null,
            "grid_auto_columns": null,
            "grid_auto_flow": null,
            "grid_auto_rows": null,
            "grid_column": null,
            "grid_gap": null,
            "grid_row": null,
            "grid_template_areas": null,
            "grid_template_columns": null,
            "grid_template_rows": null,
            "height": null,
            "justify_content": null,
            "justify_items": null,
            "left": null,
            "margin": null,
            "max_height": null,
            "max_width": null,
            "min_height": null,
            "min_width": null,
            "object_fit": null,
            "object_position": null,
            "order": null,
            "overflow": null,
            "overflow_x": null,
            "overflow_y": null,
            "padding": null,
            "right": null,
            "top": null,
            "visibility": null,
            "width": null
          }
        },
        "28418a9326f9426b92816a91574f86fb": {
          "model_module": "@jupyter-widgets/controls",
          "model_module_version": "1.5.0",
          "model_name": "FloatProgressModel",
          "state": {
            "_dom_classes": [],
            "_model_module": "@jupyter-widgets/controls",
            "_model_module_version": "1.5.0",
            "_model_name": "FloatProgressModel",
            "_view_count": null,
            "_view_module": "@jupyter-widgets/controls",
            "_view_module_version": "1.5.0",
            "_view_name": "ProgressView",
            "bar_style": "success",
            "description": "",
            "description_tooltip": null,
            "layout": "IPY_MODEL_59206c936dc6432c876feb537aa18fe0",
            "max": 11561,
            "min": 0,
            "orientation": "horizontal",
            "style": "IPY_MODEL_5f4db938211144729b2434014f83694f",
            "value": 11561
          }
        },
        "28b9aaf09e284db89793b44a4a98783e": {
          "model_module": "@jupyter-widgets/controls",
          "model_module_version": "1.5.0",
          "model_name": "HBoxModel",
          "state": {
            "_dom_classes": [],
            "_model_module": "@jupyter-widgets/controls",
            "_model_module_version": "1.5.0",
            "_model_name": "HBoxModel",
            "_view_count": null,
            "_view_module": "@jupyter-widgets/controls",
            "_view_module_version": "1.5.0",
            "_view_name": "HBoxView",
            "box_style": "",
            "children": [
              "IPY_MODEL_2f2d9c5a75cd48af80aa3c68acb2d3f9",
              "IPY_MODEL_2f2234b7002d4a3d823fd4bdc49c95f6",
              "IPY_MODEL_7d36d64a7f404a56a0e8e2cb464b4469"
            ],
            "layout": "IPY_MODEL_a448f292199c4ed3810061a3fc50da50"
          }
        },
        "2a18c2ab84544761a13b0ca3d09a21c8": {
          "model_module": "@jupyter-widgets/base",
          "model_module_version": "1.2.0",
          "model_name": "LayoutModel",
          "state": {
            "_model_module": "@jupyter-widgets/base",
            "_model_module_version": "1.2.0",
            "_model_name": "LayoutModel",
            "_view_count": null,
            "_view_module": "@jupyter-widgets/base",
            "_view_module_version": "1.2.0",
            "_view_name": "LayoutView",
            "align_content": null,
            "align_items": null,
            "align_self": null,
            "border": null,
            "bottom": null,
            "display": null,
            "flex": null,
            "flex_flow": null,
            "grid_area": null,
            "grid_auto_columns": null,
            "grid_auto_flow": null,
            "grid_auto_rows": null,
            "grid_column": null,
            "grid_gap": null,
            "grid_row": null,
            "grid_template_areas": null,
            "grid_template_columns": null,
            "grid_template_rows": null,
            "height": null,
            "justify_content": null,
            "justify_items": null,
            "left": null,
            "margin": null,
            "max_height": null,
            "max_width": null,
            "min_height": null,
            "min_width": null,
            "object_fit": null,
            "object_position": null,
            "order": null,
            "overflow": null,
            "overflow_x": null,
            "overflow_y": null,
            "padding": null,
            "right": null,
            "top": null,
            "visibility": null,
            "width": null
          }
        },
        "2a423bcc39ab4085abf18c40007d8d7e": {
          "model_module": "@jupyter-widgets/controls",
          "model_module_version": "1.5.0",
          "model_name": "HBoxModel",
          "state": {
            "_dom_classes": [],
            "_model_module": "@jupyter-widgets/controls",
            "_model_module_version": "1.5.0",
            "_model_name": "HBoxModel",
            "_view_count": null,
            "_view_module": "@jupyter-widgets/controls",
            "_view_module_version": "1.5.0",
            "_view_name": "HBoxView",
            "box_style": "",
            "children": [
              "IPY_MODEL_e82486ec7f6a40cc826e3d3d0a896065",
              "IPY_MODEL_c1e1ba0a7c804c5095983f8eb9d6b550",
              "IPY_MODEL_12f83f3a9c404478a8eec24c65351b45"
            ],
            "layout": "IPY_MODEL_7db8f338e32b4d3a8637aecbd5a826cd"
          }
        },
        "2cadbae434da48b9914fdfee4082566c": {
          "model_module": "@jupyter-widgets/base",
          "model_module_version": "1.2.0",
          "model_name": "LayoutModel",
          "state": {
            "_model_module": "@jupyter-widgets/base",
            "_model_module_version": "1.2.0",
            "_model_name": "LayoutModel",
            "_view_count": null,
            "_view_module": "@jupyter-widgets/base",
            "_view_module_version": "1.2.0",
            "_view_name": "LayoutView",
            "align_content": null,
            "align_items": null,
            "align_self": null,
            "border": null,
            "bottom": null,
            "display": null,
            "flex": null,
            "flex_flow": null,
            "grid_area": null,
            "grid_auto_columns": null,
            "grid_auto_flow": null,
            "grid_auto_rows": null,
            "grid_column": null,
            "grid_gap": null,
            "grid_row": null,
            "grid_template_areas": null,
            "grid_template_columns": null,
            "grid_template_rows": null,
            "height": null,
            "justify_content": null,
            "justify_items": null,
            "left": null,
            "margin": null,
            "max_height": null,
            "max_width": null,
            "min_height": null,
            "min_width": null,
            "object_fit": null,
            "object_position": null,
            "order": null,
            "overflow": null,
            "overflow_x": null,
            "overflow_y": null,
            "padding": null,
            "right": null,
            "top": null,
            "visibility": null,
            "width": null
          }
        },
        "2def6489b95347b3b810300a1ccb7a45": {
          "model_module": "@jupyter-widgets/controls",
          "model_module_version": "1.5.0",
          "model_name": "DescriptionStyleModel",
          "state": {
            "_model_module": "@jupyter-widgets/controls",
            "_model_module_version": "1.5.0",
            "_model_name": "DescriptionStyleModel",
            "_view_count": null,
            "_view_module": "@jupyter-widgets/base",
            "_view_module_version": "1.2.0",
            "_view_name": "StyleView",
            "description_width": ""
          }
        },
        "2f2234b7002d4a3d823fd4bdc49c95f6": {
          "model_module": "@jupyter-widgets/controls",
          "model_module_version": "1.5.0",
          "model_name": "FloatProgressModel",
          "state": {
            "_dom_classes": [],
            "_model_module": "@jupyter-widgets/controls",
            "_model_module_version": "1.5.0",
            "_model_name": "FloatProgressModel",
            "_view_count": null,
            "_view_module": "@jupyter-widgets/controls",
            "_view_module_version": "1.5.0",
            "_view_name": "ProgressView",
            "bar_style": "success",
            "description": "",
            "description_tooltip": null,
            "layout": "IPY_MODEL_37b75553c7ab4fa88ca6750537d24e58",
            "max": 7489,
            "min": 0,
            "orientation": "horizontal",
            "style": "IPY_MODEL_fad42bb8857e42bbaf979bc75e486727",
            "value": 7489
          }
        },
        "2f2d9c5a75cd48af80aa3c68acb2d3f9": {
          "model_module": "@jupyter-widgets/controls",
          "model_module_version": "1.5.0",
          "model_name": "HTMLModel",
          "state": {
            "_dom_classes": [],
            "_model_module": "@jupyter-widgets/controls",
            "_model_module_version": "1.5.0",
            "_model_name": "HTMLModel",
            "_view_count": null,
            "_view_module": "@jupyter-widgets/controls",
            "_view_module_version": "1.5.0",
            "_view_name": "HTMLView",
            "description": "",
            "description_tooltip": null,
            "layout": "IPY_MODEL_36838c7cf61649eea5353a45c5b7c602",
            "placeholder": "​",
            "style": "IPY_MODEL_6c18f6cccce24473b26f0b0f6cc26974",
            "value": "pytorch_model.bin: 100%"
          }
        },
        "2f31d810bb0041eab85c4cea280611bd": {
          "model_module": "@jupyter-widgets/controls",
          "model_module_version": "1.5.0",
          "model_name": "HTMLModel",
          "state": {
            "_dom_classes": [],
            "_model_module": "@jupyter-widgets/controls",
            "_model_module_version": "1.5.0",
            "_model_name": "HTMLModel",
            "_view_count": null,
            "_view_module": "@jupyter-widgets/controls",
            "_view_module_version": "1.5.0",
            "_view_name": "HTMLView",
            "description": "",
            "description_tooltip": null,
            "layout": "IPY_MODEL_b6e736343b2440489b1a6cea92ef77db",
            "placeholder": "​",
            "style": "IPY_MODEL_039fd251894a49eb8c9dc27287150bfc",
            "value": " 16057/16057 [01:07&lt;00:00, 255.26it/s]"
          }
        },
        "319a3a215ea54a25b3d8764b5b2d9312": {
          "model_module": "@jupyter-widgets/base",
          "model_module_version": "1.2.0",
          "model_name": "LayoutModel",
          "state": {
            "_model_module": "@jupyter-widgets/base",
            "_model_module_version": "1.2.0",
            "_model_name": "LayoutModel",
            "_view_count": null,
            "_view_module": "@jupyter-widgets/base",
            "_view_module_version": "1.2.0",
            "_view_name": "LayoutView",
            "align_content": null,
            "align_items": null,
            "align_self": null,
            "border": null,
            "bottom": null,
            "display": null,
            "flex": null,
            "flex_flow": null,
            "grid_area": null,
            "grid_auto_columns": null,
            "grid_auto_flow": null,
            "grid_auto_rows": null,
            "grid_column": null,
            "grid_gap": null,
            "grid_row": null,
            "grid_template_areas": null,
            "grid_template_columns": null,
            "grid_template_rows": null,
            "height": null,
            "justify_content": null,
            "justify_items": null,
            "left": null,
            "margin": null,
            "max_height": null,
            "max_width": null,
            "min_height": null,
            "min_width": null,
            "object_fit": null,
            "object_position": null,
            "order": null,
            "overflow": null,
            "overflow_x": null,
            "overflow_y": null,
            "padding": null,
            "right": null,
            "top": null,
            "visibility": null,
            "width": null
          }
        },
        "32f4e95396004824a06a5987bd473f10": {
          "model_module": "@jupyter-widgets/controls",
          "model_module_version": "1.5.0",
          "model_name": "FloatProgressModel",
          "state": {
            "_dom_classes": [],
            "_model_module": "@jupyter-widgets/controls",
            "_model_module_version": "1.5.0",
            "_model_name": "FloatProgressModel",
            "_view_count": null,
            "_view_module": "@jupyter-widgets/controls",
            "_view_module_version": "1.5.0",
            "_view_name": "ProgressView",
            "bar_style": "success",
            "description": "",
            "description_tooltip": null,
            "layout": "IPY_MODEL_eff157dd7a1f45649085fffdd1474817",
            "max": 1,
            "min": 0,
            "orientation": "horizontal",
            "style": "IPY_MODEL_aaaf3356b6b849228e954ce53c1ba5a3",
            "value": 1
          }
        },
        "338ed33dfada4b2fbeb5bc5628e7b245": {
          "model_module": "@jupyter-widgets/base",
          "model_module_version": "1.2.0",
          "model_name": "LayoutModel",
          "state": {
            "_model_module": "@jupyter-widgets/base",
            "_model_module_version": "1.2.0",
            "_model_name": "LayoutModel",
            "_view_count": null,
            "_view_module": "@jupyter-widgets/base",
            "_view_module_version": "1.2.0",
            "_view_name": "LayoutView",
            "align_content": null,
            "align_items": null,
            "align_self": null,
            "border": null,
            "bottom": null,
            "display": null,
            "flex": null,
            "flex_flow": null,
            "grid_area": null,
            "grid_auto_columns": null,
            "grid_auto_flow": null,
            "grid_auto_rows": null,
            "grid_column": null,
            "grid_gap": null,
            "grid_row": null,
            "grid_template_areas": null,
            "grid_template_columns": null,
            "grid_template_rows": null,
            "height": null,
            "justify_content": null,
            "justify_items": null,
            "left": null,
            "margin": null,
            "max_height": null,
            "max_width": null,
            "min_height": null,
            "min_width": null,
            "object_fit": null,
            "object_position": null,
            "order": null,
            "overflow": null,
            "overflow_x": null,
            "overflow_y": null,
            "padding": null,
            "right": null,
            "top": null,
            "visibility": null,
            "width": null
          }
        },
        "33f0c1ae8efa439ba220e7c27968b08b": {
          "model_module": "@jupyter-widgets/controls",
          "model_module_version": "1.5.0",
          "model_name": "FloatProgressModel",
          "state": {
            "_dom_classes": [],
            "_model_module": "@jupyter-widgets/controls",
            "_model_module_version": "1.5.0",
            "_model_name": "FloatProgressModel",
            "_view_count": null,
            "_view_module": "@jupyter-widgets/controls",
            "_view_module_version": "1.5.0",
            "_view_name": "ProgressView",
            "bar_style": "success",
            "description": "",
            "description_tooltip": null,
            "layout": "IPY_MODEL_735802576040464d8d3d9834ed1c3be0",
            "max": 498658997,
            "min": 0,
            "orientation": "horizontal",
            "style": "IPY_MODEL_386d1755b91c4f14ad1b85b313c0488b",
            "value": 498658997
          }
        },
        "34a8b8cbdfe14a18ad81d14a2d03c914": {
          "model_module": "@jupyter-widgets/base",
          "model_module_version": "1.2.0",
          "model_name": "LayoutModel",
          "state": {
            "_model_module": "@jupyter-widgets/base",
            "_model_module_version": "1.2.0",
            "_model_name": "LayoutModel",
            "_view_count": null,
            "_view_module": "@jupyter-widgets/base",
            "_view_module_version": "1.2.0",
            "_view_name": "LayoutView",
            "align_content": null,
            "align_items": null,
            "align_self": null,
            "border": null,
            "bottom": null,
            "display": null,
            "flex": null,
            "flex_flow": null,
            "grid_area": null,
            "grid_auto_columns": null,
            "grid_auto_flow": null,
            "grid_auto_rows": null,
            "grid_column": null,
            "grid_gap": null,
            "grid_row": null,
            "grid_template_areas": null,
            "grid_template_columns": null,
            "grid_template_rows": null,
            "height": null,
            "justify_content": null,
            "justify_items": null,
            "left": null,
            "margin": null,
            "max_height": null,
            "max_width": null,
            "min_height": null,
            "min_width": null,
            "object_fit": null,
            "object_position": null,
            "order": null,
            "overflow": null,
            "overflow_x": null,
            "overflow_y": null,
            "padding": null,
            "right": null,
            "top": null,
            "visibility": null,
            "width": null
          }
        },
        "366239563137474d9bcb8829b8958f11": {
          "model_module": "@jupyter-widgets/controls",
          "model_module_version": "1.5.0",
          "model_name": "HTMLModel",
          "state": {
            "_dom_classes": [],
            "_model_module": "@jupyter-widgets/controls",
            "_model_module_version": "1.5.0",
            "_model_name": "HTMLModel",
            "_view_count": null,
            "_view_module": "@jupyter-widgets/controls",
            "_view_module_version": "1.5.0",
            "_view_name": "HTMLView",
            "description": "",
            "description_tooltip": null,
            "layout": "IPY_MODEL_9e283dfb5b814ad4ab3fdae5d13834c9",
            "placeholder": "​",
            "style": "IPY_MODEL_64cd586e9f694211ba5951a3a3044968",
            "value": " 1/1 [00:50&lt;00:00, 50.61s/it]"
          }
        },
        "36838c7cf61649eea5353a45c5b7c602": {
          "model_module": "@jupyter-widgets/base",
          "model_module_version": "1.2.0",
          "model_name": "LayoutModel",
          "state": {
            "_model_module": "@jupyter-widgets/base",
            "_model_module_version": "1.2.0",
            "_model_name": "LayoutModel",
            "_view_count": null,
            "_view_module": "@jupyter-widgets/base",
            "_view_module_version": "1.2.0",
            "_view_name": "LayoutView",
            "align_content": null,
            "align_items": null,
            "align_self": null,
            "border": null,
            "bottom": null,
            "display": null,
            "flex": null,
            "flex_flow": null,
            "grid_area": null,
            "grid_auto_columns": null,
            "grid_auto_flow": null,
            "grid_auto_rows": null,
            "grid_column": null,
            "grid_gap": null,
            "grid_row": null,
            "grid_template_areas": null,
            "grid_template_columns": null,
            "grid_template_rows": null,
            "height": null,
            "justify_content": null,
            "justify_items": null,
            "left": null,
            "margin": null,
            "max_height": null,
            "max_width": null,
            "min_height": null,
            "min_width": null,
            "object_fit": null,
            "object_position": null,
            "order": null,
            "overflow": null,
            "overflow_x": null,
            "overflow_y": null,
            "padding": null,
            "right": null,
            "top": null,
            "visibility": null,
            "width": null
          }
        },
        "37aded1549e4499fa4167e4282149cfa": {
          "model_module": "@jupyter-widgets/base",
          "model_module_version": "1.2.0",
          "model_name": "LayoutModel",
          "state": {
            "_model_module": "@jupyter-widgets/base",
            "_model_module_version": "1.2.0",
            "_model_name": "LayoutModel",
            "_view_count": null,
            "_view_module": "@jupyter-widgets/base",
            "_view_module_version": "1.2.0",
            "_view_name": "LayoutView",
            "align_content": null,
            "align_items": null,
            "align_self": null,
            "border": null,
            "bottom": null,
            "display": null,
            "flex": null,
            "flex_flow": null,
            "grid_area": null,
            "grid_auto_columns": null,
            "grid_auto_flow": null,
            "grid_auto_rows": null,
            "grid_column": null,
            "grid_gap": null,
            "grid_row": null,
            "grid_template_areas": null,
            "grid_template_columns": null,
            "grid_template_rows": null,
            "height": null,
            "justify_content": null,
            "justify_items": null,
            "left": null,
            "margin": null,
            "max_height": null,
            "max_width": null,
            "min_height": null,
            "min_width": null,
            "object_fit": null,
            "object_position": null,
            "order": null,
            "overflow": null,
            "overflow_x": null,
            "overflow_y": null,
            "padding": null,
            "right": null,
            "top": null,
            "visibility": null,
            "width": null
          }
        },
        "37b75553c7ab4fa88ca6750537d24e58": {
          "model_module": "@jupyter-widgets/base",
          "model_module_version": "1.2.0",
          "model_name": "LayoutModel",
          "state": {
            "_model_module": "@jupyter-widgets/base",
            "_model_module_version": "1.2.0",
            "_model_name": "LayoutModel",
            "_view_count": null,
            "_view_module": "@jupyter-widgets/base",
            "_view_module_version": "1.2.0",
            "_view_name": "LayoutView",
            "align_content": null,
            "align_items": null,
            "align_self": null,
            "border": null,
            "bottom": null,
            "display": null,
            "flex": null,
            "flex_flow": null,
            "grid_area": null,
            "grid_auto_columns": null,
            "grid_auto_flow": null,
            "grid_auto_rows": null,
            "grid_column": null,
            "grid_gap": null,
            "grid_row": null,
            "grid_template_areas": null,
            "grid_template_columns": null,
            "grid_template_rows": null,
            "height": null,
            "justify_content": null,
            "justify_items": null,
            "left": null,
            "margin": null,
            "max_height": null,
            "max_width": null,
            "min_height": null,
            "min_width": null,
            "object_fit": null,
            "object_position": null,
            "order": null,
            "overflow": null,
            "overflow_x": null,
            "overflow_y": null,
            "padding": null,
            "right": null,
            "top": null,
            "visibility": null,
            "width": null
          }
        },
        "386d1755b91c4f14ad1b85b313c0488b": {
          "model_module": "@jupyter-widgets/controls",
          "model_module_version": "1.5.0",
          "model_name": "ProgressStyleModel",
          "state": {
            "_model_module": "@jupyter-widgets/controls",
            "_model_module_version": "1.5.0",
            "_model_name": "ProgressStyleModel",
            "_view_count": null,
            "_view_module": "@jupyter-widgets/base",
            "_view_module_version": "1.2.0",
            "_view_name": "StyleView",
            "bar_color": null,
            "description_width": ""
          }
        },
        "3ac2149b8ffc43bca5e88e4b096d8e83": {
          "model_module": "@jupyter-widgets/controls",
          "model_module_version": "1.5.0",
          "model_name": "DescriptionStyleModel",
          "state": {
            "_model_module": "@jupyter-widgets/controls",
            "_model_module_version": "1.5.0",
            "_model_name": "DescriptionStyleModel",
            "_view_count": null,
            "_view_module": "@jupyter-widgets/base",
            "_view_module_version": "1.2.0",
            "_view_name": "StyleView",
            "description_width": ""
          }
        },
        "3b37cd4ffc57497192a6624670d0a083": {
          "model_module": "@jupyter-widgets/base",
          "model_module_version": "1.2.0",
          "model_name": "LayoutModel",
          "state": {
            "_model_module": "@jupyter-widgets/base",
            "_model_module_version": "1.2.0",
            "_model_name": "LayoutModel",
            "_view_count": null,
            "_view_module": "@jupyter-widgets/base",
            "_view_module_version": "1.2.0",
            "_view_name": "LayoutView",
            "align_content": null,
            "align_items": null,
            "align_self": null,
            "border": null,
            "bottom": null,
            "display": null,
            "flex": null,
            "flex_flow": null,
            "grid_area": null,
            "grid_auto_columns": null,
            "grid_auto_flow": null,
            "grid_auto_rows": null,
            "grid_column": null,
            "grid_gap": null,
            "grid_row": null,
            "grid_template_areas": null,
            "grid_template_columns": null,
            "grid_template_rows": null,
            "height": null,
            "justify_content": null,
            "justify_items": null,
            "left": null,
            "margin": null,
            "max_height": null,
            "max_width": null,
            "min_height": null,
            "min_width": null,
            "object_fit": null,
            "object_position": null,
            "order": null,
            "overflow": null,
            "overflow_x": null,
            "overflow_y": null,
            "padding": null,
            "right": null,
            "top": null,
            "visibility": null,
            "width": null
          }
        },
        "3b5475ae3c624b638ec23713821e3cf7": {
          "model_module": "@jupyter-widgets/controls",
          "model_module_version": "1.5.0",
          "model_name": "HTMLModel",
          "state": {
            "_dom_classes": [],
            "_model_module": "@jupyter-widgets/controls",
            "_model_module_version": "1.5.0",
            "_model_name": "HTMLModel",
            "_view_count": null,
            "_view_module": "@jupyter-widgets/controls",
            "_view_module_version": "1.5.0",
            "_view_name": "HTMLView",
            "description": "",
            "description_tooltip": null,
            "layout": "IPY_MODEL_496e5938349540ea923f311ee6593876",
            "placeholder": "​",
            "style": "IPY_MODEL_859e1b383acb4e24a14adf0b190a69e0",
            "value": " 1/1 [00:10&lt;00:00, 10.69s/it]"
          }
        },
        "3b80df0d9c0748569d12d0bbd57d1909": {
          "model_module": "@jupyter-widgets/controls",
          "model_module_version": "1.5.0",
          "model_name": "DescriptionStyleModel",
          "state": {
            "_model_module": "@jupyter-widgets/controls",
            "_model_module_version": "1.5.0",
            "_model_name": "DescriptionStyleModel",
            "_view_count": null,
            "_view_module": "@jupyter-widgets/base",
            "_view_module_version": "1.2.0",
            "_view_name": "StyleView",
            "description_width": ""
          }
        },
        "3d9eb6bd22684bb58db89cccbf3209aa": {
          "model_module": "@jupyter-widgets/controls",
          "model_module_version": "1.5.0",
          "model_name": "ProgressStyleModel",
          "state": {
            "_model_module": "@jupyter-widgets/controls",
            "_model_module_version": "1.5.0",
            "_model_name": "ProgressStyleModel",
            "_view_count": null,
            "_view_module": "@jupyter-widgets/base",
            "_view_module_version": "1.2.0",
            "_view_name": "StyleView",
            "bar_color": null,
            "description_width": ""
          }
        },
        "3e4d49a2da7844388a9f8d931483210b": {
          "model_module": "@jupyter-widgets/controls",
          "model_module_version": "1.5.0",
          "model_name": "DescriptionStyleModel",
          "state": {
            "_model_module": "@jupyter-widgets/controls",
            "_model_module_version": "1.5.0",
            "_model_name": "DescriptionStyleModel",
            "_view_count": null,
            "_view_module": "@jupyter-widgets/base",
            "_view_module_version": "1.2.0",
            "_view_name": "StyleView",
            "description_width": ""
          }
        },
        "44fff6a0ec9143bcb12625591531346a": {
          "model_module": "@jupyter-widgets/base",
          "model_module_version": "1.2.0",
          "model_name": "LayoutModel",
          "state": {
            "_model_module": "@jupyter-widgets/base",
            "_model_module_version": "1.2.0",
            "_model_name": "LayoutModel",
            "_view_count": null,
            "_view_module": "@jupyter-widgets/base",
            "_view_module_version": "1.2.0",
            "_view_name": "LayoutView",
            "align_content": null,
            "align_items": null,
            "align_self": null,
            "border": null,
            "bottom": null,
            "display": null,
            "flex": null,
            "flex_flow": null,
            "grid_area": null,
            "grid_auto_columns": null,
            "grid_auto_flow": null,
            "grid_auto_rows": null,
            "grid_column": null,
            "grid_gap": null,
            "grid_row": null,
            "grid_template_areas": null,
            "grid_template_columns": null,
            "grid_template_rows": null,
            "height": null,
            "justify_content": null,
            "justify_items": null,
            "left": null,
            "margin": null,
            "max_height": null,
            "max_width": null,
            "min_height": null,
            "min_width": null,
            "object_fit": null,
            "object_position": null,
            "order": null,
            "overflow": null,
            "overflow_x": null,
            "overflow_y": null,
            "padding": null,
            "right": null,
            "top": null,
            "visibility": null,
            "width": null
          }
        },
        "45839a230d714d3ebc25557b497d46f0": {
          "model_module": "@jupyter-widgets/controls",
          "model_module_version": "1.5.0",
          "model_name": "HTMLModel",
          "state": {
            "_dom_classes": [],
            "_model_module": "@jupyter-widgets/controls",
            "_model_module_version": "1.5.0",
            "_model_name": "HTMLModel",
            "_view_count": null,
            "_view_module": "@jupyter-widgets/controls",
            "_view_module_version": "1.5.0",
            "_view_name": "HTMLView",
            "description": "",
            "description_tooltip": null,
            "layout": "IPY_MODEL_37aded1549e4499fa4167e4282149cfa",
            "placeholder": "​",
            "style": "IPY_MODEL_4672383421d54b01b472cec04b48b4c8",
            "value": " 499M/499M [00:16&lt;00:00, 47.6MB/s]"
          }
        },
        "46575f81a68f425c9309966bb4c91422": {
          "model_module": "@jupyter-widgets/base",
          "model_module_version": "1.2.0",
          "model_name": "LayoutModel",
          "state": {
            "_model_module": "@jupyter-widgets/base",
            "_model_module_version": "1.2.0",
            "_model_name": "LayoutModel",
            "_view_count": null,
            "_view_module": "@jupyter-widgets/base",
            "_view_module_version": "1.2.0",
            "_view_name": "LayoutView",
            "align_content": null,
            "align_items": null,
            "align_self": null,
            "border": null,
            "bottom": null,
            "display": null,
            "flex": null,
            "flex_flow": null,
            "grid_area": null,
            "grid_auto_columns": null,
            "grid_auto_flow": null,
            "grid_auto_rows": null,
            "grid_column": null,
            "grid_gap": null,
            "grid_row": null,
            "grid_template_areas": null,
            "grid_template_columns": null,
            "grid_template_rows": null,
            "height": null,
            "justify_content": null,
            "justify_items": null,
            "left": null,
            "margin": null,
            "max_height": null,
            "max_width": null,
            "min_height": null,
            "min_width": null,
            "object_fit": null,
            "object_position": null,
            "order": null,
            "overflow": null,
            "overflow_x": null,
            "overflow_y": null,
            "padding": null,
            "right": null,
            "top": null,
            "visibility": null,
            "width": null
          }
        },
        "4672383421d54b01b472cec04b48b4c8": {
          "model_module": "@jupyter-widgets/controls",
          "model_module_version": "1.5.0",
          "model_name": "DescriptionStyleModel",
          "state": {
            "_model_module": "@jupyter-widgets/controls",
            "_model_module_version": "1.5.0",
            "_model_name": "DescriptionStyleModel",
            "_view_count": null,
            "_view_module": "@jupyter-widgets/base",
            "_view_module_version": "1.2.0",
            "_view_name": "StyleView",
            "description_width": ""
          }
        },
        "48f38b71c52044da9ca70fe5f55bcd73": {
          "model_module": "@jupyter-widgets/controls",
          "model_module_version": "1.5.0",
          "model_name": "HTMLModel",
          "state": {
            "_dom_classes": [],
            "_model_module": "@jupyter-widgets/controls",
            "_model_module_version": "1.5.0",
            "_model_name": "HTMLModel",
            "_view_count": null,
            "_view_module": "@jupyter-widgets/controls",
            "_view_module_version": "1.5.0",
            "_view_name": "HTMLView",
            "description": "",
            "description_tooltip": null,
            "layout": "IPY_MODEL_f079102b604e4f968579e4dc3a3e341d",
            "placeholder": "​",
            "style": "IPY_MODEL_87d5f57e1e7b4b5cae4d487318782e71",
            "value": " 11561/11561 [00:48&lt;00:00, 234.79it/s]"
          }
        },
        "496e5938349540ea923f311ee6593876": {
          "model_module": "@jupyter-widgets/base",
          "model_module_version": "1.2.0",
          "model_name": "LayoutModel",
          "state": {
            "_model_module": "@jupyter-widgets/base",
            "_model_module_version": "1.2.0",
            "_model_name": "LayoutModel",
            "_view_count": null,
            "_view_module": "@jupyter-widgets/base",
            "_view_module_version": "1.2.0",
            "_view_name": "LayoutView",
            "align_content": null,
            "align_items": null,
            "align_self": null,
            "border": null,
            "bottom": null,
            "display": null,
            "flex": null,
            "flex_flow": null,
            "grid_area": null,
            "grid_auto_columns": null,
            "grid_auto_flow": null,
            "grid_auto_rows": null,
            "grid_column": null,
            "grid_gap": null,
            "grid_row": null,
            "grid_template_areas": null,
            "grid_template_columns": null,
            "grid_template_rows": null,
            "height": null,
            "justify_content": null,
            "justify_items": null,
            "left": null,
            "margin": null,
            "max_height": null,
            "max_width": null,
            "min_height": null,
            "min_width": null,
            "object_fit": null,
            "object_position": null,
            "order": null,
            "overflow": null,
            "overflow_x": null,
            "overflow_y": null,
            "padding": null,
            "right": null,
            "top": null,
            "visibility": null,
            "width": null
          }
        },
        "4fb8beeaafaa4a54b6d39dafcd3cd045": {
          "model_module": "@jupyter-widgets/controls",
          "model_module_version": "1.5.0",
          "model_name": "HTMLModel",
          "state": {
            "_dom_classes": [],
            "_model_module": "@jupyter-widgets/controls",
            "_model_module_version": "1.5.0",
            "_model_name": "HTMLModel",
            "_view_count": null,
            "_view_module": "@jupyter-widgets/controls",
            "_view_module_version": "1.5.0",
            "_view_name": "HTMLView",
            "description": "",
            "description_tooltip": null,
            "layout": "IPY_MODEL_650396ee348e4d0fa4089b88afe596fd",
            "placeholder": "​",
            "style": "IPY_MODEL_a7475c99bc334877a1512b83bf776a46",
            "value": "Upload 1 LFS files: 100%"
          }
        },
        "50f6569692e545c0ae1773f1f265cc2f": {
          "model_module": "@jupyter-widgets/controls",
          "model_module_version": "1.5.0",
          "model_name": "HTMLModel",
          "state": {
            "_dom_classes": [],
            "_model_module": "@jupyter-widgets/controls",
            "_model_module_version": "1.5.0",
            "_model_name": "HTMLModel",
            "_view_count": null,
            "_view_module": "@jupyter-widgets/controls",
            "_view_module_version": "1.5.0",
            "_view_name": "HTMLView",
            "description": "",
            "description_tooltip": null,
            "layout": "IPY_MODEL_0e8c14640eab4fcb82e19e5cac547359",
            "placeholder": "​",
            "style": "IPY_MODEL_86f314d912964c938ddd09251a16f592",
            "value": "100%"
          }
        },
        "527cdcc51093457aae06fc30e0137ac3": {
          "model_module": "@jupyter-widgets/controls",
          "model_module_version": "1.5.0",
          "model_name": "HBoxModel",
          "state": {
            "_dom_classes": [],
            "_model_module": "@jupyter-widgets/controls",
            "_model_module_version": "1.5.0",
            "_model_name": "HBoxModel",
            "_view_count": null,
            "_view_module": "@jupyter-widgets/controls",
            "_view_module_version": "1.5.0",
            "_view_name": "HBoxView",
            "box_style": "",
            "children": [
              "IPY_MODEL_b9c13a737a6a4cea97b8cda913faf9f8",
              "IPY_MODEL_d0d5c4167ba247498eec7ae9b05a855c",
              "IPY_MODEL_b58a75c67ece463fb1e26e90691b879e"
            ],
            "layout": "IPY_MODEL_34a8b8cbdfe14a18ad81d14a2d03c914"
          }
        },
        "53f8ca5f132a4a0f8f1d2cc05606373d": {
          "model_module": "@jupyter-widgets/controls",
          "model_module_version": "1.5.0",
          "model_name": "ProgressStyleModel",
          "state": {
            "_model_module": "@jupyter-widgets/controls",
            "_model_module_version": "1.5.0",
            "_model_name": "ProgressStyleModel",
            "_view_count": null,
            "_view_module": "@jupyter-widgets/base",
            "_view_module_version": "1.2.0",
            "_view_name": "StyleView",
            "bar_color": null,
            "description_width": ""
          }
        },
        "53ffe76e4ac74ef18ade471858a932e5": {
          "model_module": "@jupyter-widgets/controls",
          "model_module_version": "1.5.0",
          "model_name": "ProgressStyleModel",
          "state": {
            "_model_module": "@jupyter-widgets/controls",
            "_model_module_version": "1.5.0",
            "_model_name": "ProgressStyleModel",
            "_view_count": null,
            "_view_module": "@jupyter-widgets/base",
            "_view_module_version": "1.2.0",
            "_view_name": "StyleView",
            "bar_color": null,
            "description_width": ""
          }
        },
        "560d475f9e7a40aea1e5a5f150b3fba5": {
          "model_module": "@jupyter-widgets/base",
          "model_module_version": "1.2.0",
          "model_name": "LayoutModel",
          "state": {
            "_model_module": "@jupyter-widgets/base",
            "_model_module_version": "1.2.0",
            "_model_name": "LayoutModel",
            "_view_count": null,
            "_view_module": "@jupyter-widgets/base",
            "_view_module_version": "1.2.0",
            "_view_name": "LayoutView",
            "align_content": null,
            "align_items": null,
            "align_self": null,
            "border": null,
            "bottom": null,
            "display": null,
            "flex": null,
            "flex_flow": null,
            "grid_area": null,
            "grid_auto_columns": null,
            "grid_auto_flow": null,
            "grid_auto_rows": null,
            "grid_column": null,
            "grid_gap": null,
            "grid_row": null,
            "grid_template_areas": null,
            "grid_template_columns": null,
            "grid_template_rows": null,
            "height": null,
            "justify_content": null,
            "justify_items": null,
            "left": null,
            "margin": null,
            "max_height": null,
            "max_width": null,
            "min_height": null,
            "min_width": null,
            "object_fit": null,
            "object_position": null,
            "order": null,
            "overflow": null,
            "overflow_x": null,
            "overflow_y": null,
            "padding": null,
            "right": null,
            "top": null,
            "visibility": null,
            "width": null
          }
        },
        "57f769432a2c4ee0ae4c5af2d63d7826": {
          "model_module": "@jupyter-widgets/base",
          "model_module_version": "1.2.0",
          "model_name": "LayoutModel",
          "state": {
            "_model_module": "@jupyter-widgets/base",
            "_model_module_version": "1.2.0",
            "_model_name": "LayoutModel",
            "_view_count": null,
            "_view_module": "@jupyter-widgets/base",
            "_view_module_version": "1.2.0",
            "_view_name": "LayoutView",
            "align_content": null,
            "align_items": null,
            "align_self": null,
            "border": null,
            "bottom": null,
            "display": null,
            "flex": null,
            "flex_flow": null,
            "grid_area": null,
            "grid_auto_columns": null,
            "grid_auto_flow": null,
            "grid_auto_rows": null,
            "grid_column": null,
            "grid_gap": null,
            "grid_row": null,
            "grid_template_areas": null,
            "grid_template_columns": null,
            "grid_template_rows": null,
            "height": null,
            "justify_content": null,
            "justify_items": null,
            "left": null,
            "margin": null,
            "max_height": null,
            "max_width": null,
            "min_height": null,
            "min_width": null,
            "object_fit": null,
            "object_position": null,
            "order": null,
            "overflow": null,
            "overflow_x": null,
            "overflow_y": null,
            "padding": null,
            "right": null,
            "top": null,
            "visibility": null,
            "width": null
          }
        },
        "586e828794a449d3b534b93ea6c791b2": {
          "model_module": "@jupyter-widgets/controls",
          "model_module_version": "1.5.0",
          "model_name": "HBoxModel",
          "state": {
            "_dom_classes": [],
            "_model_module": "@jupyter-widgets/controls",
            "_model_module_version": "1.5.0",
            "_model_name": "HBoxModel",
            "_view_count": null,
            "_view_module": "@jupyter-widgets/controls",
            "_view_module_version": "1.5.0",
            "_view_name": "HBoxView",
            "box_style": "",
            "children": [
              "IPY_MODEL_659cd7c68b9a42d5a077392434a0701b",
              "IPY_MODEL_32f4e95396004824a06a5987bd473f10",
              "IPY_MODEL_dde2292a0f9841cda1f51c66902497c1"
            ],
            "layout": "IPY_MODEL_231ad3f7a66945eba85b401c350b3993"
          }
        },
        "59206c936dc6432c876feb537aa18fe0": {
          "model_module": "@jupyter-widgets/base",
          "model_module_version": "1.2.0",
          "model_name": "LayoutModel",
          "state": {
            "_model_module": "@jupyter-widgets/base",
            "_model_module_version": "1.2.0",
            "_model_name": "LayoutModel",
            "_view_count": null,
            "_view_module": "@jupyter-widgets/base",
            "_view_module_version": "1.2.0",
            "_view_name": "LayoutView",
            "align_content": null,
            "align_items": null,
            "align_self": null,
            "border": null,
            "bottom": null,
            "display": null,
            "flex": null,
            "flex_flow": null,
            "grid_area": null,
            "grid_auto_columns": null,
            "grid_auto_flow": null,
            "grid_auto_rows": null,
            "grid_column": null,
            "grid_gap": null,
            "grid_row": null,
            "grid_template_areas": null,
            "grid_template_columns": null,
            "grid_template_rows": null,
            "height": null,
            "justify_content": null,
            "justify_items": null,
            "left": null,
            "margin": null,
            "max_height": null,
            "max_width": null,
            "min_height": null,
            "min_width": null,
            "object_fit": null,
            "object_position": null,
            "order": null,
            "overflow": null,
            "overflow_x": null,
            "overflow_y": null,
            "padding": null,
            "right": null,
            "top": null,
            "visibility": null,
            "width": null
          }
        },
        "597dcc232ae8437eb064f173f2d237d3": {
          "model_module": "@jupyter-widgets/controls",
          "model_module_version": "1.5.0",
          "model_name": "FloatProgressModel",
          "state": {
            "_dom_classes": [],
            "_model_module": "@jupyter-widgets/controls",
            "_model_module_version": "1.5.0",
            "_model_name": "FloatProgressModel",
            "_view_count": null,
            "_view_module": "@jupyter-widgets/controls",
            "_view_module_version": "1.5.0",
            "_view_name": "ProgressView",
            "bar_style": "success",
            "description": "",
            "description_tooltip": null,
            "layout": "IPY_MODEL_c6a93ddb48b849f7b0cdbf109eb23a75",
            "max": 11561,
            "min": 0,
            "orientation": "horizontal",
            "style": "IPY_MODEL_06f1958fad6a45cca116050e24d86b19",
            "value": 11561
          }
        },
        "59ddead281da4a0e85594a99de04c16e": {
          "model_module": "@jupyter-widgets/controls",
          "model_module_version": "1.5.0",
          "model_name": "DescriptionStyleModel",
          "state": {
            "_model_module": "@jupyter-widgets/controls",
            "_model_module_version": "1.5.0",
            "_model_name": "DescriptionStyleModel",
            "_view_count": null,
            "_view_module": "@jupyter-widgets/base",
            "_view_module_version": "1.2.0",
            "_view_name": "StyleView",
            "description_width": ""
          }
        },
        "5f4db938211144729b2434014f83694f": {
          "model_module": "@jupyter-widgets/controls",
          "model_module_version": "1.5.0",
          "model_name": "ProgressStyleModel",
          "state": {
            "_model_module": "@jupyter-widgets/controls",
            "_model_module_version": "1.5.0",
            "_model_name": "ProgressStyleModel",
            "_view_count": null,
            "_view_module": "@jupyter-widgets/base",
            "_view_module_version": "1.2.0",
            "_view_name": "StyleView",
            "bar_color": null,
            "description_width": ""
          }
        },
        "60d1d37b78704ecabf38e2636c9fb624": {
          "model_module": "@jupyter-widgets/controls",
          "model_module_version": "1.5.0",
          "model_name": "DescriptionStyleModel",
          "state": {
            "_model_module": "@jupyter-widgets/controls",
            "_model_module_version": "1.5.0",
            "_model_name": "DescriptionStyleModel",
            "_view_count": null,
            "_view_module": "@jupyter-widgets/base",
            "_view_module_version": "1.2.0",
            "_view_name": "StyleView",
            "description_width": ""
          }
        },
        "61557d9bf05847ef9b4f3b56962b31af": {
          "model_module": "@jupyter-widgets/base",
          "model_module_version": "1.2.0",
          "model_name": "LayoutModel",
          "state": {
            "_model_module": "@jupyter-widgets/base",
            "_model_module_version": "1.2.0",
            "_model_name": "LayoutModel",
            "_view_count": null,
            "_view_module": "@jupyter-widgets/base",
            "_view_module_version": "1.2.0",
            "_view_name": "LayoutView",
            "align_content": null,
            "align_items": null,
            "align_self": null,
            "border": null,
            "bottom": null,
            "display": null,
            "flex": null,
            "flex_flow": null,
            "grid_area": null,
            "grid_auto_columns": null,
            "grid_auto_flow": null,
            "grid_auto_rows": null,
            "grid_column": null,
            "grid_gap": null,
            "grid_row": null,
            "grid_template_areas": null,
            "grid_template_columns": null,
            "grid_template_rows": null,
            "height": null,
            "justify_content": null,
            "justify_items": null,
            "left": null,
            "margin": null,
            "max_height": null,
            "max_width": null,
            "min_height": null,
            "min_width": null,
            "object_fit": null,
            "object_position": null,
            "order": null,
            "overflow": null,
            "overflow_x": null,
            "overflow_y": null,
            "padding": null,
            "right": null,
            "top": null,
            "visibility": null,
            "width": null
          }
        },
        "6185b0a4384d40eba0a7baf6cf7316c9": {
          "model_module": "@jupyter-widgets/base",
          "model_module_version": "1.2.0",
          "model_name": "LayoutModel",
          "state": {
            "_model_module": "@jupyter-widgets/base",
            "_model_module_version": "1.2.0",
            "_model_name": "LayoutModel",
            "_view_count": null,
            "_view_module": "@jupyter-widgets/base",
            "_view_module_version": "1.2.0",
            "_view_name": "LayoutView",
            "align_content": null,
            "align_items": null,
            "align_self": null,
            "border": null,
            "bottom": null,
            "display": null,
            "flex": null,
            "flex_flow": null,
            "grid_area": null,
            "grid_auto_columns": null,
            "grid_auto_flow": null,
            "grid_auto_rows": null,
            "grid_column": null,
            "grid_gap": null,
            "grid_row": null,
            "grid_template_areas": null,
            "grid_template_columns": null,
            "grid_template_rows": null,
            "height": null,
            "justify_content": null,
            "justify_items": null,
            "left": null,
            "margin": null,
            "max_height": null,
            "max_width": null,
            "min_height": null,
            "min_width": null,
            "object_fit": null,
            "object_position": null,
            "order": null,
            "overflow": null,
            "overflow_x": null,
            "overflow_y": null,
            "padding": null,
            "right": null,
            "top": null,
            "visibility": null,
            "width": null
          }
        },
        "62668efdbb854145bfa37a1ca5560a0c": {
          "model_module": "@jupyter-widgets/base",
          "model_module_version": "1.2.0",
          "model_name": "LayoutModel",
          "state": {
            "_model_module": "@jupyter-widgets/base",
            "_model_module_version": "1.2.0",
            "_model_name": "LayoutModel",
            "_view_count": null,
            "_view_module": "@jupyter-widgets/base",
            "_view_module_version": "1.2.0",
            "_view_name": "LayoutView",
            "align_content": null,
            "align_items": null,
            "align_self": null,
            "border": null,
            "bottom": null,
            "display": null,
            "flex": null,
            "flex_flow": null,
            "grid_area": null,
            "grid_auto_columns": null,
            "grid_auto_flow": null,
            "grid_auto_rows": null,
            "grid_column": null,
            "grid_gap": null,
            "grid_row": null,
            "grid_template_areas": null,
            "grid_template_columns": null,
            "grid_template_rows": null,
            "height": null,
            "justify_content": null,
            "justify_items": null,
            "left": null,
            "margin": null,
            "max_height": null,
            "max_width": null,
            "min_height": null,
            "min_width": null,
            "object_fit": null,
            "object_position": null,
            "order": null,
            "overflow": null,
            "overflow_x": null,
            "overflow_y": null,
            "padding": null,
            "right": null,
            "top": null,
            "visibility": null,
            "width": null
          }
        },
        "6430f1c24f974ff48da7d8f4cf7ce610": {
          "model_module": "@jupyter-widgets/base",
          "model_module_version": "1.2.0",
          "model_name": "LayoutModel",
          "state": {
            "_model_module": "@jupyter-widgets/base",
            "_model_module_version": "1.2.0",
            "_model_name": "LayoutModel",
            "_view_count": null,
            "_view_module": "@jupyter-widgets/base",
            "_view_module_version": "1.2.0",
            "_view_name": "LayoutView",
            "align_content": null,
            "align_items": null,
            "align_self": null,
            "border": null,
            "bottom": null,
            "display": null,
            "flex": null,
            "flex_flow": null,
            "grid_area": null,
            "grid_auto_columns": null,
            "grid_auto_flow": null,
            "grid_auto_rows": null,
            "grid_column": null,
            "grid_gap": null,
            "grid_row": null,
            "grid_template_areas": null,
            "grid_template_columns": null,
            "grid_template_rows": null,
            "height": null,
            "justify_content": null,
            "justify_items": null,
            "left": null,
            "margin": null,
            "max_height": null,
            "max_width": null,
            "min_height": null,
            "min_width": null,
            "object_fit": null,
            "object_position": null,
            "order": null,
            "overflow": null,
            "overflow_x": null,
            "overflow_y": null,
            "padding": null,
            "right": null,
            "top": null,
            "visibility": null,
            "width": null
          }
        },
        "64cd586e9f694211ba5951a3a3044968": {
          "model_module": "@jupyter-widgets/controls",
          "model_module_version": "1.5.0",
          "model_name": "DescriptionStyleModel",
          "state": {
            "_model_module": "@jupyter-widgets/controls",
            "_model_module_version": "1.5.0",
            "_model_name": "DescriptionStyleModel",
            "_view_count": null,
            "_view_module": "@jupyter-widgets/base",
            "_view_module_version": "1.2.0",
            "_view_name": "StyleView",
            "description_width": ""
          }
        },
        "650396ee348e4d0fa4089b88afe596fd": {
          "model_module": "@jupyter-widgets/base",
          "model_module_version": "1.2.0",
          "model_name": "LayoutModel",
          "state": {
            "_model_module": "@jupyter-widgets/base",
            "_model_module_version": "1.2.0",
            "_model_name": "LayoutModel",
            "_view_count": null,
            "_view_module": "@jupyter-widgets/base",
            "_view_module_version": "1.2.0",
            "_view_name": "LayoutView",
            "align_content": null,
            "align_items": null,
            "align_self": null,
            "border": null,
            "bottom": null,
            "display": null,
            "flex": null,
            "flex_flow": null,
            "grid_area": null,
            "grid_auto_columns": null,
            "grid_auto_flow": null,
            "grid_auto_rows": null,
            "grid_column": null,
            "grid_gap": null,
            "grid_row": null,
            "grid_template_areas": null,
            "grid_template_columns": null,
            "grid_template_rows": null,
            "height": null,
            "justify_content": null,
            "justify_items": null,
            "left": null,
            "margin": null,
            "max_height": null,
            "max_width": null,
            "min_height": null,
            "min_width": null,
            "object_fit": null,
            "object_position": null,
            "order": null,
            "overflow": null,
            "overflow_x": null,
            "overflow_y": null,
            "padding": null,
            "right": null,
            "top": null,
            "visibility": null,
            "width": null
          }
        },
        "659cd7c68b9a42d5a077392434a0701b": {
          "model_module": "@jupyter-widgets/controls",
          "model_module_version": "1.5.0",
          "model_name": "HTMLModel",
          "state": {
            "_dom_classes": [],
            "_model_module": "@jupyter-widgets/controls",
            "_model_module_version": "1.5.0",
            "_model_name": "HTMLModel",
            "_view_count": null,
            "_view_module": "@jupyter-widgets/controls",
            "_view_module_version": "1.5.0",
            "_view_name": "HTMLView",
            "description": "",
            "description_tooltip": null,
            "layout": "IPY_MODEL_338ed33dfada4b2fbeb5bc5628e7b245",
            "placeholder": "​",
            "style": "IPY_MODEL_60d1d37b78704ecabf38e2636c9fb624",
            "value": "Upload 1 LFS files: 100%"
          }
        },
        "697e5bed2c4b4f279f42c913ae8b8052": {
          "model_module": "@jupyter-widgets/base",
          "model_module_version": "1.2.0",
          "model_name": "LayoutModel",
          "state": {
            "_model_module": "@jupyter-widgets/base",
            "_model_module_version": "1.2.0",
            "_model_name": "LayoutModel",
            "_view_count": null,
            "_view_module": "@jupyter-widgets/base",
            "_view_module_version": "1.2.0",
            "_view_name": "LayoutView",
            "align_content": null,
            "align_items": null,
            "align_self": null,
            "border": null,
            "bottom": null,
            "display": null,
            "flex": null,
            "flex_flow": null,
            "grid_area": null,
            "grid_auto_columns": null,
            "grid_auto_flow": null,
            "grid_auto_rows": null,
            "grid_column": null,
            "grid_gap": null,
            "grid_row": null,
            "grid_template_areas": null,
            "grid_template_columns": null,
            "grid_template_rows": null,
            "height": null,
            "justify_content": null,
            "justify_items": null,
            "left": null,
            "margin": null,
            "max_height": null,
            "max_width": null,
            "min_height": null,
            "min_width": null,
            "object_fit": null,
            "object_position": null,
            "order": null,
            "overflow": null,
            "overflow_x": null,
            "overflow_y": null,
            "padding": null,
            "right": null,
            "top": null,
            "visibility": null,
            "width": null
          }
        },
        "6c18f6cccce24473b26f0b0f6cc26974": {
          "model_module": "@jupyter-widgets/controls",
          "model_module_version": "1.5.0",
          "model_name": "DescriptionStyleModel",
          "state": {
            "_model_module": "@jupyter-widgets/controls",
            "_model_module_version": "1.5.0",
            "_model_name": "DescriptionStyleModel",
            "_view_count": null,
            "_view_module": "@jupyter-widgets/base",
            "_view_module_version": "1.2.0",
            "_view_name": "StyleView",
            "description_width": ""
          }
        },
        "6d23ae5837f1453ea257616de77ec341": {
          "model_module": "@jupyter-widgets/controls",
          "model_module_version": "1.5.0",
          "model_name": "FloatProgressModel",
          "state": {
            "_dom_classes": [],
            "_model_module": "@jupyter-widgets/controls",
            "_model_module_version": "1.5.0",
            "_model_name": "FloatProgressModel",
            "_view_count": null,
            "_view_module": "@jupyter-widgets/controls",
            "_view_module_version": "1.5.0",
            "_view_name": "ProgressView",
            "bar_style": "success",
            "description": "",
            "description_tooltip": null,
            "layout": "IPY_MODEL_0bbab79ea8d9410796beaa34ea3196db",
            "max": 16057,
            "min": 0,
            "orientation": "horizontal",
            "style": "IPY_MODEL_b9580d701dc4457c9ee83f8b793b216a",
            "value": 16057
          }
        },
        "707979bc949d4b54ab37f7bbea7cec0c": {
          "model_module": "@jupyter-widgets/controls",
          "model_module_version": "1.5.0",
          "model_name": "HBoxModel",
          "state": {
            "_dom_classes": [],
            "_model_module": "@jupyter-widgets/controls",
            "_model_module_version": "1.5.0",
            "_model_name": "HBoxModel",
            "_view_count": null,
            "_view_module": "@jupyter-widgets/controls",
            "_view_module_version": "1.5.0",
            "_view_name": "HBoxView",
            "box_style": "",
            "children": [
              "IPY_MODEL_b140cb773d5740a0aa1e73ab190b0b60",
              "IPY_MODEL_8750d10eae2a444fae9350b9d64215ee",
              "IPY_MODEL_bcda6e62562f46248745aa0cdd916f44"
            ],
            "layout": "IPY_MODEL_ba73e038fba0429db353b75c06261362"
          }
        },
        "735802576040464d8d3d9834ed1c3be0": {
          "model_module": "@jupyter-widgets/base",
          "model_module_version": "1.2.0",
          "model_name": "LayoutModel",
          "state": {
            "_model_module": "@jupyter-widgets/base",
            "_model_module_version": "1.2.0",
            "_model_name": "LayoutModel",
            "_view_count": null,
            "_view_module": "@jupyter-widgets/base",
            "_view_module_version": "1.2.0",
            "_view_name": "LayoutView",
            "align_content": null,
            "align_items": null,
            "align_self": null,
            "border": null,
            "bottom": null,
            "display": null,
            "flex": null,
            "flex_flow": null,
            "grid_area": null,
            "grid_auto_columns": null,
            "grid_auto_flow": null,
            "grid_auto_rows": null,
            "grid_column": null,
            "grid_gap": null,
            "grid_row": null,
            "grid_template_areas": null,
            "grid_template_columns": null,
            "grid_template_rows": null,
            "height": null,
            "justify_content": null,
            "justify_items": null,
            "left": null,
            "margin": null,
            "max_height": null,
            "max_width": null,
            "min_height": null,
            "min_width": null,
            "object_fit": null,
            "object_position": null,
            "order": null,
            "overflow": null,
            "overflow_x": null,
            "overflow_y": null,
            "padding": null,
            "right": null,
            "top": null,
            "visibility": null,
            "width": null
          }
        },
        "73a6c09a6e2f48d0b84fcf6f8e019820": {
          "model_module": "@jupyter-widgets/controls",
          "model_module_version": "1.5.0",
          "model_name": "ProgressStyleModel",
          "state": {
            "_model_module": "@jupyter-widgets/controls",
            "_model_module_version": "1.5.0",
            "_model_name": "ProgressStyleModel",
            "_view_count": null,
            "_view_module": "@jupyter-widgets/base",
            "_view_module_version": "1.2.0",
            "_view_name": "StyleView",
            "bar_color": null,
            "description_width": ""
          }
        },
        "76e349accefa46229999d933043b5b56": {
          "model_module": "@jupyter-widgets/base",
          "model_module_version": "1.2.0",
          "model_name": "LayoutModel",
          "state": {
            "_model_module": "@jupyter-widgets/base",
            "_model_module_version": "1.2.0",
            "_model_name": "LayoutModel",
            "_view_count": null,
            "_view_module": "@jupyter-widgets/base",
            "_view_module_version": "1.2.0",
            "_view_name": "LayoutView",
            "align_content": null,
            "align_items": null,
            "align_self": null,
            "border": null,
            "bottom": null,
            "display": null,
            "flex": null,
            "flex_flow": null,
            "grid_area": null,
            "grid_auto_columns": null,
            "grid_auto_flow": null,
            "grid_auto_rows": null,
            "grid_column": null,
            "grid_gap": null,
            "grid_row": null,
            "grid_template_areas": null,
            "grid_template_columns": null,
            "grid_template_rows": null,
            "height": null,
            "justify_content": null,
            "justify_items": null,
            "left": null,
            "margin": null,
            "max_height": null,
            "max_width": null,
            "min_height": null,
            "min_width": null,
            "object_fit": null,
            "object_position": null,
            "order": null,
            "overflow": null,
            "overflow_x": null,
            "overflow_y": null,
            "padding": null,
            "right": null,
            "top": null,
            "visibility": null,
            "width": null
          }
        },
        "76e57a062441478a9c202716170fc334": {
          "model_module": "@jupyter-widgets/base",
          "model_module_version": "1.2.0",
          "model_name": "LayoutModel",
          "state": {
            "_model_module": "@jupyter-widgets/base",
            "_model_module_version": "1.2.0",
            "_model_name": "LayoutModel",
            "_view_count": null,
            "_view_module": "@jupyter-widgets/base",
            "_view_module_version": "1.2.0",
            "_view_name": "LayoutView",
            "align_content": null,
            "align_items": null,
            "align_self": null,
            "border": null,
            "bottom": null,
            "display": null,
            "flex": null,
            "flex_flow": null,
            "grid_area": null,
            "grid_auto_columns": null,
            "grid_auto_flow": null,
            "grid_auto_rows": null,
            "grid_column": null,
            "grid_gap": null,
            "grid_row": null,
            "grid_template_areas": null,
            "grid_template_columns": null,
            "grid_template_rows": null,
            "height": null,
            "justify_content": null,
            "justify_items": null,
            "left": null,
            "margin": null,
            "max_height": null,
            "max_width": null,
            "min_height": null,
            "min_width": null,
            "object_fit": null,
            "object_position": null,
            "order": null,
            "overflow": null,
            "overflow_x": null,
            "overflow_y": null,
            "padding": null,
            "right": null,
            "top": null,
            "visibility": null,
            "width": null
          }
        },
        "78131fa63e0746b990f18ca6baff1a8f": {
          "model_module": "@jupyter-widgets/controls",
          "model_module_version": "1.5.0",
          "model_name": "HTMLModel",
          "state": {
            "_dom_classes": [],
            "_model_module": "@jupyter-widgets/controls",
            "_model_module_version": "1.5.0",
            "_model_name": "HTMLModel",
            "_view_count": null,
            "_view_module": "@jupyter-widgets/controls",
            "_view_module_version": "1.5.0",
            "_view_name": "HTMLView",
            "description": "",
            "description_tooltip": null,
            "layout": "IPY_MODEL_560d475f9e7a40aea1e5a5f150b3fba5",
            "placeholder": "​",
            "style": "IPY_MODEL_98c4240ab54e4da1be6c581f21937b78",
            "value": "pytorch_model.bin: 100%"
          }
        },
        "79567f8682374474a9ee8e46f7e264e4": {
          "model_module": "@jupyter-widgets/controls",
          "model_module_version": "1.5.0",
          "model_name": "FloatProgressModel",
          "state": {
            "_dom_classes": [],
            "_model_module": "@jupyter-widgets/controls",
            "_model_module_version": "1.5.0",
            "_model_name": "FloatProgressModel",
            "_view_count": null,
            "_view_module": "@jupyter-widgets/controls",
            "_view_module_version": "1.5.0",
            "_view_name": "ProgressView",
            "bar_style": "success",
            "description": "",
            "description_tooltip": null,
            "layout": "IPY_MODEL_697e5bed2c4b4f279f42c913ae8b8052",
            "max": 498658997,
            "min": 0,
            "orientation": "horizontal",
            "style": "IPY_MODEL_53ffe76e4ac74ef18ade471858a932e5",
            "value": 498658997
          }
        },
        "7d36d64a7f404a56a0e8e2cb464b4469": {
          "model_module": "@jupyter-widgets/controls",
          "model_module_version": "1.5.0",
          "model_name": "HTMLModel",
          "state": {
            "_dom_classes": [],
            "_model_module": "@jupyter-widgets/controls",
            "_model_module_version": "1.5.0",
            "_model_name": "HTMLModel",
            "_view_count": null,
            "_view_module": "@jupyter-widgets/controls",
            "_view_module_version": "1.5.0",
            "_view_name": "HTMLView",
            "description": "",
            "description_tooltip": null,
            "layout": "IPY_MODEL_916dc9e68bce4429a22397a83295691c",
            "placeholder": "​",
            "style": "IPY_MODEL_dc20128a8b8a42df9236c144fd600bb6",
            "value": " 7.49k/7.49k [00:00&lt;00:00, 16.9kB/s]"
          }
        },
        "7db0eb3c8f82494f9732015d7c498593": {
          "model_module": "@jupyter-widgets/controls",
          "model_module_version": "1.5.0",
          "model_name": "ProgressStyleModel",
          "state": {
            "_model_module": "@jupyter-widgets/controls",
            "_model_module_version": "1.5.0",
            "_model_name": "ProgressStyleModel",
            "_view_count": null,
            "_view_module": "@jupyter-widgets/base",
            "_view_module_version": "1.2.0",
            "_view_name": "StyleView",
            "bar_color": null,
            "description_width": ""
          }
        },
        "7db8f338e32b4d3a8637aecbd5a826cd": {
          "model_module": "@jupyter-widgets/base",
          "model_module_version": "1.2.0",
          "model_name": "LayoutModel",
          "state": {
            "_model_module": "@jupyter-widgets/base",
            "_model_module_version": "1.2.0",
            "_model_name": "LayoutModel",
            "_view_count": null,
            "_view_module": "@jupyter-widgets/base",
            "_view_module_version": "1.2.0",
            "_view_name": "LayoutView",
            "align_content": null,
            "align_items": null,
            "align_self": null,
            "border": null,
            "bottom": null,
            "display": null,
            "flex": null,
            "flex_flow": null,
            "grid_area": null,
            "grid_auto_columns": null,
            "grid_auto_flow": null,
            "grid_auto_rows": null,
            "grid_column": null,
            "grid_gap": null,
            "grid_row": null,
            "grid_template_areas": null,
            "grid_template_columns": null,
            "grid_template_rows": null,
            "height": null,
            "justify_content": null,
            "justify_items": null,
            "left": null,
            "margin": null,
            "max_height": null,
            "max_width": null,
            "min_height": null,
            "min_width": null,
            "object_fit": null,
            "object_position": null,
            "order": null,
            "overflow": null,
            "overflow_x": null,
            "overflow_y": null,
            "padding": null,
            "right": null,
            "top": null,
            "visibility": null,
            "width": null
          }
        },
        "7e215e9baa444ca88111852294f01087": {
          "model_module": "@jupyter-widgets/controls",
          "model_module_version": "1.5.0",
          "model_name": "DescriptionStyleModel",
          "state": {
            "_model_module": "@jupyter-widgets/controls",
            "_model_module_version": "1.5.0",
            "_model_name": "DescriptionStyleModel",
            "_view_count": null,
            "_view_module": "@jupyter-widgets/base",
            "_view_module_version": "1.2.0",
            "_view_name": "StyleView",
            "description_width": ""
          }
        },
        "8379ce47971544c9901836d600ea6e59": {
          "model_module": "@jupyter-widgets/base",
          "model_module_version": "1.2.0",
          "model_name": "LayoutModel",
          "state": {
            "_model_module": "@jupyter-widgets/base",
            "_model_module_version": "1.2.0",
            "_model_name": "LayoutModel",
            "_view_count": null,
            "_view_module": "@jupyter-widgets/base",
            "_view_module_version": "1.2.0",
            "_view_name": "LayoutView",
            "align_content": null,
            "align_items": null,
            "align_self": null,
            "border": null,
            "bottom": null,
            "display": null,
            "flex": null,
            "flex_flow": null,
            "grid_area": null,
            "grid_auto_columns": null,
            "grid_auto_flow": null,
            "grid_auto_rows": null,
            "grid_column": null,
            "grid_gap": null,
            "grid_row": null,
            "grid_template_areas": null,
            "grid_template_columns": null,
            "grid_template_rows": null,
            "height": null,
            "justify_content": null,
            "justify_items": null,
            "left": null,
            "margin": null,
            "max_height": null,
            "max_width": null,
            "min_height": null,
            "min_width": null,
            "object_fit": null,
            "object_position": null,
            "order": null,
            "overflow": null,
            "overflow_x": null,
            "overflow_y": null,
            "padding": null,
            "right": null,
            "top": null,
            "visibility": null,
            "width": null
          }
        },
        "83dab16312534cb79d13055bc3a644d4": {
          "model_module": "@jupyter-widgets/base",
          "model_module_version": "1.2.0",
          "model_name": "LayoutModel",
          "state": {
            "_model_module": "@jupyter-widgets/base",
            "_model_module_version": "1.2.0",
            "_model_name": "LayoutModel",
            "_view_count": null,
            "_view_module": "@jupyter-widgets/base",
            "_view_module_version": "1.2.0",
            "_view_name": "LayoutView",
            "align_content": null,
            "align_items": null,
            "align_self": null,
            "border": null,
            "bottom": null,
            "display": null,
            "flex": null,
            "flex_flow": null,
            "grid_area": null,
            "grid_auto_columns": null,
            "grid_auto_flow": null,
            "grid_auto_rows": null,
            "grid_column": null,
            "grid_gap": null,
            "grid_row": null,
            "grid_template_areas": null,
            "grid_template_columns": null,
            "grid_template_rows": null,
            "height": null,
            "justify_content": null,
            "justify_items": null,
            "left": null,
            "margin": null,
            "max_height": null,
            "max_width": null,
            "min_height": null,
            "min_width": null,
            "object_fit": null,
            "object_position": null,
            "order": null,
            "overflow": null,
            "overflow_x": null,
            "overflow_y": null,
            "padding": null,
            "right": null,
            "top": null,
            "visibility": null,
            "width": null
          }
        },
        "84778feb064644f8b2c1368dade5aa88": {
          "model_module": "@jupyter-widgets/controls",
          "model_module_version": "1.5.0",
          "model_name": "DescriptionStyleModel",
          "state": {
            "_model_module": "@jupyter-widgets/controls",
            "_model_module_version": "1.5.0",
            "_model_name": "DescriptionStyleModel",
            "_view_count": null,
            "_view_module": "@jupyter-widgets/base",
            "_view_module_version": "1.2.0",
            "_view_name": "StyleView",
            "description_width": ""
          }
        },
        "859e1b383acb4e24a14adf0b190a69e0": {
          "model_module": "@jupyter-widgets/controls",
          "model_module_version": "1.5.0",
          "model_name": "DescriptionStyleModel",
          "state": {
            "_model_module": "@jupyter-widgets/controls",
            "_model_module_version": "1.5.0",
            "_model_name": "DescriptionStyleModel",
            "_view_count": null,
            "_view_module": "@jupyter-widgets/base",
            "_view_module_version": "1.2.0",
            "_view_name": "StyleView",
            "description_width": ""
          }
        },
        "86f314d912964c938ddd09251a16f592": {
          "model_module": "@jupyter-widgets/controls",
          "model_module_version": "1.5.0",
          "model_name": "DescriptionStyleModel",
          "state": {
            "_model_module": "@jupyter-widgets/controls",
            "_model_module_version": "1.5.0",
            "_model_name": "DescriptionStyleModel",
            "_view_count": null,
            "_view_module": "@jupyter-widgets/base",
            "_view_module_version": "1.2.0",
            "_view_name": "StyleView",
            "description_width": ""
          }
        },
        "8750d10eae2a444fae9350b9d64215ee": {
          "model_module": "@jupyter-widgets/controls",
          "model_module_version": "1.5.0",
          "model_name": "FloatProgressModel",
          "state": {
            "_dom_classes": [],
            "_model_module": "@jupyter-widgets/controls",
            "_model_module_version": "1.5.0",
            "_model_name": "FloatProgressModel",
            "_view_count": null,
            "_view_module": "@jupyter-widgets/controls",
            "_view_module_version": "1.5.0",
            "_view_name": "ProgressView",
            "bar_style": "success",
            "description": "",
            "description_tooltip": null,
            "layout": "IPY_MODEL_0ee9e94d28144912ba55dd5255cbd5d0",
            "max": 1,
            "min": 0,
            "orientation": "horizontal",
            "style": "IPY_MODEL_7db0eb3c8f82494f9732015d7c498593",
            "value": 1
          }
        },
        "87d5f57e1e7b4b5cae4d487318782e71": {
          "model_module": "@jupyter-widgets/controls",
          "model_module_version": "1.5.0",
          "model_name": "DescriptionStyleModel",
          "state": {
            "_model_module": "@jupyter-widgets/controls",
            "_model_module_version": "1.5.0",
            "_model_name": "DescriptionStyleModel",
            "_view_count": null,
            "_view_module": "@jupyter-widgets/base",
            "_view_module_version": "1.2.0",
            "_view_name": "StyleView",
            "description_width": ""
          }
        },
        "8bba440a29af41c99207722c444914bf": {
          "model_module": "@jupyter-widgets/controls",
          "model_module_version": "1.5.0",
          "model_name": "HBoxModel",
          "state": {
            "_dom_classes": [],
            "_model_module": "@jupyter-widgets/controls",
            "_model_module_version": "1.5.0",
            "_model_name": "HBoxModel",
            "_view_count": null,
            "_view_module": "@jupyter-widgets/controls",
            "_view_module_version": "1.5.0",
            "_view_name": "HBoxView",
            "box_style": "",
            "children": [
              "IPY_MODEL_de7c40a9943d457c8e449508eb64d20e",
              "IPY_MODEL_9fe3c37f81b245989b9d2dccfe8441a4",
              "IPY_MODEL_3b5475ae3c624b638ec23713821e3cf7"
            ],
            "layout": "IPY_MODEL_00616ba9229f4763aafe9fd2293de87b"
          }
        },
        "8d43de195a3c4247bee6edcdf7a85673": {
          "model_module": "@jupyter-widgets/base",
          "model_module_version": "1.2.0",
          "model_name": "LayoutModel",
          "state": {
            "_model_module": "@jupyter-widgets/base",
            "_model_module_version": "1.2.0",
            "_model_name": "LayoutModel",
            "_view_count": null,
            "_view_module": "@jupyter-widgets/base",
            "_view_module_version": "1.2.0",
            "_view_name": "LayoutView",
            "align_content": null,
            "align_items": null,
            "align_self": null,
            "border": null,
            "bottom": null,
            "display": null,
            "flex": null,
            "flex_flow": null,
            "grid_area": null,
            "grid_auto_columns": null,
            "grid_auto_flow": null,
            "grid_auto_rows": null,
            "grid_column": null,
            "grid_gap": null,
            "grid_row": null,
            "grid_template_areas": null,
            "grid_template_columns": null,
            "grid_template_rows": null,
            "height": null,
            "justify_content": null,
            "justify_items": null,
            "left": null,
            "margin": null,
            "max_height": null,
            "max_width": null,
            "min_height": null,
            "min_width": null,
            "object_fit": null,
            "object_position": null,
            "order": null,
            "overflow": null,
            "overflow_x": null,
            "overflow_y": null,
            "padding": null,
            "right": null,
            "top": null,
            "visibility": null,
            "width": null
          }
        },
        "8e0f83e8343f4fa2af1f97481e1e0970": {
          "model_module": "@jupyter-widgets/controls",
          "model_module_version": "1.5.0",
          "model_name": "HTMLModel",
          "state": {
            "_dom_classes": [],
            "_model_module": "@jupyter-widgets/controls",
            "_model_module_version": "1.5.0",
            "_model_name": "HTMLModel",
            "_view_count": null,
            "_view_module": "@jupyter-widgets/controls",
            "_view_module_version": "1.5.0",
            "_view_name": "HTMLView",
            "description": "",
            "description_tooltip": null,
            "layout": "IPY_MODEL_2a18c2ab84544761a13b0ca3d09a21c8",
            "placeholder": "​",
            "style": "IPY_MODEL_02441eb7ae1146378a27c07745337b30",
            "value": "100%"
          }
        },
        "916dc9e68bce4429a22397a83295691c": {
          "model_module": "@jupyter-widgets/base",
          "model_module_version": "1.2.0",
          "model_name": "LayoutModel",
          "state": {
            "_model_module": "@jupyter-widgets/base",
            "_model_module_version": "1.2.0",
            "_model_name": "LayoutModel",
            "_view_count": null,
            "_view_module": "@jupyter-widgets/base",
            "_view_module_version": "1.2.0",
            "_view_name": "LayoutView",
            "align_content": null,
            "align_items": null,
            "align_self": null,
            "border": null,
            "bottom": null,
            "display": null,
            "flex": null,
            "flex_flow": null,
            "grid_area": null,
            "grid_auto_columns": null,
            "grid_auto_flow": null,
            "grid_auto_rows": null,
            "grid_column": null,
            "grid_gap": null,
            "grid_row": null,
            "grid_template_areas": null,
            "grid_template_columns": null,
            "grid_template_rows": null,
            "height": null,
            "justify_content": null,
            "justify_items": null,
            "left": null,
            "margin": null,
            "max_height": null,
            "max_width": null,
            "min_height": null,
            "min_width": null,
            "object_fit": null,
            "object_position": null,
            "order": null,
            "overflow": null,
            "overflow_x": null,
            "overflow_y": null,
            "padding": null,
            "right": null,
            "top": null,
            "visibility": null,
            "width": null
          }
        },
        "9459f059003e4cea8e89823eb86dcc3b": {
          "model_module": "@jupyter-widgets/controls",
          "model_module_version": "1.5.0",
          "model_name": "HTMLModel",
          "state": {
            "_dom_classes": [],
            "_model_module": "@jupyter-widgets/controls",
            "_model_module_version": "1.5.0",
            "_model_name": "HTMLModel",
            "_view_count": null,
            "_view_module": "@jupyter-widgets/controls",
            "_view_module_version": "1.5.0",
            "_view_name": "HTMLView",
            "description": "",
            "description_tooltip": null,
            "layout": "IPY_MODEL_44fff6a0ec9143bcb12625591531346a",
            "placeholder": "​",
            "style": "IPY_MODEL_d7141673622c43c1a990e51ce4d4b7ab",
            "value": " 499M/499M [00:50&lt;00:00, 9.55MB/s]"
          }
        },
        "9723218a0cf4493a8064e2f7a9ac8413": {
          "model_module": "@jupyter-widgets/controls",
          "model_module_version": "1.5.0",
          "model_name": "HBoxModel",
          "state": {
            "_dom_classes": [],
            "_model_module": "@jupyter-widgets/controls",
            "_model_module_version": "1.5.0",
            "_model_name": "HBoxModel",
            "_view_count": null,
            "_view_module": "@jupyter-widgets/controls",
            "_view_module_version": "1.5.0",
            "_view_name": "HBoxView",
            "box_style": "",
            "children": [
              "IPY_MODEL_efcbc7c6c86c4ab9b989a55d8bc0665b",
              "IPY_MODEL_6d23ae5837f1453ea257616de77ec341",
              "IPY_MODEL_2f31d810bb0041eab85c4cea280611bd"
            ],
            "layout": "IPY_MODEL_61557d9bf05847ef9b4f3b56962b31af"
          }
        },
        "97f54e29943047679ee23157d12a9178": {
          "model_module": "@jupyter-widgets/controls",
          "model_module_version": "1.5.0",
          "model_name": "DescriptionStyleModel",
          "state": {
            "_model_module": "@jupyter-widgets/controls",
            "_model_module_version": "1.5.0",
            "_model_name": "DescriptionStyleModel",
            "_view_count": null,
            "_view_module": "@jupyter-widgets/base",
            "_view_module_version": "1.2.0",
            "_view_name": "StyleView",
            "description_width": ""
          }
        },
        "98c4240ab54e4da1be6c581f21937b78": {
          "model_module": "@jupyter-widgets/controls",
          "model_module_version": "1.5.0",
          "model_name": "DescriptionStyleModel",
          "state": {
            "_model_module": "@jupyter-widgets/controls",
            "_model_module_version": "1.5.0",
            "_model_name": "DescriptionStyleModel",
            "_view_count": null,
            "_view_module": "@jupyter-widgets/base",
            "_view_module_version": "1.2.0",
            "_view_name": "StyleView",
            "description_width": ""
          }
        },
        "999e59a83bf546c082dfb67663518506": {
          "model_module": "@jupyter-widgets/base",
          "model_module_version": "1.2.0",
          "model_name": "LayoutModel",
          "state": {
            "_model_module": "@jupyter-widgets/base",
            "_model_module_version": "1.2.0",
            "_model_name": "LayoutModel",
            "_view_count": null,
            "_view_module": "@jupyter-widgets/base",
            "_view_module_version": "1.2.0",
            "_view_name": "LayoutView",
            "align_content": null,
            "align_items": null,
            "align_self": null,
            "border": null,
            "bottom": null,
            "display": null,
            "flex": null,
            "flex_flow": null,
            "grid_area": null,
            "grid_auto_columns": null,
            "grid_auto_flow": null,
            "grid_auto_rows": null,
            "grid_column": null,
            "grid_gap": null,
            "grid_row": null,
            "grid_template_areas": null,
            "grid_template_columns": null,
            "grid_template_rows": null,
            "height": null,
            "justify_content": null,
            "justify_items": null,
            "left": null,
            "margin": null,
            "max_height": null,
            "max_width": null,
            "min_height": null,
            "min_width": null,
            "object_fit": null,
            "object_position": null,
            "order": null,
            "overflow": null,
            "overflow_x": null,
            "overflow_y": null,
            "padding": null,
            "right": null,
            "top": null,
            "visibility": null,
            "width": null
          }
        },
        "9ca06a02507e4c1fb602121f111aa26a": {
          "model_module": "@jupyter-widgets/controls",
          "model_module_version": "1.5.0",
          "model_name": "HTMLModel",
          "state": {
            "_dom_classes": [],
            "_model_module": "@jupyter-widgets/controls",
            "_model_module_version": "1.5.0",
            "_model_name": "HTMLModel",
            "_view_count": null,
            "_view_module": "@jupyter-widgets/controls",
            "_view_module_version": "1.5.0",
            "_view_name": "HTMLView",
            "description": "",
            "description_tooltip": null,
            "layout": "IPY_MODEL_9f58aeb5c69d458b8c419e542d992bfd",
            "placeholder": "​",
            "style": "IPY_MODEL_2def6489b95347b3b810300a1ccb7a45",
            "value": " 16057/16057 [00:00&lt;00:00, 81137.18it/s]"
          }
        },
        "9e283dfb5b814ad4ab3fdae5d13834c9": {
          "model_module": "@jupyter-widgets/base",
          "model_module_version": "1.2.0",
          "model_name": "LayoutModel",
          "state": {
            "_model_module": "@jupyter-widgets/base",
            "_model_module_version": "1.2.0",
            "_model_name": "LayoutModel",
            "_view_count": null,
            "_view_module": "@jupyter-widgets/base",
            "_view_module_version": "1.2.0",
            "_view_name": "LayoutView",
            "align_content": null,
            "align_items": null,
            "align_self": null,
            "border": null,
            "bottom": null,
            "display": null,
            "flex": null,
            "flex_flow": null,
            "grid_area": null,
            "grid_auto_columns": null,
            "grid_auto_flow": null,
            "grid_auto_rows": null,
            "grid_column": null,
            "grid_gap": null,
            "grid_row": null,
            "grid_template_areas": null,
            "grid_template_columns": null,
            "grid_template_rows": null,
            "height": null,
            "justify_content": null,
            "justify_items": null,
            "left": null,
            "margin": null,
            "max_height": null,
            "max_width": null,
            "min_height": null,
            "min_width": null,
            "object_fit": null,
            "object_position": null,
            "order": null,
            "overflow": null,
            "overflow_x": null,
            "overflow_y": null,
            "padding": null,
            "right": null,
            "top": null,
            "visibility": null,
            "width": null
          }
        },
        "9eeb66104c2145f5bb4e82213f6b3aff": {
          "model_module": "@jupyter-widgets/controls",
          "model_module_version": "1.5.0",
          "model_name": "HBoxModel",
          "state": {
            "_dom_classes": [],
            "_model_module": "@jupyter-widgets/controls",
            "_model_module_version": "1.5.0",
            "_model_name": "HBoxModel",
            "_view_count": null,
            "_view_module": "@jupyter-widgets/controls",
            "_view_module_version": "1.5.0",
            "_view_name": "HBoxView",
            "box_style": "",
            "children": [
              "IPY_MODEL_01a07579fc334e4cb3fbd68a49d4c397",
              "IPY_MODEL_33f0c1ae8efa439ba220e7c27968b08b",
              "IPY_MODEL_9459f059003e4cea8e89823eb86dcc3b"
            ],
            "layout": "IPY_MODEL_dc3b032d20184994872854d3c8e4873f"
          }
        },
        "9f58aeb5c69d458b8c419e542d992bfd": {
          "model_module": "@jupyter-widgets/base",
          "model_module_version": "1.2.0",
          "model_name": "LayoutModel",
          "state": {
            "_model_module": "@jupyter-widgets/base",
            "_model_module_version": "1.2.0",
            "_model_name": "LayoutModel",
            "_view_count": null,
            "_view_module": "@jupyter-widgets/base",
            "_view_module_version": "1.2.0",
            "_view_name": "LayoutView",
            "align_content": null,
            "align_items": null,
            "align_self": null,
            "border": null,
            "bottom": null,
            "display": null,
            "flex": null,
            "flex_flow": null,
            "grid_area": null,
            "grid_auto_columns": null,
            "grid_auto_flow": null,
            "grid_auto_rows": null,
            "grid_column": null,
            "grid_gap": null,
            "grid_row": null,
            "grid_template_areas": null,
            "grid_template_columns": null,
            "grid_template_rows": null,
            "height": null,
            "justify_content": null,
            "justify_items": null,
            "left": null,
            "margin": null,
            "max_height": null,
            "max_width": null,
            "min_height": null,
            "min_width": null,
            "object_fit": null,
            "object_position": null,
            "order": null,
            "overflow": null,
            "overflow_x": null,
            "overflow_y": null,
            "padding": null,
            "right": null,
            "top": null,
            "visibility": null,
            "width": null
          }
        },
        "9fe3c37f81b245989b9d2dccfe8441a4": {
          "model_module": "@jupyter-widgets/controls",
          "model_module_version": "1.5.0",
          "model_name": "FloatProgressModel",
          "state": {
            "_dom_classes": [],
            "_model_module": "@jupyter-widgets/controls",
            "_model_module_version": "1.5.0",
            "_model_name": "FloatProgressModel",
            "_view_count": null,
            "_view_module": "@jupyter-widgets/controls",
            "_view_module_version": "1.5.0",
            "_view_name": "ProgressView",
            "bar_style": "success",
            "description": "",
            "description_tooltip": null,
            "layout": "IPY_MODEL_46575f81a68f425c9309966bb4c91422",
            "max": 1,
            "min": 0,
            "orientation": "horizontal",
            "style": "IPY_MODEL_73a6c09a6e2f48d0b84fcf6f8e019820",
            "value": 1
          }
        },
        "a448f292199c4ed3810061a3fc50da50": {
          "model_module": "@jupyter-widgets/base",
          "model_module_version": "1.2.0",
          "model_name": "LayoutModel",
          "state": {
            "_model_module": "@jupyter-widgets/base",
            "_model_module_version": "1.2.0",
            "_model_name": "LayoutModel",
            "_view_count": null,
            "_view_module": "@jupyter-widgets/base",
            "_view_module_version": "1.2.0",
            "_view_name": "LayoutView",
            "align_content": null,
            "align_items": null,
            "align_self": null,
            "border": null,
            "bottom": null,
            "display": null,
            "flex": null,
            "flex_flow": null,
            "grid_area": null,
            "grid_auto_columns": null,
            "grid_auto_flow": null,
            "grid_auto_rows": null,
            "grid_column": null,
            "grid_gap": null,
            "grid_row": null,
            "grid_template_areas": null,
            "grid_template_columns": null,
            "grid_template_rows": null,
            "height": null,
            "justify_content": null,
            "justify_items": null,
            "left": null,
            "margin": null,
            "max_height": null,
            "max_width": null,
            "min_height": null,
            "min_width": null,
            "object_fit": null,
            "object_position": null,
            "order": null,
            "overflow": null,
            "overflow_x": null,
            "overflow_y": null,
            "padding": null,
            "right": null,
            "top": null,
            "visibility": null,
            "width": null
          }
        },
        "a7475c99bc334877a1512b83bf776a46": {
          "model_module": "@jupyter-widgets/controls",
          "model_module_version": "1.5.0",
          "model_name": "DescriptionStyleModel",
          "state": {
            "_model_module": "@jupyter-widgets/controls",
            "_model_module_version": "1.5.0",
            "_model_name": "DescriptionStyleModel",
            "_view_count": null,
            "_view_module": "@jupyter-widgets/base",
            "_view_module_version": "1.2.0",
            "_view_name": "StyleView",
            "description_width": ""
          }
        },
        "aaaf3356b6b849228e954ce53c1ba5a3": {
          "model_module": "@jupyter-widgets/controls",
          "model_module_version": "1.5.0",
          "model_name": "ProgressStyleModel",
          "state": {
            "_model_module": "@jupyter-widgets/controls",
            "_model_module_version": "1.5.0",
            "_model_name": "ProgressStyleModel",
            "_view_count": null,
            "_view_module": "@jupyter-widgets/base",
            "_view_module_version": "1.2.0",
            "_view_name": "StyleView",
            "bar_color": null,
            "description_width": ""
          }
        },
        "b07b2d8423944abda2567fd88460e7f0": {
          "model_module": "@jupyter-widgets/controls",
          "model_module_version": "1.5.0",
          "model_name": "HBoxModel",
          "state": {
            "_dom_classes": [],
            "_model_module": "@jupyter-widgets/controls",
            "_model_module_version": "1.5.0",
            "_model_name": "HBoxModel",
            "_view_count": null,
            "_view_module": "@jupyter-widgets/controls",
            "_view_module_version": "1.5.0",
            "_view_name": "HBoxView",
            "box_style": "",
            "children": [
              "IPY_MODEL_78131fa63e0746b990f18ca6baff1a8f",
              "IPY_MODEL_79567f8682374474a9ee8e46f7e264e4",
              "IPY_MODEL_d29bce796173479592dcc2a6d87f9506"
            ],
            "layout": "IPY_MODEL_d1d5a89e0fff4597a31bf7fb236575fb"
          }
        },
        "b0ee048f5c3c41bd9e4c63b3f7261116": {
          "model_module": "@jupyter-widgets/controls",
          "model_module_version": "1.5.0",
          "model_name": "HTMLModel",
          "state": {
            "_dom_classes": [],
            "_model_module": "@jupyter-widgets/controls",
            "_model_module_version": "1.5.0",
            "_model_name": "HTMLModel",
            "_view_count": null,
            "_view_module": "@jupyter-widgets/controls",
            "_view_module_version": "1.5.0",
            "_view_name": "HTMLView",
            "description": "",
            "description_tooltip": null,
            "layout": "IPY_MODEL_8d43de195a3c4247bee6edcdf7a85673",
            "placeholder": "​",
            "style": "IPY_MODEL_22ec69f1d86b4d07954c6d0f143aec61",
            "value": "100%"
          }
        },
        "b140cb773d5740a0aa1e73ab190b0b60": {
          "model_module": "@jupyter-widgets/controls",
          "model_module_version": "1.5.0",
          "model_name": "HTMLModel",
          "state": {
            "_dom_classes": [],
            "_model_module": "@jupyter-widgets/controls",
            "_model_module_version": "1.5.0",
            "_model_name": "HTMLModel",
            "_view_count": null,
            "_view_module": "@jupyter-widgets/controls",
            "_view_module_version": "1.5.0",
            "_view_name": "HTMLView",
            "description": "",
            "description_tooltip": null,
            "layout": "IPY_MODEL_d9fc052524eb4388b7ab5ad5d605566b",
            "placeholder": "​",
            "style": "IPY_MODEL_3ac2149b8ffc43bca5e88e4b096d8e83",
            "value": "Upload 1 LFS files: 100%"
          }
        },
        "b58a75c67ece463fb1e26e90691b879e": {
          "model_module": "@jupyter-widgets/controls",
          "model_module_version": "1.5.0",
          "model_name": "HTMLModel",
          "state": {
            "_dom_classes": [],
            "_model_module": "@jupyter-widgets/controls",
            "_model_module_version": "1.5.0",
            "_model_name": "HTMLModel",
            "_view_count": null,
            "_view_module": "@jupyter-widgets/controls",
            "_view_module_version": "1.5.0",
            "_view_name": "HTMLView",
            "description": "",
            "description_tooltip": null,
            "layout": "IPY_MODEL_1db9d3b241154b929bf97712476f70c7",
            "placeholder": "​",
            "style": "IPY_MODEL_03f065c9faa740819b7d58ee0f6cf3bb",
            "value": " 11561/11561 [00:00&lt;00:00, 74823.47it/s]"
          }
        },
        "b6c268d1a8884703959d3bcf6e64e1ad": {
          "model_module": "@jupyter-widgets/controls",
          "model_module_version": "1.5.0",
          "model_name": "ProgressStyleModel",
          "state": {
            "_model_module": "@jupyter-widgets/controls",
            "_model_module_version": "1.5.0",
            "_model_name": "ProgressStyleModel",
            "_view_count": null,
            "_view_module": "@jupyter-widgets/base",
            "_view_module_version": "1.2.0",
            "_view_name": "StyleView",
            "bar_color": null,
            "description_width": ""
          }
        },
        "b6e736343b2440489b1a6cea92ef77db": {
          "model_module": "@jupyter-widgets/base",
          "model_module_version": "1.2.0",
          "model_name": "LayoutModel",
          "state": {
            "_model_module": "@jupyter-widgets/base",
            "_model_module_version": "1.2.0",
            "_model_name": "LayoutModel",
            "_view_count": null,
            "_view_module": "@jupyter-widgets/base",
            "_view_module_version": "1.2.0",
            "_view_name": "LayoutView",
            "align_content": null,
            "align_items": null,
            "align_self": null,
            "border": null,
            "bottom": null,
            "display": null,
            "flex": null,
            "flex_flow": null,
            "grid_area": null,
            "grid_auto_columns": null,
            "grid_auto_flow": null,
            "grid_auto_rows": null,
            "grid_column": null,
            "grid_gap": null,
            "grid_row": null,
            "grid_template_areas": null,
            "grid_template_columns": null,
            "grid_template_rows": null,
            "height": null,
            "justify_content": null,
            "justify_items": null,
            "left": null,
            "margin": null,
            "max_height": null,
            "max_width": null,
            "min_height": null,
            "min_width": null,
            "object_fit": null,
            "object_position": null,
            "order": null,
            "overflow": null,
            "overflow_x": null,
            "overflow_y": null,
            "padding": null,
            "right": null,
            "top": null,
            "visibility": null,
            "width": null
          }
        },
        "b9580d701dc4457c9ee83f8b793b216a": {
          "model_module": "@jupyter-widgets/controls",
          "model_module_version": "1.5.0",
          "model_name": "ProgressStyleModel",
          "state": {
            "_model_module": "@jupyter-widgets/controls",
            "_model_module_version": "1.5.0",
            "_model_name": "ProgressStyleModel",
            "_view_count": null,
            "_view_module": "@jupyter-widgets/base",
            "_view_module_version": "1.2.0",
            "_view_name": "StyleView",
            "bar_color": null,
            "description_width": ""
          }
        },
        "b9b49361bfec4e1a85b792a15ce1d5e8": {
          "model_module": "@jupyter-widgets/controls",
          "model_module_version": "1.5.0",
          "model_name": "ProgressStyleModel",
          "state": {
            "_model_module": "@jupyter-widgets/controls",
            "_model_module_version": "1.5.0",
            "_model_name": "ProgressStyleModel",
            "_view_count": null,
            "_view_module": "@jupyter-widgets/base",
            "_view_module_version": "1.2.0",
            "_view_name": "StyleView",
            "bar_color": null,
            "description_width": ""
          }
        },
        "b9c13a737a6a4cea97b8cda913faf9f8": {
          "model_module": "@jupyter-widgets/controls",
          "model_module_version": "1.5.0",
          "model_name": "HTMLModel",
          "state": {
            "_dom_classes": [],
            "_model_module": "@jupyter-widgets/controls",
            "_model_module_version": "1.5.0",
            "_model_name": "HTMLModel",
            "_view_count": null,
            "_view_module": "@jupyter-widgets/controls",
            "_view_module_version": "1.5.0",
            "_view_name": "HTMLView",
            "description": "",
            "description_tooltip": null,
            "layout": "IPY_MODEL_e43b036708364da3b78066b5d2c69203",
            "placeholder": "​",
            "style": "IPY_MODEL_033454a494c1482196bd273083c087d7",
            "value": "100%"
          }
        },
        "ba73e038fba0429db353b75c06261362": {
          "model_module": "@jupyter-widgets/base",
          "model_module_version": "1.2.0",
          "model_name": "LayoutModel",
          "state": {
            "_model_module": "@jupyter-widgets/base",
            "_model_module_version": "1.2.0",
            "_model_name": "LayoutModel",
            "_view_count": null,
            "_view_module": "@jupyter-widgets/base",
            "_view_module_version": "1.2.0",
            "_view_name": "LayoutView",
            "align_content": null,
            "align_items": null,
            "align_self": null,
            "border": null,
            "bottom": null,
            "display": null,
            "flex": null,
            "flex_flow": null,
            "grid_area": null,
            "grid_auto_columns": null,
            "grid_auto_flow": null,
            "grid_auto_rows": null,
            "grid_column": null,
            "grid_gap": null,
            "grid_row": null,
            "grid_template_areas": null,
            "grid_template_columns": null,
            "grid_template_rows": null,
            "height": null,
            "justify_content": null,
            "justify_items": null,
            "left": null,
            "margin": null,
            "max_height": null,
            "max_width": null,
            "min_height": null,
            "min_width": null,
            "object_fit": null,
            "object_position": null,
            "order": null,
            "overflow": null,
            "overflow_x": null,
            "overflow_y": null,
            "padding": null,
            "right": null,
            "top": null,
            "visibility": null,
            "width": null
          }
        },
        "bcda6e62562f46248745aa0cdd916f44": {
          "model_module": "@jupyter-widgets/controls",
          "model_module_version": "1.5.0",
          "model_name": "HTMLModel",
          "state": {
            "_dom_classes": [],
            "_model_module": "@jupyter-widgets/controls",
            "_model_module_version": "1.5.0",
            "_model_name": "HTMLModel",
            "_view_count": null,
            "_view_module": "@jupyter-widgets/controls",
            "_view_module_version": "1.5.0",
            "_view_name": "HTMLView",
            "description": "",
            "description_tooltip": null,
            "layout": "IPY_MODEL_6185b0a4384d40eba0a7baf6cf7316c9",
            "placeholder": "​",
            "style": "IPY_MODEL_3e4d49a2da7844388a9f8d931483210b",
            "value": " 1/1 [00:00&lt;00:00,  1.67it/s]"
          }
        },
        "c1d8a18d571c4550b9de220fd022de71": {
          "model_module": "@jupyter-widgets/controls",
          "model_module_version": "1.5.0",
          "model_name": "HTMLModel",
          "state": {
            "_dom_classes": [],
            "_model_module": "@jupyter-widgets/controls",
            "_model_module_version": "1.5.0",
            "_model_name": "HTMLModel",
            "_view_count": null,
            "_view_module": "@jupyter-widgets/controls",
            "_view_module_version": "1.5.0",
            "_view_name": "HTMLView",
            "description": "",
            "description_tooltip": null,
            "layout": "IPY_MODEL_06c741f9df7041bf9605ee82d7fdc37d",
            "placeholder": "​",
            "style": "IPY_MODEL_59ddead281da4a0e85594a99de04c16e",
            "value": " 11561/11561 [00:03&lt;00:00, 8394.16it/s]"
          }
        },
        "c1e1ba0a7c804c5095983f8eb9d6b550": {
          "model_module": "@jupyter-widgets/controls",
          "model_module_version": "1.5.0",
          "model_name": "FloatProgressModel",
          "state": {
            "_dom_classes": [],
            "_model_module": "@jupyter-widgets/controls",
            "_model_module_version": "1.5.0",
            "_model_name": "FloatProgressModel",
            "_view_count": null,
            "_view_module": "@jupyter-widgets/controls",
            "_view_module_version": "1.5.0",
            "_view_name": "ProgressView",
            "bar_style": "success",
            "description": "",
            "description_tooltip": null,
            "layout": "IPY_MODEL_8379ce47971544c9901836d600ea6e59",
            "max": 498658997,
            "min": 0,
            "orientation": "horizontal",
            "style": "IPY_MODEL_3d9eb6bd22684bb58db89cccbf3209aa",
            "value": 498658997
          }
        },
        "c6a93ddb48b849f7b0cdbf109eb23a75": {
          "model_module": "@jupyter-widgets/base",
          "model_module_version": "1.2.0",
          "model_name": "LayoutModel",
          "state": {
            "_model_module": "@jupyter-widgets/base",
            "_model_module_version": "1.2.0",
            "_model_name": "LayoutModel",
            "_view_count": null,
            "_view_module": "@jupyter-widgets/base",
            "_view_module_version": "1.2.0",
            "_view_name": "LayoutView",
            "align_content": null,
            "align_items": null,
            "align_self": null,
            "border": null,
            "bottom": null,
            "display": null,
            "flex": null,
            "flex_flow": null,
            "grid_area": null,
            "grid_auto_columns": null,
            "grid_auto_flow": null,
            "grid_auto_rows": null,
            "grid_column": null,
            "grid_gap": null,
            "grid_row": null,
            "grid_template_areas": null,
            "grid_template_columns": null,
            "grid_template_rows": null,
            "height": null,
            "justify_content": null,
            "justify_items": null,
            "left": null,
            "margin": null,
            "max_height": null,
            "max_width": null,
            "min_height": null,
            "min_width": null,
            "object_fit": null,
            "object_position": null,
            "order": null,
            "overflow": null,
            "overflow_x": null,
            "overflow_y": null,
            "padding": null,
            "right": null,
            "top": null,
            "visibility": null,
            "width": null
          }
        },
        "cc69d6492f8d4c4e93267e1b1bfa4081": {
          "model_module": "@jupyter-widgets/base",
          "model_module_version": "1.2.0",
          "model_name": "LayoutModel",
          "state": {
            "_model_module": "@jupyter-widgets/base",
            "_model_module_version": "1.2.0",
            "_model_name": "LayoutModel",
            "_view_count": null,
            "_view_module": "@jupyter-widgets/base",
            "_view_module_version": "1.2.0",
            "_view_name": "LayoutView",
            "align_content": null,
            "align_items": null,
            "align_self": null,
            "border": null,
            "bottom": null,
            "display": null,
            "flex": null,
            "flex_flow": null,
            "grid_area": null,
            "grid_auto_columns": null,
            "grid_auto_flow": null,
            "grid_auto_rows": null,
            "grid_column": null,
            "grid_gap": null,
            "grid_row": null,
            "grid_template_areas": null,
            "grid_template_columns": null,
            "grid_template_rows": null,
            "height": null,
            "justify_content": null,
            "justify_items": null,
            "left": null,
            "margin": null,
            "max_height": null,
            "max_width": null,
            "min_height": null,
            "min_width": null,
            "object_fit": null,
            "object_position": null,
            "order": null,
            "overflow": null,
            "overflow_x": null,
            "overflow_y": null,
            "padding": null,
            "right": null,
            "top": null,
            "visibility": null,
            "width": null
          }
        },
        "d09fb13324b64e178a7039ad18ea34ae": {
          "model_module": "@jupyter-widgets/base",
          "model_module_version": "1.2.0",
          "model_name": "LayoutModel",
          "state": {
            "_model_module": "@jupyter-widgets/base",
            "_model_module_version": "1.2.0",
            "_model_name": "LayoutModel",
            "_view_count": null,
            "_view_module": "@jupyter-widgets/base",
            "_view_module_version": "1.2.0",
            "_view_name": "LayoutView",
            "align_content": null,
            "align_items": null,
            "align_self": null,
            "border": null,
            "bottom": null,
            "display": null,
            "flex": null,
            "flex_flow": null,
            "grid_area": null,
            "grid_auto_columns": null,
            "grid_auto_flow": null,
            "grid_auto_rows": null,
            "grid_column": null,
            "grid_gap": null,
            "grid_row": null,
            "grid_template_areas": null,
            "grid_template_columns": null,
            "grid_template_rows": null,
            "height": null,
            "justify_content": null,
            "justify_items": null,
            "left": null,
            "margin": null,
            "max_height": null,
            "max_width": null,
            "min_height": null,
            "min_width": null,
            "object_fit": null,
            "object_position": null,
            "order": null,
            "overflow": null,
            "overflow_x": null,
            "overflow_y": null,
            "padding": null,
            "right": null,
            "top": null,
            "visibility": null,
            "width": null
          }
        },
        "d0b7ee92af0c4a82881f03f80ffe760b": {
          "model_module": "@jupyter-widgets/controls",
          "model_module_version": "1.5.0",
          "model_name": "FloatProgressModel",
          "state": {
            "_dom_classes": [],
            "_model_module": "@jupyter-widgets/controls",
            "_model_module_version": "1.5.0",
            "_model_name": "FloatProgressModel",
            "_view_count": null,
            "_view_module": "@jupyter-widgets/controls",
            "_view_module_version": "1.5.0",
            "_view_name": "ProgressView",
            "bar_style": "success",
            "description": "",
            "description_tooltip": null,
            "layout": "IPY_MODEL_d8d286ceebea42e2a52baf1f5f1e6bde",
            "max": 1,
            "min": 0,
            "orientation": "horizontal",
            "style": "IPY_MODEL_0bb8b4398b4340a787816bc79272342a",
            "value": 1
          }
        },
        "d0d5c4167ba247498eec7ae9b05a855c": {
          "model_module": "@jupyter-widgets/controls",
          "model_module_version": "1.5.0",
          "model_name": "FloatProgressModel",
          "state": {
            "_dom_classes": [],
            "_model_module": "@jupyter-widgets/controls",
            "_model_module_version": "1.5.0",
            "_model_name": "FloatProgressModel",
            "_view_count": null,
            "_view_module": "@jupyter-widgets/controls",
            "_view_module_version": "1.5.0",
            "_view_name": "ProgressView",
            "bar_style": "success",
            "description": "",
            "description_tooltip": null,
            "layout": "IPY_MODEL_1bbaf80c853a4bfbb99f839b688fe62f",
            "max": 11561,
            "min": 0,
            "orientation": "horizontal",
            "style": "IPY_MODEL_b6c268d1a8884703959d3bcf6e64e1ad",
            "value": 11561
          }
        },
        "d1d2879d335e4dbcbade70d0bcd0b2ef": {
          "model_module": "@jupyter-widgets/controls",
          "model_module_version": "1.5.0",
          "model_name": "HBoxModel",
          "state": {
            "_dom_classes": [],
            "_model_module": "@jupyter-widgets/controls",
            "_model_module_version": "1.5.0",
            "_model_name": "HBoxModel",
            "_view_count": null,
            "_view_module": "@jupyter-widgets/controls",
            "_view_module_version": "1.5.0",
            "_view_name": "HBoxView",
            "box_style": "",
            "children": [
              "IPY_MODEL_d42a45aa43694ced94b95be3354a8026",
              "IPY_MODEL_16f343c3de7e4402936c88c1dc88cb0d",
              "IPY_MODEL_06ad674df17841df84e32e52a45250d0"
            ],
            "layout": "IPY_MODEL_d09fb13324b64e178a7039ad18ea34ae"
          }
        },
        "d1d5a89e0fff4597a31bf7fb236575fb": {
          "model_module": "@jupyter-widgets/base",
          "model_module_version": "1.2.0",
          "model_name": "LayoutModel",
          "state": {
            "_model_module": "@jupyter-widgets/base",
            "_model_module_version": "1.2.0",
            "_model_name": "LayoutModel",
            "_view_count": null,
            "_view_module": "@jupyter-widgets/base",
            "_view_module_version": "1.2.0",
            "_view_name": "LayoutView",
            "align_content": null,
            "align_items": null,
            "align_self": null,
            "border": null,
            "bottom": null,
            "display": null,
            "flex": null,
            "flex_flow": null,
            "grid_area": null,
            "grid_auto_columns": null,
            "grid_auto_flow": null,
            "grid_auto_rows": null,
            "grid_column": null,
            "grid_gap": null,
            "grid_row": null,
            "grid_template_areas": null,
            "grid_template_columns": null,
            "grid_template_rows": null,
            "height": null,
            "justify_content": null,
            "justify_items": null,
            "left": null,
            "margin": null,
            "max_height": null,
            "max_width": null,
            "min_height": null,
            "min_width": null,
            "object_fit": null,
            "object_position": null,
            "order": null,
            "overflow": null,
            "overflow_x": null,
            "overflow_y": null,
            "padding": null,
            "right": null,
            "top": null,
            "visibility": null,
            "width": null
          }
        },
        "d29bce796173479592dcc2a6d87f9506": {
          "model_module": "@jupyter-widgets/controls",
          "model_module_version": "1.5.0",
          "model_name": "HTMLModel",
          "state": {
            "_dom_classes": [],
            "_model_module": "@jupyter-widgets/controls",
            "_model_module_version": "1.5.0",
            "_model_name": "HTMLModel",
            "_view_count": null,
            "_view_module": "@jupyter-widgets/controls",
            "_view_module_version": "1.5.0",
            "_view_name": "HTMLView",
            "description": "",
            "description_tooltip": null,
            "layout": "IPY_MODEL_d68dd9a03e124bb69a2d01f78a6fac8a",
            "placeholder": "​",
            "style": "IPY_MODEL_d6f417660ddf4f87967b23c7a03f84ff",
            "value": " 499M/499M [00:21&lt;00:00, 25.1MB/s]"
          }
        },
        "d42a45aa43694ced94b95be3354a8026": {
          "model_module": "@jupyter-widgets/controls",
          "model_module_version": "1.5.0",
          "model_name": "HTMLModel",
          "state": {
            "_dom_classes": [],
            "_model_module": "@jupyter-widgets/controls",
            "_model_module_version": "1.5.0",
            "_model_name": "HTMLModel",
            "_view_count": null,
            "_view_module": "@jupyter-widgets/controls",
            "_view_module_version": "1.5.0",
            "_view_name": "HTMLView",
            "description": "",
            "description_tooltip": null,
            "layout": "IPY_MODEL_da9a9e1c52b44c29b84e16854e4882cf",
            "placeholder": "​",
            "style": "IPY_MODEL_1517a392caf5426c91323b643ec19f5d",
            "value": "Upload 1 LFS files: 100%"
          }
        },
        "d68dd9a03e124bb69a2d01f78a6fac8a": {
          "model_module": "@jupyter-widgets/base",
          "model_module_version": "1.2.0",
          "model_name": "LayoutModel",
          "state": {
            "_model_module": "@jupyter-widgets/base",
            "_model_module_version": "1.2.0",
            "_model_name": "LayoutModel",
            "_view_count": null,
            "_view_module": "@jupyter-widgets/base",
            "_view_module_version": "1.2.0",
            "_view_name": "LayoutView",
            "align_content": null,
            "align_items": null,
            "align_self": null,
            "border": null,
            "bottom": null,
            "display": null,
            "flex": null,
            "flex_flow": null,
            "grid_area": null,
            "grid_auto_columns": null,
            "grid_auto_flow": null,
            "grid_auto_rows": null,
            "grid_column": null,
            "grid_gap": null,
            "grid_row": null,
            "grid_template_areas": null,
            "grid_template_columns": null,
            "grid_template_rows": null,
            "height": null,
            "justify_content": null,
            "justify_items": null,
            "left": null,
            "margin": null,
            "max_height": null,
            "max_width": null,
            "min_height": null,
            "min_width": null,
            "object_fit": null,
            "object_position": null,
            "order": null,
            "overflow": null,
            "overflow_x": null,
            "overflow_y": null,
            "padding": null,
            "right": null,
            "top": null,
            "visibility": null,
            "width": null
          }
        },
        "d6f417660ddf4f87967b23c7a03f84ff": {
          "model_module": "@jupyter-widgets/controls",
          "model_module_version": "1.5.0",
          "model_name": "DescriptionStyleModel",
          "state": {
            "_model_module": "@jupyter-widgets/controls",
            "_model_module_version": "1.5.0",
            "_model_name": "DescriptionStyleModel",
            "_view_count": null,
            "_view_module": "@jupyter-widgets/base",
            "_view_module_version": "1.2.0",
            "_view_name": "StyleView",
            "description_width": ""
          }
        },
        "d7141673622c43c1a990e51ce4d4b7ab": {
          "model_module": "@jupyter-widgets/controls",
          "model_module_version": "1.5.0",
          "model_name": "DescriptionStyleModel",
          "state": {
            "_model_module": "@jupyter-widgets/controls",
            "_model_module_version": "1.5.0",
            "_model_name": "DescriptionStyleModel",
            "_view_count": null,
            "_view_module": "@jupyter-widgets/base",
            "_view_module_version": "1.2.0",
            "_view_name": "StyleView",
            "description_width": ""
          }
        },
        "d83252c162e949a8a916ce003baf08fa": {
          "model_module": "@jupyter-widgets/controls",
          "model_module_version": "1.5.0",
          "model_name": "FloatProgressModel",
          "state": {
            "_dom_classes": [],
            "_model_module": "@jupyter-widgets/controls",
            "_model_module_version": "1.5.0",
            "_model_name": "FloatProgressModel",
            "_view_count": null,
            "_view_module": "@jupyter-widgets/controls",
            "_view_module_version": "1.5.0",
            "_view_name": "ProgressView",
            "bar_style": "success",
            "description": "",
            "description_tooltip": null,
            "layout": "IPY_MODEL_319a3a215ea54a25b3d8764b5b2d9312",
            "max": 16057,
            "min": 0,
            "orientation": "horizontal",
            "style": "IPY_MODEL_0f2e03a9624f45eb8c8562185c5308af",
            "value": 16057
          }
        },
        "d8d286ceebea42e2a52baf1f5f1e6bde": {
          "model_module": "@jupyter-widgets/base",
          "model_module_version": "1.2.0",
          "model_name": "LayoutModel",
          "state": {
            "_model_module": "@jupyter-widgets/base",
            "_model_module_version": "1.2.0",
            "_model_name": "LayoutModel",
            "_view_count": null,
            "_view_module": "@jupyter-widgets/base",
            "_view_module_version": "1.2.0",
            "_view_name": "LayoutView",
            "align_content": null,
            "align_items": null,
            "align_self": null,
            "border": null,
            "bottom": null,
            "display": null,
            "flex": null,
            "flex_flow": null,
            "grid_area": null,
            "grid_auto_columns": null,
            "grid_auto_flow": null,
            "grid_auto_rows": null,
            "grid_column": null,
            "grid_gap": null,
            "grid_row": null,
            "grid_template_areas": null,
            "grid_template_columns": null,
            "grid_template_rows": null,
            "height": null,
            "justify_content": null,
            "justify_items": null,
            "left": null,
            "margin": null,
            "max_height": null,
            "max_width": null,
            "min_height": null,
            "min_width": null,
            "object_fit": null,
            "object_position": null,
            "order": null,
            "overflow": null,
            "overflow_x": null,
            "overflow_y": null,
            "padding": null,
            "right": null,
            "top": null,
            "visibility": null,
            "width": null
          }
        },
        "d9fc052524eb4388b7ab5ad5d605566b": {
          "model_module": "@jupyter-widgets/base",
          "model_module_version": "1.2.0",
          "model_name": "LayoutModel",
          "state": {
            "_model_module": "@jupyter-widgets/base",
            "_model_module_version": "1.2.0",
            "_model_name": "LayoutModel",
            "_view_count": null,
            "_view_module": "@jupyter-widgets/base",
            "_view_module_version": "1.2.0",
            "_view_name": "LayoutView",
            "align_content": null,
            "align_items": null,
            "align_self": null,
            "border": null,
            "bottom": null,
            "display": null,
            "flex": null,
            "flex_flow": null,
            "grid_area": null,
            "grid_auto_columns": null,
            "grid_auto_flow": null,
            "grid_auto_rows": null,
            "grid_column": null,
            "grid_gap": null,
            "grid_row": null,
            "grid_template_areas": null,
            "grid_template_columns": null,
            "grid_template_rows": null,
            "height": null,
            "justify_content": null,
            "justify_items": null,
            "left": null,
            "margin": null,
            "max_height": null,
            "max_width": null,
            "min_height": null,
            "min_width": null,
            "object_fit": null,
            "object_position": null,
            "order": null,
            "overflow": null,
            "overflow_x": null,
            "overflow_y": null,
            "padding": null,
            "right": null,
            "top": null,
            "visibility": null,
            "width": null
          }
        },
        "da9a9e1c52b44c29b84e16854e4882cf": {
          "model_module": "@jupyter-widgets/base",
          "model_module_version": "1.2.0",
          "model_name": "LayoutModel",
          "state": {
            "_model_module": "@jupyter-widgets/base",
            "_model_module_version": "1.2.0",
            "_model_name": "LayoutModel",
            "_view_count": null,
            "_view_module": "@jupyter-widgets/base",
            "_view_module_version": "1.2.0",
            "_view_name": "LayoutView",
            "align_content": null,
            "align_items": null,
            "align_self": null,
            "border": null,
            "bottom": null,
            "display": null,
            "flex": null,
            "flex_flow": null,
            "grid_area": null,
            "grid_auto_columns": null,
            "grid_auto_flow": null,
            "grid_auto_rows": null,
            "grid_column": null,
            "grid_gap": null,
            "grid_row": null,
            "grid_template_areas": null,
            "grid_template_columns": null,
            "grid_template_rows": null,
            "height": null,
            "justify_content": null,
            "justify_items": null,
            "left": null,
            "margin": null,
            "max_height": null,
            "max_width": null,
            "min_height": null,
            "min_width": null,
            "object_fit": null,
            "object_position": null,
            "order": null,
            "overflow": null,
            "overflow_x": null,
            "overflow_y": null,
            "padding": null,
            "right": null,
            "top": null,
            "visibility": null,
            "width": null
          }
        },
        "daa6a04c795e4ddd8a5528cedc1e5f1f": {
          "model_module": "@jupyter-widgets/base",
          "model_module_version": "1.2.0",
          "model_name": "LayoutModel",
          "state": {
            "_model_module": "@jupyter-widgets/base",
            "_model_module_version": "1.2.0",
            "_model_name": "LayoutModel",
            "_view_count": null,
            "_view_module": "@jupyter-widgets/base",
            "_view_module_version": "1.2.0",
            "_view_name": "LayoutView",
            "align_content": null,
            "align_items": null,
            "align_self": null,
            "border": null,
            "bottom": null,
            "display": null,
            "flex": null,
            "flex_flow": null,
            "grid_area": null,
            "grid_auto_columns": null,
            "grid_auto_flow": null,
            "grid_auto_rows": null,
            "grid_column": null,
            "grid_gap": null,
            "grid_row": null,
            "grid_template_areas": null,
            "grid_template_columns": null,
            "grid_template_rows": null,
            "height": null,
            "justify_content": null,
            "justify_items": null,
            "left": null,
            "margin": null,
            "max_height": null,
            "max_width": null,
            "min_height": null,
            "min_width": null,
            "object_fit": null,
            "object_position": null,
            "order": null,
            "overflow": null,
            "overflow_x": null,
            "overflow_y": null,
            "padding": null,
            "right": null,
            "top": null,
            "visibility": null,
            "width": null
          }
        },
        "dc0d1d3b0b8347519fd9532f6e477a12": {
          "model_module": "@jupyter-widgets/controls",
          "model_module_version": "1.5.0",
          "model_name": "HBoxModel",
          "state": {
            "_dom_classes": [],
            "_model_module": "@jupyter-widgets/controls",
            "_model_module_version": "1.5.0",
            "_model_name": "HBoxModel",
            "_view_count": null,
            "_view_module": "@jupyter-widgets/controls",
            "_view_module_version": "1.5.0",
            "_view_name": "HBoxView",
            "box_style": "",
            "children": [
              "IPY_MODEL_4fb8beeaafaa4a54b6d39dafcd3cd045",
              "IPY_MODEL_d0b7ee92af0c4a82881f03f80ffe760b",
              "IPY_MODEL_366239563137474d9bcb8829b8958f11"
            ],
            "layout": "IPY_MODEL_57f769432a2c4ee0ae4c5af2d63d7826"
          }
        },
        "dc20128a8b8a42df9236c144fd600bb6": {
          "model_module": "@jupyter-widgets/controls",
          "model_module_version": "1.5.0",
          "model_name": "DescriptionStyleModel",
          "state": {
            "_model_module": "@jupyter-widgets/controls",
            "_model_module_version": "1.5.0",
            "_model_name": "DescriptionStyleModel",
            "_view_count": null,
            "_view_module": "@jupyter-widgets/base",
            "_view_module_version": "1.2.0",
            "_view_name": "StyleView",
            "description_width": ""
          }
        },
        "dc3b032d20184994872854d3c8e4873f": {
          "model_module": "@jupyter-widgets/base",
          "model_module_version": "1.2.0",
          "model_name": "LayoutModel",
          "state": {
            "_model_module": "@jupyter-widgets/base",
            "_model_module_version": "1.2.0",
            "_model_name": "LayoutModel",
            "_view_count": null,
            "_view_module": "@jupyter-widgets/base",
            "_view_module_version": "1.2.0",
            "_view_name": "LayoutView",
            "align_content": null,
            "align_items": null,
            "align_self": null,
            "border": null,
            "bottom": null,
            "display": null,
            "flex": null,
            "flex_flow": null,
            "grid_area": null,
            "grid_auto_columns": null,
            "grid_auto_flow": null,
            "grid_auto_rows": null,
            "grid_column": null,
            "grid_gap": null,
            "grid_row": null,
            "grid_template_areas": null,
            "grid_template_columns": null,
            "grid_template_rows": null,
            "height": null,
            "justify_content": null,
            "justify_items": null,
            "left": null,
            "margin": null,
            "max_height": null,
            "max_width": null,
            "min_height": null,
            "min_width": null,
            "object_fit": null,
            "object_position": null,
            "order": null,
            "overflow": null,
            "overflow_x": null,
            "overflow_y": null,
            "padding": null,
            "right": null,
            "top": null,
            "visibility": null,
            "width": null
          }
        },
        "dde2292a0f9841cda1f51c66902497c1": {
          "model_module": "@jupyter-widgets/controls",
          "model_module_version": "1.5.0",
          "model_name": "HTMLModel",
          "state": {
            "_dom_classes": [],
            "_model_module": "@jupyter-widgets/controls",
            "_model_module_version": "1.5.0",
            "_model_name": "HTMLModel",
            "_view_count": null,
            "_view_module": "@jupyter-widgets/controls",
            "_view_module_version": "1.5.0",
            "_view_name": "HTMLView",
            "description": "",
            "description_tooltip": null,
            "layout": "IPY_MODEL_daa6a04c795e4ddd8a5528cedc1e5f1f",
            "placeholder": "​",
            "style": "IPY_MODEL_3b80df0d9c0748569d12d0bbd57d1909",
            "value": " 1/1 [00:16&lt;00:00, 16.68s/it]"
          }
        },
        "de7c40a9943d457c8e449508eb64d20e": {
          "model_module": "@jupyter-widgets/controls",
          "model_module_version": "1.5.0",
          "model_name": "HTMLModel",
          "state": {
            "_dom_classes": [],
            "_model_module": "@jupyter-widgets/controls",
            "_model_module_version": "1.5.0",
            "_model_name": "HTMLModel",
            "_view_count": null,
            "_view_module": "@jupyter-widgets/controls",
            "_view_module_version": "1.5.0",
            "_view_name": "HTMLView",
            "description": "",
            "description_tooltip": null,
            "layout": "IPY_MODEL_62668efdbb854145bfa37a1ca5560a0c",
            "placeholder": "​",
            "style": "IPY_MODEL_fabd400b221543d483111439ef872b0e",
            "value": "Upload 1 LFS files: 100%"
          }
        },
        "e211b63f6fec4b7d861b8f23b791976a": {
          "model_module": "@jupyter-widgets/base",
          "model_module_version": "1.2.0",
          "model_name": "LayoutModel",
          "state": {
            "_model_module": "@jupyter-widgets/base",
            "_model_module_version": "1.2.0",
            "_model_name": "LayoutModel",
            "_view_count": null,
            "_view_module": "@jupyter-widgets/base",
            "_view_module_version": "1.2.0",
            "_view_name": "LayoutView",
            "align_content": null,
            "align_items": null,
            "align_self": null,
            "border": null,
            "bottom": null,
            "display": null,
            "flex": null,
            "flex_flow": null,
            "grid_area": null,
            "grid_auto_columns": null,
            "grid_auto_flow": null,
            "grid_auto_rows": null,
            "grid_column": null,
            "grid_gap": null,
            "grid_row": null,
            "grid_template_areas": null,
            "grid_template_columns": null,
            "grid_template_rows": null,
            "height": null,
            "justify_content": null,
            "justify_items": null,
            "left": null,
            "margin": null,
            "max_height": null,
            "max_width": null,
            "min_height": null,
            "min_width": null,
            "object_fit": null,
            "object_position": null,
            "order": null,
            "overflow": null,
            "overflow_x": null,
            "overflow_y": null,
            "padding": null,
            "right": null,
            "top": null,
            "visibility": null,
            "width": null
          }
        },
        "e43b036708364da3b78066b5d2c69203": {
          "model_module": "@jupyter-widgets/base",
          "model_module_version": "1.2.0",
          "model_name": "LayoutModel",
          "state": {
            "_model_module": "@jupyter-widgets/base",
            "_model_module_version": "1.2.0",
            "_model_name": "LayoutModel",
            "_view_count": null,
            "_view_module": "@jupyter-widgets/base",
            "_view_module_version": "1.2.0",
            "_view_name": "LayoutView",
            "align_content": null,
            "align_items": null,
            "align_self": null,
            "border": null,
            "bottom": null,
            "display": null,
            "flex": null,
            "flex_flow": null,
            "grid_area": null,
            "grid_auto_columns": null,
            "grid_auto_flow": null,
            "grid_auto_rows": null,
            "grid_column": null,
            "grid_gap": null,
            "grid_row": null,
            "grid_template_areas": null,
            "grid_template_columns": null,
            "grid_template_rows": null,
            "height": null,
            "justify_content": null,
            "justify_items": null,
            "left": null,
            "margin": null,
            "max_height": null,
            "max_width": null,
            "min_height": null,
            "min_width": null,
            "object_fit": null,
            "object_position": null,
            "order": null,
            "overflow": null,
            "overflow_x": null,
            "overflow_y": null,
            "padding": null,
            "right": null,
            "top": null,
            "visibility": null,
            "width": null
          }
        },
        "e518db1b5dfe4544a20d9d0cb09fc9a1": {
          "model_module": "@jupyter-widgets/base",
          "model_module_version": "1.2.0",
          "model_name": "LayoutModel",
          "state": {
            "_model_module": "@jupyter-widgets/base",
            "_model_module_version": "1.2.0",
            "_model_name": "LayoutModel",
            "_view_count": null,
            "_view_module": "@jupyter-widgets/base",
            "_view_module_version": "1.2.0",
            "_view_name": "LayoutView",
            "align_content": null,
            "align_items": null,
            "align_self": null,
            "border": null,
            "bottom": null,
            "display": null,
            "flex": null,
            "flex_flow": null,
            "grid_area": null,
            "grid_auto_columns": null,
            "grid_auto_flow": null,
            "grid_auto_rows": null,
            "grid_column": null,
            "grid_gap": null,
            "grid_row": null,
            "grid_template_areas": null,
            "grid_template_columns": null,
            "grid_template_rows": null,
            "height": null,
            "justify_content": null,
            "justify_items": null,
            "left": null,
            "margin": null,
            "max_height": null,
            "max_width": null,
            "min_height": null,
            "min_width": null,
            "object_fit": null,
            "object_position": null,
            "order": null,
            "overflow": null,
            "overflow_x": null,
            "overflow_y": null,
            "padding": null,
            "right": null,
            "top": null,
            "visibility": null,
            "width": null
          }
        },
        "e82486ec7f6a40cc826e3d3d0a896065": {
          "model_module": "@jupyter-widgets/controls",
          "model_module_version": "1.5.0",
          "model_name": "HTMLModel",
          "state": {
            "_dom_classes": [],
            "_model_module": "@jupyter-widgets/controls",
            "_model_module_version": "1.5.0",
            "_model_name": "HTMLModel",
            "_view_count": null,
            "_view_module": "@jupyter-widgets/controls",
            "_view_module_version": "1.5.0",
            "_view_name": "HTMLView",
            "description": "",
            "description_tooltip": null,
            "layout": "IPY_MODEL_e518db1b5dfe4544a20d9d0cb09fc9a1",
            "placeholder": "​",
            "style": "IPY_MODEL_97f54e29943047679ee23157d12a9178",
            "value": "pytorch_model.bin: 100%"
          }
        },
        "ea62743429f7422584a256e9bba64ee3": {
          "model_module": "@jupyter-widgets/controls",
          "model_module_version": "1.5.0",
          "model_name": "HBoxModel",
          "state": {
            "_dom_classes": [],
            "_model_module": "@jupyter-widgets/controls",
            "_model_module_version": "1.5.0",
            "_model_name": "HBoxModel",
            "_view_count": null,
            "_view_module": "@jupyter-widgets/controls",
            "_view_module_version": "1.5.0",
            "_view_name": "HBoxView",
            "box_style": "",
            "children": [
              "IPY_MODEL_50f6569692e545c0ae1773f1f265cc2f",
              "IPY_MODEL_28418a9326f9426b92816a91574f86fb",
              "IPY_MODEL_c1d8a18d571c4550b9de220fd022de71"
            ],
            "layout": "IPY_MODEL_2cadbae434da48b9914fdfee4082566c"
          }
        },
        "ecbb89e47a9146ccb492631566f7eb60": {
          "model_module": "@jupyter-widgets/controls",
          "model_module_version": "1.5.0",
          "model_name": "FloatProgressModel",
          "state": {
            "_dom_classes": [],
            "_model_module": "@jupyter-widgets/controls",
            "_model_module_version": "1.5.0",
            "_model_name": "FloatProgressModel",
            "_view_count": null,
            "_view_module": "@jupyter-widgets/controls",
            "_view_module_version": "1.5.0",
            "_view_name": "ProgressView",
            "bar_style": "success",
            "description": "",
            "description_tooltip": null,
            "layout": "IPY_MODEL_3b37cd4ffc57497192a6624670d0a083",
            "max": 498658997,
            "min": 0,
            "orientation": "horizontal",
            "style": "IPY_MODEL_53f8ca5f132a4a0f8f1d2cc05606373d",
            "value": 498658997
          }
        },
        "efcbc7c6c86c4ab9b989a55d8bc0665b": {
          "model_module": "@jupyter-widgets/controls",
          "model_module_version": "1.5.0",
          "model_name": "HTMLModel",
          "state": {
            "_dom_classes": [],
            "_model_module": "@jupyter-widgets/controls",
            "_model_module_version": "1.5.0",
            "_model_name": "HTMLModel",
            "_view_count": null,
            "_view_module": "@jupyter-widgets/controls",
            "_view_module_version": "1.5.0",
            "_view_name": "HTMLView",
            "description": "",
            "description_tooltip": null,
            "layout": "IPY_MODEL_23450e5b778d48c0ac13fc69f6596412",
            "placeholder": "​",
            "style": "IPY_MODEL_f91038fae9ee450a87c617f50f892927",
            "value": "100%"
          }
        },
        "eff157dd7a1f45649085fffdd1474817": {
          "model_module": "@jupyter-widgets/base",
          "model_module_version": "1.2.0",
          "model_name": "LayoutModel",
          "state": {
            "_model_module": "@jupyter-widgets/base",
            "_model_module_version": "1.2.0",
            "_model_name": "LayoutModel",
            "_view_count": null,
            "_view_module": "@jupyter-widgets/base",
            "_view_module_version": "1.2.0",
            "_view_name": "LayoutView",
            "align_content": null,
            "align_items": null,
            "align_self": null,
            "border": null,
            "bottom": null,
            "display": null,
            "flex": null,
            "flex_flow": null,
            "grid_area": null,
            "grid_auto_columns": null,
            "grid_auto_flow": null,
            "grid_auto_rows": null,
            "grid_column": null,
            "grid_gap": null,
            "grid_row": null,
            "grid_template_areas": null,
            "grid_template_columns": null,
            "grid_template_rows": null,
            "height": null,
            "justify_content": null,
            "justify_items": null,
            "left": null,
            "margin": null,
            "max_height": null,
            "max_width": null,
            "min_height": null,
            "min_width": null,
            "object_fit": null,
            "object_position": null,
            "order": null,
            "overflow": null,
            "overflow_x": null,
            "overflow_y": null,
            "padding": null,
            "right": null,
            "top": null,
            "visibility": null,
            "width": null
          }
        },
        "f079102b604e4f968579e4dc3a3e341d": {
          "model_module": "@jupyter-widgets/base",
          "model_module_version": "1.2.0",
          "model_name": "LayoutModel",
          "state": {
            "_model_module": "@jupyter-widgets/base",
            "_model_module_version": "1.2.0",
            "_model_name": "LayoutModel",
            "_view_count": null,
            "_view_module": "@jupyter-widgets/base",
            "_view_module_version": "1.2.0",
            "_view_name": "LayoutView",
            "align_content": null,
            "align_items": null,
            "align_self": null,
            "border": null,
            "bottom": null,
            "display": null,
            "flex": null,
            "flex_flow": null,
            "grid_area": null,
            "grid_auto_columns": null,
            "grid_auto_flow": null,
            "grid_auto_rows": null,
            "grid_column": null,
            "grid_gap": null,
            "grid_row": null,
            "grid_template_areas": null,
            "grid_template_columns": null,
            "grid_template_rows": null,
            "height": null,
            "justify_content": null,
            "justify_items": null,
            "left": null,
            "margin": null,
            "max_height": null,
            "max_width": null,
            "min_height": null,
            "min_width": null,
            "object_fit": null,
            "object_position": null,
            "order": null,
            "overflow": null,
            "overflow_x": null,
            "overflow_y": null,
            "padding": null,
            "right": null,
            "top": null,
            "visibility": null,
            "width": null
          }
        },
        "f91038fae9ee450a87c617f50f892927": {
          "model_module": "@jupyter-widgets/controls",
          "model_module_version": "1.5.0",
          "model_name": "DescriptionStyleModel",
          "state": {
            "_model_module": "@jupyter-widgets/controls",
            "_model_module_version": "1.5.0",
            "_model_name": "DescriptionStyleModel",
            "_view_count": null,
            "_view_module": "@jupyter-widgets/base",
            "_view_module_version": "1.2.0",
            "_view_name": "StyleView",
            "description_width": ""
          }
        },
        "f9f9d3df1f2149dd910158fdd5a2c8f8": {
          "model_module": "@jupyter-widgets/base",
          "model_module_version": "1.2.0",
          "model_name": "LayoutModel",
          "state": {
            "_model_module": "@jupyter-widgets/base",
            "_model_module_version": "1.2.0",
            "_model_name": "LayoutModel",
            "_view_count": null,
            "_view_module": "@jupyter-widgets/base",
            "_view_module_version": "1.2.0",
            "_view_name": "LayoutView",
            "align_content": null,
            "align_items": null,
            "align_self": null,
            "border": null,
            "bottom": null,
            "display": null,
            "flex": null,
            "flex_flow": null,
            "grid_area": null,
            "grid_auto_columns": null,
            "grid_auto_flow": null,
            "grid_auto_rows": null,
            "grid_column": null,
            "grid_gap": null,
            "grid_row": null,
            "grid_template_areas": null,
            "grid_template_columns": null,
            "grid_template_rows": null,
            "height": null,
            "justify_content": null,
            "justify_items": null,
            "left": null,
            "margin": null,
            "max_height": null,
            "max_width": null,
            "min_height": null,
            "min_width": null,
            "object_fit": null,
            "object_position": null,
            "order": null,
            "overflow": null,
            "overflow_x": null,
            "overflow_y": null,
            "padding": null,
            "right": null,
            "top": null,
            "visibility": null,
            "width": null
          }
        },
        "fabd400b221543d483111439ef872b0e": {
          "model_module": "@jupyter-widgets/controls",
          "model_module_version": "1.5.0",
          "model_name": "DescriptionStyleModel",
          "state": {
            "_model_module": "@jupyter-widgets/controls",
            "_model_module_version": "1.5.0",
            "_model_name": "DescriptionStyleModel",
            "_view_count": null,
            "_view_module": "@jupyter-widgets/base",
            "_view_module_version": "1.2.0",
            "_view_name": "StyleView",
            "description_width": ""
          }
        },
        "fad42bb8857e42bbaf979bc75e486727": {
          "model_module": "@jupyter-widgets/controls",
          "model_module_version": "1.5.0",
          "model_name": "ProgressStyleModel",
          "state": {
            "_model_module": "@jupyter-widgets/controls",
            "_model_module_version": "1.5.0",
            "_model_name": "ProgressStyleModel",
            "_view_count": null,
            "_view_module": "@jupyter-widgets/base",
            "_view_module_version": "1.2.0",
            "_view_name": "StyleView",
            "bar_color": null,
            "description_width": ""
          }
        }
      }
    }
  },
  "nbformat": 4,
  "nbformat_minor": 0
}
