{
 "cells": [
  {
   "attachments": {},
   "cell_type": "markdown",
   "metadata": {},
   "source": [
    "# Imports"
   ]
  },
  {
   "cell_type": "code",
   "execution_count": 1,
   "metadata": {},
   "outputs": [],
   "source": [
    "import os\n",
    "os.system(\"pip install decimal\")\n",
    "import pandas as pd\n",
    "from decimal import *\n",
    "import numpy as np\n",
    "from tqdm.notebook import tqdm\n",
    "tqdm.pandas()"
   ]
  },
  {
   "cell_type": "markdown",
   "metadata": {},
   "source": [
    "# METHODOLY\n",
    "\n",
    "To create the dataset from de World Value Survey we extract the joint ESV and WVS questionnaire report file.\n",
    "This file is structured such that each column label corresponds to demographic information codes and question codes. The rows correspond to the participants information/answers which are also in a coded label format.\n",
    "\n",
    "To match each column with its corresponding demographic information or question we use the \"Variable Coresspondance\" excel file given by WVS. This file is structured such that each question from the EVS and WVS7 questionnaires are matched, then have their own joint question code label which we will call \"joint question code label\".\n",
    "\n",
    "For finding the correspondent textual choice given its choice code label we perform a manual extraction of the questionaire pdf file of the shared Variable Report for the Joint WVS and EVS report.\n",
    "\n",
    "We then match, as already given in the \"Corresponding Variable\" excel file, each WVS7 \"question code label\" with the \"joint question code label\". This way we can loop over the Joint WVS EVS Report excel file, and change each \"joint question code label\"to its \"textual question\" and each \"choice code label\" to its \"textual code label\".\n",
    "\n",
    "We perform this substitution between the \"code label\" and \"textual label\" after grouping the questions given the year and a chosen demographic, then count the votes for this combination. This reduces the amount of computations. We also create a excel file to substitue the Country codes to the country names for the location demographic, the table was extracted from wikipedia as they are in ISO 3166-1 Alpha-2 code."
   ]
  },
  {
   "cell_type": "code",
   "execution_count": 4,
   "metadata": {},
   "outputs": [
    {
     "name": "stderr",
     "output_type": "stream",
     "text": [
      "C:\\Users\\Quent\\AppData\\Local\\Temp\\ipykernel_14380\\2148368759.py:3: DtypeWarning: Columns (35,36) have mixed types. Specify dtype option on import or set low_memory=False.\n",
      "  df_results =  pd.read_csv(folder+\"EVS_WVS_Joint_csv_v3_0.csv\")\n"
     ]
    }
   ],
   "source": [
    "folder = \"D:/OneDrive/User/Documents/School/KU Leuven/Master/2023/Master_proef/Crawlers/WVS/github/PollBERT-paper/WVMCQ7/preprocessing_files/\"\n",
    "df_variables_labels = pd.read_csv(folder+\"F00011088-EVS_WVS_Joint_VariableCorrespondence.csv\")\n",
    "df_results =  pd.read_csv(folder+\"EVS_WVS_Joint_csv_v3_0.csv\")\n",
    "df_country_name_table =  pd.read_csv(folder+\"country_name_table.csv\")\n",
    "label_choices_joint = pd.read_csv(folder+\"Joint_wvs_evs_label_choices.csv\")\n",
    "demographics_code_name = pd.read_csv(folder+\"demographic_questions.csv\")\n",
    "politic_code_name = pd.read_csv(folder+\"political_parties_E179_WVS7.csv\")"
   ]
  },
  {
   "attachments": {},
   "cell_type": "markdown",
   "metadata": {},
   "source": [
    "# Extraction"
   ]
  },
  {
   "cell_type": "code",
   "execution_count": 5,
   "metadata": {},
   "outputs": [],
   "source": [
    "column_names = df_variables_labels.columns\n",
    "variables_joint = df_variables_labels[column_names[0]]\n",
    "variables_name_joint = df_variables_labels[column_names[1]]"
   ]
  },
  {
   "cell_type": "code",
   "execution_count": 6,
   "metadata": {},
   "outputs": [
    {
     "data": {
      "text/plain": [
       "['cntry_AN', 'F034', 'X003', 'X007', 'X028', 'E179_WVS7', 'X001']"
      ]
     },
     "execution_count": 6,
     "metadata": {},
     "output_type": "execute_result"
    }
   ],
   "source": [
    "demographics = []\n",
    "for code in demographics_code_name[\"code\"]:\n",
    "    index = [item.lower() for item in list(variables_joint.fillna(\"\"))].index(code.lower())\n",
    "    index__wvs_label = variables_joint[index]\n",
    "    demographics.append(index__wvs_label)\n",
    "demographics"
   ]
  },
  {
   "cell_type": "code",
   "execution_count": 36,
   "metadata": {},
   "outputs": [
    {
     "data": {
      "text/plain": [
       "174"
      ]
     },
     "execution_count": 36,
     "metadata": {},
     "output_type": "execute_result"
    }
   ],
   "source": [
    "questions = label_choices_joint[\"Question\"].value_counts().keys()\n",
    "len(questions)"
   ]
  },
  {
   "cell_type": "code",
   "execution_count": 7,
   "metadata": {},
   "outputs": [
    {
     "ename": "NameError",
     "evalue": "name 'questions' is not defined",
     "output_type": "error",
     "traceback": [
      "\u001b[1;31m---------------------------------------------------------------------------\u001b[0m",
      "\u001b[1;31mNameError\u001b[0m                                 Traceback (most recent call last)",
      "Cell \u001b[1;32mIn[7], line 5\u001b[0m\n\u001b[0;32m      3\u001b[0m topic \u001b[39m=\u001b[39m demographics_code_name[demographics_code_name[\u001b[39m\"\u001b[39m\u001b[39mcode\u001b[39m\u001b[39m\"\u001b[39m] \u001b[39m==\u001b[39m demographic][\u001b[39m\"\u001b[39m\u001b[39mtopic\u001b[39m\u001b[39m\"\u001b[39m]\u001b[39m.\u001b[39mvalues[\u001b[39m0\u001b[39m]\n\u001b[0;32m      4\u001b[0m results \u001b[39m=\u001b[39m {}\n\u001b[1;32m----> 5\u001b[0m \u001b[39mfor\u001b[39;00m question \u001b[39min\u001b[39;00m questions:\n\u001b[0;32m      6\u001b[0m     question \u001b[39m=\u001b[39m question\u001b[39m.\u001b[39mreplace(\u001b[39m\"\u001b[39m\u001b[39m\\n\u001b[39;00m\u001b[39m\"\u001b[39m,\u001b[39m\"\u001b[39m\u001b[39m\"\u001b[39m)\n\u001b[0;32m      7\u001b[0m     \u001b[39mif\u001b[39;00m(question\u001b[39m.\u001b[39mlower \u001b[39mnot\u001b[39;00m \u001b[39min\u001b[39;00m demographics):\n",
      "\u001b[1;31mNameError\u001b[0m: name 'questions' is not defined"
     ]
    }
   ],
   "source": [
    "first=True\n",
    "for demographic in demographics:\n",
    "    topic = demographics_code_name[demographics_code_name[\"code\"] == demographic][\"topic\"].values[0]\n",
    "    results = {}\n",
    "    for question in questions:\n",
    "        question = question.replace(\"\\n\",\"\")\n",
    "        if(question.lower not in demographics):\n",
    "                try:\n",
    "                    results[str(question)] = df_results.groupby([\"year\",demographic, question]).size()\n",
    "                except:\n",
    "                    results[str(question.lower())] = df_results.groupby([\"year\",demographic, question.lower()]).size()\n",
    "                    \n",
    "    question_labels = { str(variables_joint[i]).replace(\"\\n\",\"\") : variables_name_joint[i] for i in range(len(variables_joint)) }\n",
    "\n",
    "    dataset = []\n",
    "    for question in questions:\n",
    "\n",
    "        question = str(question).replace(\"\\n\",\"\")\n",
    "        q = question_labels[question]\n",
    "\n",
    "        try: question_results = results[question] \n",
    "        except: question_results = results[question.lower()]\n",
    "        \n",
    "        for (year,demographic_label_code,choice_label_code) in question_results.keys():\n",
    "                        question_index = list(label_choices_joint[\"Question\"]).index(question)\n",
    "                        if(choice_label_code in [0,1,2,3,4,5,6,7,8,9,10]):\n",
    "                        \n",
    "                            if(demographic != \"X001\" or demographic_label_code >= 0):\n",
    "                                choice_label_code = int(choice_label_code)\n",
    "                                try:question_label_choice = label_choices_joint[str(choice_label_code)][question_index]\n",
    "                                except: question_label_choice = question_results[demographic_label_code][choice_label_code]\n",
    "                                #need to get values for demographic\n",
    "                                if(demographic == \"cntry_AN\"):#country\n",
    "                                    index = list(df_country_name_table[\"Alpha-2 code\"]).index(demographic_label_code)\n",
    "                                    demographic_label_choice = df_country_name_table[\"Country\"][index]\n",
    "                                elif(demographic == \"E179_WVS7\"):#poltics\n",
    "                                    index = list(politic_code_name[\"code\"]).index(demographic_label_code)\n",
    "                                    demographic_label_choice = politic_code_name[\"label\"][index]\n",
    "                                elif(demographic == \"X003\"):#age\n",
    "                                    demographic_label_choice = demographic_label_code\n",
    "                                else:#others with normal label values [-5:10]\n",
    "                                    demographic_index = list(label_choices_joint[\"Question\"]).index(demographic)\n",
    "                                    demographic_label_choice = label_choices_joint[str(demographic_label_code)][demographic_index]\n",
    "                                      \n",
    "\n",
    "                                data = {\"input\" : q, \"choice\": str(question_label_choice) , \"label\": 0 , \"demographic\" :  demographic_label_choice ,\"year\": year, \"demographic_category\": topic }#ADD THIS\n",
    "                                data[\"label\"] =  question_results[year,demographic_label_code,choice_label_code]\n",
    "\n",
    "                                dataset.append(data)\n",
    "    if(first):    \n",
    "        pd.DataFrame(dataset).to_csv(\"created_datasets/dataset_wvs_all.csv\",mode=\"a\",index=False,header=True) \n",
    "        first = False\n",
    "    else:\n",
    "         pd.DataFrame(dataset).to_csv(\"created_datasets/dataset_wvs_all.csv\",mode=\"a\",index=False,header=False) \n",
    "dataset_wvs = dataset\n",
    "df_wvs = pd.DataFrame(dataset_wvs)"
   ]
  },
  {
   "cell_type": "code",
   "execution_count": 10,
   "metadata": {},
   "outputs": [
    {
     "name": "stderr",
     "output_type": "stream",
     "text": [
      "C:\\Users\\Quent\\AppData\\Local\\Temp\\ipykernel_14380\\922378803.py:1: DtypeWarning: Columns (3) have mixed types. Specify dtype option on import or set low_memory=False.\n",
      "  dataset_wvs = pd.read_csv(\"D:/OneDrive/User/Documents/School/KU Leuven/Master/2023/Master_proef/Crawlers/WVS/Progress/created_datasets/dataset_wvs_all.csv\")\n"
     ]
    },
    {
     "data": {
      "text/html": [
       "<div>\n",
       "<style scoped>\n",
       "    .dataframe tbody tr th:only-of-type {\n",
       "        vertical-align: middle;\n",
       "    }\n",
       "\n",
       "    .dataframe tbody tr th {\n",
       "        vertical-align: top;\n",
       "    }\n",
       "\n",
       "    .dataframe thead th {\n",
       "        text-align: right;\n",
       "    }\n",
       "</style>\n",
       "<table border=\"1\" class=\"dataframe\">\n",
       "  <thead>\n",
       "    <tr style=\"text-align: right;\">\n",
       "      <th></th>\n",
       "      <th>input</th>\n",
       "      <th>choice</th>\n",
       "      <th>label</th>\n",
       "      <th>demographic</th>\n",
       "      <th>year</th>\n",
       "      <th>demographic_topic</th>\n",
       "    </tr>\n",
       "  </thead>\n",
       "  <tbody>\n",
       "    <tr>\n",
       "      <th>0</th>\n",
       "      <td>Important in life: Family</td>\n",
       "      <td>Very important</td>\n",
       "      <td>912</td>\n",
       "      <td>Argentina</td>\n",
       "      <td>2017</td>\n",
       "      <td>country</td>\n",
       "    </tr>\n",
       "    <tr>\n",
       "      <th>1</th>\n",
       "      <td>Important in life: Family</td>\n",
       "      <td>Rather important</td>\n",
       "      <td>90</td>\n",
       "      <td>Argentina</td>\n",
       "      <td>2017</td>\n",
       "      <td>country</td>\n",
       "    </tr>\n",
       "    <tr>\n",
       "      <th>2</th>\n",
       "      <td>Important in life: Family</td>\n",
       "      <td>Not Very Important</td>\n",
       "      <td>1</td>\n",
       "      <td>Argentina</td>\n",
       "      <td>2017</td>\n",
       "      <td>country</td>\n",
       "    </tr>\n",
       "    <tr>\n",
       "      <th>3</th>\n",
       "      <td>Important in life: Family</td>\n",
       "      <td>Very important</td>\n",
       "      <td>1360</td>\n",
       "      <td>Bulgaria</td>\n",
       "      <td>2017</td>\n",
       "      <td>country</td>\n",
       "    </tr>\n",
       "    <tr>\n",
       "      <th>4</th>\n",
       "      <td>Important in life: Family</td>\n",
       "      <td>Rather important</td>\n",
       "      <td>176</td>\n",
       "      <td>Bulgaria</td>\n",
       "      <td>2017</td>\n",
       "      <td>country</td>\n",
       "    </tr>\n",
       "    <tr>\n",
       "      <th>...</th>\n",
       "      <td>...</td>\n",
       "      <td>...</td>\n",
       "      <td>...</td>\n",
       "      <td>...</td>\n",
       "      <td>...</td>\n",
       "      <td>...</td>\n",
       "    </tr>\n",
       "    <tr>\n",
       "      <th>944256</th>\n",
       "      <td>Institution of occupation</td>\n",
       "      <td>Private business or industry</td>\n",
       "      <td>640</td>\n",
       "      <td>male</td>\n",
       "      <td>2022</td>\n",
       "      <td>gender</td>\n",
       "    </tr>\n",
       "    <tr>\n",
       "      <th>944257</th>\n",
       "      <td>Institution of occupation</td>\n",
       "      <td>Private non-profit organization</td>\n",
       "      <td>67</td>\n",
       "      <td>male</td>\n",
       "      <td>2022</td>\n",
       "      <td>gender</td>\n",
       "    </tr>\n",
       "    <tr>\n",
       "      <th>944258</th>\n",
       "      <td>Institution of occupation</td>\n",
       "      <td>Government or public institution</td>\n",
       "      <td>713</td>\n",
       "      <td>female</td>\n",
       "      <td>2022</td>\n",
       "      <td>gender</td>\n",
       "    </tr>\n",
       "    <tr>\n",
       "      <th>944259</th>\n",
       "      <td>Institution of occupation</td>\n",
       "      <td>Private business or industry</td>\n",
       "      <td>419</td>\n",
       "      <td>female</td>\n",
       "      <td>2022</td>\n",
       "      <td>gender</td>\n",
       "    </tr>\n",
       "    <tr>\n",
       "      <th>944260</th>\n",
       "      <td>Institution of occupation</td>\n",
       "      <td>Private non-profit organization</td>\n",
       "      <td>123</td>\n",
       "      <td>female</td>\n",
       "      <td>2022</td>\n",
       "      <td>gender</td>\n",
       "    </tr>\n",
       "  </tbody>\n",
       "</table>\n",
       "<p>944261 rows × 6 columns</p>\n",
       "</div>"
      ],
      "text/plain": [
       "                            input                             choice  label  \\\n",
       "0       Important in life: Family                     Very important    912   \n",
       "1       Important in life: Family                   Rather important     90   \n",
       "2       Important in life: Family                 Not Very Important      1   \n",
       "3       Important in life: Family                     Very important   1360   \n",
       "4       Important in life: Family                   Rather important    176   \n",
       "...                           ...                                ...    ...   \n",
       "944256  Institution of occupation       Private business or industry    640   \n",
       "944257  Institution of occupation   Private non-profit organization      67   \n",
       "944258  Institution of occupation  Government or public institution     713   \n",
       "944259  Institution of occupation       Private business or industry    419   \n",
       "944260  Institution of occupation   Private non-profit organization     123   \n",
       "\n",
       "       demographic  year demographic_topic  \n",
       "0        Argentina  2017           country  \n",
       "1        Argentina  2017           country  \n",
       "2        Argentina  2017           country  \n",
       "3         Bulgaria  2017           country  \n",
       "4         Bulgaria  2017           country  \n",
       "...            ...   ...               ...  \n",
       "944256        male  2022            gender  \n",
       "944257        male  2022            gender  \n",
       "944258      female  2022            gender  \n",
       "944259      female  2022            gender  \n",
       "944260      female  2022            gender  \n",
       "\n",
       "[944261 rows x 6 columns]"
      ]
     },
     "execution_count": 10,
     "metadata": {},
     "output_type": "execute_result"
    }
   ],
   "source": [
    "dataset_wvs = pd.read_csv(\"D:/OneDrive/User/Documents/School/KU Leuven/Master/2023/Master_proef/Crawlers/WVS/Progress/created_datasets/dataset_wvs_all.csv\")\n",
    "df_wvs = pd.DataFrame(dataset_wvs)\n",
    "df_wvs"
   ]
  },
  {
   "attachments": {},
   "cell_type": "markdown",
   "metadata": {},
   "source": [
    "# Preparing Dataset for training and Analysis"
   ]
  },
  {
   "attachments": {},
   "cell_type": "markdown",
   "metadata": {},
   "source": [
    "## Normalizing distribution over options"
   ]
  },
  {
   "cell_type": "code",
   "execution_count": 24,
   "metadata": {},
   "outputs": [],
   "source": [
    "df_wvs_politic = [v for v in df_wvs.values if v[5] == \"politic\"]\n",
    "df_wvs_gender = [v for v in df_wvs.values if v[5] == \"gender\"]\n",
    "df_wvs_work = [v for v in df_wvs.values if v[5] == \"employement\"]\n",
    "df_wvs_country = [v for v in df_wvs.values if v[5] == \"country\"]\n",
    "df_wvs_married = [v for v in df_wvs.values if v[5] == \"married\"]\n",
    "df_wvs_age = [v for v in df_wvs.values if v[5] == \"age\"]\n",
    "df_wvs_religion = [v for v in df_wvs.values if v[5] == \"religion\"]"
   ]
  },
  {
   "cell_type": "code",
   "execution_count": 25,
   "metadata": {},
   "outputs": [],
   "source": [
    "df_wvs_politic = pd.DataFrame(df_wvs_politic)\n",
    "df_wvs_gender = pd.DataFrame(df_wvs_gender)\n",
    "df_wvs_work = pd.DataFrame(df_wvs_work)\n",
    "df_wvs_country = pd.DataFrame(df_wvs_country)\n",
    "df_wvs_married = pd.DataFrame(df_wvs_married)\n",
    "df_wvs_age = pd.DataFrame(df_wvs_age)\n",
    "df_wvs_religion = pd.DataFrame(df_wvs_religion)"
   ]
  },
  {
   "cell_type": "code",
   "execution_count": 8,
   "metadata": {},
   "outputs": [],
   "source": [
    "df_wvs_politic.columns = [\"input\",\"choice\",\"label\",\"demographic\",\"year\",\"demographic_category\"]\n",
    "df_wvs_gender.columns = [\"input\",\"choice\",\"label\",\"demographic\",\"year\",\"demographic_category\"]\n",
    "df_wvs_work.columns = [\"input\",\"choice\",\"label\",\"demographic\",\"year\",\"demographic_category\"]\n",
    "df_wvs_country.columns = [\"input\",\"choice\",\"label\",\"demographic\",\"year\",\"demographic_category\"]\n",
    "df_wvs_married.columns = [\"input\",\"choice\",\"label\",\"demographic\",\"year\",\"demographic_category\"]\n",
    "df_wvs_age.columns = [\"input\",\"choice\",\"label\",\"demographic\",\"year\",\"demographic_category\"]\n",
    "df_wvs_religion.columns = [\"input\",\"choice\",\"label\",\"demographic\",\"year\",\"demographic_category\"]"
   ]
  },
  {
   "cell_type": "code",
   "execution_count": 46,
   "metadata": {},
   "outputs": [
    {
     "name": "stdout",
     "output_type": "stream",
     "text": [
      "394237 10643 54489 77835 41386 336791 28880\n"
     ]
    }
   ],
   "source": [
    "print(len(df_wvs_politic),len(df_wvs_gender),len(df_wvs_work),len(df_wvs_country),len(df_wvs_married),len(df_wvs_age),len(df_wvs_religion))"
   ]
  },
  {
   "cell_type": "code",
   "execution_count": 9,
   "metadata": {},
   "outputs": [],
   "source": [
    "counts = df_wvs_politic[[\"year\",\"demographic\",\"input\",\"choice\",\"demographic_category\"]].value_counts()\n",
    "keys_politic_to_normalize = [v for v in counts.keys() if counts.get(v) > 1] # works, first filter out which ones still need a new label"
   ]
  },
  {
   "cell_type": "code",
   "execution_count": 10,
   "metadata": {},
   "outputs": [],
   "source": [
    "counts = df_wvs_gender[[\"year\",\"demographic\",\"input\",\"choice\",\"demographic_category\"]].value_counts()\n",
    "keys_gender_to_normalize = [v for v in counts.keys() if counts.get(v) > 1] # works, first filter out which ones still need a new label"
   ]
  },
  {
   "cell_type": "code",
   "execution_count": 11,
   "metadata": {},
   "outputs": [],
   "source": [
    "counts = df_wvs_work[[\"year\",\"demographic\",\"input\",\"choice\",\"demographic_category\"]].value_counts()\n",
    "keys_work_to_normalize = [v for v in counts.keys() if counts.get(v) > 1] # works, first filter out which ones still need a new label"
   ]
  },
  {
   "cell_type": "code",
   "execution_count": 12,
   "metadata": {},
   "outputs": [],
   "source": [
    "counts = df_wvs_country[[\"year\",\"demographic\",\"input\",\"choice\",\"demographic_category\"]].value_counts()\n",
    "keys_country_to_normalize = [v for v in counts.keys() if counts.get(v) > 1] # works, first filter out which ones still need a new label"
   ]
  },
  {
   "cell_type": "code",
   "execution_count": 13,
   "metadata": {},
   "outputs": [],
   "source": [
    "counts = df_wvs_married[[\"year\",\"demographic\",\"input\",\"choice\",\"demographic_category\"]].value_counts()\n",
    "keys_married_to_normalize = [v for v in counts.keys() if counts.get(v) > 1] # works, first filter out which ones still need a new label"
   ]
  },
  {
   "cell_type": "code",
   "execution_count": 14,
   "metadata": {},
   "outputs": [],
   "source": [
    "counts = df_wvs_age[[\"year\",\"demographic\",\"input\",\"choice\",\"demographic_category\"]].value_counts()\n",
    "keys_age_to_normalize = [v for v in counts.keys() if counts.get(v) > 1] # works, first filter out which ones still need a new label"
   ]
  },
  {
   "cell_type": "code",
   "execution_count": 15,
   "metadata": {},
   "outputs": [],
   "source": [
    "counts = df_wvs_religion[[\"year\",\"demographic\",\"input\",\"choice\",\"demographic_category\"]].value_counts()\n",
    "keys_religion_to_normalize = [v for v in counts.keys() if counts.get(v) > 1] # works, first filter out which ones still need a new label"
   ]
  },
  {
   "cell_type": "code",
   "execution_count": 16,
   "metadata": {},
   "outputs": [],
   "source": [
    "keys_to_normalize = keys_religion_to_normalize + keys_age_to_normalize + keys_married_to_normalize + keys_country_to_normalize + keys_work_to_normalize + keys_gender_to_normalize + keys_politic_to_normalize"
   ]
  },
  {
   "cell_type": "code",
   "execution_count": 131,
   "metadata": {},
   "outputs": [
    {
     "data": {
      "text/plain": [
       "True"
      ]
     },
     "execution_count": 131,
     "metadata": {},
     "output_type": "execute_result"
    }
   ],
   "source": [
    "keys_to_normalize[76801] in keys_to_normalize"
   ]
  },
  {
   "cell_type": "code",
   "execution_count": 17,
   "metadata": {},
   "outputs": [],
   "source": [
    "def get_to_normalize(x):\n",
    "    year = x[\"year\"]\n",
    "    demographic = x[\"demographic\"]\n",
    "    input = x[\"input\"]\n",
    "    choice = x[\"choice\"]\n",
    "    demographic_topic = x[\"demographic_category\"]\n",
    "    if (year,demographic,input,choice,demographic_topic) in keys_to_normalize:\n",
    "        return x"
   ]
  },
  {
   "cell_type": "code",
   "execution_count": 20,
   "metadata": {},
   "outputs": [
    {
     "data": {
      "application/vnd.jupyter.widget-view+json": {
       "model_id": "9009e8c18a0740ff9378e15198c7c2be",
       "version_major": 2,
       "version_minor": 0
      },
      "text/plain": [
       "  0%|          | 0/944261 [00:00<?, ?it/s]"
      ]
     },
     "metadata": {},
     "output_type": "display_data"
    }
   ],
   "source": [
    "df_to_normalize = df_wvs.progress_apply(get_to_normalize,axis=1)"
   ]
  },
  {
   "cell_type": "code",
   "execution_count": 21,
   "metadata": {},
   "outputs": [],
   "source": [
    "df_to_normalize = pd.DataFrame([x for x in df_to_normalize if x is not None])"
   ]
  },
  {
   "attachments": {},
   "cell_type": "markdown",
   "metadata": {},
   "source": [
    "took approx: 638 minuten -> check to apply on groupby"
   ]
  },
  {
   "cell_type": "code",
   "execution_count": 22,
   "metadata": {},
   "outputs": [],
   "source": [
    "dataset_normalized = []\n",
    "for (year,demographic,input,choice,demographic_topic) in keys_to_normalize:\n",
    "    labels = df_to_normalize.groupby([\"year\",\"demographic\",\"input\",\"choice\",\"demographic_category\"]).get_group((year,demographic,input,choice,demographic_topic))\n",
    "    new_label = labels[\"label\"].sum()\n",
    "    dataset_normalized.append({\"year\":year,\"demographic\":demographic,\"input\":input,\"choice\":choice,\"label\":new_label,\"demographic_category\":demographic_topic})"
   ]
  },
  {
   "cell_type": "code",
   "execution_count": 85,
   "metadata": {},
   "outputs": [],
   "source": [
    "df_partial_dataset = pd.DataFrame(dataset_normalized)\n",
    "df_partial_dataset = df_partial_dataset.reindex(columns=[\"input\",\"choice\",\"label\",\"demographic\",\"year\",\"demographic_category\"])"
   ]
  },
  {
   "cell_type": "code",
   "execution_count": 86,
   "metadata": {},
   "outputs": [],
   "source": [
    "df_partial_dataset.to_csv(\"partial_wvs_all_normalized.csv\")"
   ]
  },
  {
   "cell_type": "code",
   "execution_count": 33,
   "metadata": {},
   "outputs": [],
   "source": [
    "counts = df_wvs[[\"year\",\"demographic\",\"input\",\"choice\",\"demographic_category\"]].value_counts()\n",
    "keys_not_to_normalize = [v for v in counts.keys() if counts.get(v) == 1]"
   ]
  },
  {
   "cell_type": "code",
   "execution_count": 43,
   "metadata": {},
   "outputs": [],
   "source": [
    "input_index = 0\n",
    "choice_index = 1\n",
    "label_index = 2\n",
    "demo_index = 3\n",
    "year_index = 4\n",
    "category_index = 5\n",
    "\n",
    "dataset_not_to_normalize = [item for item in df_wvs.values if (item[year_index],item[demo_index],item[input_index],item[choice_index],item[category_index]) in keys_not_to_normalize]"
   ]
  },
  {
   "cell_type": "code",
   "execution_count": 65,
   "metadata": {},
   "outputs": [
    {
     "data": {
      "text/html": [
       "<div>\n",
       "<style scoped>\n",
       "    .dataframe tbody tr th:only-of-type {\n",
       "        vertical-align: middle;\n",
       "    }\n",
       "\n",
       "    .dataframe tbody tr th {\n",
       "        vertical-align: top;\n",
       "    }\n",
       "\n",
       "    .dataframe thead th {\n",
       "        text-align: right;\n",
       "    }\n",
       "</style>\n",
       "<table border=\"1\" class=\"dataframe\">\n",
       "  <thead>\n",
       "    <tr style=\"text-align: right;\">\n",
       "      <th></th>\n",
       "      <th>input</th>\n",
       "      <th>choice</th>\n",
       "      <th>label</th>\n",
       "      <th>demographic</th>\n",
       "      <th>year</th>\n",
       "      <th>demographic_topic</th>\n",
       "    </tr>\n",
       "  </thead>\n",
       "  <tbody>\n",
       "    <tr>\n",
       "      <th>0</th>\n",
       "      <td>Important in life: Family</td>\n",
       "      <td>Very important</td>\n",
       "      <td>912</td>\n",
       "      <td>Argentina</td>\n",
       "      <td>2017</td>\n",
       "      <td>country</td>\n",
       "    </tr>\n",
       "    <tr>\n",
       "      <th>1</th>\n",
       "      <td>Important in life: Family</td>\n",
       "      <td>Rather important</td>\n",
       "      <td>90</td>\n",
       "      <td>Argentina</td>\n",
       "      <td>2017</td>\n",
       "      <td>country</td>\n",
       "    </tr>\n",
       "    <tr>\n",
       "      <th>2</th>\n",
       "      <td>Important in life: Family</td>\n",
       "      <td>Not Very Important</td>\n",
       "      <td>1</td>\n",
       "      <td>Argentina</td>\n",
       "      <td>2017</td>\n",
       "      <td>country</td>\n",
       "    </tr>\n",
       "    <tr>\n",
       "      <th>3</th>\n",
       "      <td>Important in life: Family</td>\n",
       "      <td>Very important</td>\n",
       "      <td>1360</td>\n",
       "      <td>Bulgaria</td>\n",
       "      <td>2017</td>\n",
       "      <td>country</td>\n",
       "    </tr>\n",
       "    <tr>\n",
       "      <th>4</th>\n",
       "      <td>Important in life: Family</td>\n",
       "      <td>Rather important</td>\n",
       "      <td>176</td>\n",
       "      <td>Bulgaria</td>\n",
       "      <td>2017</td>\n",
       "      <td>country</td>\n",
       "    </tr>\n",
       "    <tr>\n",
       "      <th>...</th>\n",
       "      <td>...</td>\n",
       "      <td>...</td>\n",
       "      <td>...</td>\n",
       "      <td>...</td>\n",
       "      <td>...</td>\n",
       "      <td>...</td>\n",
       "    </tr>\n",
       "    <tr>\n",
       "      <th>582926</th>\n",
       "      <td>Institution of occupation</td>\n",
       "      <td>Private business or industry</td>\n",
       "      <td>640</td>\n",
       "      <td>male</td>\n",
       "      <td>2022</td>\n",
       "      <td>gender</td>\n",
       "    </tr>\n",
       "    <tr>\n",
       "      <th>582927</th>\n",
       "      <td>Institution of occupation</td>\n",
       "      <td>Private non-profit organization</td>\n",
       "      <td>67</td>\n",
       "      <td>male</td>\n",
       "      <td>2022</td>\n",
       "      <td>gender</td>\n",
       "    </tr>\n",
       "    <tr>\n",
       "      <th>582928</th>\n",
       "      <td>Institution of occupation</td>\n",
       "      <td>Government or public institution</td>\n",
       "      <td>713</td>\n",
       "      <td>female</td>\n",
       "      <td>2022</td>\n",
       "      <td>gender</td>\n",
       "    </tr>\n",
       "    <tr>\n",
       "      <th>582929</th>\n",
       "      <td>Institution of occupation</td>\n",
       "      <td>Private business or industry</td>\n",
       "      <td>419</td>\n",
       "      <td>female</td>\n",
       "      <td>2022</td>\n",
       "      <td>gender</td>\n",
       "    </tr>\n",
       "    <tr>\n",
       "      <th>582930</th>\n",
       "      <td>Institution of occupation</td>\n",
       "      <td>Private non-profit organization</td>\n",
       "      <td>123</td>\n",
       "      <td>female</td>\n",
       "      <td>2022</td>\n",
       "      <td>gender</td>\n",
       "    </tr>\n",
       "  </tbody>\n",
       "</table>\n",
       "<p>582931 rows × 6 columns</p>\n",
       "</div>"
      ],
      "text/plain": [
       "                            input                             choice  label  \\\n",
       "0       Important in life: Family                     Very important    912   \n",
       "1       Important in life: Family                   Rather important     90   \n",
       "2       Important in life: Family                 Not Very Important      1   \n",
       "3       Important in life: Family                     Very important   1360   \n",
       "4       Important in life: Family                   Rather important    176   \n",
       "...                           ...                                ...    ...   \n",
       "582926  Institution of occupation       Private business or industry    640   \n",
       "582927  Institution of occupation   Private non-profit organization      67   \n",
       "582928  Institution of occupation  Government or public institution     713   \n",
       "582929  Institution of occupation       Private business or industry    419   \n",
       "582930  Institution of occupation   Private non-profit organization     123   \n",
       "\n",
       "       demographic  year demographic_topic  \n",
       "0        Argentina  2017           country  \n",
       "1        Argentina  2017           country  \n",
       "2        Argentina  2017           country  \n",
       "3         Bulgaria  2017           country  \n",
       "4         Bulgaria  2017           country  \n",
       "...            ...   ...               ...  \n",
       "582926        male  2022            gender  \n",
       "582927        male  2022            gender  \n",
       "582928      female  2022            gender  \n",
       "582929      female  2022            gender  \n",
       "582930      female  2022            gender  \n",
       "\n",
       "[582931 rows x 6 columns]"
      ]
     },
     "execution_count": 65,
     "metadata": {},
     "output_type": "execute_result"
    }
   ],
   "source": [
    "df_not_to_normalize = pd.DataFrame(dataset_not_to_normalize)\n",
    "df_not_to_normalize.columns = [\"input\",\"choice\",\"label\",\"demographic\",\"year\",\"demographic_category\"]\n",
    "df_not_to_normalize"
   ]
  },
  {
   "cell_type": "code",
   "execution_count": 84,
   "metadata": {},
   "outputs": [
    {
     "name": "stderr",
     "output_type": "stream",
     "text": [
      "C:\\Users\\Quent\\AppData\\Local\\Temp\\ipykernel_19812\\2129888629.py:1: FutureWarning: The frame.append method is deprecated and will be removed from pandas in a future version. Use pandas.concat instead.\n",
      "  df_dataset_normalize = df_partial_dataset.append(df_not_to_normalize)\n"
     ]
    }
   ],
   "source": [
    "df_dataset_normalize = df_partial_dataset.append(df_not_to_normalize)\n",
    "df_wvs_normelized = df_dataset_normalize"
   ]
  },
  {
   "cell_type": "code",
   "execution_count": 87,
   "metadata": {},
   "outputs": [],
   "source": [
    "df_dataset_normalize.to_csv(\"wvs_all_normalized.csv\")"
   ]
  },
  {
   "cell_type": "code",
   "execution_count": 70,
   "metadata": {},
   "outputs": [],
   "source": [
    "df_dataset_normalize = pd.read_csv(\"D:/OneDrive/User/Documents/School/KU Leuven/Master/2023/Master_proef/Crawlers/WVS/Progress/wvs_all_normalized.csv\")"
   ]
  },
  {
   "cell_type": "code",
   "execution_count": 71,
   "metadata": {},
   "outputs": [],
   "source": [
    "yeari = 0\n",
    "demoi = 1\n",
    "inputi = 2\n",
    "categoryi = 3\n",
    "def to_percentages(x):\n",
    "    key = x[[\"year\",\"demographic\",\"input\",\"demographic_category\"]].values[0]\n",
    "    values = x[[\"choice\",\"label\"]][\"label\"].values\n",
    "    constant = x[[\"choice\",\"label\"]][\"label\"].values.sum()\n",
    "    new_labels = values/constant\n",
    "    return {\"year\":key[yeari],\"demographic\":key[demoi],\"input\":key[inputi],\"demographic_category\":key[categoryi],\"options\":np.array(x[\"choice\"].values),\"labels\":np.array(new_labels)}"
   ]
  },
  {
   "cell_type": "code",
   "execution_count": 72,
   "metadata": {},
   "outputs": [
    {
     "data": {
      "application/vnd.jupyter.widget-view+json": {
       "model_id": "4ca57c2b9bc04ab7acb624c0f42f4470",
       "version_major": 2,
       "version_minor": 0
      },
      "text/plain": [
       "  0%|          | 0/209542 [00:00<?, ?it/s]"
      ]
     },
     "metadata": {},
     "output_type": "display_data"
    }
   ],
   "source": [
    "dataset_test = df_dataset_normalize.groupby([\"year\",\"demographic\",\"input\",\"demographic_category\"]).progress_apply(to_percentages)"
   ]
  },
  {
   "cell_type": "code",
   "execution_count": null,
   "metadata": {},
   "outputs": [],
   "source": [
    "dataset_test_norm = [item for item in [item for item in dataset_test.values]]"
   ]
  },
  {
   "cell_type": "code",
   "execution_count": null,
   "metadata": {},
   "outputs": [],
   "source": [
    "df_test_norm = pd.DataFrame(dataset_test_norm)"
   ]
  },
  {
   "cell_type": "code",
   "execution_count": null,
   "metadata": {},
   "outputs": [],
   "source": [
    "df_test_norm.to_json(\"WVMCQ7-Normalized_labels_percentage_wise.json\")"
   ]
  },
  {
   "attachments": {},
   "cell_type": "markdown",
   "metadata": {},
   "source": [
    "## Adding Question Topic feature"
   ]
  }
 ],
 "metadata": {
  "kernelspec": {
   "display_name": "Python 3",
   "language": "python",
   "name": "python3"
  },
  "language_info": {
   "codemirror_mode": {
    "name": "ipython",
    "version": 3
   },
   "file_extension": ".py",
   "mimetype": "text/x-python",
   "name": "python",
   "nbconvert_exporter": "python",
   "pygments_lexer": "ipython3",
   "version": "3.9.5"
  },
  "orig_nbformat": 4
 },
 "nbformat": 4,
 "nbformat_minor": 2
}
